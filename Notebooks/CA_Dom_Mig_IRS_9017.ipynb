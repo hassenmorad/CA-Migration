{
 "cells": [
  {
   "cell_type": "code",
   "execution_count": 1,
   "metadata": {},
   "outputs": [],
   "source": [
    "import pandas as pd\n",
    "import numpy as np\n",
    "import os\n",
    "import re"
   ]
  },
  {
   "cell_type": "code",
   "execution_count": 2,
   "metadata": {},
   "outputs": [],
   "source": [
    "%run chart_theme.py"
   ]
  },
  {
   "cell_type": "markdown",
   "metadata": {},
   "source": [
    "### Cleaning 1991-2011 CA Migration Data (IRS)"
   ]
  },
  {
   "cell_type": "markdown",
   "metadata": {},
   "source": [
    "*Excluding foreign migration (b/c seems to be drastically underrepresented in IRS data after comparing to Census data- e.g. IRS 17/18 CA foreign mig inflow = 11311, whereas Census 2018 CA foreign inflow = )"
   ]
  },
  {
   "cell_type": "markdown",
   "metadata": {},
   "source": [
    "## *Use only domestic migration for IRS & Census data- since IRS is missing a lot of int'l data and Census only included inbound int'l data"
   ]
  },
  {
   "cell_type": "code",
   "execution_count": 3,
   "metadata": {},
   "outputs": [],
   "source": [
    "inmig_91_11 = os.listdir('CA In 91_11')\n",
    "outmig_91_11 = os.listdir('CA Out 91_11')"
   ]
  },
  {
   "cell_type": "code",
   "execution_count": 4,
   "metadata": {},
   "outputs": [],
   "source": [
    "master_df1 = pd.DataFrame()\n",
    "folders = ['CA In 91_11', 'CA Out 91_11']\n",
    "counter = 0\n",
    "for folder in [inmig_91_11, outmig_91_11]:\n",
    "    for file in folder:\n",
    "        # Identifying year from different file names\n",
    "        num = re.findall('\\d+', file)[0][-2:]\n",
    "        if int(num) > 20:\n",
    "            yr = int('19' + num)\n",
    "        else:\n",
    "            yr = int('20' + num)\n",
    "        \n",
    "        # Extracting these cols: mig state code, mig state name, returns, exemptions\n",
    "        if yr < 1993:\n",
    "            cols = [0,2,3,5]\n",
    "        elif yr > 2009:\n",
    "            cols = [1,3,4,5]\n",
    "        else:\n",
    "            cols = [0,2,3,4]\n",
    "            \n",
    "        df = pd.read_excel(folders[counter] + '/' + file, usecols=cols)\n",
    "        df.columns = ['State_Code', 'Mig_Type', 'Returns', 'Exemptions']\n",
    "        df = df[df['State_Code'].isin(['06','96','63','57',6,96,63,57])]  # Including 63 for different mig state code in 1993 files (63 & 96=residents; 6=domestic migrants; 57=foreign migrants)\n",
    "        if yr in [1994,1995]:\n",
    "            df['State_Code'] = [96,57,6]\n",
    "        \n",
    "        df['Year'] = np.full(len(df), yr)\n",
    "        master_df1 = pd.concat([master_df1, df])\n",
    "    counter += 1"
   ]
  },
  {
   "cell_type": "code",
   "execution_count": 5,
   "metadata": {},
   "outputs": [],
   "source": [
    "master_df1['Type'] = ['In']*63 + ['Out']*63\n",
    "master_df1['State_Code'] = master_df1['State_Code'].astype(str)\n",
    "master_df1 = master_df1.sort_values(['Type','Year'])"
   ]
  },
  {
   "cell_type": "markdown",
   "metadata": {},
   "source": [
    "*Create col for foreign mig and col that subtracts it from total (to produce domestic mig col)"
   ]
  },
  {
   "cell_type": "code",
   "execution_count": 6,
   "metadata": {},
   "outputs": [],
   "source": [
    "totals = master_df1[master_df1['State_Code'].isin(['6','06'])]\n",
    "mig_tot = master_df1[master_df1['State_Code'].isin(['63','96'])]\n",
    "mig_for = master_df1[master_df1['State_Code'].isin(['57'])]"
   ]
  },
  {
   "cell_type": "code",
   "execution_count": 7,
   "metadata": {},
   "outputs": [
    {
     "data": {
      "text/html": [
       "<div>\n",
       "<style scoped>\n",
       "    .dataframe tbody tr th:only-of-type {\n",
       "        vertical-align: middle;\n",
       "    }\n",
       "\n",
       "    .dataframe tbody tr th {\n",
       "        vertical-align: top;\n",
       "    }\n",
       "\n",
       "    .dataframe thead th {\n",
       "        text-align: right;\n",
       "    }\n",
       "</style>\n",
       "<table border=\"1\" class=\"dataframe\">\n",
       "  <thead>\n",
       "    <tr style=\"text-align: right;\">\n",
       "      <th></th>\n",
       "      <th>State_Code</th>\n",
       "      <th>Mig_Type</th>\n",
       "      <th>Returns</th>\n",
       "      <th>Exemptions</th>\n",
       "      <th>Year</th>\n",
       "      <th>Type</th>\n",
       "    </tr>\n",
       "  </thead>\n",
       "  <tbody>\n",
       "    <tr>\n",
       "      <th>8</th>\n",
       "      <td>57</td>\n",
       "      <td>Foreign</td>\n",
       "      <td>25189</td>\n",
       "      <td>50814</td>\n",
       "      <td>1991</td>\n",
       "      <td>In</td>\n",
       "    </tr>\n",
       "    <tr>\n",
       "      <th>8</th>\n",
       "      <td>57</td>\n",
       "      <td>Foreign</td>\n",
       "      <td>30168</td>\n",
       "      <td>57708</td>\n",
       "      <td>1992</td>\n",
       "      <td>In</td>\n",
       "    </tr>\n",
       "    <tr>\n",
       "      <th>8</th>\n",
       "      <td>57</td>\n",
       "      <td>Foreign</td>\n",
       "      <td>30686</td>\n",
       "      <td>52872</td>\n",
       "      <td>1993</td>\n",
       "      <td>In</td>\n",
       "    </tr>\n",
       "    <tr>\n",
       "      <th>8</th>\n",
       "      <td>57</td>\n",
       "      <td>Foreign</td>\n",
       "      <td>23180</td>\n",
       "      <td>39476</td>\n",
       "      <td>1994</td>\n",
       "      <td>In</td>\n",
       "    </tr>\n",
       "    <tr>\n",
       "      <th>8</th>\n",
       "      <td>57</td>\n",
       "      <td>Foreign</td>\n",
       "      <td>22871</td>\n",
       "      <td>38215</td>\n",
       "      <td>1995</td>\n",
       "      <td>In</td>\n",
       "    </tr>\n",
       "  </tbody>\n",
       "</table>\n",
       "</div>"
      ],
      "text/plain": [
       "  State_Code Mig_Type Returns Exemptions  Year Type\n",
       "8         57  Foreign   25189      50814  1991   In\n",
       "8         57  Foreign   30168      57708  1992   In\n",
       "8         57  Foreign   30686      52872  1993   In\n",
       "8         57  Foreign   23180      39476  1994   In\n",
       "8         57  Foreign   22871      38215  1995   In"
      ]
     },
     "execution_count": 7,
     "metadata": {},
     "output_type": "execute_result"
    }
   ],
   "source": [
    "mig_for.head()"
   ]
  },
  {
   "cell_type": "code",
   "execution_count": 8,
   "metadata": {},
   "outputs": [],
   "source": [
    "mig_91_11 = pd.DataFrame({'Year':master_df1.Year.unique(),\n",
    "                          #'Returns':totals.Returns[totals.Type == 'In'].values,\n",
    "                          'Non_Mig':totals.Exemptions[totals.Type == 'In'].values,\n",
    "                          #'Inmig_Returns':mig_tot.Returns[mig_tot.Type == 'In'].values,\n",
    "                          #'Outmig_Returns':mig_tot.Returns[mig_tot.Type == 'Out'].values,\n",
    "                          #'In_Foreign_Returns':mig_for.Returns[mig_for.Type == 'In'].values,\n",
    "                          #'Out_Foreign_Returns':mig_for.Returns[mig_for.Type == 'Out'].values,\n",
    "                          'Inmig_Exemp':mig_tot.Exemptions[mig_tot.Type == 'In'].values,\n",
    "                          'Outmig_Exemp':mig_tot.Exemptions[mig_tot.Type == 'Out'].values,\n",
    "                          'In_Foreign_Exemp':mig_for.Exemptions[mig_for.Type == 'In'].values,\n",
    "                          'Out_Foreign_Exemp':mig_for.Exemptions[mig_for.Type == 'Out'].values})"
   ]
  },
  {
   "cell_type": "code",
   "execution_count": 9,
   "metadata": {},
   "outputs": [],
   "source": [
    "mig_91_11['In_Dom_Exemp'] = mig_91_11.Inmig_Exemp - mig_91_11.In_Foreign_Exemp\n",
    "mig_91_11['Out_Dom_Exemp'] = mig_91_11.Outmig_Exemp - mig_91_11.Out_Foreign_Exemp\n",
    "mig_91_11 = mig_91_11[['Year', 'Non_Mig', 'Inmig_Exemp', 'In_Dom_Exemp', 'Outmig_Exemp', 'Out_Dom_Exemp']]"
   ]
  },
  {
   "cell_type": "code",
   "execution_count": 10,
   "metadata": {},
   "outputs": [
    {
     "data": {
      "text/html": [
       "<div>\n",
       "<style scoped>\n",
       "    .dataframe tbody tr th:only-of-type {\n",
       "        vertical-align: middle;\n",
       "    }\n",
       "\n",
       "    .dataframe tbody tr th {\n",
       "        vertical-align: top;\n",
       "    }\n",
       "\n",
       "    .dataframe thead th {\n",
       "        text-align: right;\n",
       "    }\n",
       "</style>\n",
       "<table border=\"1\" class=\"dataframe\">\n",
       "  <thead>\n",
       "    <tr style=\"text-align: right;\">\n",
       "      <th></th>\n",
       "      <th>Year</th>\n",
       "      <th>Non_Mig</th>\n",
       "      <th>Inmig_Exemp</th>\n",
       "      <th>In_Dom_Exemp</th>\n",
       "      <th>Outmig_Exemp</th>\n",
       "      <th>Out_Dom_Exemp</th>\n",
       "    </tr>\n",
       "  </thead>\n",
       "  <tbody>\n",
       "    <tr>\n",
       "      <th>0</th>\n",
       "      <td>1991</td>\n",
       "      <td>23010999</td>\n",
       "      <td>448258</td>\n",
       "      <td>397444</td>\n",
       "      <td>571032</td>\n",
       "      <td>531946</td>\n",
       "    </tr>\n",
       "    <tr>\n",
       "      <th>1</th>\n",
       "      <td>1992</td>\n",
       "      <td>23340798</td>\n",
       "      <td>429962</td>\n",
       "      <td>372254</td>\n",
       "      <td>577023</td>\n",
       "      <td>542349</td>\n",
       "    </tr>\n",
       "    <tr>\n",
       "      <th>2</th>\n",
       "      <td>1993</td>\n",
       "      <td>23236233</td>\n",
       "      <td>372838</td>\n",
       "      <td>319966</td>\n",
       "      <td>659933</td>\n",
       "      <td>625119</td>\n",
       "    </tr>\n",
       "    <tr>\n",
       "      <th>3</th>\n",
       "      <td>1994</td>\n",
       "      <td>22841596</td>\n",
       "      <td>344116</td>\n",
       "      <td>304640</td>\n",
       "      <td>674796</td>\n",
       "      <td>643480</td>\n",
       "    </tr>\n",
       "    <tr>\n",
       "      <th>4</th>\n",
       "      <td>1995</td>\n",
       "      <td>22414007</td>\n",
       "      <td>353108</td>\n",
       "      <td>314893</td>\n",
       "      <td>628896</td>\n",
       "      <td>600334</td>\n",
       "    </tr>\n",
       "  </tbody>\n",
       "</table>\n",
       "</div>"
      ],
      "text/plain": [
       "   Year   Non_Mig Inmig_Exemp In_Dom_Exemp Outmig_Exemp Out_Dom_Exemp\n",
       "0  1991  23010999      448258       397444       571032        531946\n",
       "1  1992  23340798      429962       372254       577023        542349\n",
       "2  1993  23236233      372838       319966       659933        625119\n",
       "3  1994  22841596      344116       304640       674796        643480\n",
       "4  1995  22414007      353108       314893       628896        600334"
      ]
     },
     "execution_count": 10,
     "metadata": {},
     "output_type": "execute_result"
    }
   ],
   "source": [
    "mig_91_11.head()"
   ]
  },
  {
   "cell_type": "code",
   "execution_count": 6,
   "metadata": {},
   "outputs": [],
   "source": [
    "\"\"\"\n",
    "mig_91_11 = pd.DataFrame({'Year':master_df1.Year.unique(), \n",
    "                          'Returns':master_df1['Returns'][(master_df1['Mig_Type'].str.contains('Non-Migrant')) & (master_df1.Type == 'In')].values, \n",
    "                          'Exemptions':master_df1['Exemptions'][(master_df1['Mig_Type'].str.contains('Non-Migrant')) & (master_df1.Type == 'In')].values, \n",
    "                          'Inmig_Returns':master_df1['Returns'][~(master_df1['Mig_Type'].str.contains('Non-Migrant')) & (master_df1.Type == 'In')].values, \n",
    "                          'Inmig_Exempt':master_df1['Exemptions'][~(master_df1['Mig_Type'].str.contains('Non-Migrant')) & (master_df1.Type == 'In')].values, \n",
    "                          'Outmig_Returns':master_df1['Returns'][~(master_df1['Mig_Type'].str.contains('Non-Migrant')) & (master_df1.Type == 'Out')].values,\n",
    "                          'Outmig_Exempt':master_df1['Exemptions'][~(master_df1['Mig_Type'].str.contains('Non-Migrant')) & (master_df1.Type == 'Out')].values}).sort_values('Year')\"\"\""
   ]
  },
  {
   "cell_type": "markdown",
   "metadata": {},
   "source": [
    "### Cleaning 2012-2018 CA Migration Data (IRS)"
   ]
  },
  {
   "cell_type": "code",
   "execution_count": 11,
   "metadata": {},
   "outputs": [],
   "source": [
    "inmig_12_18 = os.listdir('CA In 12_18')\n",
    "outmig_12_18 = os.listdir('CA Out 12_18')"
   ]
  },
  {
   "cell_type": "code",
   "execution_count": 12,
   "metadata": {},
   "outputs": [],
   "source": [
    "master_df2 = pd.DataFrame()\n",
    "folders = ['CA In 12_18', 'CA Out 12_18']\n",
    "counter = 0\n",
    "for folder in [inmig_12_18, outmig_12_18]:\n",
    "    for file in folder:\n",
    "        yr = int('20'+ file[-6:-4])\n",
    "        df = pd.read_csv(folders[counter] + '/' + file, usecols=[0,1,4,5])\n",
    "        df.columns = ['State', 'Mig_Type', 'Returns', 'Exemptions']\n",
    "        df = df[(df.State == 6) & (df.Mig_Type.isin([6,96,97]))].drop_duplicates(subset='Mig_Type')  # Code 97 used for foreign & same state (only want the first one, corresponding to foreign migrants)\n",
    "        \n",
    "        df['Year'] = np.full(len(df), yr)\n",
    "        master_df2 = pd.concat([master_df2, df])\n",
    "    counter += 1"
   ]
  },
  {
   "cell_type": "code",
   "execution_count": 13,
   "metadata": {},
   "outputs": [
    {
     "data": {
      "text/plain": [
       "42"
      ]
     },
     "execution_count": 13,
     "metadata": {},
     "output_type": "execute_result"
    }
   ],
   "source": [
    "len(master_df2)"
   ]
  },
  {
   "cell_type": "code",
   "execution_count": 14,
   "metadata": {},
   "outputs": [],
   "source": [
    "master_df2['Type'] = ['In']*21 + ['Out']*21\n",
    "mig_12_18 = pd.DataFrame({'Year':master_df2.Year.unique(), \n",
    "                          #'Returns':master_df2[2][(master_df2[1] == 6) & (master_df2.Type == 'In')].values, \n",
    "                          'Non_Mig':master_df2.Exemptions[(master_df2.Mig_Type == 6) & (master_df2.Type == 'In')].values, \n",
    "                          'Inmig_Exemp':master_df2.Exemptions[(master_df2.Mig_Type == 96) & (master_df2.Type == 'In')].values, \n",
    "                          'In_Dom_Exemp':master_df2.Exemptions[(master_df2.Mig_Type == 97) & (master_df2.Type == 'In')].values, \n",
    "                          'Outmig_Exemp':master_df2.Exemptions[(master_df2.Mig_Type == 96) & (master_df2.Type == 'Out')].values, \n",
    "                          'Out_Dom_Exemp':master_df2.Exemptions[(master_df2.Mig_Type == 97) & (master_df2.Type == 'Out')].values}).sort_values('Year')"
   ]
  },
  {
   "cell_type": "code",
   "execution_count": 15,
   "metadata": {},
   "outputs": [
    {
     "data": {
      "text/html": [
       "<div>\n",
       "<style scoped>\n",
       "    .dataframe tbody tr th:only-of-type {\n",
       "        vertical-align: middle;\n",
       "    }\n",
       "\n",
       "    .dataframe tbody tr th {\n",
       "        vertical-align: top;\n",
       "    }\n",
       "\n",
       "    .dataframe thead th {\n",
       "        text-align: right;\n",
       "    }\n",
       "</style>\n",
       "<table border=\"1\" class=\"dataframe\">\n",
       "  <thead>\n",
       "    <tr style=\"text-align: right;\">\n",
       "      <th></th>\n",
       "      <th>Year</th>\n",
       "      <th>Non_Mig</th>\n",
       "      <th>Inmig_Exemp</th>\n",
       "      <th>In_Dom_Exemp</th>\n",
       "      <th>Outmig_Exemp</th>\n",
       "      <th>Out_Dom_Exemp</th>\n",
       "    </tr>\n",
       "  </thead>\n",
       "  <tbody>\n",
       "    <tr>\n",
       "      <th>0</th>\n",
       "      <td>2012</td>\n",
       "      <td>30080010</td>\n",
       "      <td>476184</td>\n",
       "      <td>455202</td>\n",
       "      <td>496085</td>\n",
       "      <td>468496</td>\n",
       "    </tr>\n",
       "    <tr>\n",
       "      <th>1</th>\n",
       "      <td>2013</td>\n",
       "      <td>30139423</td>\n",
       "      <td>485161</td>\n",
       "      <td>463373</td>\n",
       "      <td>532619</td>\n",
       "      <td>505991</td>\n",
       "    </tr>\n",
       "    <tr>\n",
       "      <th>2</th>\n",
       "      <td>2014</td>\n",
       "      <td>30251074</td>\n",
       "      <td>453621</td>\n",
       "      <td>432409</td>\n",
       "      <td>512732</td>\n",
       "      <td>487994</td>\n",
       "    </tr>\n",
       "    <tr>\n",
       "      <th>3</th>\n",
       "      <td>2015</td>\n",
       "      <td>30666470</td>\n",
       "      <td>344232</td>\n",
       "      <td>322677</td>\n",
       "      <td>388394</td>\n",
       "      <td>365561</td>\n",
       "    </tr>\n",
       "    <tr>\n",
       "      <th>4</th>\n",
       "      <td>2016</td>\n",
       "      <td>30665600</td>\n",
       "      <td>453736</td>\n",
       "      <td>432443</td>\n",
       "      <td>546608</td>\n",
       "      <td>521161</td>\n",
       "    </tr>\n",
       "    <tr>\n",
       "      <th>5</th>\n",
       "      <td>2017</td>\n",
       "      <td>30323418</td>\n",
       "      <td>571204</td>\n",
       "      <td>560173</td>\n",
       "      <td>750592</td>\n",
       "      <td>738242</td>\n",
       "    </tr>\n",
       "    <tr>\n",
       "      <th>6</th>\n",
       "      <td>2018</td>\n",
       "      <td>30682756</td>\n",
       "      <td>441167</td>\n",
       "      <td>429856</td>\n",
       "      <td>592703</td>\n",
       "      <td>583053</td>\n",
       "    </tr>\n",
       "  </tbody>\n",
       "</table>\n",
       "</div>"
      ],
      "text/plain": [
       "   Year   Non_Mig  Inmig_Exemp  In_Dom_Exemp  Outmig_Exemp  Out_Dom_Exemp\n",
       "0  2012  30080010       476184        455202        496085         468496\n",
       "1  2013  30139423       485161        463373        532619         505991\n",
       "2  2014  30251074       453621        432409        512732         487994\n",
       "3  2015  30666470       344232        322677        388394         365561\n",
       "4  2016  30665600       453736        432443        546608         521161\n",
       "5  2017  30323418       571204        560173        750592         738242\n",
       "6  2018  30682756       441167        429856        592703         583053"
      ]
     },
     "execution_count": 15,
     "metadata": {},
     "output_type": "execute_result"
    }
   ],
   "source": [
    "mig_12_18"
   ]
  },
  {
   "cell_type": "markdown",
   "metadata": {},
   "source": [
    "### Combining Data"
   ]
  },
  {
   "cell_type": "code",
   "execution_count": 24,
   "metadata": {},
   "outputs": [],
   "source": [
    "comb = pd.concat([mig_91_11, mig_12_18]).reset_index(drop=True)\n",
    "for col in comb.columns:\n",
    "    comb[col] = comb[col].astype(int)\n",
    "\n",
    "comb.Year = comb.Year - 1  # Since tax reflects prev year's migration data\n",
    "comb['Zero'] = np.full(len(comb),0)  # For gray area chart"
   ]
  },
  {
   "cell_type": "code",
   "execution_count": 25,
   "metadata": {},
   "outputs": [
    {
     "data": {
      "text/html": [
       "<div>\n",
       "<style scoped>\n",
       "    .dataframe tbody tr th:only-of-type {\n",
       "        vertical-align: middle;\n",
       "    }\n",
       "\n",
       "    .dataframe tbody tr th {\n",
       "        vertical-align: top;\n",
       "    }\n",
       "\n",
       "    .dataframe thead th {\n",
       "        text-align: right;\n",
       "    }\n",
       "</style>\n",
       "<table border=\"1\" class=\"dataframe\">\n",
       "  <thead>\n",
       "    <tr style=\"text-align: right;\">\n",
       "      <th></th>\n",
       "      <th>Year</th>\n",
       "      <th>Non_Mig</th>\n",
       "      <th>Inmig_Exemp</th>\n",
       "      <th>In_Dom_Exemp</th>\n",
       "      <th>Outmig_Exemp</th>\n",
       "      <th>Out_Dom_Exemp</th>\n",
       "      <th>Zero</th>\n",
       "    </tr>\n",
       "  </thead>\n",
       "  <tbody>\n",
       "    <tr>\n",
       "      <th>0</th>\n",
       "      <td>1990</td>\n",
       "      <td>23010999</td>\n",
       "      <td>448258</td>\n",
       "      <td>397444</td>\n",
       "      <td>571032</td>\n",
       "      <td>531946</td>\n",
       "      <td>0</td>\n",
       "    </tr>\n",
       "    <tr>\n",
       "      <th>1</th>\n",
       "      <td>1991</td>\n",
       "      <td>23340798</td>\n",
       "      <td>429962</td>\n",
       "      <td>372254</td>\n",
       "      <td>577023</td>\n",
       "      <td>542349</td>\n",
       "      <td>0</td>\n",
       "    </tr>\n",
       "    <tr>\n",
       "      <th>2</th>\n",
       "      <td>1992</td>\n",
       "      <td>23236233</td>\n",
       "      <td>372838</td>\n",
       "      <td>319966</td>\n",
       "      <td>659933</td>\n",
       "      <td>625119</td>\n",
       "      <td>0</td>\n",
       "    </tr>\n",
       "    <tr>\n",
       "      <th>3</th>\n",
       "      <td>1993</td>\n",
       "      <td>22841596</td>\n",
       "      <td>344116</td>\n",
       "      <td>304640</td>\n",
       "      <td>674796</td>\n",
       "      <td>643480</td>\n",
       "      <td>0</td>\n",
       "    </tr>\n",
       "    <tr>\n",
       "      <th>4</th>\n",
       "      <td>1994</td>\n",
       "      <td>22414007</td>\n",
       "      <td>353108</td>\n",
       "      <td>314893</td>\n",
       "      <td>628896</td>\n",
       "      <td>600334</td>\n",
       "      <td>0</td>\n",
       "    </tr>\n",
       "  </tbody>\n",
       "</table>\n",
       "</div>"
      ],
      "text/plain": [
       "   Year   Non_Mig  Inmig_Exemp  In_Dom_Exemp  Outmig_Exemp  Out_Dom_Exemp  \\\n",
       "0  1990  23010999       448258        397444        571032         531946   \n",
       "1  1991  23340798       429962        372254        577023         542349   \n",
       "2  1992  23236233       372838        319966        659933         625119   \n",
       "3  1993  22841596       344116        304640        674796         643480   \n",
       "4  1994  22414007       353108        314893        628896         600334   \n",
       "\n",
       "   Zero  \n",
       "0     0  \n",
       "1     0  \n",
       "2     0  \n",
       "3     0  \n",
       "4     0  "
      ]
     },
     "execution_count": 25,
     "metadata": {},
     "output_type": "execute_result"
    }
   ],
   "source": [
    "comb.head()"
   ]
  },
  {
   "cell_type": "markdown",
   "metadata": {},
   "source": [
    "Peak Years:\n",
    "- 92-94\n",
    "- 04-06\n",
    "- 16-19"
   ]
  },
  {
   "cell_type": "markdown",
   "metadata": {},
   "source": [
    "*Exemptions represent all individuals (filers & dependents) \n",
    "- https://www.irs.gov/newsroom/five-things-to-remember-about-exemptions-and-dependents-for-tax-year-2017"
   ]
  },
  {
   "cell_type": "markdown",
   "metadata": {},
   "source": [
    "*Adjust mig values based on difference b/w exemptions & state population (since not all residents are accounted for in tax filings- as the IRS clarifies in their accompanying data guide)"
   ]
  },
  {
   "cell_type": "code",
   "execution_count": 18,
   "metadata": {},
   "outputs": [],
   "source": [
    "# CA 1990-2019 Population (source: http://www.dof.ca.gov/Forecasting/Demographics/Estimates/)\n",
    "pops = '29558000\t30143555\t30722998\t31150786\t31418940\t31617770\t31837399\t32207869\t32657877\t33140771\t33721583\t34256789\t34725516\t35163609\t35570847\t35869173\t36116202\t36399676\t36704375\t36966713\t37223900\t37594781\t37971427\t38321459\t38622301\t38952462\t39214803\t39504609\t39740508\t39927315'\n",
    "pops = re.sub('\\s',',',pops).split(',')[:-2]  # Excluding 18 & 19"
   ]
  },
  {
   "cell_type": "code",
   "execution_count": 26,
   "metadata": {},
   "outputs": [],
   "source": [
    "comb['Population'] = [int(p) for p in pops]\n",
    "adj_cols = ['Inmig_Exemp', 'In_Dom_Exemp', 'Outmig_Exemp', 'Out_Dom_Exemp']  # Adjusting mig cols based on pop/exemptions diff\n",
    "for col in adj_cols:\n",
    "    comb[col] = (comb[col] * comb.Population / comb.Non_Mig).round().astype(int)"
   ]
  },
  {
   "cell_type": "code",
   "execution_count": 27,
   "metadata": {},
   "outputs": [
    {
     "data": {
      "text/html": [
       "<div>\n",
       "<style scoped>\n",
       "    .dataframe tbody tr th:only-of-type {\n",
       "        vertical-align: middle;\n",
       "    }\n",
       "\n",
       "    .dataframe tbody tr th {\n",
       "        vertical-align: top;\n",
       "    }\n",
       "\n",
       "    .dataframe thead th {\n",
       "        text-align: right;\n",
       "    }\n",
       "</style>\n",
       "<table border=\"1\" class=\"dataframe\">\n",
       "  <thead>\n",
       "    <tr style=\"text-align: right;\">\n",
       "      <th></th>\n",
       "      <th>Year</th>\n",
       "      <th>Non_Mig</th>\n",
       "      <th>Inmig_Exemp</th>\n",
       "      <th>In_Dom_Exemp</th>\n",
       "      <th>Outmig_Exemp</th>\n",
       "      <th>Out_Dom_Exemp</th>\n",
       "      <th>Zero</th>\n",
       "      <th>Population</th>\n",
       "    </tr>\n",
       "  </thead>\n",
       "  <tbody>\n",
       "    <tr>\n",
       "      <th>0</th>\n",
       "      <td>1990</td>\n",
       "      <td>23010999</td>\n",
       "      <td>575795</td>\n",
       "      <td>510523</td>\n",
       "      <td>733500</td>\n",
       "      <td>683293</td>\n",
       "      <td>0</td>\n",
       "      <td>29558000</td>\n",
       "    </tr>\n",
       "    <tr>\n",
       "      <th>1</th>\n",
       "      <td>1991</td>\n",
       "      <td>23340798</td>\n",
       "      <td>555276</td>\n",
       "      <td>480749</td>\n",
       "      <td>745198</td>\n",
       "      <td>700419</td>\n",
       "      <td>0</td>\n",
       "      <td>30143555</td>\n",
       "    </tr>\n",
       "    <tr>\n",
       "      <th>2</th>\n",
       "      <td>1992</td>\n",
       "      <td>23236233</td>\n",
       "      <td>492967</td>\n",
       "      <td>423060</td>\n",
       "      <td>872565</td>\n",
       "      <td>826534</td>\n",
       "      <td>0</td>\n",
       "      <td>30722998</td>\n",
       "    </tr>\n",
       "    <tr>\n",
       "      <th>3</th>\n",
       "      <td>1993</td>\n",
       "      <td>22841596</td>\n",
       "      <td>469297</td>\n",
       "      <td>415460</td>\n",
       "      <td>920270</td>\n",
       "      <td>877562</td>\n",
       "      <td>0</td>\n",
       "      <td>31150786</td>\n",
       "    </tr>\n",
       "    <tr>\n",
       "      <th>4</th>\n",
       "      <td>1994</td>\n",
       "      <td>22414007</td>\n",
       "      <td>494971</td>\n",
       "      <td>441403</td>\n",
       "      <td>881558</td>\n",
       "      <td>841521</td>\n",
       "      <td>0</td>\n",
       "      <td>31418940</td>\n",
       "    </tr>\n",
       "  </tbody>\n",
       "</table>\n",
       "</div>"
      ],
      "text/plain": [
       "   Year   Non_Mig  Inmig_Exemp  In_Dom_Exemp  Outmig_Exemp  Out_Dom_Exemp  \\\n",
       "0  1990  23010999       575795        510523        733500         683293   \n",
       "1  1991  23340798       555276        480749        745198         700419   \n",
       "2  1992  23236233       492967        423060        872565         826534   \n",
       "3  1993  22841596       469297        415460        920270         877562   \n",
       "4  1994  22414007       494971        441403        881558         841521   \n",
       "\n",
       "   Zero  Population  \n",
       "0     0    29558000  \n",
       "1     0    30143555  \n",
       "2     0    30722998  \n",
       "3     0    31150786  \n",
       "4     0    31418940  "
      ]
     },
     "execution_count": 27,
     "metadata": {},
     "output_type": "execute_result"
    }
   ],
   "source": [
    "comb.head()"
   ]
  },
  {
   "cell_type": "code",
   "execution_count": 28,
   "metadata": {},
   "outputs": [],
   "source": [
    "comb['Pop_Exemp_Mult'] = comb.Population / comb.Non_Mig\n",
    "comb['Net_Mig_Dom_Exemp'] = comb.In_Dom_Exemp - comb.Out_Dom_Exemp\n",
    "#comb['Net_Mig_Exemp'] = comb.Inmig_Exemp - comb.Outmig_Exemp\n",
    "comb['Rel_Mig_Dom_Exemp'] = round(comb.Net_Mig_Dom_Exemp / comb.Non_Mig, 4)\n",
    "#comb['Rel_Mig_Exemp'] = round(comb.Net_Mig_Exemp / comb.Exemptions, 4)\n",
    "comb['Inmig_Exemp_pct_chg'] = abs(comb.Inmig_Exemp.pct_change())\n",
    "comb['Outmig_Exemp_pct_chg'] = abs(comb.Outmig_Exemp.pct_change())"
   ]
  },
  {
   "cell_type": "code",
   "execution_count": 29,
   "metadata": {},
   "outputs": [
    {
     "data": {
      "text/html": [
       "<div>\n",
       "<style scoped>\n",
       "    .dataframe tbody tr th:only-of-type {\n",
       "        vertical-align: middle;\n",
       "    }\n",
       "\n",
       "    .dataframe tbody tr th {\n",
       "        vertical-align: top;\n",
       "    }\n",
       "\n",
       "    .dataframe thead th {\n",
       "        text-align: right;\n",
       "    }\n",
       "</style>\n",
       "<table border=\"1\" class=\"dataframe\">\n",
       "  <thead>\n",
       "    <tr style=\"text-align: right;\">\n",
       "      <th></th>\n",
       "      <th>Year</th>\n",
       "      <th>Non_Mig</th>\n",
       "      <th>Inmig_Exemp</th>\n",
       "      <th>In_Dom_Exemp</th>\n",
       "      <th>Outmig_Exemp</th>\n",
       "      <th>Out_Dom_Exemp</th>\n",
       "      <th>Zero</th>\n",
       "      <th>Population</th>\n",
       "      <th>Pop_Exemp_Mult</th>\n",
       "      <th>Net_Mig_Dom_Exemp</th>\n",
       "      <th>Rel_Mig_Dom_Exemp</th>\n",
       "      <th>Inmig_Exemp_pct_chg</th>\n",
       "      <th>Outmig_Exemp_pct_chg</th>\n",
       "    </tr>\n",
       "  </thead>\n",
       "  <tbody>\n",
       "    <tr>\n",
       "      <th>0</th>\n",
       "      <td>1990</td>\n",
       "      <td>23010999</td>\n",
       "      <td>575795</td>\n",
       "      <td>510523</td>\n",
       "      <td>733500</td>\n",
       "      <td>683293</td>\n",
       "      <td>0</td>\n",
       "      <td>29558000</td>\n",
       "      <td>1.284516</td>\n",
       "      <td>-172770</td>\n",
       "      <td>-0.0075</td>\n",
       "      <td>NaN</td>\n",
       "      <td>NaN</td>\n",
       "    </tr>\n",
       "    <tr>\n",
       "      <th>1</th>\n",
       "      <td>1991</td>\n",
       "      <td>23340798</td>\n",
       "      <td>555276</td>\n",
       "      <td>480749</td>\n",
       "      <td>745198</td>\n",
       "      <td>700419</td>\n",
       "      <td>0</td>\n",
       "      <td>30143555</td>\n",
       "      <td>1.291453</td>\n",
       "      <td>-219670</td>\n",
       "      <td>-0.0094</td>\n",
       "      <td>0.035636</td>\n",
       "      <td>0.015948</td>\n",
       "    </tr>\n",
       "    <tr>\n",
       "      <th>2</th>\n",
       "      <td>1992</td>\n",
       "      <td>23236233</td>\n",
       "      <td>492967</td>\n",
       "      <td>423060</td>\n",
       "      <td>872565</td>\n",
       "      <td>826534</td>\n",
       "      <td>0</td>\n",
       "      <td>30722998</td>\n",
       "      <td>1.322202</td>\n",
       "      <td>-403474</td>\n",
       "      <td>-0.0174</td>\n",
       "      <td>0.112213</td>\n",
       "      <td>0.170917</td>\n",
       "    </tr>\n",
       "    <tr>\n",
       "      <th>3</th>\n",
       "      <td>1993</td>\n",
       "      <td>22841596</td>\n",
       "      <td>469297</td>\n",
       "      <td>415460</td>\n",
       "      <td>920270</td>\n",
       "      <td>877562</td>\n",
       "      <td>0</td>\n",
       "      <td>31150786</td>\n",
       "      <td>1.363774</td>\n",
       "      <td>-462102</td>\n",
       "      <td>-0.0202</td>\n",
       "      <td>0.048015</td>\n",
       "      <td>0.054672</td>\n",
       "    </tr>\n",
       "    <tr>\n",
       "      <th>4</th>\n",
       "      <td>1994</td>\n",
       "      <td>22414007</td>\n",
       "      <td>494971</td>\n",
       "      <td>441403</td>\n",
       "      <td>881558</td>\n",
       "      <td>841521</td>\n",
       "      <td>0</td>\n",
       "      <td>31418940</td>\n",
       "      <td>1.401755</td>\n",
       "      <td>-400118</td>\n",
       "      <td>-0.0179</td>\n",
       "      <td>0.054707</td>\n",
       "      <td>0.042066</td>\n",
       "    </tr>\n",
       "  </tbody>\n",
       "</table>\n",
       "</div>"
      ],
      "text/plain": [
       "   Year   Non_Mig  Inmig_Exemp  In_Dom_Exemp  Outmig_Exemp  Out_Dom_Exemp  \\\n",
       "0  1990  23010999       575795        510523        733500         683293   \n",
       "1  1991  23340798       555276        480749        745198         700419   \n",
       "2  1992  23236233       492967        423060        872565         826534   \n",
       "3  1993  22841596       469297        415460        920270         877562   \n",
       "4  1994  22414007       494971        441403        881558         841521   \n",
       "\n",
       "   Zero  Population  Pop_Exemp_Mult  Net_Mig_Dom_Exemp  Rel_Mig_Dom_Exemp  \\\n",
       "0     0    29558000        1.284516            -172770            -0.0075   \n",
       "1     0    30143555        1.291453            -219670            -0.0094   \n",
       "2     0    30722998        1.322202            -403474            -0.0174   \n",
       "3     0    31150786        1.363774            -462102            -0.0202   \n",
       "4     0    31418940        1.401755            -400118            -0.0179   \n",
       "\n",
       "   Inmig_Exemp_pct_chg  Outmig_Exemp_pct_chg  \n",
       "0                  NaN                   NaN  \n",
       "1             0.035636              0.015948  \n",
       "2             0.112213              0.170917  \n",
       "3             0.048015              0.054672  \n",
       "4             0.054707              0.042066  "
      ]
     },
     "execution_count": 29,
     "metadata": {},
     "output_type": "execute_result"
    }
   ],
   "source": [
    "comb.head()"
   ]
  },
  {
   "cell_type": "code",
   "execution_count": 30,
   "metadata": {},
   "outputs": [],
   "source": [
    "comb.to_csv('IRS_CA_mig_pop_9017.csv', index=False)"
   ]
  },
  {
   "cell_type": "code",
   "execution_count": 285,
   "metadata": {},
   "outputs": [
    {
     "data": {
      "text/plain": [
       "-462102"
      ]
     },
     "execution_count": 285,
     "metadata": {},
     "output_type": "execute_result"
    }
   ],
   "source": [
    "comb.Net_Mig_Dom_Exemp.min()"
   ]
  },
  {
   "cell_type": "code",
   "execution_count": 286,
   "metadata": {},
   "outputs": [
    {
     "data": {
      "text/plain": [
       "-16616"
      ]
     },
     "execution_count": 286,
     "metadata": {},
     "output_type": "execute_result"
    }
   ],
   "source": [
    "comb.Net_Mig_Dom_Exemp.max()"
   ]
  },
  {
   "cell_type": "code",
   "execution_count": 207,
   "metadata": {},
   "outputs": [
    {
     "data": {
      "text/plain": [
       "8.051697652445382"
      ]
     },
     "execution_count": 207,
     "metadata": {},
     "output_type": "execute_result"
    }
   ],
   "source": [
    "comb.Inmig_Exemp_pct_chg.mean()*100"
   ]
  },
  {
   "cell_type": "code",
   "execution_count": 208,
   "metadata": {},
   "outputs": [
    {
     "data": {
      "text/plain": [
       "10.603041688119243"
      ]
     },
     "execution_count": 208,
     "metadata": {},
     "output_type": "execute_result"
    }
   ],
   "source": [
    "comb.Outmig_Exemp_pct_chg.mean()*100"
   ]
  },
  {
   "cell_type": "code",
   "execution_count": 287,
   "metadata": {},
   "outputs": [
    {
     "data": {
      "text/plain": [
       "4.1377091399891786"
      ]
     },
     "execution_count": 287,
     "metadata": {},
     "output_type": "execute_result"
    }
   ],
   "source": [
    "comb[comb.Year < 2008].Inmig_Exemp_pct_chg.mean()*100"
   ]
  },
  {
   "cell_type": "code",
   "execution_count": 210,
   "metadata": {},
   "outputs": [
    {
     "data": {
      "text/plain": [
       "6.8624478247063445"
      ]
     },
     "execution_count": 210,
     "metadata": {},
     "output_type": "execute_result"
    }
   ],
   "source": [
    "comb[comb.Year < 2008].Outmig_Exemp_pct_chg.mean()*100"
   ]
  },
  {
   "cell_type": "code",
   "execution_count": 211,
   "metadata": {},
   "outputs": [
    {
     "data": {
      "text/plain": [
       "14.70547812362093"
      ]
     },
     "execution_count": 211,
     "metadata": {},
     "output_type": "execute_result"
    }
   ],
   "source": [
    "comb[comb.Year >= 2008].Inmig_Exemp_pct_chg.mean()*100"
   ]
  },
  {
   "cell_type": "code",
   "execution_count": 212,
   "metadata": {},
   "outputs": [
    {
     "data": {
      "text/plain": [
       "16.96205125592117"
      ]
     },
     "execution_count": 212,
     "metadata": {},
     "output_type": "execute_result"
    }
   ],
   "source": [
    "comb[comb.Year >= 2008].Outmig_Exemp_pct_chg.mean()*100"
   ]
  },
  {
   "cell_type": "code",
   "execution_count": 302,
   "metadata": {},
   "outputs": [
    {
     "data": {
      "text/html": [
       "\n",
       "<div id=\"altair-viz-50\"></div>\n",
       "<script type=\"text/javascript\">\n",
       "  (function(spec, embedOpt){\n",
       "    const outputDiv = document.getElementById(\"altair-viz-50\");\n",
       "    const paths = {\n",
       "      \"vega\": \"https://cdn.jsdelivr.net/npm//vega@5?noext\",\n",
       "      \"vega-lib\": \"https://cdn.jsdelivr.net/npm//vega-lib?noext\",\n",
       "      \"vega-lite\": \"https://cdn.jsdelivr.net/npm//vega-lite@4.0.0?noext\",\n",
       "      \"vega-embed\": \"https://cdn.jsdelivr.net/npm//vega-embed@6?noext\",\n",
       "    };\n",
       "\n",
       "    function loadScript(lib) {\n",
       "      return new Promise(function(resolve, reject) {\n",
       "        var s = document.createElement('script');\n",
       "        s.src = paths[lib];\n",
       "        s.async = true;\n",
       "        s.onload = () => resolve(paths[lib]);\n",
       "        s.onerror = () => reject(`Error loading script: ${paths[lib]}`);\n",
       "        document.getElementsByTagName(\"head\")[0].appendChild(s);\n",
       "      });\n",
       "    }\n",
       "\n",
       "    function showError(err) {\n",
       "      outputDiv.innerHTML = `<div class=\"error\" style=\"color:red;\">${err}</div>`;\n",
       "      throw err;\n",
       "    }\n",
       "\n",
       "    function displayChart(vegaEmbed) {\n",
       "      vegaEmbed(outputDiv, spec, embedOpt)\n",
       "        .catch(err => showError(`Javascript Error: ${err.message}<br>This usually means there's a typo in your chart specification. See the javascript console for the full traceback.`));\n",
       "    }\n",
       "\n",
       "    if(typeof define === \"function\" && define.amd) {\n",
       "      requirejs.config({paths});\n",
       "      require([\"vega-embed\"], displayChart, err => showError(`Error loading script: ${err.message}`));\n",
       "    } else if (typeof vegaEmbed === \"function\") {\n",
       "      displayChart(vegaEmbed);\n",
       "    } else {\n",
       "      loadScript(\"vega\")\n",
       "        .then(() => loadScript(\"vega-lite\"))\n",
       "        .then(() => loadScript(\"vega-embed\"))\n",
       "        .catch(showError)\n",
       "        .then(() => displayChart(vegaEmbed));\n",
       "    }\n",
       "  })({\"width\": 600, \"height\": 400, \"background\": \"white\", \"config\": {\"title\": {\"fontWeight\": \"normal\", \"fontSize\": 30, \"anchor\": \"start\", \"font\": \"Calibri\", \"offset\": 5}, \"axisX\": {\"grid\": false, \"labelFont\": \"Calibri\", \"labelFontSize\": 16, \"labelAngle\": 0, \"labelPadding\": 10, \"ticks\": false, \"tickSize\": 5, \"title\": null, \"titleFont\": \"Calibri\", \"titleFontSize\": 16, \"titleFontWeight\": \"normal\", \"titleY\": 30, \"titleX\": 280}, \"axisY\": {\"grid\": true, \"gridOpacity\": 1, \"labelFont\": \"Calibri\", \"labelFontSize\": 16, \"labelLimit\": 100, \"labelAlign\": \"left\", \"labelPadding\": 20, \"ticks\": false, \"title\": null, \"titleFont\": \"Calibri\", \"titleFontWeight\": \"normal\", \"titleFontSize\": 17, \"titleAlign\": \"left\", \"titleAngle\": 0, \"titleY\": -20, \"titleX\": -20, \"domainWidth\": 0}, \"view\": {\"strokeOpacity\": 0}}, \"data\": {\"name\": \"data-a4d8485472d8912f8f01dcf73fe3fab1\"}, \"mark\": {\"type\": \"line\", \"interpolate\": \"basis\", \"size\": 5}, \"encoding\": {\"x\": {\"type\": \"ordinal\", \"field\": \"Year\"}, \"y\": {\"type\": \"quantitative\", \"field\": \"Outmig_Exemp\"}}, \"title\": \"CA Outmig Totals\", \"$schema\": \"https://vega.github.io/schema/vega-lite/v4.0.0.json\", \"datasets\": {\"data-a4d8485472d8912f8f01dcf73fe3fab1\": [{\"Year\": 1990, \"Non_Mig\": 23010999, \"Inmig_Exemp\": 575795, \"In_Dom_Exemp\": 510523, \"Outmig_Exemp\": 733500, \"Out_Dom_Exemp\": 683293, \"Zero\": 0, \"Population\": 29558000, \"Net_Mig_Dom_Exemp\": -172770, \"Rel_Mig_Dom_Exemp\": -0.0075, \"Inmig_Exemp_pct_chg\": null, \"Outmig_Exemp_pct_chg\": null}, {\"Year\": 1991, \"Non_Mig\": 23340798, \"Inmig_Exemp\": 555276, \"In_Dom_Exemp\": 480749, \"Outmig_Exemp\": 745198, \"Out_Dom_Exemp\": 700419, \"Zero\": 0, \"Population\": 30143555, \"Net_Mig_Dom_Exemp\": -219670, \"Rel_Mig_Dom_Exemp\": -0.0094, \"Inmig_Exemp_pct_chg\": 0.035635946821351294, \"Outmig_Exemp_pct_chg\": 0.015948193592365323}, {\"Year\": 1992, \"Non_Mig\": 23236233, \"Inmig_Exemp\": 492967, \"In_Dom_Exemp\": 423060, \"Outmig_Exemp\": 872565, \"Out_Dom_Exemp\": 826534, \"Zero\": 0, \"Population\": 30722998, \"Net_Mig_Dom_Exemp\": -403474, \"Rel_Mig_Dom_Exemp\": -0.0174, \"Inmig_Exemp_pct_chg\": 0.11221266541323593, \"Outmig_Exemp_pct_chg\": 0.170916991188919}, {\"Year\": 1993, \"Non_Mig\": 22841596, \"Inmig_Exemp\": 469297, \"In_Dom_Exemp\": 415460, \"Outmig_Exemp\": 920270, \"Out_Dom_Exemp\": 877562, \"Zero\": 0, \"Population\": 31150786, \"Net_Mig_Dom_Exemp\": -462102, \"Rel_Mig_Dom_Exemp\": -0.0202, \"Inmig_Exemp_pct_chg\": 0.04801538439692721, \"Outmig_Exemp_pct_chg\": 0.05467214476858451}, {\"Year\": 1994, \"Non_Mig\": 22414007, \"Inmig_Exemp\": 494971, \"In_Dom_Exemp\": 441403, \"Outmig_Exemp\": 881558, \"Out_Dom_Exemp\": 841521, \"Zero\": 0, \"Population\": 31418940, \"Net_Mig_Dom_Exemp\": -400118, \"Rel_Mig_Dom_Exemp\": -0.0179, \"Inmig_Exemp_pct_chg\": 0.05470736015785316, \"Outmig_Exemp_pct_chg\": 0.042065915437860646}, {\"Year\": 1995, \"Non_Mig\": 22611353, \"Inmig_Exemp\": 502493, \"In_Dom_Exemp\": 454252, \"Outmig_Exemp\": 778525, \"Out_Dom_Exemp\": 740522, \"Zero\": 0, \"Population\": 31617770, \"Net_Mig_Dom_Exemp\": -286270, \"Rel_Mig_Dom_Exemp\": -0.0127, \"Inmig_Exemp_pct_chg\": 0.015196849916459643, \"Outmig_Exemp_pct_chg\": 0.11687603084538967}, {\"Year\": 1996, \"Non_Mig\": 22725592, \"Inmig_Exemp\": 554909, \"In_Dom_Exemp\": 503854, \"Outmig_Exemp\": 702779, \"Out_Dom_Exemp\": 665732, \"Zero\": 0, \"Population\": 31837399, \"Net_Mig_Dom_Exemp\": -161878, \"Rel_Mig_Dom_Exemp\": -0.0071, \"Inmig_Exemp_pct_chg\": 0.10431190086230058, \"Outmig_Exemp_pct_chg\": 0.0972942423172024}, {\"Year\": 1997, \"Non_Mig\": 23236858, \"Inmig_Exemp\": 575775, \"In_Dom_Exemp\": 526168, \"Outmig_Exemp\": 658276, \"Out_Dom_Exemp\": 623164, \"Zero\": 0, \"Population\": 32207869, \"Net_Mig_Dom_Exemp\": -96996, \"Rel_Mig_Dom_Exemp\": -0.0042, \"Inmig_Exemp_pct_chg\": 0.037602561861494355, \"Outmig_Exemp_pct_chg\": 0.06332431674822381}, {\"Year\": 1998, \"Non_Mig\": 24050991, \"Inmig_Exemp\": 563950, \"In_Dom_Exemp\": 513057, \"Outmig_Exemp\": 638682, \"Out_Dom_Exemp\": 603931, \"Zero\": 0, \"Population\": 32657877, \"Net_Mig_Dom_Exemp\": -90874, \"Rel_Mig_Dom_Exemp\": -0.0038, \"Inmig_Exemp_pct_chg\": 0.020537536364031106, \"Outmig_Exemp_pct_chg\": 0.02976563022197376}, {\"Year\": 1999, \"Non_Mig\": 24804140, \"Inmig_Exemp\": 569616, \"In_Dom_Exemp\": 519475, \"Outmig_Exemp\": 642844, \"Out_Dom_Exemp\": 608466, \"Zero\": 0, \"Population\": 33140771, \"Net_Mig_Dom_Exemp\": -88991, \"Rel_Mig_Dom_Exemp\": -0.0036, \"Inmig_Exemp_pct_chg\": 0.010046989981381316, \"Outmig_Exemp_pct_chg\": 0.006516545009879637}, {\"Year\": 2000, \"Non_Mig\": 25247901, \"Inmig_Exemp\": 597959, \"In_Dom_Exemp\": 545166, \"Outmig_Exemp\": 630167, \"Out_Dom_Exemp\": 596651, \"Zero\": 0, \"Population\": 33721583, \"Net_Mig_Dom_Exemp\": -51485, \"Rel_Mig_Dom_Exemp\": -0.002, \"Inmig_Exemp_pct_chg\": 0.04975808263812809, \"Outmig_Exemp_pct_chg\": 0.01972018094592154}, {\"Year\": 2001, \"Non_Mig\": 25671321, \"Inmig_Exemp\": 544126, \"In_Dom_Exemp\": 493798, \"Outmig_Exemp\": 659870, \"Out_Dom_Exemp\": 622808, \"Zero\": 0, \"Population\": 34256789, \"Net_Mig_Dom_Exemp\": -129010, \"Rel_Mig_Dom_Exemp\": -0.005, \"Inmig_Exemp_pct_chg\": 0.0900279116126691, \"Outmig_Exemp_pct_chg\": 0.04713512449874391}, {\"Year\": 2002, \"Non_Mig\": 26122706, \"Inmig_Exemp\": 532504, \"In_Dom_Exemp\": 483346, \"Outmig_Exemp\": 638459, \"Out_Dom_Exemp\": 600171, \"Zero\": 0, \"Population\": 34725516, \"Net_Mig_Dom_Exemp\": -116825, \"Rel_Mig_Dom_Exemp\": -0.0045, \"Inmig_Exemp_pct_chg\": 0.021359023461477666, \"Outmig_Exemp_pct_chg\": 0.032447300225802}, {\"Year\": 2003, \"Non_Mig\": 26305015, \"Inmig_Exemp\": 528463, \"In_Dom_Exemp\": 477282, \"Outmig_Exemp\": 678903, \"Out_Dom_Exemp\": 644064, \"Zero\": 0, \"Population\": 35163609, \"Net_Mig_Dom_Exemp\": -166782, \"Rel_Mig_Dom_Exemp\": -0.0063, \"Inmig_Exemp_pct_chg\": 0.0075886753902317805, \"Outmig_Exemp_pct_chg\": 0.06334627595507314}, {\"Year\": 2004, \"Non_Mig\": 26476088, \"Inmig_Exemp\": 523047, \"In_Dom_Exemp\": 472255, \"Outmig_Exemp\": 777522, \"Out_Dom_Exemp\": 742502, \"Zero\": 0, \"Population\": 35570847, \"Net_Mig_Dom_Exemp\": -270247, \"Rel_Mig_Dom_Exemp\": -0.0102, \"Inmig_Exemp_pct_chg\": 0.010248588832141525, \"Outmig_Exemp_pct_chg\": 0.14526228341898628}, {\"Year\": 2005, \"Non_Mig\": 26507063, \"Inmig_Exemp\": 536288, \"In_Dom_Exemp\": 486725, \"Outmig_Exemp\": 836039, \"Out_Dom_Exemp\": 804243, \"Zero\": 0, \"Population\": 35869173, \"Net_Mig_Dom_Exemp\": -317518, \"Rel_Mig_Dom_Exemp\": -0.012, \"Inmig_Exemp_pct_chg\": 0.02531512464463037, \"Outmig_Exemp_pct_chg\": 0.07526089293936367}, {\"Year\": 2006, \"Non_Mig\": 26759630, \"Inmig_Exemp\": 531858, \"In_Dom_Exemp\": 482501, \"Outmig_Exemp\": 790041, \"Out_Dom_Exemp\": 759202, \"Zero\": 0, \"Population\": 36116202, \"Net_Mig_Dom_Exemp\": -276701, \"Rel_Mig_Dom_Exemp\": -0.0103, \"Inmig_Exemp_pct_chg\": 0.008260486902559872, \"Outmig_Exemp_pct_chg\": 0.05501896442630072}, {\"Year\": 2007, \"Non_Mig\": 27732366, \"Inmig_Exemp\": 559826, \"In_Dom_Exemp\": 509583, \"Outmig_Exemp\": 686510, \"Out_Dom_Exemp\": 657174, \"Zero\": 0, \"Population\": 36399676, \"Net_Mig_Dom_Exemp\": -147591, \"Rel_Mig_Dom_Exemp\": -0.0053, \"Inmig_Exemp_pct_chg\": 0.05258546454128732, \"Outmig_Exemp_pct_chg\": 0.13104509765948857}, {\"Year\": 2008, \"Non_Mig\": 28410195, \"Inmig_Exemp\": 540578, \"In_Dom_Exemp\": 494408, \"Outmig_Exemp\": 615793, \"Out_Dom_Exemp\": 586221, \"Zero\": 0, \"Population\": 36704375, \"Net_Mig_Dom_Exemp\": -91813, \"Rel_Mig_Dom_Exemp\": -0.0032, \"Inmig_Exemp_pct_chg\": 0.03438211158467097, \"Outmig_Exemp_pct_chg\": 0.10300942448034256}, {\"Year\": 2009, \"Non_Mig\": 28448182, \"Inmig_Exemp\": 499411, \"In_Dom_Exemp\": 475287, \"Outmig_Exemp\": 558846, \"Out_Dom_Exemp\": 528720, \"Zero\": 0, \"Population\": 36966713, \"Net_Mig_Dom_Exemp\": -53433, \"Rel_Mig_Dom_Exemp\": -0.0019, \"Inmig_Exemp_pct_chg\": 0.07615367255049221, \"Outmig_Exemp_pct_chg\": 0.09247750461599924}, {\"Year\": 2010, \"Non_Mig\": 28690412, \"Inmig_Exemp\": 521730, \"In_Dom_Exemp\": 497837, \"Outmig_Exemp\": 566157, \"Out_Dom_Exemp\": 535709, \"Zero\": 0, \"Population\": 37223900, \"Net_Mig_Dom_Exemp\": -37872, \"Rel_Mig_Dom_Exemp\": -0.0013, \"Inmig_Exemp_pct_chg\": 0.04469064558049385, \"Outmig_Exemp_pct_chg\": 0.013082316058449006}, {\"Year\": 2011, \"Non_Mig\": 30080010, \"Inmig_Exemp\": 595147, \"In_Dom_Exemp\": 568923, \"Outmig_Exemp\": 620020, \"Out_Dom_Exemp\": 585539, \"Zero\": 0, \"Population\": 37594781, \"Net_Mig_Dom_Exemp\": -16616, \"Rel_Mig_Dom_Exemp\": -0.0006, \"Inmig_Exemp_pct_chg\": 0.14071837923830333, \"Outmig_Exemp_pct_chg\": 0.0951379211066894}, {\"Year\": 2012, \"Non_Mig\": 30139423, \"Inmig_Exemp\": 611235, \"In_Dom_Exemp\": 583785, \"Outmig_Exemp\": 671025, \"Out_Dom_Exemp\": 637477, \"Zero\": 0, \"Population\": 37971427, \"Net_Mig_Dom_Exemp\": -53692, \"Rel_Mig_Dom_Exemp\": -0.0018, \"Inmig_Exemp_pct_chg\": 0.027031976973756144, \"Outmig_Exemp_pct_chg\": 0.08226347537176215}, {\"Year\": 2013, \"Non_Mig\": 30251074, \"Inmig_Exemp\": 574638, \"In_Dom_Exemp\": 547767, \"Outmig_Exemp\": 649519, \"Out_Dom_Exemp\": 618181, \"Zero\": 0, \"Population\": 38321459, \"Net_Mig_Dom_Exemp\": -70414, \"Rel_Mig_Dom_Exemp\": -0.0023, \"Inmig_Exemp_pct_chg\": 0.05987386193526223, \"Outmig_Exemp_pct_chg\": 0.03204947654707346}, {\"Year\": 2014, \"Non_Mig\": 30666470, \"Inmig_Exemp\": 433536, \"In_Dom_Exemp\": 406389, \"Outmig_Exemp\": 489155, \"Out_Dom_Exemp\": 460399, \"Zero\": 0, \"Population\": 38622301, \"Net_Mig_Dom_Exemp\": -54010, \"Rel_Mig_Dom_Exemp\": -0.0018, \"Inmig_Exemp_pct_chg\": 0.2455493719524292, \"Outmig_Exemp_pct_chg\": 0.24689654960055052}, {\"Year\": 2015, \"Non_Mig\": 30665600, \"Inmig_Exemp\": 576351, \"In_Dom_Exemp\": 549303, \"Outmig_Exemp\": 694320, \"Out_Dom_Exemp\": 661996, \"Zero\": 0, \"Population\": 38952462, \"Net_Mig_Dom_Exemp\": -112693, \"Rel_Mig_Dom_Exemp\": -0.0037, \"Inmig_Exemp_pct_chg\": 0.3294190101860053, \"Outmig_Exemp_pct_chg\": 0.4194273798693666}, {\"Year\": 2016, \"Non_Mig\": 30323418, \"Inmig_Exemp\": 738692, \"In_Dom_Exemp\": 724426, \"Outmig_Exemp\": 970679, \"Out_Dom_Exemp\": 954708, \"Zero\": 0, \"Population\": 39214803, \"Net_Mig_Dom_Exemp\": -230282, \"Rel_Mig_Dom_Exemp\": -0.0076, \"Inmig_Exemp_pct_chg\": 0.2816703710065567, \"Outmig_Exemp_pct_chg\": 0.39802828666897105}, {\"Year\": 2017, \"Non_Mig\": 30682756, \"Inmig_Exemp\": 568011, \"In_Dom_Exemp\": 553447, \"Outmig_Exemp\": 763116, \"Out_Dom_Exemp\": 750691, \"Zero\": 0, \"Population\": 39504609, \"Net_Mig_Dom_Exemp\": -197244, \"Rel_Mig_Dom_Exemp\": -0.0064, \"Inmig_Exemp_pct_chg\": 0.2310584113541232, \"Outmig_Exemp_pct_chg\": 0.2138327912729131}]}}, {\"mode\": \"vega-lite\"});\n",
       "</script>"
      ],
      "text/plain": [
       "alt.Chart(...)"
      ]
     },
     "execution_count": 302,
     "metadata": {},
     "output_type": "execute_result"
    }
   ],
   "source": [
    "alt.Chart(comb, title='CA Outmig Totals').mark_line(size=5, interpolate='basis').encode(x='Year:O', y='Outmig_Exemp')"
   ]
  },
  {
   "cell_type": "code",
   "execution_count": 303,
   "metadata": {},
   "outputs": [
    {
     "data": {
      "text/html": [
       "\n",
       "<div id=\"altair-viz-51\"></div>\n",
       "<script type=\"text/javascript\">\n",
       "  (function(spec, embedOpt){\n",
       "    const outputDiv = document.getElementById(\"altair-viz-51\");\n",
       "    const paths = {\n",
       "      \"vega\": \"https://cdn.jsdelivr.net/npm//vega@5?noext\",\n",
       "      \"vega-lib\": \"https://cdn.jsdelivr.net/npm//vega-lib?noext\",\n",
       "      \"vega-lite\": \"https://cdn.jsdelivr.net/npm//vega-lite@4.0.0?noext\",\n",
       "      \"vega-embed\": \"https://cdn.jsdelivr.net/npm//vega-embed@6?noext\",\n",
       "    };\n",
       "\n",
       "    function loadScript(lib) {\n",
       "      return new Promise(function(resolve, reject) {\n",
       "        var s = document.createElement('script');\n",
       "        s.src = paths[lib];\n",
       "        s.async = true;\n",
       "        s.onload = () => resolve(paths[lib]);\n",
       "        s.onerror = () => reject(`Error loading script: ${paths[lib]}`);\n",
       "        document.getElementsByTagName(\"head\")[0].appendChild(s);\n",
       "      });\n",
       "    }\n",
       "\n",
       "    function showError(err) {\n",
       "      outputDiv.innerHTML = `<div class=\"error\" style=\"color:red;\">${err}</div>`;\n",
       "      throw err;\n",
       "    }\n",
       "\n",
       "    function displayChart(vegaEmbed) {\n",
       "      vegaEmbed(outputDiv, spec, embedOpt)\n",
       "        .catch(err => showError(`Javascript Error: ${err.message}<br>This usually means there's a typo in your chart specification. See the javascript console for the full traceback.`));\n",
       "    }\n",
       "\n",
       "    if(typeof define === \"function\" && define.amd) {\n",
       "      requirejs.config({paths});\n",
       "      require([\"vega-embed\"], displayChart, err => showError(`Error loading script: ${err.message}`));\n",
       "    } else if (typeof vegaEmbed === \"function\") {\n",
       "      displayChart(vegaEmbed);\n",
       "    } else {\n",
       "      loadScript(\"vega\")\n",
       "        .then(() => loadScript(\"vega-lite\"))\n",
       "        .then(() => loadScript(\"vega-embed\"))\n",
       "        .catch(showError)\n",
       "        .then(() => displayChart(vegaEmbed));\n",
       "    }\n",
       "  })({\"width\": 600, \"height\": 400, \"background\": \"white\", \"config\": {\"title\": {\"fontWeight\": \"normal\", \"fontSize\": 30, \"anchor\": \"start\", \"font\": \"Calibri\", \"offset\": 5}, \"axisX\": {\"grid\": false, \"labelFont\": \"Calibri\", \"labelFontSize\": 16, \"labelAngle\": 0, \"labelPadding\": 10, \"ticks\": false, \"tickSize\": 5, \"title\": null, \"titleFont\": \"Calibri\", \"titleFontSize\": 16, \"titleFontWeight\": \"normal\", \"titleY\": 30, \"titleX\": 280}, \"axisY\": {\"grid\": true, \"gridOpacity\": 1, \"labelFont\": \"Calibri\", \"labelFontSize\": 16, \"labelLimit\": 100, \"labelAlign\": \"left\", \"labelPadding\": 20, \"ticks\": false, \"title\": null, \"titleFont\": \"Calibri\", \"titleFontWeight\": \"normal\", \"titleFontSize\": 17, \"titleAlign\": \"left\", \"titleAngle\": 0, \"titleY\": -20, \"titleX\": -20, \"domainWidth\": 0}, \"view\": {\"strokeOpacity\": 0}}, \"data\": {\"name\": \"data-a4d8485472d8912f8f01dcf73fe3fab1\"}, \"mark\": {\"type\": \"line\", \"interpolate\": \"basis\", \"size\": 5}, \"encoding\": {\"x\": {\"type\": \"ordinal\", \"field\": \"Year\"}, \"y\": {\"type\": \"quantitative\", \"field\": \"Inmig_Exemp\"}}, \"title\": \"CA Inmig Totals\", \"$schema\": \"https://vega.github.io/schema/vega-lite/v4.0.0.json\", \"datasets\": {\"data-a4d8485472d8912f8f01dcf73fe3fab1\": [{\"Year\": 1990, \"Non_Mig\": 23010999, \"Inmig_Exemp\": 575795, \"In_Dom_Exemp\": 510523, \"Outmig_Exemp\": 733500, \"Out_Dom_Exemp\": 683293, \"Zero\": 0, \"Population\": 29558000, \"Net_Mig_Dom_Exemp\": -172770, \"Rel_Mig_Dom_Exemp\": -0.0075, \"Inmig_Exemp_pct_chg\": null, \"Outmig_Exemp_pct_chg\": null}, {\"Year\": 1991, \"Non_Mig\": 23340798, \"Inmig_Exemp\": 555276, \"In_Dom_Exemp\": 480749, \"Outmig_Exemp\": 745198, \"Out_Dom_Exemp\": 700419, \"Zero\": 0, \"Population\": 30143555, \"Net_Mig_Dom_Exemp\": -219670, \"Rel_Mig_Dom_Exemp\": -0.0094, \"Inmig_Exemp_pct_chg\": 0.035635946821351294, \"Outmig_Exemp_pct_chg\": 0.015948193592365323}, {\"Year\": 1992, \"Non_Mig\": 23236233, \"Inmig_Exemp\": 492967, \"In_Dom_Exemp\": 423060, \"Outmig_Exemp\": 872565, \"Out_Dom_Exemp\": 826534, \"Zero\": 0, \"Population\": 30722998, \"Net_Mig_Dom_Exemp\": -403474, \"Rel_Mig_Dom_Exemp\": -0.0174, \"Inmig_Exemp_pct_chg\": 0.11221266541323593, \"Outmig_Exemp_pct_chg\": 0.170916991188919}, {\"Year\": 1993, \"Non_Mig\": 22841596, \"Inmig_Exemp\": 469297, \"In_Dom_Exemp\": 415460, \"Outmig_Exemp\": 920270, \"Out_Dom_Exemp\": 877562, \"Zero\": 0, \"Population\": 31150786, \"Net_Mig_Dom_Exemp\": -462102, \"Rel_Mig_Dom_Exemp\": -0.0202, \"Inmig_Exemp_pct_chg\": 0.04801538439692721, \"Outmig_Exemp_pct_chg\": 0.05467214476858451}, {\"Year\": 1994, \"Non_Mig\": 22414007, \"Inmig_Exemp\": 494971, \"In_Dom_Exemp\": 441403, \"Outmig_Exemp\": 881558, \"Out_Dom_Exemp\": 841521, \"Zero\": 0, \"Population\": 31418940, \"Net_Mig_Dom_Exemp\": -400118, \"Rel_Mig_Dom_Exemp\": -0.0179, \"Inmig_Exemp_pct_chg\": 0.05470736015785316, \"Outmig_Exemp_pct_chg\": 0.042065915437860646}, {\"Year\": 1995, \"Non_Mig\": 22611353, \"Inmig_Exemp\": 502493, \"In_Dom_Exemp\": 454252, \"Outmig_Exemp\": 778525, \"Out_Dom_Exemp\": 740522, \"Zero\": 0, \"Population\": 31617770, \"Net_Mig_Dom_Exemp\": -286270, \"Rel_Mig_Dom_Exemp\": -0.0127, \"Inmig_Exemp_pct_chg\": 0.015196849916459643, \"Outmig_Exemp_pct_chg\": 0.11687603084538967}, {\"Year\": 1996, \"Non_Mig\": 22725592, \"Inmig_Exemp\": 554909, \"In_Dom_Exemp\": 503854, \"Outmig_Exemp\": 702779, \"Out_Dom_Exemp\": 665732, \"Zero\": 0, \"Population\": 31837399, \"Net_Mig_Dom_Exemp\": -161878, \"Rel_Mig_Dom_Exemp\": -0.0071, \"Inmig_Exemp_pct_chg\": 0.10431190086230058, \"Outmig_Exemp_pct_chg\": 0.0972942423172024}, {\"Year\": 1997, \"Non_Mig\": 23236858, \"Inmig_Exemp\": 575775, \"In_Dom_Exemp\": 526168, \"Outmig_Exemp\": 658276, \"Out_Dom_Exemp\": 623164, \"Zero\": 0, \"Population\": 32207869, \"Net_Mig_Dom_Exemp\": -96996, \"Rel_Mig_Dom_Exemp\": -0.0042, \"Inmig_Exemp_pct_chg\": 0.037602561861494355, \"Outmig_Exemp_pct_chg\": 0.06332431674822381}, {\"Year\": 1998, \"Non_Mig\": 24050991, \"Inmig_Exemp\": 563950, \"In_Dom_Exemp\": 513057, \"Outmig_Exemp\": 638682, \"Out_Dom_Exemp\": 603931, \"Zero\": 0, \"Population\": 32657877, \"Net_Mig_Dom_Exemp\": -90874, \"Rel_Mig_Dom_Exemp\": -0.0038, \"Inmig_Exemp_pct_chg\": 0.020537536364031106, \"Outmig_Exemp_pct_chg\": 0.02976563022197376}, {\"Year\": 1999, \"Non_Mig\": 24804140, \"Inmig_Exemp\": 569616, \"In_Dom_Exemp\": 519475, \"Outmig_Exemp\": 642844, \"Out_Dom_Exemp\": 608466, \"Zero\": 0, \"Population\": 33140771, \"Net_Mig_Dom_Exemp\": -88991, \"Rel_Mig_Dom_Exemp\": -0.0036, \"Inmig_Exemp_pct_chg\": 0.010046989981381316, \"Outmig_Exemp_pct_chg\": 0.006516545009879637}, {\"Year\": 2000, \"Non_Mig\": 25247901, \"Inmig_Exemp\": 597959, \"In_Dom_Exemp\": 545166, \"Outmig_Exemp\": 630167, \"Out_Dom_Exemp\": 596651, \"Zero\": 0, \"Population\": 33721583, \"Net_Mig_Dom_Exemp\": -51485, \"Rel_Mig_Dom_Exemp\": -0.002, \"Inmig_Exemp_pct_chg\": 0.04975808263812809, \"Outmig_Exemp_pct_chg\": 0.01972018094592154}, {\"Year\": 2001, \"Non_Mig\": 25671321, \"Inmig_Exemp\": 544126, \"In_Dom_Exemp\": 493798, \"Outmig_Exemp\": 659870, \"Out_Dom_Exemp\": 622808, \"Zero\": 0, \"Population\": 34256789, \"Net_Mig_Dom_Exemp\": -129010, \"Rel_Mig_Dom_Exemp\": -0.005, \"Inmig_Exemp_pct_chg\": 0.0900279116126691, \"Outmig_Exemp_pct_chg\": 0.04713512449874391}, {\"Year\": 2002, \"Non_Mig\": 26122706, \"Inmig_Exemp\": 532504, \"In_Dom_Exemp\": 483346, \"Outmig_Exemp\": 638459, \"Out_Dom_Exemp\": 600171, \"Zero\": 0, \"Population\": 34725516, \"Net_Mig_Dom_Exemp\": -116825, \"Rel_Mig_Dom_Exemp\": -0.0045, \"Inmig_Exemp_pct_chg\": 0.021359023461477666, \"Outmig_Exemp_pct_chg\": 0.032447300225802}, {\"Year\": 2003, \"Non_Mig\": 26305015, \"Inmig_Exemp\": 528463, \"In_Dom_Exemp\": 477282, \"Outmig_Exemp\": 678903, \"Out_Dom_Exemp\": 644064, \"Zero\": 0, \"Population\": 35163609, \"Net_Mig_Dom_Exemp\": -166782, \"Rel_Mig_Dom_Exemp\": -0.0063, \"Inmig_Exemp_pct_chg\": 0.0075886753902317805, \"Outmig_Exemp_pct_chg\": 0.06334627595507314}, {\"Year\": 2004, \"Non_Mig\": 26476088, \"Inmig_Exemp\": 523047, \"In_Dom_Exemp\": 472255, \"Outmig_Exemp\": 777522, \"Out_Dom_Exemp\": 742502, \"Zero\": 0, \"Population\": 35570847, \"Net_Mig_Dom_Exemp\": -270247, \"Rel_Mig_Dom_Exemp\": -0.0102, \"Inmig_Exemp_pct_chg\": 0.010248588832141525, \"Outmig_Exemp_pct_chg\": 0.14526228341898628}, {\"Year\": 2005, \"Non_Mig\": 26507063, \"Inmig_Exemp\": 536288, \"In_Dom_Exemp\": 486725, \"Outmig_Exemp\": 836039, \"Out_Dom_Exemp\": 804243, \"Zero\": 0, \"Population\": 35869173, \"Net_Mig_Dom_Exemp\": -317518, \"Rel_Mig_Dom_Exemp\": -0.012, \"Inmig_Exemp_pct_chg\": 0.02531512464463037, \"Outmig_Exemp_pct_chg\": 0.07526089293936367}, {\"Year\": 2006, \"Non_Mig\": 26759630, \"Inmig_Exemp\": 531858, \"In_Dom_Exemp\": 482501, \"Outmig_Exemp\": 790041, \"Out_Dom_Exemp\": 759202, \"Zero\": 0, \"Population\": 36116202, \"Net_Mig_Dom_Exemp\": -276701, \"Rel_Mig_Dom_Exemp\": -0.0103, \"Inmig_Exemp_pct_chg\": 0.008260486902559872, \"Outmig_Exemp_pct_chg\": 0.05501896442630072}, {\"Year\": 2007, \"Non_Mig\": 27732366, \"Inmig_Exemp\": 559826, \"In_Dom_Exemp\": 509583, \"Outmig_Exemp\": 686510, \"Out_Dom_Exemp\": 657174, \"Zero\": 0, \"Population\": 36399676, \"Net_Mig_Dom_Exemp\": -147591, \"Rel_Mig_Dom_Exemp\": -0.0053, \"Inmig_Exemp_pct_chg\": 0.05258546454128732, \"Outmig_Exemp_pct_chg\": 0.13104509765948857}, {\"Year\": 2008, \"Non_Mig\": 28410195, \"Inmig_Exemp\": 540578, \"In_Dom_Exemp\": 494408, \"Outmig_Exemp\": 615793, \"Out_Dom_Exemp\": 586221, \"Zero\": 0, \"Population\": 36704375, \"Net_Mig_Dom_Exemp\": -91813, \"Rel_Mig_Dom_Exemp\": -0.0032, \"Inmig_Exemp_pct_chg\": 0.03438211158467097, \"Outmig_Exemp_pct_chg\": 0.10300942448034256}, {\"Year\": 2009, \"Non_Mig\": 28448182, \"Inmig_Exemp\": 499411, \"In_Dom_Exemp\": 475287, \"Outmig_Exemp\": 558846, \"Out_Dom_Exemp\": 528720, \"Zero\": 0, \"Population\": 36966713, \"Net_Mig_Dom_Exemp\": -53433, \"Rel_Mig_Dom_Exemp\": -0.0019, \"Inmig_Exemp_pct_chg\": 0.07615367255049221, \"Outmig_Exemp_pct_chg\": 0.09247750461599924}, {\"Year\": 2010, \"Non_Mig\": 28690412, \"Inmig_Exemp\": 521730, \"In_Dom_Exemp\": 497837, \"Outmig_Exemp\": 566157, \"Out_Dom_Exemp\": 535709, \"Zero\": 0, \"Population\": 37223900, \"Net_Mig_Dom_Exemp\": -37872, \"Rel_Mig_Dom_Exemp\": -0.0013, \"Inmig_Exemp_pct_chg\": 0.04469064558049385, \"Outmig_Exemp_pct_chg\": 0.013082316058449006}, {\"Year\": 2011, \"Non_Mig\": 30080010, \"Inmig_Exemp\": 595147, \"In_Dom_Exemp\": 568923, \"Outmig_Exemp\": 620020, \"Out_Dom_Exemp\": 585539, \"Zero\": 0, \"Population\": 37594781, \"Net_Mig_Dom_Exemp\": -16616, \"Rel_Mig_Dom_Exemp\": -0.0006, \"Inmig_Exemp_pct_chg\": 0.14071837923830333, \"Outmig_Exemp_pct_chg\": 0.0951379211066894}, {\"Year\": 2012, \"Non_Mig\": 30139423, \"Inmig_Exemp\": 611235, \"In_Dom_Exemp\": 583785, \"Outmig_Exemp\": 671025, \"Out_Dom_Exemp\": 637477, \"Zero\": 0, \"Population\": 37971427, \"Net_Mig_Dom_Exemp\": -53692, \"Rel_Mig_Dom_Exemp\": -0.0018, \"Inmig_Exemp_pct_chg\": 0.027031976973756144, \"Outmig_Exemp_pct_chg\": 0.08226347537176215}, {\"Year\": 2013, \"Non_Mig\": 30251074, \"Inmig_Exemp\": 574638, \"In_Dom_Exemp\": 547767, \"Outmig_Exemp\": 649519, \"Out_Dom_Exemp\": 618181, \"Zero\": 0, \"Population\": 38321459, \"Net_Mig_Dom_Exemp\": -70414, \"Rel_Mig_Dom_Exemp\": -0.0023, \"Inmig_Exemp_pct_chg\": 0.05987386193526223, \"Outmig_Exemp_pct_chg\": 0.03204947654707346}, {\"Year\": 2014, \"Non_Mig\": 30666470, \"Inmig_Exemp\": 433536, \"In_Dom_Exemp\": 406389, \"Outmig_Exemp\": 489155, \"Out_Dom_Exemp\": 460399, \"Zero\": 0, \"Population\": 38622301, \"Net_Mig_Dom_Exemp\": -54010, \"Rel_Mig_Dom_Exemp\": -0.0018, \"Inmig_Exemp_pct_chg\": 0.2455493719524292, \"Outmig_Exemp_pct_chg\": 0.24689654960055052}, {\"Year\": 2015, \"Non_Mig\": 30665600, \"Inmig_Exemp\": 576351, \"In_Dom_Exemp\": 549303, \"Outmig_Exemp\": 694320, \"Out_Dom_Exemp\": 661996, \"Zero\": 0, \"Population\": 38952462, \"Net_Mig_Dom_Exemp\": -112693, \"Rel_Mig_Dom_Exemp\": -0.0037, \"Inmig_Exemp_pct_chg\": 0.3294190101860053, \"Outmig_Exemp_pct_chg\": 0.4194273798693666}, {\"Year\": 2016, \"Non_Mig\": 30323418, \"Inmig_Exemp\": 738692, \"In_Dom_Exemp\": 724426, \"Outmig_Exemp\": 970679, \"Out_Dom_Exemp\": 954708, \"Zero\": 0, \"Population\": 39214803, \"Net_Mig_Dom_Exemp\": -230282, \"Rel_Mig_Dom_Exemp\": -0.0076, \"Inmig_Exemp_pct_chg\": 0.2816703710065567, \"Outmig_Exemp_pct_chg\": 0.39802828666897105}, {\"Year\": 2017, \"Non_Mig\": 30682756, \"Inmig_Exemp\": 568011, \"In_Dom_Exemp\": 553447, \"Outmig_Exemp\": 763116, \"Out_Dom_Exemp\": 750691, \"Zero\": 0, \"Population\": 39504609, \"Net_Mig_Dom_Exemp\": -197244, \"Rel_Mig_Dom_Exemp\": -0.0064, \"Inmig_Exemp_pct_chg\": 0.2310584113541232, \"Outmig_Exemp_pct_chg\": 0.2138327912729131}]}}, {\"mode\": \"vega-lite\"});\n",
       "</script>"
      ],
      "text/plain": [
       "alt.Chart(...)"
      ]
     },
     "execution_count": 303,
     "metadata": {},
     "output_type": "execute_result"
    }
   ],
   "source": [
    "alt.Chart(comb, title='CA Inmig Totals').mark_line(size=5, interpolate='basis').encode(x='Year:O', y='Inmig_Exemp')"
   ]
  },
  {
   "cell_type": "markdown",
   "metadata": {},
   "source": [
    "#### *Inmig is more stable up to 2008 (no severe peaks/valleys)"
   ]
  },
  {
   "cell_type": "code",
   "execution_count": 215,
   "metadata": {},
   "outputs": [],
   "source": [
    "#comb.to_csv('IRS_CA_mig_9017.csv')\n",
    "comb = pd.read_csv('IRS_CA_mig_9017.csv')"
   ]
  },
  {
   "cell_type": "markdown",
   "metadata": {},
   "source": [
    "\\*Comparing this IRS state mig data w/ IRS county mig data (irs_mig_91to2018.csv) reveals that the ***net*** migration figures are identical (so can use the cleaned county data for comparisons of different states)- the raw inmig & outmig counts are higher because they include migration between counties in the same state"
   ]
  },
  {
   "cell_type": "code",
   "execution_count": 77,
   "metadata": {
    "collapsed": true,
    "jupyter": {
     "outputs_hidden": true,
     "source_hidden": true
    }
   },
   "outputs": [
    {
     "data": {
      "text/html": [
       "\n",
       "<div id=\"altair-viz-23\"></div>\n",
       "<script type=\"text/javascript\">\n",
       "  (function(spec, embedOpt){\n",
       "    const outputDiv = document.getElementById(\"altair-viz-23\");\n",
       "    const paths = {\n",
       "      \"vega\": \"https://cdn.jsdelivr.net/npm//vega@5?noext\",\n",
       "      \"vega-lib\": \"https://cdn.jsdelivr.net/npm//vega-lib?noext\",\n",
       "      \"vega-lite\": \"https://cdn.jsdelivr.net/npm//vega-lite@4.0.0?noext\",\n",
       "      \"vega-embed\": \"https://cdn.jsdelivr.net/npm//vega-embed@6?noext\",\n",
       "    };\n",
       "\n",
       "    function loadScript(lib) {\n",
       "      return new Promise(function(resolve, reject) {\n",
       "        var s = document.createElement('script');\n",
       "        s.src = paths[lib];\n",
       "        s.async = true;\n",
       "        s.onload = () => resolve(paths[lib]);\n",
       "        s.onerror = () => reject(`Error loading script: ${paths[lib]}`);\n",
       "        document.getElementsByTagName(\"head\")[0].appendChild(s);\n",
       "      });\n",
       "    }\n",
       "\n",
       "    function showError(err) {\n",
       "      outputDiv.innerHTML = `<div class=\"error\" style=\"color:red;\">${err}</div>`;\n",
       "      throw err;\n",
       "    }\n",
       "\n",
       "    function displayChart(vegaEmbed) {\n",
       "      vegaEmbed(outputDiv, spec, embedOpt)\n",
       "        .catch(err => showError(`Javascript Error: ${err.message}<br>This usually means there's a typo in your chart specification. See the javascript console for the full traceback.`));\n",
       "    }\n",
       "\n",
       "    if(typeof define === \"function\" && define.amd) {\n",
       "      requirejs.config({paths});\n",
       "      require([\"vega-embed\"], displayChart, err => showError(`Error loading script: ${err.message}`));\n",
       "    } else if (typeof vegaEmbed === \"function\") {\n",
       "      displayChart(vegaEmbed);\n",
       "    } else {\n",
       "      loadScript(\"vega\")\n",
       "        .then(() => loadScript(\"vega-lite\"))\n",
       "        .then(() => loadScript(\"vega-embed\"))\n",
       "        .catch(showError)\n",
       "        .then(() => displayChart(vegaEmbed));\n",
       "    }\n",
       "  })({\"width\": 600, \"height\": 400, \"background\": \"white\", \"config\": {\"title\": {\"fontWeight\": \"normal\", \"fontSize\": 30, \"anchor\": \"start\", \"font\": \"Calibri\", \"offset\": 5}, \"axisX\": {\"grid\": false, \"labelFont\": \"Calibri\", \"labelFontSize\": 16, \"labelAngle\": 0, \"labelPadding\": 10, \"ticks\": false, \"tickSize\": 5, \"title\": null, \"titleFont\": \"Calibri\", \"titleFontSize\": 16, \"titleFontWeight\": \"normal\", \"titleY\": 30, \"titleX\": 280}, \"axisY\": {\"grid\": true, \"gridOpacity\": 1, \"labelFont\": \"Calibri\", \"labelFontSize\": 16, \"labelLimit\": 100, \"labelAlign\": \"left\", \"labelPadding\": 20, \"ticks\": false, \"title\": null, \"titleFont\": \"Calibri\", \"titleFontWeight\": \"normal\", \"titleFontSize\": 17, \"titleAlign\": \"left\", \"titleAngle\": 0, \"titleY\": -20, \"titleX\": -20, \"domainWidth\": 0}, \"view\": {\"strokeOpacity\": 0}}, \"layer\": [{\"data\": {\"name\": \"data-3321450e774edc2c5106cb44dec90daf\"}, \"mark\": {\"type\": \"line\", \"size\": 5, \"strokeCap\": \"round\"}, \"encoding\": {\"x\": {\"type\": \"ordinal\", \"axis\": {\"values\": [1992, 1996, 2000, 2004, 2008, 2012, 2016]}, \"field\": \"Year\"}, \"y\": {\"type\": \"quantitative\", \"axis\": {\"format\": \"%\", \"labelPadding\": 40}, \"field\": \"Rel_Mig_Exemptions\"}}}, {\"data\": {\"name\": \"data-31cd386a93a23eef476b0ef00763fc2f\"}, \"mark\": {\"type\": \"line\", \"color\": \"red\", \"interpolate\": \"basis\", \"size\": 5, \"strokeCap\": \"round\"}, \"encoding\": {\"x\": {\"type\": \"ordinal\", \"axis\": {\"values\": [1992, 1996, 2000, 2004, 2008, 2012, 2016]}, \"field\": \"Year\"}, \"y\": {\"type\": \"quantitative\", \"axis\": {\"format\": \"%\", \"labelPadding\": 40}, \"field\": \"Rel_Mig_Exemptions\"}}}, {\"data\": {\"name\": \"data-0411f0d93a30790b01e9c9111963f823\"}, \"mark\": {\"type\": \"line\", \"size\": 5, \"strokeCap\": \"round\"}, \"encoding\": {\"x\": {\"type\": \"ordinal\", \"axis\": {\"values\": [1992, 1996, 2000, 2004, 2008, 2012, 2016]}, \"field\": \"Year\"}, \"y\": {\"type\": \"quantitative\", \"axis\": {\"format\": \"%\", \"labelPadding\": 40}, \"field\": \"Rel_Mig_Exemptions\"}}}, {\"data\": {\"name\": \"data-06fd9f850666401b4599de5588b60692\"}, \"mark\": {\"type\": \"rule\", \"color\": \"gray\", \"strokeCap\": \"round\"}, \"encoding\": {\"y\": {\"type\": \"quantitative\", \"field\": \"y\"}}}], \"$schema\": \"https://vega.github.io/schema/vega-lite/v4.0.0.json\", \"datasets\": {\"data-3321450e774edc2c5106cb44dec90daf\": [{\"Year\": 1990, \"Returns\": 10211835, \"Exemptions\": 23010999, \"Inmig_Returns\": 245535, \"Inmig_Exempt\": 575795, \"Outmig_Returns\": 277327, \"Outmig_Exempt\": 733500, \"Net_Mig_Exemptions\": -157705, \"Rel_Mig_Exemptions\": -0.0053, \"Zero\": 0, \"Population\": 29558000}, {\"Year\": 1991, \"Returns\": 10337480, \"Exemptions\": 23340798, \"Inmig_Returns\": 236007, \"Inmig_Exempt\": 555276, \"Outmig_Returns\": 281887, \"Outmig_Exempt\": 745198, \"Net_Mig_Exemptions\": -189922, \"Rel_Mig_Exemptions\": -0.0063, \"Zero\": 0, \"Population\": 30143555}, {\"Year\": 1992, \"Returns\": 10211198, \"Exemptions\": 23236233, \"Inmig_Returns\": 205155, \"Inmig_Exempt\": 492967, \"Outmig_Returns\": 315822, \"Outmig_Exempt\": 872565, \"Net_Mig_Exemptions\": -379598, \"Rel_Mig_Exemptions\": -0.0124, \"Zero\": 0, \"Population\": 30722998}, {\"Year\": 1993, \"Returns\": 10012232, \"Exemptions\": 22841596, \"Inmig_Returns\": 189073, \"Inmig_Exempt\": 469297, \"Outmig_Returns\": 320472, \"Outmig_Exempt\": 920270, \"Net_Mig_Exemptions\": -450973, \"Rel_Mig_Exemptions\": -0.0145, \"Zero\": 0, \"Population\": 31150786}, {\"Year\": 1994, \"Returns\": 9915747, \"Exemptions\": 22414007, \"Inmig_Returns\": 198917, \"Inmig_Exempt\": 494971, \"Outmig_Returns\": 302694, \"Outmig_Exempt\": 881558, \"Net_Mig_Exemptions\": -386587, \"Rel_Mig_Exemptions\": -0.0123, \"Zero\": 0, \"Population\": 31418940}, {\"Year\": 1995, \"Returns\": 10025767, \"Exemptions\": 22611353, \"Inmig_Returns\": 203317, \"Inmig_Exempt\": 502493, \"Outmig_Returns\": 269836, \"Outmig_Exempt\": 778525, \"Net_Mig_Exemptions\": -276033, \"Rel_Mig_Exemptions\": -0.0087, \"Zero\": 0, \"Population\": 31617770}, {\"Year\": 1996, \"Returns\": 10179399, \"Exemptions\": 22725592, \"Inmig_Returns\": 228764, \"Inmig_Exempt\": 554909, \"Outmig_Returns\": 247534, \"Outmig_Exempt\": 702779, \"Net_Mig_Exemptions\": -147870, \"Rel_Mig_Exemptions\": -0.0046, \"Zero\": 0, \"Population\": 31837399}, {\"Year\": 1997, \"Returns\": 10427660, \"Exemptions\": 23236858, \"Inmig_Returns\": 239369, \"Inmig_Exempt\": 575775, \"Outmig_Returns\": 238682, \"Outmig_Exempt\": 658276, \"Net_Mig_Exemptions\": -82500, \"Rel_Mig_Exemptions\": -0.0026, \"Zero\": 0, \"Population\": 32207869}], \"data-31cd386a93a23eef476b0ef00763fc2f\": [{\"Year\": 1997, \"Returns\": 10427660, \"Exemptions\": 23236858, \"Inmig_Returns\": 239369, \"Inmig_Exempt\": 575775, \"Outmig_Returns\": 238682, \"Outmig_Exempt\": 658276, \"Net_Mig_Exemptions\": -82500, \"Rel_Mig_Exemptions\": -0.0026, \"Zero\": 0, \"Population\": 32207869}, {\"Year\": 1998, \"Returns\": 10789034, \"Exemptions\": 24050991, \"Inmig_Returns\": 241352, \"Inmig_Exempt\": 563950, \"Outmig_Returns\": 240877, \"Outmig_Exempt\": 638682, \"Net_Mig_Exemptions\": -74731, \"Rel_Mig_Exemptions\": -0.0023, \"Zero\": 0, \"Population\": 32657877}, {\"Year\": 1999, \"Returns\": 11120947, \"Exemptions\": 24804140, \"Inmig_Returns\": 251035, \"Inmig_Exempt\": 569616, \"Outmig_Returns\": 246887, \"Outmig_Exempt\": 642844, \"Net_Mig_Exemptions\": -73228, \"Rel_Mig_Exemptions\": -0.0022, \"Zero\": 0, \"Population\": 33140771}, {\"Year\": 2000, \"Returns\": 11336742, \"Exemptions\": 25247901, \"Inmig_Returns\": 265793, \"Inmig_Exempt\": 597959, \"Outmig_Returns\": 245677, \"Outmig_Exempt\": 630167, \"Net_Mig_Exemptions\": -32207, \"Rel_Mig_Exemptions\": -0.001, \"Zero\": 0, \"Population\": 33721583}, {\"Year\": 2001, \"Returns\": 11531921, \"Exemptions\": 25671321, \"Inmig_Returns\": 240139, \"Inmig_Exempt\": 544126, \"Outmig_Returns\": 260174, \"Outmig_Exempt\": 659870, \"Net_Mig_Exemptions\": -115744, \"Rel_Mig_Exemptions\": -0.0034, \"Zero\": 0, \"Population\": 34256789}], \"data-0411f0d93a30790b01e9c9111963f823\": [{\"Year\": 2001, \"Returns\": 11531921, \"Exemptions\": 25671321, \"Inmig_Returns\": 240139, \"Inmig_Exempt\": 544126, \"Outmig_Returns\": 260174, \"Outmig_Exempt\": 659870, \"Net_Mig_Exemptions\": -115744, \"Rel_Mig_Exemptions\": -0.0034, \"Zero\": 0, \"Population\": 34256789}, {\"Year\": 2002, \"Returns\": 11641931, \"Exemptions\": 26122706, \"Inmig_Returns\": 233121, \"Inmig_Exempt\": 532504, \"Outmig_Returns\": 252674, \"Outmig_Exempt\": 638459, \"Net_Mig_Exemptions\": -105955, \"Rel_Mig_Exemptions\": -0.0031, \"Zero\": 0, \"Population\": 34725516}, {\"Year\": 2003, \"Returns\": 11652738, \"Exemptions\": 26305015, \"Inmig_Returns\": 230865, \"Inmig_Exempt\": 528463, \"Outmig_Returns\": 261740, \"Outmig_Exempt\": 678903, \"Net_Mig_Exemptions\": -150439, \"Rel_Mig_Exemptions\": -0.0043, \"Zero\": 0, \"Population\": 35163609}, {\"Year\": 2004, \"Returns\": 11703701, \"Exemptions\": 26476088, \"Inmig_Returns\": 229348, \"Inmig_Exempt\": 523047, \"Outmig_Returns\": 289992, \"Outmig_Exempt\": 777522, \"Net_Mig_Exemptions\": -254475, \"Rel_Mig_Exemptions\": -0.0072, \"Zero\": 0, \"Population\": 35570847}, {\"Year\": 2005, \"Returns\": 11745599, \"Exemptions\": 26507063, \"Inmig_Returns\": 235690, \"Inmig_Exempt\": 536288, \"Outmig_Returns\": 302665, \"Outmig_Exempt\": 836039, \"Net_Mig_Exemptions\": -299751, \"Rel_Mig_Exemptions\": -0.0084, \"Zero\": 0, \"Population\": 35869173}, {\"Year\": 2006, \"Returns\": 11906514, \"Exemptions\": 26759630, \"Inmig_Returns\": 234018, \"Inmig_Exempt\": 531858, \"Outmig_Returns\": 289096, \"Outmig_Exempt\": 790041, \"Net_Mig_Exemptions\": -258183, \"Rel_Mig_Exemptions\": -0.0071, \"Zero\": 0, \"Population\": 36116202}, {\"Year\": 2007, \"Returns\": 12434953, \"Exemptions\": 27732366, \"Inmig_Returns\": 251841, \"Inmig_Exempt\": 559826, \"Outmig_Returns\": 271521, \"Outmig_Exempt\": 686510, \"Net_Mig_Exemptions\": -126684, \"Rel_Mig_Exemptions\": -0.0035, \"Zero\": 0, \"Population\": 36399676}, {\"Year\": 2008, \"Returns\": 12707337, \"Exemptions\": 28410195, \"Inmig_Returns\": 243360, \"Inmig_Exempt\": 540578, \"Outmig_Returns\": 252516, \"Outmig_Exempt\": 615793, \"Net_Mig_Exemptions\": -75216, \"Rel_Mig_Exemptions\": -0.002, \"Zero\": 0, \"Population\": 36704375}, {\"Year\": 2009, \"Returns\": 12588517, \"Exemptions\": 28448182, \"Inmig_Returns\": 214495, \"Inmig_Exempt\": 499411, \"Outmig_Returns\": 231291, \"Outmig_Exempt\": 558846, \"Net_Mig_Exemptions\": -59435, \"Rel_Mig_Exemptions\": -0.0016, \"Zero\": 0, \"Population\": 36966713}, {\"Year\": 2010, \"Returns\": 12600855, \"Exemptions\": 28690412, \"Inmig_Returns\": 224532, \"Inmig_Exempt\": 521730, \"Outmig_Returns\": 236494, \"Outmig_Exempt\": 566157, \"Net_Mig_Exemptions\": -44427, \"Rel_Mig_Exemptions\": -0.0012, \"Zero\": 0, \"Population\": 37223900}, {\"Year\": 2011, \"Returns\": 13084530, \"Exemptions\": 30080010, \"Inmig_Returns\": 264729, \"Inmig_Exempt\": 595147, \"Outmig_Returns\": 266673, \"Outmig_Exempt\": 620020, \"Net_Mig_Exemptions\": -24873, \"Rel_Mig_Exemptions\": -0.0007, \"Zero\": 0, \"Population\": 37594781}, {\"Year\": 2012, \"Returns\": 13148643, \"Exemptions\": 30139423, \"Inmig_Returns\": 268149, \"Inmig_Exempt\": 611235, \"Outmig_Returns\": 280002, \"Outmig_Exempt\": 671025, \"Net_Mig_Exemptions\": -59790, \"Rel_Mig_Exemptions\": -0.0016, \"Zero\": 0, \"Population\": 37971427}, {\"Year\": 2013, \"Returns\": 13289353, \"Exemptions\": 30251074, \"Inmig_Returns\": 252717, \"Inmig_Exempt\": 574638, \"Outmig_Returns\": 268472, \"Outmig_Exempt\": 649519, \"Net_Mig_Exemptions\": -74881, \"Rel_Mig_Exemptions\": -0.002, \"Zero\": 0, \"Population\": 38321459}, {\"Year\": 2014, \"Returns\": 13658090, \"Exemptions\": 30666470, \"Inmig_Returns\": 200999, \"Inmig_Exempt\": 433536, \"Outmig_Returns\": 212337, \"Outmig_Exempt\": 489155, \"Net_Mig_Exemptions\": -55619, \"Rel_Mig_Exemptions\": -0.0014, \"Zero\": 0, \"Population\": 38622301}, {\"Year\": 2015, \"Returns\": 13795079, \"Exemptions\": 30665600, \"Inmig_Returns\": 260471, \"Inmig_Exempt\": 576351, \"Outmig_Returns\": 288918, \"Outmig_Exempt\": 694320, \"Net_Mig_Exemptions\": -117969, \"Rel_Mig_Exemptions\": -0.003, \"Zero\": 0, \"Population\": 38952462}, {\"Year\": 2016, \"Returns\": 13811052, \"Exemptions\": 30323418, \"Inmig_Returns\": 327447, \"Inmig_Exempt\": 738692, \"Outmig_Returns\": 392786, \"Outmig_Exempt\": 970679, \"Net_Mig_Exemptions\": -231988, \"Rel_Mig_Exemptions\": -0.0059, \"Zero\": 0, \"Population\": 39214803}, {\"Year\": 2017, \"Returns\": 14159070, \"Exemptions\": 30682756, \"Inmig_Returns\": 261617, \"Inmig_Exempt\": 568011, \"Outmig_Returns\": 322169, \"Outmig_Exempt\": 763116, \"Net_Mig_Exemptions\": -195105, \"Rel_Mig_Exemptions\": -0.0049, \"Zero\": 0, \"Population\": 39504609}], \"data-06fd9f850666401b4599de5588b60692\": [{\"y\": 0}]}}, {\"mode\": \"vega-lite\"});\n",
       "</script>"
      ],
      "text/plain": [
       "alt.LayerChart(...)"
      ]
     },
     "execution_count": 77,
     "metadata": {},
     "output_type": "execute_result"
    }
   ],
   "source": [
    "one = alt.Chart(comb[comb.Year < 1998]\n",
    "                 ).mark_line(size=5, strokeCap='round'\n",
    "                            ).encode(x=alt.X('Year:O', axis=alt.Axis(values=list(range(1992,2018,4)))), \n",
    "                                     y=alt.Y('Rel_Mig_Exemptions', axis=alt.Axis(format='%', labelPadding=40)))\n",
    "\n",
    "two = alt.Chart(comb[comb.Year.isin([1997,1998,1999,2000,2001])]\n",
    "                 ).mark_line(color='red', size=5, strokeCap='round', interpolate='basis'\n",
    "                            ).encode(x=alt.X('Year:O', axis=alt.Axis(values=list(range(1992,2018,4)))), \n",
    "                                     y=alt.Y('Rel_Mig_Exemptions', axis=alt.Axis(format='%', labelPadding=40)))\n",
    "\n",
    "three = alt.Chart(comb[comb.Year > 2000]\n",
    "                 ).mark_line(size=5, strokeCap='round'\n",
    "                            ).encode(x=alt.X('Year:O', axis=alt.Axis(values=list(range(1992,2018,4)))), \n",
    "                                     y=alt.Y('Rel_Mig_Exemptions', axis=alt.Axis(format='%', labelPadding=40)))\n",
    "\n",
    "horizontal = alt.Chart(pd.DataFrame({'y':[0]})).mark_rule(strokeCap='round', color='gray').encode(y='y')\n",
    "\n",
    "one + two + three + horizontal"
   ]
  },
  {
   "cell_type": "code",
   "execution_count": null,
   "metadata": {},
   "outputs": [],
   "source": [
    "#title='With the exception of 1997-2000, California has experienced net negative domestic migration every year',\n",
    "#title='*Note: Total CA population has steadily increased due to high annual birth rates', "
   ]
  },
  {
   "cell_type": "code",
   "execution_count": 360,
   "metadata": {},
   "outputs": [],
   "source": [
    "%run chart_theme.py"
   ]
  },
  {
   "cell_type": "code",
   "execution_count": 275,
   "metadata": {},
   "outputs": [
    {
     "data": {
      "text/html": [
       "\n",
       "<div id=\"altair-viz-36\"></div>\n",
       "<script type=\"text/javascript\">\n",
       "  (function(spec, embedOpt){\n",
       "    const outputDiv = document.getElementById(\"altair-viz-36\");\n",
       "    const paths = {\n",
       "      \"vega\": \"https://cdn.jsdelivr.net/npm//vega@5?noext\",\n",
       "      \"vega-lib\": \"https://cdn.jsdelivr.net/npm//vega-lib?noext\",\n",
       "      \"vega-lite\": \"https://cdn.jsdelivr.net/npm//vega-lite@4.0.0?noext\",\n",
       "      \"vega-embed\": \"https://cdn.jsdelivr.net/npm//vega-embed@6?noext\",\n",
       "    };\n",
       "\n",
       "    function loadScript(lib) {\n",
       "      return new Promise(function(resolve, reject) {\n",
       "        var s = document.createElement('script');\n",
       "        s.src = paths[lib];\n",
       "        s.async = true;\n",
       "        s.onload = () => resolve(paths[lib]);\n",
       "        s.onerror = () => reject(`Error loading script: ${paths[lib]}`);\n",
       "        document.getElementsByTagName(\"head\")[0].appendChild(s);\n",
       "      });\n",
       "    }\n",
       "\n",
       "    function showError(err) {\n",
       "      outputDiv.innerHTML = `<div class=\"error\" style=\"color:red;\">${err}</div>`;\n",
       "      throw err;\n",
       "    }\n",
       "\n",
       "    function displayChart(vegaEmbed) {\n",
       "      vegaEmbed(outputDiv, spec, embedOpt)\n",
       "        .catch(err => showError(`Javascript Error: ${err.message}<br>This usually means there's a typo in your chart specification. See the javascript console for the full traceback.`));\n",
       "    }\n",
       "\n",
       "    if(typeof define === \"function\" && define.amd) {\n",
       "      requirejs.config({paths});\n",
       "      require([\"vega-embed\"], displayChart, err => showError(`Error loading script: ${err.message}`));\n",
       "    } else if (typeof vegaEmbed === \"function\") {\n",
       "      displayChart(vegaEmbed);\n",
       "    } else {\n",
       "      loadScript(\"vega\")\n",
       "        .then(() => loadScript(\"vega-lite\"))\n",
       "        .then(() => loadScript(\"vega-embed\"))\n",
       "        .catch(showError)\n",
       "        .then(() => displayChart(vegaEmbed));\n",
       "    }\n",
       "  })({\"width\": 600, \"height\": 500, \"background\": \"white\", \"config\": {\"title\": {\"fontWeight\": \"normal\", \"fontSize\": 30, \"anchor\": \"start\", \"font\": \"Calibri\", \"offset\": 5}, \"axisX\": {\"grid\": false, \"labelFont\": \"Calibri\", \"labelFontSize\": 16, \"labelAngle\": 0, \"labelPadding\": 10, \"ticks\": false, \"tickSize\": 5, \"title\": null, \"titleFont\": \"Calibri\", \"titleFontSize\": 16, \"titleFontWeight\": \"normal\", \"titleY\": 30, \"titleX\": 280}, \"axisY\": {\"grid\": true, \"gridOpacity\": 1, \"labelFont\": \"Calibri\", \"labelFontSize\": 16, \"labelLimit\": 100, \"labelAlign\": \"left\", \"labelPadding\": 20, \"ticks\": false, \"title\": null, \"titleFont\": \"Calibri\", \"titleFontWeight\": \"normal\", \"titleFontSize\": 17, \"titleAlign\": \"left\", \"titleAngle\": 0, \"titleY\": -20, \"titleX\": -20, \"domainWidth\": 0}, \"view\": {\"strokeOpacity\": 0}}, \"layer\": [{\"mark\": {\"type\": \"area\", \"color\": \"lightgray\", \"interpolate\": \"basis\", \"opacity\": 0.3}, \"encoding\": {\"x\": {\"type\": \"ordinal\", \"field\": \"Year\"}, \"y\": {\"type\": \"quantitative\", \"field\": \"Net_Mig_Dom_Exemp\"}, \"y2\": {\"field\": \"Zero\"}}}, {\"mark\": {\"type\": \"line\", \"color\": \"#006aac\", \"interpolate\": \"basis\", \"size\": 5, \"strokeCap\": \"round\"}, \"encoding\": {\"x\": {\"type\": \"ordinal\", \"axis\": {\"labelFontSize\": 22, \"labelOpacity\": 0.8, \"values\": [1990, 2000, 2010, 2017]}, \"field\": \"Year\"}, \"y\": {\"type\": \"quantitative\", \"axis\": {\"format\": \"~s\", \"labelFontSize\": 22, \"labelOpacity\": 0.8, \"labelPadding\": 50, \"titleFontSize\": 24, \"titleOpacity\": 0.8, \"titleX\": -50, \"titleY\": -50, \"values\": [0, -100000, -200000, -300000]}, \"field\": \"Net_Mig_Dom_Exemp\", \"scale\": {\"domain\": [-360000, 0]}, \"title\": \"Every year since 1990 more Californians moved out than residents\"}}, \"title\": \"California Net Domestic Migration\"}, {\"data\": {\"name\": \"data-fe328e0a10bd2971ba465f8ea6256c2f\"}, \"mark\": {\"type\": \"text\", \"font\": \"calibri\", \"fontWeight\": \"bold\", \"opacity\": 0.8, \"size\": 22}, \"encoding\": {\"text\": {\"type\": \"nominal\", \"field\": \"text\"}, \"x\": {\"type\": \"ordinal\", \"field\": \"x\"}, \"y\": {\"type\": \"quantitative\", \"field\": \"y\"}}}, {\"data\": {\"name\": \"data-a9edbe1654f63bdf4c32b48463792edd\"}, \"mark\": {\"type\": \"text\", \"dx\": -6, \"font\": \"calibri\", \"opacity\": 0.9, \"size\": 24}, \"encoding\": {\"text\": {\"type\": \"nominal\", \"field\": \"text\"}, \"x\": {\"type\": \"ordinal\", \"field\": \"x\"}, \"y\": {\"type\": \"quantitative\", \"field\": \"y\"}}}], \"data\": {\"name\": \"data-7b9280972293afcffcd6cd4a66e39112\"}, \"$schema\": \"https://vega.github.io/schema/vega-lite/v4.0.0.json\", \"datasets\": {\"data-7b9280972293afcffcd6cd4a66e39112\": [{\"Year\": 1990, \"Non_Mig\": 23010999, \"Inmig_Exemp\": 575795, \"In_Dom_Exemp\": 397444, \"Outmig_Exemp\": 733500, \"Out_Dom_Exemp\": 531946, \"Zero\": 0, \"Population\": 29558000, \"Net_Mig_Dom_Exemp\": -134502, \"Rel_Mig_Dom_Exemp\": -0.0058, \"Inmig_Exemp_pct_chg\": null, \"Outmig_Exemp_pct_chg\": null}, {\"Year\": 1991, \"Non_Mig\": 23340798, \"Inmig_Exemp\": 555276, \"In_Dom_Exemp\": 372254, \"Outmig_Exemp\": 745198, \"Out_Dom_Exemp\": 542349, \"Zero\": 0, \"Population\": 30143555, \"Net_Mig_Dom_Exemp\": -170095, \"Rel_Mig_Dom_Exemp\": -0.0073, \"Inmig_Exemp_pct_chg\": 0.035635946821351294, \"Outmig_Exemp_pct_chg\": 0.015948193592365323}, {\"Year\": 1992, \"Non_Mig\": 23236233, \"Inmig_Exemp\": 492967, \"In_Dom_Exemp\": 319966, \"Outmig_Exemp\": 872565, \"Out_Dom_Exemp\": 625119, \"Zero\": 0, \"Population\": 30722998, \"Net_Mig_Dom_Exemp\": -305153, \"Rel_Mig_Dom_Exemp\": -0.0131, \"Inmig_Exemp_pct_chg\": 0.11221266541323593, \"Outmig_Exemp_pct_chg\": 0.170916991188919}, {\"Year\": 1993, \"Non_Mig\": 22841596, \"Inmig_Exemp\": 469297, \"In_Dom_Exemp\": 304640, \"Outmig_Exemp\": 920270, \"Out_Dom_Exemp\": 643480, \"Zero\": 0, \"Population\": 31150786, \"Net_Mig_Dom_Exemp\": -338840, \"Rel_Mig_Dom_Exemp\": -0.0148, \"Inmig_Exemp_pct_chg\": 0.04801538439692721, \"Outmig_Exemp_pct_chg\": 0.05467214476858451}, {\"Year\": 1994, \"Non_Mig\": 22414007, \"Inmig_Exemp\": 494971, \"In_Dom_Exemp\": 314893, \"Outmig_Exemp\": 881558, \"Out_Dom_Exemp\": 600334, \"Zero\": 0, \"Population\": 31418940, \"Net_Mig_Dom_Exemp\": -285441, \"Rel_Mig_Dom_Exemp\": -0.0127, \"Inmig_Exemp_pct_chg\": 0.05470736015785316, \"Outmig_Exemp_pct_chg\": 0.042065915437860646}, {\"Year\": 1995, \"Non_Mig\": 22611353, \"Inmig_Exemp\": 502493, \"In_Dom_Exemp\": 324857, \"Outmig_Exemp\": 778525, \"Out_Dom_Exemp\": 529582, \"Zero\": 0, \"Population\": 31617770, \"Net_Mig_Dom_Exemp\": -204725, \"Rel_Mig_Dom_Exemp\": -0.0091, \"Inmig_Exemp_pct_chg\": 0.015196849916459643, \"Outmig_Exemp_pct_chg\": 0.11687603084538967}, {\"Year\": 1996, \"Non_Mig\": 22725592, \"Inmig_Exemp\": 554909, \"In_Dom_Exemp\": 359652, \"Outmig_Exemp\": 702779, \"Out_Dom_Exemp\": 475201, \"Zero\": 0, \"Population\": 31837399, \"Net_Mig_Dom_Exemp\": -115549, \"Rel_Mig_Dom_Exemp\": -0.0051, \"Inmig_Exemp_pct_chg\": 0.10431190086230058, \"Outmig_Exemp_pct_chg\": 0.0972942423172024}, {\"Year\": 1997, \"Non_Mig\": 23236858, \"Inmig_Exemp\": 575775, \"In_Dom_Exemp\": 379612, \"Outmig_Exemp\": 658276, \"Out_Dom_Exemp\": 449591, \"Zero\": 0, \"Population\": 32207869, \"Net_Mig_Dom_Exemp\": -69979, \"Rel_Mig_Dom_Exemp\": -0.003, \"Inmig_Exemp_pct_chg\": 0.037602561861494355, \"Outmig_Exemp_pct_chg\": 0.06332431674822381}, {\"Year\": 1998, \"Non_Mig\": 24050991, \"Inmig_Exemp\": 563950, \"In_Dom_Exemp\": 377842, \"Outmig_Exemp\": 638682, \"Out_Dom_Exemp\": 444767, \"Zero\": 0, \"Population\": 32657877, \"Net_Mig_Dom_Exemp\": -66925, \"Rel_Mig_Dom_Exemp\": -0.0028, \"Inmig_Exemp_pct_chg\": 0.020537536364031106, \"Outmig_Exemp_pct_chg\": 0.02976563022197376}, {\"Year\": 1999, \"Non_Mig\": 24804140, \"Inmig_Exemp\": 569616, \"In_Dom_Exemp\": 388800, \"Outmig_Exemp\": 642844, \"Out_Dom_Exemp\": 455405, \"Zero\": 0, \"Population\": 33140771, \"Net_Mig_Dom_Exemp\": -66605, \"Rel_Mig_Dom_Exemp\": -0.0027, \"Inmig_Exemp_pct_chg\": 0.010046989981381316, \"Outmig_Exemp_pct_chg\": 0.006516545009879637}, {\"Year\": 2000, \"Non_Mig\": 25247901, \"Inmig_Exemp\": 597959, \"In_Dom_Exemp\": 408175, \"Outmig_Exemp\": 630167, \"Out_Dom_Exemp\": 446722, \"Zero\": 0, \"Population\": 33721583, \"Net_Mig_Dom_Exemp\": -38547, \"Rel_Mig_Dom_Exemp\": -0.0015, \"Inmig_Exemp_pct_chg\": 0.04975808263812809, \"Outmig_Exemp_pct_chg\": 0.01972018094592154}, {\"Year\": 2001, \"Non_Mig\": 25671321, \"Inmig_Exemp\": 544126, \"In_Dom_Exemp\": 370042, \"Outmig_Exemp\": 659870, \"Out_Dom_Exemp\": 466719, \"Zero\": 0, \"Population\": 34256789, \"Net_Mig_Dom_Exemp\": -96677, \"Rel_Mig_Dom_Exemp\": -0.0038, \"Inmig_Exemp_pct_chg\": 0.0900279116126691, \"Outmig_Exemp_pct_chg\": 0.04713512449874391}, {\"Year\": 2002, \"Non_Mig\": 26122706, \"Inmig_Exemp\": 532504, \"In_Dom_Exemp\": 363603, \"Outmig_Exemp\": 638459, \"Out_Dom_Exemp\": 451486, \"Zero\": 0, \"Population\": 34725516, \"Net_Mig_Dom_Exemp\": -87883, \"Rel_Mig_Dom_Exemp\": -0.0034, \"Inmig_Exemp_pct_chg\": 0.021359023461477666, \"Outmig_Exemp_pct_chg\": 0.032447300225802}, {\"Year\": 2003, \"Non_Mig\": 26305015, \"Inmig_Exemp\": 528463, \"In_Dom_Exemp\": 357043, \"Outmig_Exemp\": 678903, \"Out_Dom_Exemp\": 481808, \"Zero\": 0, \"Population\": 35163609, \"Net_Mig_Dom_Exemp\": -124765, \"Rel_Mig_Dom_Exemp\": -0.0047, \"Inmig_Exemp_pct_chg\": 0.0075886753902317805, \"Outmig_Exemp_pct_chg\": 0.06334627595507314}, {\"Year\": 2004, \"Non_Mig\": 26476088, \"Inmig_Exemp\": 523047, \"In_Dom_Exemp\": 351509, \"Outmig_Exemp\": 777522, \"Out_Dom_Exemp\": 552659, \"Zero\": 0, \"Population\": 35570847, \"Net_Mig_Dom_Exemp\": -201150, \"Rel_Mig_Dom_Exemp\": -0.0076, \"Inmig_Exemp_pct_chg\": 0.010248588832141525, \"Outmig_Exemp_pct_chg\": 0.14526228341898628}, {\"Year\": 2005, \"Non_Mig\": 26507063, \"Inmig_Exemp\": 536288, \"In_Dom_Exemp\": 359686, \"Outmig_Exemp\": 836039, \"Out_Dom_Exemp\": 594330, \"Zero\": 0, \"Population\": 35869173, \"Net_Mig_Dom_Exemp\": -234644, \"Rel_Mig_Dom_Exemp\": -0.0089, \"Inmig_Exemp_pct_chg\": 0.02531512464463037, \"Outmig_Exemp_pct_chg\": 0.07526089293936367}, {\"Year\": 2006, \"Non_Mig\": 26759630, \"Inmig_Exemp\": 531858, \"In_Dom_Exemp\": 357500, \"Outmig_Exemp\": 790041, \"Out_Dom_Exemp\": 562517, \"Zero\": 0, \"Population\": 36116202, \"Net_Mig_Dom_Exemp\": -205017, \"Rel_Mig_Dom_Exemp\": -0.0077, \"Inmig_Exemp_pct_chg\": 0.008260486902559872, \"Outmig_Exemp_pct_chg\": 0.05501896442630072}, {\"Year\": 2007, \"Non_Mig\": 27732366, \"Inmig_Exemp\": 559826, \"In_Dom_Exemp\": 388244, \"Outmig_Exemp\": 686510, \"Out_Dom_Exemp\": 500691, \"Zero\": 0, \"Population\": 36399676, \"Net_Mig_Dom_Exemp\": -112447, \"Rel_Mig_Dom_Exemp\": -0.0041, \"Inmig_Exemp_pct_chg\": 0.05258546454128732, \"Outmig_Exemp_pct_chg\": 0.13104509765948857}, {\"Year\": 2008, \"Non_Mig\": 28410195, \"Inmig_Exemp\": 540578, \"In_Dom_Exemp\": 382685, \"Outmig_Exemp\": 615793, \"Out_Dom_Exemp\": 453751, \"Zero\": 0, \"Population\": 36704375, \"Net_Mig_Dom_Exemp\": -71066, \"Rel_Mig_Dom_Exemp\": -0.0025, \"Inmig_Exemp_pct_chg\": 0.03438211158467097, \"Outmig_Exemp_pct_chg\": 0.10300942448034256}, {\"Year\": 2009, \"Non_Mig\": 28448182, \"Inmig_Exemp\": 499411, \"In_Dom_Exemp\": 365763, \"Outmig_Exemp\": 558846, \"Out_Dom_Exemp\": 406883, \"Zero\": 0, \"Population\": 36966713, \"Net_Mig_Dom_Exemp\": -41120, \"Rel_Mig_Dom_Exemp\": -0.0014, \"Inmig_Exemp_pct_chg\": 0.07615367255049221, \"Outmig_Exemp_pct_chg\": 0.09247750461599924}, {\"Year\": 2010, \"Non_Mig\": 28690412, \"Inmig_Exemp\": 521730, \"In_Dom_Exemp\": 383709, \"Outmig_Exemp\": 566157, \"Out_Dom_Exemp\": 412899, \"Zero\": 0, \"Population\": 37223900, \"Net_Mig_Dom_Exemp\": -29190, \"Rel_Mig_Dom_Exemp\": -0.001, \"Inmig_Exemp_pct_chg\": 0.04469064558049385, \"Outmig_Exemp_pct_chg\": 0.013082316058449006}, {\"Year\": 2011, \"Non_Mig\": 30080010, \"Inmig_Exemp\": 595147, \"In_Dom_Exemp\": 455202, \"Outmig_Exemp\": 620020, \"Out_Dom_Exemp\": 468496, \"Zero\": 0, \"Population\": 37594781, \"Net_Mig_Dom_Exemp\": -13294, \"Rel_Mig_Dom_Exemp\": -0.0004, \"Inmig_Exemp_pct_chg\": 0.14071837923830333, \"Outmig_Exemp_pct_chg\": 0.0951379211066894}, {\"Year\": 2012, \"Non_Mig\": 30139423, \"Inmig_Exemp\": 611235, \"In_Dom_Exemp\": 463373, \"Outmig_Exemp\": 671025, \"Out_Dom_Exemp\": 505991, \"Zero\": 0, \"Population\": 37971427, \"Net_Mig_Dom_Exemp\": -42618, \"Rel_Mig_Dom_Exemp\": -0.0014, \"Inmig_Exemp_pct_chg\": 0.027031976973756144, \"Outmig_Exemp_pct_chg\": 0.08226347537176215}, {\"Year\": 2013, \"Non_Mig\": 30251074, \"Inmig_Exemp\": 574638, \"In_Dom_Exemp\": 432409, \"Outmig_Exemp\": 649519, \"Out_Dom_Exemp\": 487994, \"Zero\": 0, \"Population\": 38321459, \"Net_Mig_Dom_Exemp\": -55585, \"Rel_Mig_Dom_Exemp\": -0.0018, \"Inmig_Exemp_pct_chg\": 0.05987386193526223, \"Outmig_Exemp_pct_chg\": 0.03204947654707346}, {\"Year\": 2014, \"Non_Mig\": 30666470, \"Inmig_Exemp\": 433536, \"In_Dom_Exemp\": 322677, \"Outmig_Exemp\": 489155, \"Out_Dom_Exemp\": 365561, \"Zero\": 0, \"Population\": 38622301, \"Net_Mig_Dom_Exemp\": -42884, \"Rel_Mig_Dom_Exemp\": -0.0014, \"Inmig_Exemp_pct_chg\": 0.2455493719524292, \"Outmig_Exemp_pct_chg\": 0.24689654960055052}, {\"Year\": 2015, \"Non_Mig\": 30665600, \"Inmig_Exemp\": 576351, \"In_Dom_Exemp\": 432443, \"Outmig_Exemp\": 694320, \"Out_Dom_Exemp\": 521161, \"Zero\": 0, \"Population\": 38952462, \"Net_Mig_Dom_Exemp\": -88718, \"Rel_Mig_Dom_Exemp\": -0.0029, \"Inmig_Exemp_pct_chg\": 0.3294190101860053, \"Outmig_Exemp_pct_chg\": 0.4194273798693666}, {\"Year\": 2016, \"Non_Mig\": 30323418, \"Inmig_Exemp\": 738692, \"In_Dom_Exemp\": 560173, \"Outmig_Exemp\": 970679, \"Out_Dom_Exemp\": 738242, \"Zero\": 0, \"Population\": 39214803, \"Net_Mig_Dom_Exemp\": -178069, \"Rel_Mig_Dom_Exemp\": -0.0059, \"Inmig_Exemp_pct_chg\": 0.2816703710065567, \"Outmig_Exemp_pct_chg\": 0.39802828666897105}, {\"Year\": 2017, \"Non_Mig\": 30682756, \"Inmig_Exemp\": 568011, \"In_Dom_Exemp\": 429856, \"Outmig_Exemp\": 763116, \"Out_Dom_Exemp\": 583053, \"Zero\": 0, \"Population\": 39504609, \"Net_Mig_Dom_Exemp\": -153197, \"Rel_Mig_Dom_Exemp\": -0.005, \"Inmig_Exemp_pct_chg\": 0.2310584113541232, \"Outmig_Exemp_pct_chg\": 0.2138327912729131}], \"data-fe328e0a10bd2971ba465f8ea6256c2f\": [{\"x\": 1993.0, \"y\": -350000, \"text\": \"'93 peak\"}, {\"x\": 2005.0, \"y\": -250000, \"text\": \"'05 peak\"}, {\"x\": 2016.5, \"y\": -190000, \"text\": \"Next Peak?\"}], \"data-a9edbe1654f63bdf4c32b48463792edd\": [{\"x\": 1994, \"y\": 30000, \"text\": \"from other states moved in.\"}]}}, {\"mode\": \"vega-lite\"});\n",
       "</script>"
      ],
      "text/plain": [
       "alt.LayerChart(...)"
      ]
     },
     "execution_count": 275,
     "metadata": {},
     "output_type": "execute_result"
    }
   ],
   "source": [
    "line = alt.Chart(comb, title='California Net Domestic Migration'\n",
    "                 ).mark_line(color='#006aac', size=5, strokeCap='round', interpolate='basis'\n",
    "                            ).encode(x=alt.X('Year:O', axis=alt.Axis(labelOpacity=.8, labelFontSize=22, values=[1990,2000,2010,2017])), \n",
    "                                     y=alt.Y('Net_Mig_Dom_Exemp', \n",
    "                                             title='Every year since 1990 more Californians moved out than residents',\n",
    "                                             axis=alt.Axis(values=list(range(0,-400000,-100000)),\n",
    "                                                           format='~s', titleFontSize=24, titleOpacity=.8,  titleX=-50, titleY=-50,\n",
    "                                                           labelOpacity=.8, labelFontSize=22, labelPadding=50),\n",
    "                                             scale=alt.Scale(domain=[-360000,0])))\n",
    "\n",
    "title_line2 = alt.Chart(pd.DataFrame({'x':[1994],'y':[30000],'text':['from other states moved in.']})).mark_text(dx=-6, size=24, font='calibri', opacity=.9).encode(x='x:O',y='y',text='text')\n",
    "#y_label = alt.Chart(pd.DataFrame({'x':[1990],'y':[0],'text':['0']})).mark_text(dx=-50, size=24, opacity=.8, font='calibri').encode(x='x:O',y='y',text='text')\n",
    "area = alt.Chart(comb).mark_area(color='lightgray', opacity=.3, interpolate='basis').encode(x='Year:O',y='Net_Mig_Dom_Exemp',y2='Zero')\n",
    "text = alt.Chart(pd.DataFrame({'x':[1993,2005,2016.5],'y':[-350000,-250000,-190000],'text':['\\'93 peak', '\\'05 peak', 'Next Peak?']})).mark_text(size=22, font='calibri', fontWeight='bold', opacity=.8).encode(x='x:O',y='y',text='text')\n",
    "\n",
    "chart = (area + line + text + title_line2).properties(height=500)\n",
    "chart"
   ]
  },
  {
   "cell_type": "code",
   "execution_count": 369,
   "metadata": {},
   "outputs": [
    {
     "data": {
      "text/html": [
       "\n",
       "<div id=\"altair-viz-107\"></div>\n",
       "<script type=\"text/javascript\">\n",
       "  (function(spec, embedOpt){\n",
       "    const outputDiv = document.getElementById(\"altair-viz-107\");\n",
       "    const paths = {\n",
       "      \"vega\": \"https://cdn.jsdelivr.net/npm//vega@5?noext\",\n",
       "      \"vega-lib\": \"https://cdn.jsdelivr.net/npm//vega-lib?noext\",\n",
       "      \"vega-lite\": \"https://cdn.jsdelivr.net/npm//vega-lite@4.0.0?noext\",\n",
       "      \"vega-embed\": \"https://cdn.jsdelivr.net/npm//vega-embed@6?noext\",\n",
       "    };\n",
       "\n",
       "    function loadScript(lib) {\n",
       "      return new Promise(function(resolve, reject) {\n",
       "        var s = document.createElement('script');\n",
       "        s.src = paths[lib];\n",
       "        s.async = true;\n",
       "        s.onload = () => resolve(paths[lib]);\n",
       "        s.onerror = () => reject(`Error loading script: ${paths[lib]}`);\n",
       "        document.getElementsByTagName(\"head\")[0].appendChild(s);\n",
       "      });\n",
       "    }\n",
       "\n",
       "    function showError(err) {\n",
       "      outputDiv.innerHTML = `<div class=\"error\" style=\"color:red;\">${err}</div>`;\n",
       "      throw err;\n",
       "    }\n",
       "\n",
       "    function displayChart(vegaEmbed) {\n",
       "      vegaEmbed(outputDiv, spec, embedOpt)\n",
       "        .catch(err => showError(`Javascript Error: ${err.message}<br>This usually means there's a typo in your chart specification. See the javascript console for the full traceback.`));\n",
       "    }\n",
       "\n",
       "    if(typeof define === \"function\" && define.amd) {\n",
       "      requirejs.config({paths});\n",
       "      require([\"vega-embed\"], displayChart, err => showError(`Error loading script: ${err.message}`));\n",
       "    } else if (typeof vegaEmbed === \"function\") {\n",
       "      displayChart(vegaEmbed);\n",
       "    } else {\n",
       "      loadScript(\"vega\")\n",
       "        .then(() => loadScript(\"vega-lite\"))\n",
       "        .then(() => loadScript(\"vega-embed\"))\n",
       "        .catch(showError)\n",
       "        .then(() => displayChart(vegaEmbed));\n",
       "    }\n",
       "  })({\"width\": 600, \"height\": 450, \"background\": \"white\", \"config\": {\"title\": {\"fontWeight\": \"normal\", \"fontSize\": 30, \"anchor\": \"start\", \"font\": \"Calibri\", \"offset\": 5}, \"axisX\": {\"grid\": false, \"labelFont\": \"Calibri\", \"labelFontSize\": 16, \"labelAngle\": 0, \"labelPadding\": 10, \"ticks\": false, \"tickSize\": 5, \"title\": null, \"titleFont\": \"Calibri\", \"titleFontSize\": 16, \"titleFontWeight\": \"normal\", \"titleY\": 30, \"titleX\": 280}, \"axisY\": {\"grid\": true, \"gridOpacity\": 1, \"labelFont\": \"Calibri\", \"labelFontSize\": 16, \"labelLimit\": 100, \"labelAlign\": \"left\", \"labelPadding\": 20, \"ticks\": false, \"title\": null, \"titleFont\": \"Calibri\", \"titleFontWeight\": \"normal\", \"titleFontSize\": 17, \"titleAlign\": \"left\", \"titleAngle\": 0, \"titleY\": -20, \"titleX\": -20, \"domainWidth\": 0}, \"view\": {\"strokeOpacity\": 0}}, \"layer\": [{\"mark\": {\"type\": \"area\", \"color\": \"lightgray\", \"interpolate\": \"basis\", \"opacity\": 0.3}, \"encoding\": {\"x\": {\"type\": \"ordinal\", \"field\": \"Year\"}, \"y\": {\"type\": \"quantitative\", \"field\": \"Net_Mig_Dom_Exemp\"}, \"y2\": {\"field\": \"Zero\"}}}, {\"mark\": {\"type\": \"line\", \"color\": \"#006aac\", \"interpolate\": \"basis\", \"size\": 5, \"strokeCap\": \"round\"}, \"encoding\": {\"x\": {\"type\": \"ordinal\", \"axis\": {\"labelFontSize\": 22, \"labelOpacity\": 0.8, \"values\": [1990, 2000, 2010, 2017]}, \"field\": \"Year\"}, \"y\": {\"type\": \"quantitative\", \"axis\": {\"format\": \"~s\", \"labelFontSize\": 22, \"labelOpacity\": 0.8, \"labelPadding\": 50, \"titleFontSize\": 24, \"titleOpacity\": 0.8, \"titleX\": -50, \"titleY\": -5, \"values\": [0, -100000, -200000, -300000, -400000]}, \"field\": \"Net_Mig_Dom_Exemp\", \"title\": \"Every year since 1990 more Californians moved out than residents\"}}, \"title\": \"California Net Domestic Migration\"}, {\"data\": {\"name\": \"data-83d06b9d07f4692c26b82e534e8bceb8\"}, \"mark\": {\"type\": \"text\", \"font\": \"calibri\", \"fontWeight\": \"bold\", \"opacity\": 0.8, \"size\": 22}, \"encoding\": {\"text\": {\"type\": \"nominal\", \"field\": \"text\"}, \"x\": {\"type\": \"ordinal\", \"field\": \"x\"}, \"y\": {\"type\": \"quantitative\", \"field\": \"y\"}}}, {\"data\": {\"name\": \"data-cb8f61dc8db7a7bfebc3f63e007a90a9\"}, \"mark\": {\"type\": \"text\", \"dx\": -6, \"font\": \"calibri\", \"opacity\": 0.9, \"size\": 24}, \"encoding\": {\"text\": {\"type\": \"nominal\", \"field\": \"text\"}, \"x\": {\"type\": \"ordinal\", \"field\": \"x\"}, \"y\": {\"type\": \"quantitative\", \"field\": \"y\"}}}], \"data\": {\"name\": \"data-a4d8485472d8912f8f01dcf73fe3fab1\"}, \"$schema\": \"https://vega.github.io/schema/vega-lite/v4.0.0.json\", \"datasets\": {\"data-a4d8485472d8912f8f01dcf73fe3fab1\": [{\"Year\": 1990, \"Non_Mig\": 23010999, \"Inmig_Exemp\": 575795, \"In_Dom_Exemp\": 510523, \"Outmig_Exemp\": 733500, \"Out_Dom_Exemp\": 683293, \"Zero\": 0, \"Population\": 29558000, \"Net_Mig_Dom_Exemp\": -172770, \"Rel_Mig_Dom_Exemp\": -0.0075, \"Inmig_Exemp_pct_chg\": null, \"Outmig_Exemp_pct_chg\": null}, {\"Year\": 1991, \"Non_Mig\": 23340798, \"Inmig_Exemp\": 555276, \"In_Dom_Exemp\": 480749, \"Outmig_Exemp\": 745198, \"Out_Dom_Exemp\": 700419, \"Zero\": 0, \"Population\": 30143555, \"Net_Mig_Dom_Exemp\": -219670, \"Rel_Mig_Dom_Exemp\": -0.0094, \"Inmig_Exemp_pct_chg\": 0.035635946821351294, \"Outmig_Exemp_pct_chg\": 0.015948193592365323}, {\"Year\": 1992, \"Non_Mig\": 23236233, \"Inmig_Exemp\": 492967, \"In_Dom_Exemp\": 423060, \"Outmig_Exemp\": 872565, \"Out_Dom_Exemp\": 826534, \"Zero\": 0, \"Population\": 30722998, \"Net_Mig_Dom_Exemp\": -403474, \"Rel_Mig_Dom_Exemp\": -0.0174, \"Inmig_Exemp_pct_chg\": 0.11221266541323593, \"Outmig_Exemp_pct_chg\": 0.170916991188919}, {\"Year\": 1993, \"Non_Mig\": 22841596, \"Inmig_Exemp\": 469297, \"In_Dom_Exemp\": 415460, \"Outmig_Exemp\": 920270, \"Out_Dom_Exemp\": 877562, \"Zero\": 0, \"Population\": 31150786, \"Net_Mig_Dom_Exemp\": -462102, \"Rel_Mig_Dom_Exemp\": -0.0202, \"Inmig_Exemp_pct_chg\": 0.04801538439692721, \"Outmig_Exemp_pct_chg\": 0.05467214476858451}, {\"Year\": 1994, \"Non_Mig\": 22414007, \"Inmig_Exemp\": 494971, \"In_Dom_Exemp\": 441403, \"Outmig_Exemp\": 881558, \"Out_Dom_Exemp\": 841521, \"Zero\": 0, \"Population\": 31418940, \"Net_Mig_Dom_Exemp\": -400118, \"Rel_Mig_Dom_Exemp\": -0.0179, \"Inmig_Exemp_pct_chg\": 0.05470736015785316, \"Outmig_Exemp_pct_chg\": 0.042065915437860646}, {\"Year\": 1995, \"Non_Mig\": 22611353, \"Inmig_Exemp\": 502493, \"In_Dom_Exemp\": 454252, \"Outmig_Exemp\": 778525, \"Out_Dom_Exemp\": 740522, \"Zero\": 0, \"Population\": 31617770, \"Net_Mig_Dom_Exemp\": -286270, \"Rel_Mig_Dom_Exemp\": -0.0127, \"Inmig_Exemp_pct_chg\": 0.015196849916459643, \"Outmig_Exemp_pct_chg\": 0.11687603084538967}, {\"Year\": 1996, \"Non_Mig\": 22725592, \"Inmig_Exemp\": 554909, \"In_Dom_Exemp\": 503854, \"Outmig_Exemp\": 702779, \"Out_Dom_Exemp\": 665732, \"Zero\": 0, \"Population\": 31837399, \"Net_Mig_Dom_Exemp\": -161878, \"Rel_Mig_Dom_Exemp\": -0.0071, \"Inmig_Exemp_pct_chg\": 0.10431190086230058, \"Outmig_Exemp_pct_chg\": 0.0972942423172024}, {\"Year\": 1997, \"Non_Mig\": 23236858, \"Inmig_Exemp\": 575775, \"In_Dom_Exemp\": 526168, \"Outmig_Exemp\": 658276, \"Out_Dom_Exemp\": 623164, \"Zero\": 0, \"Population\": 32207869, \"Net_Mig_Dom_Exemp\": -96996, \"Rel_Mig_Dom_Exemp\": -0.0042, \"Inmig_Exemp_pct_chg\": 0.037602561861494355, \"Outmig_Exemp_pct_chg\": 0.06332431674822381}, {\"Year\": 1998, \"Non_Mig\": 24050991, \"Inmig_Exemp\": 563950, \"In_Dom_Exemp\": 513057, \"Outmig_Exemp\": 638682, \"Out_Dom_Exemp\": 603931, \"Zero\": 0, \"Population\": 32657877, \"Net_Mig_Dom_Exemp\": -90874, \"Rel_Mig_Dom_Exemp\": -0.0038, \"Inmig_Exemp_pct_chg\": 0.020537536364031106, \"Outmig_Exemp_pct_chg\": 0.02976563022197376}, {\"Year\": 1999, \"Non_Mig\": 24804140, \"Inmig_Exemp\": 569616, \"In_Dom_Exemp\": 519475, \"Outmig_Exemp\": 642844, \"Out_Dom_Exemp\": 608466, \"Zero\": 0, \"Population\": 33140771, \"Net_Mig_Dom_Exemp\": -88991, \"Rel_Mig_Dom_Exemp\": -0.0036, \"Inmig_Exemp_pct_chg\": 0.010046989981381316, \"Outmig_Exemp_pct_chg\": 0.006516545009879637}, {\"Year\": 2000, \"Non_Mig\": 25247901, \"Inmig_Exemp\": 597959, \"In_Dom_Exemp\": 545166, \"Outmig_Exemp\": 630167, \"Out_Dom_Exemp\": 596651, \"Zero\": 0, \"Population\": 33721583, \"Net_Mig_Dom_Exemp\": -51485, \"Rel_Mig_Dom_Exemp\": -0.002, \"Inmig_Exemp_pct_chg\": 0.04975808263812809, \"Outmig_Exemp_pct_chg\": 0.01972018094592154}, {\"Year\": 2001, \"Non_Mig\": 25671321, \"Inmig_Exemp\": 544126, \"In_Dom_Exemp\": 493798, \"Outmig_Exemp\": 659870, \"Out_Dom_Exemp\": 622808, \"Zero\": 0, \"Population\": 34256789, \"Net_Mig_Dom_Exemp\": -129010, \"Rel_Mig_Dom_Exemp\": -0.005, \"Inmig_Exemp_pct_chg\": 0.0900279116126691, \"Outmig_Exemp_pct_chg\": 0.04713512449874391}, {\"Year\": 2002, \"Non_Mig\": 26122706, \"Inmig_Exemp\": 532504, \"In_Dom_Exemp\": 483346, \"Outmig_Exemp\": 638459, \"Out_Dom_Exemp\": 600171, \"Zero\": 0, \"Population\": 34725516, \"Net_Mig_Dom_Exemp\": -116825, \"Rel_Mig_Dom_Exemp\": -0.0045, \"Inmig_Exemp_pct_chg\": 0.021359023461477666, \"Outmig_Exemp_pct_chg\": 0.032447300225802}, {\"Year\": 2003, \"Non_Mig\": 26305015, \"Inmig_Exemp\": 528463, \"In_Dom_Exemp\": 477282, \"Outmig_Exemp\": 678903, \"Out_Dom_Exemp\": 644064, \"Zero\": 0, \"Population\": 35163609, \"Net_Mig_Dom_Exemp\": -166782, \"Rel_Mig_Dom_Exemp\": -0.0063, \"Inmig_Exemp_pct_chg\": 0.0075886753902317805, \"Outmig_Exemp_pct_chg\": 0.06334627595507314}, {\"Year\": 2004, \"Non_Mig\": 26476088, \"Inmig_Exemp\": 523047, \"In_Dom_Exemp\": 472255, \"Outmig_Exemp\": 777522, \"Out_Dom_Exemp\": 742502, \"Zero\": 0, \"Population\": 35570847, \"Net_Mig_Dom_Exemp\": -270247, \"Rel_Mig_Dom_Exemp\": -0.0102, \"Inmig_Exemp_pct_chg\": 0.010248588832141525, \"Outmig_Exemp_pct_chg\": 0.14526228341898628}, {\"Year\": 2005, \"Non_Mig\": 26507063, \"Inmig_Exemp\": 536288, \"In_Dom_Exemp\": 486725, \"Outmig_Exemp\": 836039, \"Out_Dom_Exemp\": 804243, \"Zero\": 0, \"Population\": 35869173, \"Net_Mig_Dom_Exemp\": -317518, \"Rel_Mig_Dom_Exemp\": -0.012, \"Inmig_Exemp_pct_chg\": 0.02531512464463037, \"Outmig_Exemp_pct_chg\": 0.07526089293936367}, {\"Year\": 2006, \"Non_Mig\": 26759630, \"Inmig_Exemp\": 531858, \"In_Dom_Exemp\": 482501, \"Outmig_Exemp\": 790041, \"Out_Dom_Exemp\": 759202, \"Zero\": 0, \"Population\": 36116202, \"Net_Mig_Dom_Exemp\": -276701, \"Rel_Mig_Dom_Exemp\": -0.0103, \"Inmig_Exemp_pct_chg\": 0.008260486902559872, \"Outmig_Exemp_pct_chg\": 0.05501896442630072}, {\"Year\": 2007, \"Non_Mig\": 27732366, \"Inmig_Exemp\": 559826, \"In_Dom_Exemp\": 509583, \"Outmig_Exemp\": 686510, \"Out_Dom_Exemp\": 657174, \"Zero\": 0, \"Population\": 36399676, \"Net_Mig_Dom_Exemp\": -147591, \"Rel_Mig_Dom_Exemp\": -0.0053, \"Inmig_Exemp_pct_chg\": 0.05258546454128732, \"Outmig_Exemp_pct_chg\": 0.13104509765948857}, {\"Year\": 2008, \"Non_Mig\": 28410195, \"Inmig_Exemp\": 540578, \"In_Dom_Exemp\": 494408, \"Outmig_Exemp\": 615793, \"Out_Dom_Exemp\": 586221, \"Zero\": 0, \"Population\": 36704375, \"Net_Mig_Dom_Exemp\": -91813, \"Rel_Mig_Dom_Exemp\": -0.0032, \"Inmig_Exemp_pct_chg\": 0.03438211158467097, \"Outmig_Exemp_pct_chg\": 0.10300942448034256}, {\"Year\": 2009, \"Non_Mig\": 28448182, \"Inmig_Exemp\": 499411, \"In_Dom_Exemp\": 475287, \"Outmig_Exemp\": 558846, \"Out_Dom_Exemp\": 528720, \"Zero\": 0, \"Population\": 36966713, \"Net_Mig_Dom_Exemp\": -53433, \"Rel_Mig_Dom_Exemp\": -0.0019, \"Inmig_Exemp_pct_chg\": 0.07615367255049221, \"Outmig_Exemp_pct_chg\": 0.09247750461599924}, {\"Year\": 2010, \"Non_Mig\": 28690412, \"Inmig_Exemp\": 521730, \"In_Dom_Exemp\": 497837, \"Outmig_Exemp\": 566157, \"Out_Dom_Exemp\": 535709, \"Zero\": 0, \"Population\": 37223900, \"Net_Mig_Dom_Exemp\": -37872, \"Rel_Mig_Dom_Exemp\": -0.0013, \"Inmig_Exemp_pct_chg\": 0.04469064558049385, \"Outmig_Exemp_pct_chg\": 0.013082316058449006}, {\"Year\": 2011, \"Non_Mig\": 30080010, \"Inmig_Exemp\": 595147, \"In_Dom_Exemp\": 568923, \"Outmig_Exemp\": 620020, \"Out_Dom_Exemp\": 585539, \"Zero\": 0, \"Population\": 37594781, \"Net_Mig_Dom_Exemp\": -16616, \"Rel_Mig_Dom_Exemp\": -0.0006, \"Inmig_Exemp_pct_chg\": 0.14071837923830333, \"Outmig_Exemp_pct_chg\": 0.0951379211066894}, {\"Year\": 2012, \"Non_Mig\": 30139423, \"Inmig_Exemp\": 611235, \"In_Dom_Exemp\": 583785, \"Outmig_Exemp\": 671025, \"Out_Dom_Exemp\": 637477, \"Zero\": 0, \"Population\": 37971427, \"Net_Mig_Dom_Exemp\": -53692, \"Rel_Mig_Dom_Exemp\": -0.0018, \"Inmig_Exemp_pct_chg\": 0.027031976973756144, \"Outmig_Exemp_pct_chg\": 0.08226347537176215}, {\"Year\": 2013, \"Non_Mig\": 30251074, \"Inmig_Exemp\": 574638, \"In_Dom_Exemp\": 547767, \"Outmig_Exemp\": 649519, \"Out_Dom_Exemp\": 618181, \"Zero\": 0, \"Population\": 38321459, \"Net_Mig_Dom_Exemp\": -70414, \"Rel_Mig_Dom_Exemp\": -0.0023, \"Inmig_Exemp_pct_chg\": 0.05987386193526223, \"Outmig_Exemp_pct_chg\": 0.03204947654707346}, {\"Year\": 2014, \"Non_Mig\": 30666470, \"Inmig_Exemp\": 433536, \"In_Dom_Exemp\": 406389, \"Outmig_Exemp\": 489155, \"Out_Dom_Exemp\": 460399, \"Zero\": 0, \"Population\": 38622301, \"Net_Mig_Dom_Exemp\": -54010, \"Rel_Mig_Dom_Exemp\": -0.0018, \"Inmig_Exemp_pct_chg\": 0.2455493719524292, \"Outmig_Exemp_pct_chg\": 0.24689654960055052}, {\"Year\": 2015, \"Non_Mig\": 30665600, \"Inmig_Exemp\": 576351, \"In_Dom_Exemp\": 549303, \"Outmig_Exemp\": 694320, \"Out_Dom_Exemp\": 661996, \"Zero\": 0, \"Population\": 38952462, \"Net_Mig_Dom_Exemp\": -112693, \"Rel_Mig_Dom_Exemp\": -0.0037, \"Inmig_Exemp_pct_chg\": 0.3294190101860053, \"Outmig_Exemp_pct_chg\": 0.4194273798693666}, {\"Year\": 2016, \"Non_Mig\": 30323418, \"Inmig_Exemp\": 738692, \"In_Dom_Exemp\": 724426, \"Outmig_Exemp\": 970679, \"Out_Dom_Exemp\": 954708, \"Zero\": 0, \"Population\": 39214803, \"Net_Mig_Dom_Exemp\": -230282, \"Rel_Mig_Dom_Exemp\": -0.0076, \"Inmig_Exemp_pct_chg\": 0.2816703710065567, \"Outmig_Exemp_pct_chg\": 0.39802828666897105}, {\"Year\": 2017, \"Non_Mig\": 30682756, \"Inmig_Exemp\": 568011, \"In_Dom_Exemp\": 553447, \"Outmig_Exemp\": 763116, \"Out_Dom_Exemp\": 750691, \"Zero\": 0, \"Population\": 39504609, \"Net_Mig_Dom_Exemp\": -197244, \"Rel_Mig_Dom_Exemp\": -0.0064, \"Inmig_Exemp_pct_chg\": 0.2310584113541232, \"Outmig_Exemp_pct_chg\": 0.2138327912729131}], \"data-83d06b9d07f4692c26b82e534e8bceb8\": [{\"x\": 1993.0, \"y\": -470000, \"text\": \"'93 low\"}, {\"x\": 2005.0, \"y\": -335000, \"text\": \"'05 low\"}, {\"x\": 2016.5, \"y\": -240000, \"text\": \"Next low?\"}], \"data-cb8f61dc8db7a7bfebc3f63e007a90a9\": [{\"x\": 1994, \"y\": 40000, \"text\": \"from other states moved in.\"}]}}, {\"mode\": \"vega-lite\"});\n",
       "</script>"
      ],
      "text/plain": [
       "alt.LayerChart(...)"
      ]
     },
     "execution_count": 369,
     "metadata": {},
     "output_type": "execute_result"
    }
   ],
   "source": [
    "line = alt.Chart(comb, title='California Net Domestic Migration'\n",
    "                 ).mark_line(color='#006aac', size=5, strokeCap='round', interpolate='basis'\n",
    "                            ).encode(x=alt.X('Year:O', axis=alt.Axis(labelOpacity=.8, labelFontSize=22, values=[1990,2000,2010,2017])), \n",
    "                                     y=alt.Y('Net_Mig_Dom_Exemp', \n",
    "                                             title='Every year since 1990 more Californians moved out than residents',\n",
    "                                             axis=alt.Axis(values=list(range(0,-500000,-100000)),\n",
    "                                                           format='~s', titleFontSize=24, titleOpacity=.8,  titleX=-50, titleY=-5,\n",
    "                                                           labelOpacity=.8, labelFontSize=22, labelPadding=50)))\n",
    "\n",
    "title_line2 = alt.Chart(pd.DataFrame({'x':[1994],'y':[40000],'text':['from other states moved in.']})).mark_text(dx=-6, size=24, font='calibri', opacity=.9).encode(x='x:O',y='y',text='text')\n",
    "#y_label = alt.Chart(pd.DataFrame({'x':[1990],'y':[0],'text':['0']})).mark_text(dx=-50, size=24, opacity=.8, font='calibri').encode(x='x:O',y='y',text='text')\n",
    "area = alt.Chart(comb).mark_area(color='lightgray', opacity=.3, interpolate='basis').encode(x='Year:O',y='Net_Mig_Dom_Exemp',y2='Zero')\n",
    "text = alt.Chart(pd.DataFrame({'x':[1993,2005,2016.5],'y':[-470000,-335000,-240000],'text':['\\'93 low', '\\'05 low', 'Next low?']})).mark_text(size=22, font='calibri', fontWeight='bold', opacity=.8).encode(x='x:O',y='y',text='text')\n",
    "\n",
    "chart = (area + line + text + title_line2).properties(height=450)\n",
    "chart"
   ]
  },
  {
   "cell_type": "code",
   "execution_count": 370,
   "metadata": {},
   "outputs": [],
   "source": [
    "chart.save('ca_dom_mig_irs_9017.svg')"
   ]
  },
  {
   "cell_type": "code",
   "execution_count": 14,
   "metadata": {},
   "outputs": [
    {
     "data": {
      "text/html": [
       "\n",
       "<div id=\"altair-viz-2\"></div>\n",
       "<script type=\"text/javascript\">\n",
       "  (function(spec, embedOpt){\n",
       "    const outputDiv = document.getElementById(\"altair-viz-2\");\n",
       "    const paths = {\n",
       "      \"vega\": \"https://cdn.jsdelivr.net/npm//vega@5?noext\",\n",
       "      \"vega-lib\": \"https://cdn.jsdelivr.net/npm//vega-lib?noext\",\n",
       "      \"vega-lite\": \"https://cdn.jsdelivr.net/npm//vega-lite@4.0.0?noext\",\n",
       "      \"vega-embed\": \"https://cdn.jsdelivr.net/npm//vega-embed@6?noext\",\n",
       "    };\n",
       "\n",
       "    function loadScript(lib) {\n",
       "      return new Promise(function(resolve, reject) {\n",
       "        var s = document.createElement('script');\n",
       "        s.src = paths[lib];\n",
       "        s.async = true;\n",
       "        s.onload = () => resolve(paths[lib]);\n",
       "        s.onerror = () => reject(`Error loading script: ${paths[lib]}`);\n",
       "        document.getElementsByTagName(\"head\")[0].appendChild(s);\n",
       "      });\n",
       "    }\n",
       "\n",
       "    function showError(err) {\n",
       "      outputDiv.innerHTML = `<div class=\"error\" style=\"color:red;\">${err}</div>`;\n",
       "      throw err;\n",
       "    }\n",
       "\n",
       "    function displayChart(vegaEmbed) {\n",
       "      vegaEmbed(outputDiv, spec, embedOpt)\n",
       "        .catch(err => showError(`Javascript Error: ${err.message}<br>This usually means there's a typo in your chart specification. See the javascript console for the full traceback.`));\n",
       "    }\n",
       "\n",
       "    if(typeof define === \"function\" && define.amd) {\n",
       "      requirejs.config({paths});\n",
       "      require([\"vega-embed\"], displayChart, err => showError(`Error loading script: ${err.message}`));\n",
       "    } else if (typeof vegaEmbed === \"function\") {\n",
       "      displayChart(vegaEmbed);\n",
       "    } else {\n",
       "      loadScript(\"vega\")\n",
       "        .then(() => loadScript(\"vega-lite\"))\n",
       "        .then(() => loadScript(\"vega-embed\"))\n",
       "        .catch(showError)\n",
       "        .then(() => displayChart(vegaEmbed));\n",
       "    }\n",
       "  })({\"width\": 600, \"height\": 400, \"background\": \"white\", \"config\": {\"title\": {\"fontWeight\": \"normal\", \"fontSize\": 30, \"anchor\": \"start\", \"font\": \"Calibri\", \"offset\": 5}, \"axisX\": {\"grid\": false, \"labelFont\": \"Calibri\", \"labelFontSize\": 16, \"labelAngle\": 0, \"labelPadding\": 10, \"ticks\": false, \"tickSize\": 5, \"title\": null, \"titleFont\": \"Calibri\", \"titleFontSize\": 16, \"titleFontWeight\": \"normal\", \"titleY\": 30, \"titleX\": 280}, \"axisY\": {\"grid\": true, \"gridOpacity\": 1, \"labelFont\": \"Calibri\", \"labelFontSize\": 16, \"labelLimit\": 100, \"labelAlign\": \"left\", \"labelPadding\": 20, \"ticks\": false, \"title\": null, \"titleFont\": \"Calibri\", \"titleFontWeight\": \"normal\", \"titleFontSize\": 17, \"titleAlign\": \"left\", \"titleAngle\": 0, \"titleY\": -20, \"titleX\": -20, \"domainWidth\": 0}, \"view\": {\"strokeOpacity\": 0}}, \"layer\": [{\"mark\": {\"type\": \"bar\", \"color\": \"#ffc417\"}, \"encoding\": {\"x\": {\"type\": \"ordinal\", \"field\": \"Year\"}, \"y\": {\"type\": \"quantitative\", \"field\": \"Outmig_Total\"}}}, {\"mark\": \"bar\", \"encoding\": {\"x\": {\"type\": \"ordinal\", \"field\": \"Year\"}, \"y\": {\"type\": \"quantitative\", \"axis\": {\"format\": \"~s\", \"labelPadding\": 40, \"titleX\": -40}, \"field\": \"Inmig_Total\"}}, \"title\": \"CA Migration (In & Out)\"}], \"data\": {\"name\": \"data-ce891e6bbe1faa87bae7c343467d9096\"}, \"$schema\": \"https://vega.github.io/schema/vega-lite/v4.0.0.json\", \"datasets\": {\"data-ce891e6bbe1faa87bae7c343467d9096\": [{\"Year\": 1990, \"Returns\": 10211835, \"Exemptions\": 23010999, \"Inmig_Returns\": 245535, \"Inmig_Exempt\": 448258, \"Outmig_Returns\": 277327, \"Outmig_Exempt\": 571032, \"Residents\": 33222834, \"Net_Mig_Returns\": -31792, \"Rel_Mig_Returns\": -0.0031, \"Inmig_Total\": 693793, \"Outmig_Total\": 848359, \"Net_Mig_Total\": -154566, \"Rel_Mig_Total\": -0.0047, \"Zero\": 0}, {\"Year\": 1991, \"Returns\": 10337480, \"Exemptions\": 23340798, \"Inmig_Returns\": 236007, \"Inmig_Exempt\": 429962, \"Outmig_Returns\": 281887, \"Outmig_Exempt\": 577023, \"Residents\": 33678278, \"Net_Mig_Returns\": -45880, \"Rel_Mig_Returns\": -0.0044, \"Inmig_Total\": 665969, \"Outmig_Total\": 858910, \"Net_Mig_Total\": -192941, \"Rel_Mig_Total\": -0.0057, \"Zero\": 0}, {\"Year\": 1992, \"Returns\": 10211198, \"Exemptions\": 23236233, \"Inmig_Returns\": 205155, \"Inmig_Exempt\": 372838, \"Outmig_Returns\": 315822, \"Outmig_Exempt\": 659933, \"Residents\": 33447431, \"Net_Mig_Returns\": -110667, \"Rel_Mig_Returns\": -0.0108, \"Inmig_Total\": 577993, \"Outmig_Total\": 975755, \"Net_Mig_Total\": -397762, \"Rel_Mig_Total\": -0.0119, \"Zero\": 0}, {\"Year\": 1993, \"Returns\": 10012232, \"Exemptions\": 22841596, \"Inmig_Returns\": 189073, \"Inmig_Exempt\": 344116, \"Outmig_Returns\": 320472, \"Outmig_Exempt\": 674796, \"Residents\": 32853828, \"Net_Mig_Returns\": -131399, \"Rel_Mig_Returns\": -0.0131, \"Inmig_Total\": 533189, \"Outmig_Total\": 995268, \"Net_Mig_Total\": -462079, \"Rel_Mig_Total\": -0.0141, \"Zero\": 0}, {\"Year\": 1994, \"Returns\": 9915747, \"Exemptions\": 22414007, \"Inmig_Returns\": 198917, \"Inmig_Exempt\": 353108, \"Outmig_Returns\": 302694, \"Outmig_Exempt\": 628896, \"Residents\": 32329754, \"Net_Mig_Returns\": -103777, \"Rel_Mig_Returns\": -0.0105, \"Inmig_Total\": 552025, \"Outmig_Total\": 931590, \"Net_Mig_Total\": -379565, \"Rel_Mig_Total\": -0.0117, \"Zero\": 0}, {\"Year\": 1995, \"Returns\": 10025767, \"Exemptions\": 22611353, \"Inmig_Returns\": 203317, \"Inmig_Exempt\": 359356, \"Outmig_Returns\": 269836, \"Outmig_Exempt\": 556760, \"Residents\": 32637120, \"Net_Mig_Returns\": -66519, \"Rel_Mig_Returns\": -0.0066, \"Inmig_Total\": 562673, \"Outmig_Total\": 826596, \"Net_Mig_Total\": -263923, \"Rel_Mig_Total\": -0.0081, \"Zero\": 0}, {\"Year\": 1996, \"Returns\": 10179399, \"Exemptions\": 22725592, \"Inmig_Returns\": 228764, \"Inmig_Exempt\": 396095, \"Outmig_Returns\": 247534, \"Outmig_Exempt\": 501645, \"Residents\": 32904991, \"Net_Mig_Returns\": -18770, \"Rel_Mig_Returns\": -0.0018, \"Inmig_Total\": 624859, \"Outmig_Total\": 749179, \"Net_Mig_Total\": -124320, \"Rel_Mig_Total\": -0.0038, \"Zero\": 0}, {\"Year\": 1997, \"Returns\": 10427660, \"Exemptions\": 23236858, \"Inmig_Returns\": 239369, \"Inmig_Exempt\": 415402, \"Outmig_Returns\": 238682, \"Outmig_Exempt\": 474923, \"Residents\": 33664518, \"Net_Mig_Returns\": 687, \"Rel_Mig_Returns\": 0.0001, \"Inmig_Total\": 654771, \"Outmig_Total\": 713605, \"Net_Mig_Total\": -58834, \"Rel_Mig_Total\": -0.0017, \"Zero\": 0}, {\"Year\": 1998, \"Returns\": 10789034, \"Exemptions\": 24050991, \"Inmig_Returns\": 241352, \"Inmig_Exempt\": 415323, \"Outmig_Returns\": 240877, \"Outmig_Exempt\": 470359, \"Residents\": 34840025, \"Net_Mig_Returns\": 475, \"Rel_Mig_Returns\": 0.0, \"Inmig_Total\": 656675, \"Outmig_Total\": 711236, \"Net_Mig_Total\": -54561, \"Rel_Mig_Total\": -0.0016, \"Zero\": 0}, {\"Year\": 1999, \"Returns\": 11120947, \"Exemptions\": 24804140, \"Inmig_Returns\": 251035, \"Inmig_Exempt\": 426328, \"Outmig_Returns\": 246887, \"Outmig_Exempt\": 481135, \"Residents\": 35925087, \"Net_Mig_Returns\": 4148, \"Rel_Mig_Returns\": 0.0004, \"Inmig_Total\": 677363, \"Outmig_Total\": 728022, \"Net_Mig_Total\": -50659, \"Rel_Mig_Total\": -0.0014, \"Zero\": 0}, {\"Year\": 2000, \"Returns\": 11336742, \"Exemptions\": 25247901, \"Inmig_Returns\": 265793, \"Inmig_Exempt\": 447702, \"Outmig_Returns\": 245677, \"Outmig_Exempt\": 471816, \"Residents\": 36584643, \"Net_Mig_Returns\": 20116, \"Rel_Mig_Returns\": 0.0018, \"Inmig_Total\": 713495, \"Outmig_Total\": 717493, \"Net_Mig_Total\": -3998, \"Rel_Mig_Total\": -0.0001, \"Zero\": 0}, {\"Year\": 2001, \"Returns\": 11531921, \"Exemptions\": 25671321, \"Inmig_Returns\": 240139, \"Inmig_Exempt\": 407757, \"Outmig_Returns\": 260174, \"Outmig_Exempt\": 494493, \"Residents\": 37203242, \"Net_Mig_Returns\": -20035, \"Rel_Mig_Returns\": -0.0017, \"Inmig_Total\": 647896, \"Outmig_Total\": 754667, \"Net_Mig_Total\": -106771, \"Rel_Mig_Total\": -0.0029, \"Zero\": 0}, {\"Year\": 2002, \"Returns\": 11641931, \"Exemptions\": 26122706, \"Inmig_Returns\": 233121, \"Inmig_Exempt\": 400583, \"Outmig_Returns\": 252674, \"Outmig_Exempt\": 480289, \"Residents\": 37764637, \"Net_Mig_Returns\": -19553, \"Rel_Mig_Returns\": -0.0017, \"Inmig_Total\": 633704, \"Outmig_Total\": 732963, \"Net_Mig_Total\": -99259, \"Rel_Mig_Total\": -0.0026, \"Zero\": 0}, {\"Year\": 2003, \"Returns\": 11652738, \"Exemptions\": 26305015, \"Inmig_Returns\": 230865, \"Inmig_Exempt\": 395330, \"Outmig_Returns\": 261740, \"Outmig_Exempt\": 507870, \"Residents\": 37957753, \"Net_Mig_Returns\": -30875, \"Rel_Mig_Returns\": -0.0026, \"Inmig_Total\": 626195, \"Outmig_Total\": 769610, \"Net_Mig_Total\": -143415, \"Rel_Mig_Total\": -0.0038, \"Zero\": 0}, {\"Year\": 2004, \"Returns\": 11703701, \"Exemptions\": 26476088, \"Inmig_Returns\": 229348, \"Inmig_Exempt\": 389314, \"Outmig_Returns\": 289992, \"Outmig_Exempt\": 578725, \"Residents\": 38179789, \"Net_Mig_Returns\": -60644, \"Rel_Mig_Returns\": -0.0052, \"Inmig_Total\": 618662, \"Outmig_Total\": 868717, \"Net_Mig_Total\": -250055, \"Rel_Mig_Total\": -0.0065, \"Zero\": 0}, {\"Year\": 2005, \"Returns\": 11745599, \"Exemptions\": 26507063, \"Inmig_Returns\": 235690, \"Inmig_Exempt\": 396313, \"Outmig_Returns\": 302665, \"Outmig_Exempt\": 617827, \"Residents\": 38252662, \"Net_Mig_Returns\": -66975, \"Rel_Mig_Returns\": -0.0057, \"Inmig_Total\": 632003, \"Outmig_Total\": 920492, \"Net_Mig_Total\": -288489, \"Rel_Mig_Total\": -0.0075, \"Zero\": 0}, {\"Year\": 2006, \"Returns\": 11906514, \"Exemptions\": 26759630, \"Inmig_Returns\": 234018, \"Inmig_Exempt\": 394070, \"Outmig_Returns\": 289096, \"Outmig_Exempt\": 585366, \"Residents\": 38666144, \"Net_Mig_Returns\": -55078, \"Rel_Mig_Returns\": -0.0046, \"Inmig_Total\": 628088, \"Outmig_Total\": 874462, \"Net_Mig_Total\": -246374, \"Rel_Mig_Total\": -0.0064, \"Zero\": 0}, {\"Year\": 2007, \"Returns\": 12434953, \"Exemptions\": 27732366, \"Inmig_Returns\": 251841, \"Inmig_Exempt\": 426523, \"Outmig_Returns\": 271521, \"Outmig_Exempt\": 523042, \"Residents\": 40167319, \"Net_Mig_Returns\": -19680, \"Rel_Mig_Returns\": -0.0016, \"Inmig_Total\": 678364, \"Outmig_Total\": 794563, \"Net_Mig_Total\": -116199, \"Rel_Mig_Total\": -0.0029, \"Zero\": 0}, {\"Year\": 2008, \"Returns\": 12707337, \"Exemptions\": 28410195, \"Inmig_Returns\": 243360, \"Inmig_Exempt\": 418422, \"Outmig_Returns\": 252516, \"Outmig_Exempt\": 476641, \"Residents\": 41117532, \"Net_Mig_Returns\": -9156, \"Rel_Mig_Returns\": -0.0007, \"Inmig_Total\": 661782, \"Outmig_Total\": 729157, \"Net_Mig_Total\": -67375, \"Rel_Mig_Total\": -0.0016, \"Zero\": 0}, {\"Year\": 2009, \"Returns\": 12588517, \"Exemptions\": 28448182, \"Inmig_Returns\": 214495, \"Inmig_Exempt\": 384328, \"Outmig_Returns\": 231291, \"Outmig_Exempt\": 430067, \"Residents\": 41036699, \"Net_Mig_Returns\": -16796, \"Rel_Mig_Returns\": -0.0013, \"Inmig_Total\": 598823, \"Outmig_Total\": 661358, \"Net_Mig_Total\": -62535, \"Rel_Mig_Total\": -0.0015, \"Zero\": 0}, {\"Year\": 2010, \"Returns\": 12600855, \"Exemptions\": 28690412, \"Inmig_Returns\": 224532, \"Inmig_Exempt\": 402125, \"Outmig_Returns\": 236494, \"Outmig_Exempt\": 436367, \"Residents\": 41291267, \"Net_Mig_Returns\": -11962, \"Rel_Mig_Returns\": -0.0009, \"Inmig_Total\": 626657, \"Outmig_Total\": 672861, \"Net_Mig_Total\": -46204, \"Rel_Mig_Total\": -0.0011, \"Zero\": 0}, {\"Year\": 2011, \"Returns\": 13084530, \"Exemptions\": 30080010, \"Inmig_Returns\": 264729, \"Inmig_Exempt\": 476184, \"Outmig_Returns\": 266673, \"Outmig_Exempt\": 496085, \"Residents\": 43164540, \"Net_Mig_Returns\": -1944, \"Rel_Mig_Returns\": -0.0001, \"Inmig_Total\": 740913, \"Outmig_Total\": 762758, \"Net_Mig_Total\": -21845, \"Rel_Mig_Total\": -0.0005, \"Zero\": 0}, {\"Year\": 2012, \"Returns\": 13148643, \"Exemptions\": 30139423, \"Inmig_Returns\": 268149, \"Inmig_Exempt\": 485161, \"Outmig_Returns\": 280002, \"Outmig_Exempt\": 532619, \"Residents\": 43288066, \"Net_Mig_Returns\": -11853, \"Rel_Mig_Returns\": -0.0009, \"Inmig_Total\": 753310, \"Outmig_Total\": 812621, \"Net_Mig_Total\": -59311, \"Rel_Mig_Total\": -0.0014, \"Zero\": 0}, {\"Year\": 2013, \"Returns\": 13289353, \"Exemptions\": 30251074, \"Inmig_Returns\": 252717, \"Inmig_Exempt\": 453621, \"Outmig_Returns\": 268472, \"Outmig_Exempt\": 512732, \"Residents\": 43540427, \"Net_Mig_Returns\": -15755, \"Rel_Mig_Returns\": -0.0012, \"Inmig_Total\": 706338, \"Outmig_Total\": 781204, \"Net_Mig_Total\": -74866, \"Rel_Mig_Total\": -0.0017, \"Zero\": 0}, {\"Year\": 2014, \"Returns\": 13658090, \"Exemptions\": 30666470, \"Inmig_Returns\": 200999, \"Inmig_Exempt\": 344232, \"Outmig_Returns\": 212337, \"Outmig_Exempt\": 388394, \"Residents\": 44324560, \"Net_Mig_Returns\": -11338, \"Rel_Mig_Returns\": -0.0008, \"Inmig_Total\": 545231, \"Outmig_Total\": 600731, \"Net_Mig_Total\": -55500, \"Rel_Mig_Total\": -0.0013, \"Zero\": 0}, {\"Year\": 2015, \"Returns\": 13795079, \"Exemptions\": 30665600, \"Inmig_Returns\": 260471, \"Inmig_Exempt\": 453736, \"Outmig_Returns\": 288918, \"Outmig_Exempt\": 546608, \"Residents\": 44460679, \"Net_Mig_Returns\": -28447, \"Rel_Mig_Returns\": -0.0021, \"Inmig_Total\": 714207, \"Outmig_Total\": 835526, \"Net_Mig_Total\": -121319, \"Rel_Mig_Total\": -0.0027, \"Zero\": 0}, {\"Year\": 2016, \"Returns\": 13811052, \"Exemptions\": 30323418, \"Inmig_Returns\": 327447, \"Inmig_Exempt\": 571204, \"Outmig_Returns\": 392786, \"Outmig_Exempt\": 750592, \"Residents\": 44134470, \"Net_Mig_Returns\": -65339, \"Rel_Mig_Returns\": -0.0047, \"Inmig_Total\": 898651, \"Outmig_Total\": 1143378, \"Net_Mig_Total\": -244727, \"Rel_Mig_Total\": -0.0055, \"Zero\": 0}, {\"Year\": 2017, \"Returns\": 14159070, \"Exemptions\": 30682756, \"Inmig_Returns\": 261617, \"Inmig_Exempt\": 441167, \"Outmig_Returns\": 322169, \"Outmig_Exempt\": 592703, \"Residents\": 44841826, \"Net_Mig_Returns\": -60552, \"Rel_Mig_Returns\": -0.0043, \"Inmig_Total\": 702784, \"Outmig_Total\": 914872, \"Net_Mig_Total\": -212088, \"Rel_Mig_Total\": -0.0047, \"Zero\": 0}]}}, {\"mode\": \"vega-lite\"});\n",
       "</script>"
      ],
      "text/plain": [
       "alt.LayerChart(...)"
      ]
     },
     "execution_count": 14,
     "metadata": {},
     "output_type": "execute_result"
    }
   ],
   "source": [
    "inmig = alt.Chart(comb, title='CA Migration (In & Out)').mark_bar().encode(x='Year:O',y=alt.Y('Inmig_Total', axis=alt.Axis(format='~s', labelPadding=40,titleX=-40)))\n",
    "outmig = alt.Chart(comb).mark_bar(color='#ffc417').encode(x='Year:O',y='Outmig_Total')\n",
    "outmig + inmig"
   ]
  },
  {
   "cell_type": "code",
   "execution_count": 315,
   "metadata": {},
   "outputs": [
    {
     "data": {
      "text/html": [
       "<div>\n",
       "<style scoped>\n",
       "    .dataframe tbody tr th:only-of-type {\n",
       "        vertical-align: middle;\n",
       "    }\n",
       "\n",
       "    .dataframe tbody tr th {\n",
       "        vertical-align: top;\n",
       "    }\n",
       "\n",
       "    .dataframe thead th {\n",
       "        text-align: right;\n",
       "    }\n",
       "</style>\n",
       "<table border=\"1\" class=\"dataframe\">\n",
       "  <thead>\n",
       "    <tr style=\"text-align: right;\">\n",
       "      <th></th>\n",
       "      <th>Year</th>\n",
       "      <th>Non_Mig</th>\n",
       "      <th>Inmig_Exemp</th>\n",
       "      <th>In_Dom_Exemp</th>\n",
       "      <th>Outmig_Exemp</th>\n",
       "      <th>Out_Dom_Exemp</th>\n",
       "      <th>Zero</th>\n",
       "      <th>Population</th>\n",
       "      <th>Net_Mig_Dom_Exemp</th>\n",
       "      <th>Rel_Mig_Dom_Exemp</th>\n",
       "      <th>Inmig_Exemp_pct_chg</th>\n",
       "      <th>Outmig_Exemp_pct_chg</th>\n",
       "    </tr>\n",
       "  </thead>\n",
       "  <tbody>\n",
       "    <tr>\n",
       "      <th>0</th>\n",
       "      <td>1990</td>\n",
       "      <td>23010999</td>\n",
       "      <td>575795</td>\n",
       "      <td>510523</td>\n",
       "      <td>733500</td>\n",
       "      <td>683293</td>\n",
       "      <td>0</td>\n",
       "      <td>29558000</td>\n",
       "      <td>-172770</td>\n",
       "      <td>-0.0075</td>\n",
       "      <td>NaN</td>\n",
       "      <td>NaN</td>\n",
       "    </tr>\n",
       "  </tbody>\n",
       "</table>\n",
       "</div>"
      ],
      "text/plain": [
       "   Year   Non_Mig  Inmig_Exemp  In_Dom_Exemp  Outmig_Exemp  Out_Dom_Exemp  \\\n",
       "0  1990  23010999       575795        510523        733500         683293   \n",
       "\n",
       "   Zero  Population  Net_Mig_Dom_Exemp  Rel_Mig_Dom_Exemp  \\\n",
       "0     0    29558000            -172770            -0.0075   \n",
       "\n",
       "   Inmig_Exemp_pct_chg  Outmig_Exemp_pct_chg  \n",
       "0                  NaN                   NaN  "
      ]
     },
     "execution_count": 315,
     "metadata": {},
     "output_type": "execute_result"
    }
   ],
   "source": [
    "comb.head(1)"
   ]
  },
  {
   "cell_type": "code",
   "execution_count": 373,
   "metadata": {},
   "outputs": [
    {
     "data": {
      "text/html": [
       "\n",
       "<div id=\"altair-viz-109\"></div>\n",
       "<script type=\"text/javascript\">\n",
       "  (function(spec, embedOpt){\n",
       "    const outputDiv = document.getElementById(\"altair-viz-109\");\n",
       "    const paths = {\n",
       "      \"vega\": \"https://cdn.jsdelivr.net/npm//vega@5?noext\",\n",
       "      \"vega-lib\": \"https://cdn.jsdelivr.net/npm//vega-lib?noext\",\n",
       "      \"vega-lite\": \"https://cdn.jsdelivr.net/npm//vega-lite@4.0.0?noext\",\n",
       "      \"vega-embed\": \"https://cdn.jsdelivr.net/npm//vega-embed@6?noext\",\n",
       "    };\n",
       "\n",
       "    function loadScript(lib) {\n",
       "      return new Promise(function(resolve, reject) {\n",
       "        var s = document.createElement('script');\n",
       "        s.src = paths[lib];\n",
       "        s.async = true;\n",
       "        s.onload = () => resolve(paths[lib]);\n",
       "        s.onerror = () => reject(`Error loading script: ${paths[lib]}`);\n",
       "        document.getElementsByTagName(\"head\")[0].appendChild(s);\n",
       "      });\n",
       "    }\n",
       "\n",
       "    function showError(err) {\n",
       "      outputDiv.innerHTML = `<div class=\"error\" style=\"color:red;\">${err}</div>`;\n",
       "      throw err;\n",
       "    }\n",
       "\n",
       "    function displayChart(vegaEmbed) {\n",
       "      vegaEmbed(outputDiv, spec, embedOpt)\n",
       "        .catch(err => showError(`Javascript Error: ${err.message}<br>This usually means there's a typo in your chart specification. See the javascript console for the full traceback.`));\n",
       "    }\n",
       "\n",
       "    if(typeof define === \"function\" && define.amd) {\n",
       "      requirejs.config({paths});\n",
       "      require([\"vega-embed\"], displayChart, err => showError(`Error loading script: ${err.message}`));\n",
       "    } else if (typeof vegaEmbed === \"function\") {\n",
       "      displayChart(vegaEmbed);\n",
       "    } else {\n",
       "      loadScript(\"vega\")\n",
       "        .then(() => loadScript(\"vega-lite\"))\n",
       "        .then(() => loadScript(\"vega-embed\"))\n",
       "        .catch(showError)\n",
       "        .then(() => displayChart(vegaEmbed));\n",
       "    }\n",
       "  })({\"width\": 600, \"height\": 500, \"background\": \"white\", \"config\": {\"title\": {\"fontWeight\": \"normal\", \"fontSize\": 30, \"anchor\": \"start\", \"font\": \"Calibri\", \"offset\": 5}, \"axisX\": {\"grid\": false, \"labelFont\": \"Calibri\", \"labelFontSize\": 16, \"labelAngle\": 0, \"labelPadding\": 10, \"ticks\": false, \"tickSize\": 5, \"title\": null, \"titleFont\": \"Calibri\", \"titleFontSize\": 16, \"titleFontWeight\": \"normal\", \"titleY\": 30, \"titleX\": 280}, \"axisY\": {\"grid\": true, \"gridOpacity\": 1, \"labelFont\": \"Calibri\", \"labelFontSize\": 16, \"labelLimit\": 100, \"labelAlign\": \"left\", \"labelPadding\": 20, \"ticks\": false, \"title\": null, \"titleFont\": \"Calibri\", \"titleFontWeight\": \"normal\", \"titleFontSize\": 17, \"titleAlign\": \"left\", \"titleAngle\": 0, \"titleY\": -20, \"titleX\": -20, \"domainWidth\": 0}, \"view\": {\"strokeOpacity\": 0}}, \"layer\": [{\"mark\": {\"type\": \"area\", \"color\": \"lightgray\", \"interpolate\": \"basis\", \"opacity\": 0.15}, \"encoding\": {\"x\": {\"type\": \"ordinal\", \"field\": \"Year\"}, \"y\": {\"type\": \"quantitative\", \"field\": \"In_Dom_Exemp\"}, \"y2\": {\"field\": \"Out_Dom_Exemp\"}}}, {\"mark\": {\"type\": \"line\", \"color\": \"#ffc417\", \"interpolate\": \"basis\", \"size\": 5, \"strokeCap\": \"round\"}, \"encoding\": {\"x\": {\"type\": \"ordinal\", \"field\": \"Year\"}, \"y\": {\"type\": \"quantitative\", \"field\": \"Out_Dom_Exemp\"}}}, {\"mark\": {\"type\": \"line\", \"color\": \"#8ac3ff\", \"interpolate\": \"basis\", \"size\": 5, \"strokeCap\": \"round\"}, \"encoding\": {\"x\": {\"type\": \"ordinal\", \"axis\": {\"labelFontSize\": 20, \"labelOpacity\": 0.8, \"values\": [1990, 2000, 2010, 2017]}, \"field\": \"Year\"}, \"y\": {\"type\": \"quantitative\", \"axis\": {\"labelFontSize\": 20, \"labelOpacity\": 0, \"labelPadding\": 35, \"titleFontSize\": 22, \"titleOpacity\": 0.8, \"titleX\": 145, \"titleY\": 28.5, \"values\": [200000, 400000, 600000, 800000]}, \"field\": \"In_Dom_Exemp\", \"title\": \"migration trends were characterized by an inverse\"}}, \"title\": \"California Domestic Migration Trends\"}, {\"data\": {\"name\": \"data-7766b6e61af589cf514fcdaa0e1c737e\"}, \"mark\": {\"type\": \"text\", \"dx\": 9, \"font\": \"calibri\", \"opacity\": 0.9, \"size\": 22}, \"encoding\": {\"text\": {\"type\": \"nominal\", \"field\": \"text\"}, \"x\": {\"type\": \"ordinal\", \"field\": \"x\"}, \"y\": {\"type\": \"quantitative\", \"field\": \"y\"}}}, {\"data\": {\"name\": \"data-d03bdf86b95b1953dd0fa3a8fccbb880\"}, \"mark\": {\"type\": \"text\", \"font\": \"calibri\", \"opacity\": 0.8, \"size\": 24}, \"encoding\": {\"text\": {\"type\": \"nominal\", \"field\": \"text\"}, \"x\": {\"type\": \"ordinal\", \"field\": \"x\"}, \"y\": {\"type\": \"quantitative\", \"field\": \"y\"}}}, {\"data\": {\"name\": \"data-e116a4b96ea99a9cab298a2a7999f277\"}, \"mark\": {\"type\": \"rule\", \"opacity\": 0.5}, \"encoding\": {\"x\": {\"type\": \"ordinal\", \"field\": \"x\"}, \"x2\": {\"field\": \"x2\"}, \"y\": {\"type\": \"quantitative\", \"field\": \"y\"}, \"y2\": {\"field\": \"y2\"}}}, {\"data\": {\"name\": \"data-f2655c0327252cd3dd2a84803f195e02\"}, \"mark\": {\"type\": \"text\", \"dx\": -15, \"font\": \"calibri\", \"opacity\": 0.8, \"size\": 20}, \"encoding\": {\"text\": {\"type\": \"nominal\", \"field\": \"text\"}, \"x\": {\"type\": \"ordinal\", \"field\": \"x\"}, \"y\": {\"type\": \"quantitative\", \"field\": \"y\"}}}, {\"data\": {\"name\": \"data-bb15910bf56711e82dc7d4c19068fa07\"}, \"mark\": {\"type\": \"text\", \"dx\": -14, \"font\": \"calibri\", \"opacity\": 0.8, \"size\": 20}, \"encoding\": {\"text\": {\"type\": \"nominal\", \"field\": \"text\"}, \"x\": {\"type\": \"ordinal\", \"field\": \"x\"}, \"y\": {\"type\": \"quantitative\", \"field\": \"y\"}}}, {\"data\": {\"name\": \"data-85b3bf7e1f42037a3bcabc5507b3a7a1\"}, \"mark\": {\"type\": \"text\", \"dx\": 13, \"dy\": -4, \"fontSize\": 11.5, \"fontWeight\": \"bold\", \"opacity\": 0.09}, \"encoding\": {\"text\": {\"type\": \"nominal\", \"field\": \"text\"}, \"x\": {\"type\": \"ordinal\", \"field\": \"x\"}, \"y\": {\"type\": \"quantitative\", \"field\": \"y\"}}}, {\"data\": {\"name\": \"data-18de21fe4d2523cc78f954d0b0c89bea\"}, \"mark\": {\"type\": \"text\", \"dx\": -28, \"font\": \"calibri\", \"opacity\": 0.8, \"size\": 20}, \"encoding\": {\"text\": {\"type\": \"nominal\", \"field\": \"text\"}, \"x\": {\"type\": \"ordinal\", \"field\": \"x\"}, \"y\": {\"type\": \"quantitative\", \"field\": \"y\"}}}, {\"data\": {\"name\": \"data-30ed47d657be459af8a90b985ad638cf\"}, \"mark\": {\"type\": \"text\", \"color\": \"#8ac3ff\", \"dx\": -20, \"font\": \"calibri\", \"size\": 22}, \"encoding\": {\"text\": {\"type\": \"nominal\", \"field\": \"text\"}, \"x\": {\"type\": \"ordinal\", \"field\": \"x\"}, \"y\": {\"type\": \"quantitative\", \"field\": \"y\"}}}, {\"data\": {\"name\": \"data-574dfa1d50654ab7d18fac0e7813f099\"}, \"mark\": {\"type\": \"text\", \"dx\": 12, \"font\": \"calibri\", \"opacity\": 0.8, \"size\": 22}, \"encoding\": {\"text\": {\"type\": \"nominal\", \"field\": \"text\"}, \"x\": {\"type\": \"ordinal\", \"field\": \"x\"}, \"y\": {\"type\": \"quantitative\", \"field\": \"y\"}}}, {\"data\": {\"name\": \"data-1fada8e2b97163d7920916608be23cda\"}, \"mark\": {\"type\": \"text\", \"color\": \"#ffc417\", \"dx\": 30, \"font\": \"calibri\", \"size\": 22}, \"encoding\": {\"text\": {\"type\": \"nominal\", \"field\": \"text\"}, \"x\": {\"type\": \"ordinal\", \"field\": \"x\"}, \"y\": {\"type\": \"quantitative\", \"field\": \"y\"}}}], \"data\": {\"name\": \"data-a4d8485472d8912f8f01dcf73fe3fab1\"}, \"$schema\": \"https://vega.github.io/schema/vega-lite/v4.0.0.json\", \"datasets\": {\"data-a4d8485472d8912f8f01dcf73fe3fab1\": [{\"Year\": 1990, \"Non_Mig\": 23010999, \"Inmig_Exemp\": 575795, \"In_Dom_Exemp\": 510523, \"Outmig_Exemp\": 733500, \"Out_Dom_Exemp\": 683293, \"Zero\": 0, \"Population\": 29558000, \"Net_Mig_Dom_Exemp\": -172770, \"Rel_Mig_Dom_Exemp\": -0.0075, \"Inmig_Exemp_pct_chg\": null, \"Outmig_Exemp_pct_chg\": null}, {\"Year\": 1991, \"Non_Mig\": 23340798, \"Inmig_Exemp\": 555276, \"In_Dom_Exemp\": 480749, \"Outmig_Exemp\": 745198, \"Out_Dom_Exemp\": 700419, \"Zero\": 0, \"Population\": 30143555, \"Net_Mig_Dom_Exemp\": -219670, \"Rel_Mig_Dom_Exemp\": -0.0094, \"Inmig_Exemp_pct_chg\": 0.035635946821351294, \"Outmig_Exemp_pct_chg\": 0.015948193592365323}, {\"Year\": 1992, \"Non_Mig\": 23236233, \"Inmig_Exemp\": 492967, \"In_Dom_Exemp\": 423060, \"Outmig_Exemp\": 872565, \"Out_Dom_Exemp\": 826534, \"Zero\": 0, \"Population\": 30722998, \"Net_Mig_Dom_Exemp\": -403474, \"Rel_Mig_Dom_Exemp\": -0.0174, \"Inmig_Exemp_pct_chg\": 0.11221266541323593, \"Outmig_Exemp_pct_chg\": 0.170916991188919}, {\"Year\": 1993, \"Non_Mig\": 22841596, \"Inmig_Exemp\": 469297, \"In_Dom_Exemp\": 415460, \"Outmig_Exemp\": 920270, \"Out_Dom_Exemp\": 877562, \"Zero\": 0, \"Population\": 31150786, \"Net_Mig_Dom_Exemp\": -462102, \"Rel_Mig_Dom_Exemp\": -0.0202, \"Inmig_Exemp_pct_chg\": 0.04801538439692721, \"Outmig_Exemp_pct_chg\": 0.05467214476858451}, {\"Year\": 1994, \"Non_Mig\": 22414007, \"Inmig_Exemp\": 494971, \"In_Dom_Exemp\": 441403, \"Outmig_Exemp\": 881558, \"Out_Dom_Exemp\": 841521, \"Zero\": 0, \"Population\": 31418940, \"Net_Mig_Dom_Exemp\": -400118, \"Rel_Mig_Dom_Exemp\": -0.0179, \"Inmig_Exemp_pct_chg\": 0.05470736015785316, \"Outmig_Exemp_pct_chg\": 0.042065915437860646}, {\"Year\": 1995, \"Non_Mig\": 22611353, \"Inmig_Exemp\": 502493, \"In_Dom_Exemp\": 454252, \"Outmig_Exemp\": 778525, \"Out_Dom_Exemp\": 740522, \"Zero\": 0, \"Population\": 31617770, \"Net_Mig_Dom_Exemp\": -286270, \"Rel_Mig_Dom_Exemp\": -0.0127, \"Inmig_Exemp_pct_chg\": 0.015196849916459643, \"Outmig_Exemp_pct_chg\": 0.11687603084538967}, {\"Year\": 1996, \"Non_Mig\": 22725592, \"Inmig_Exemp\": 554909, \"In_Dom_Exemp\": 503854, \"Outmig_Exemp\": 702779, \"Out_Dom_Exemp\": 665732, \"Zero\": 0, \"Population\": 31837399, \"Net_Mig_Dom_Exemp\": -161878, \"Rel_Mig_Dom_Exemp\": -0.0071, \"Inmig_Exemp_pct_chg\": 0.10431190086230058, \"Outmig_Exemp_pct_chg\": 0.0972942423172024}, {\"Year\": 1997, \"Non_Mig\": 23236858, \"Inmig_Exemp\": 575775, \"In_Dom_Exemp\": 526168, \"Outmig_Exemp\": 658276, \"Out_Dom_Exemp\": 623164, \"Zero\": 0, \"Population\": 32207869, \"Net_Mig_Dom_Exemp\": -96996, \"Rel_Mig_Dom_Exemp\": -0.0042, \"Inmig_Exemp_pct_chg\": 0.037602561861494355, \"Outmig_Exemp_pct_chg\": 0.06332431674822381}, {\"Year\": 1998, \"Non_Mig\": 24050991, \"Inmig_Exemp\": 563950, \"In_Dom_Exemp\": 513057, \"Outmig_Exemp\": 638682, \"Out_Dom_Exemp\": 603931, \"Zero\": 0, \"Population\": 32657877, \"Net_Mig_Dom_Exemp\": -90874, \"Rel_Mig_Dom_Exemp\": -0.0038, \"Inmig_Exemp_pct_chg\": 0.020537536364031106, \"Outmig_Exemp_pct_chg\": 0.02976563022197376}, {\"Year\": 1999, \"Non_Mig\": 24804140, \"Inmig_Exemp\": 569616, \"In_Dom_Exemp\": 519475, \"Outmig_Exemp\": 642844, \"Out_Dom_Exemp\": 608466, \"Zero\": 0, \"Population\": 33140771, \"Net_Mig_Dom_Exemp\": -88991, \"Rel_Mig_Dom_Exemp\": -0.0036, \"Inmig_Exemp_pct_chg\": 0.010046989981381316, \"Outmig_Exemp_pct_chg\": 0.006516545009879637}, {\"Year\": 2000, \"Non_Mig\": 25247901, \"Inmig_Exemp\": 597959, \"In_Dom_Exemp\": 545166, \"Outmig_Exemp\": 630167, \"Out_Dom_Exemp\": 596651, \"Zero\": 0, \"Population\": 33721583, \"Net_Mig_Dom_Exemp\": -51485, \"Rel_Mig_Dom_Exemp\": -0.002, \"Inmig_Exemp_pct_chg\": 0.04975808263812809, \"Outmig_Exemp_pct_chg\": 0.01972018094592154}, {\"Year\": 2001, \"Non_Mig\": 25671321, \"Inmig_Exemp\": 544126, \"In_Dom_Exemp\": 493798, \"Outmig_Exemp\": 659870, \"Out_Dom_Exemp\": 622808, \"Zero\": 0, \"Population\": 34256789, \"Net_Mig_Dom_Exemp\": -129010, \"Rel_Mig_Dom_Exemp\": -0.005, \"Inmig_Exemp_pct_chg\": 0.0900279116126691, \"Outmig_Exemp_pct_chg\": 0.04713512449874391}, {\"Year\": 2002, \"Non_Mig\": 26122706, \"Inmig_Exemp\": 532504, \"In_Dom_Exemp\": 483346, \"Outmig_Exemp\": 638459, \"Out_Dom_Exemp\": 600171, \"Zero\": 0, \"Population\": 34725516, \"Net_Mig_Dom_Exemp\": -116825, \"Rel_Mig_Dom_Exemp\": -0.0045, \"Inmig_Exemp_pct_chg\": 0.021359023461477666, \"Outmig_Exemp_pct_chg\": 0.032447300225802}, {\"Year\": 2003, \"Non_Mig\": 26305015, \"Inmig_Exemp\": 528463, \"In_Dom_Exemp\": 477282, \"Outmig_Exemp\": 678903, \"Out_Dom_Exemp\": 644064, \"Zero\": 0, \"Population\": 35163609, \"Net_Mig_Dom_Exemp\": -166782, \"Rel_Mig_Dom_Exemp\": -0.0063, \"Inmig_Exemp_pct_chg\": 0.0075886753902317805, \"Outmig_Exemp_pct_chg\": 0.06334627595507314}, {\"Year\": 2004, \"Non_Mig\": 26476088, \"Inmig_Exemp\": 523047, \"In_Dom_Exemp\": 472255, \"Outmig_Exemp\": 777522, \"Out_Dom_Exemp\": 742502, \"Zero\": 0, \"Population\": 35570847, \"Net_Mig_Dom_Exemp\": -270247, \"Rel_Mig_Dom_Exemp\": -0.0102, \"Inmig_Exemp_pct_chg\": 0.010248588832141525, \"Outmig_Exemp_pct_chg\": 0.14526228341898628}, {\"Year\": 2005, \"Non_Mig\": 26507063, \"Inmig_Exemp\": 536288, \"In_Dom_Exemp\": 486725, \"Outmig_Exemp\": 836039, \"Out_Dom_Exemp\": 804243, \"Zero\": 0, \"Population\": 35869173, \"Net_Mig_Dom_Exemp\": -317518, \"Rel_Mig_Dom_Exemp\": -0.012, \"Inmig_Exemp_pct_chg\": 0.02531512464463037, \"Outmig_Exemp_pct_chg\": 0.07526089293936367}, {\"Year\": 2006, \"Non_Mig\": 26759630, \"Inmig_Exemp\": 531858, \"In_Dom_Exemp\": 482501, \"Outmig_Exemp\": 790041, \"Out_Dom_Exemp\": 759202, \"Zero\": 0, \"Population\": 36116202, \"Net_Mig_Dom_Exemp\": -276701, \"Rel_Mig_Dom_Exemp\": -0.0103, \"Inmig_Exemp_pct_chg\": 0.008260486902559872, \"Outmig_Exemp_pct_chg\": 0.05501896442630072}, {\"Year\": 2007, \"Non_Mig\": 27732366, \"Inmig_Exemp\": 559826, \"In_Dom_Exemp\": 509583, \"Outmig_Exemp\": 686510, \"Out_Dom_Exemp\": 657174, \"Zero\": 0, \"Population\": 36399676, \"Net_Mig_Dom_Exemp\": -147591, \"Rel_Mig_Dom_Exemp\": -0.0053, \"Inmig_Exemp_pct_chg\": 0.05258546454128732, \"Outmig_Exemp_pct_chg\": 0.13104509765948857}, {\"Year\": 2008, \"Non_Mig\": 28410195, \"Inmig_Exemp\": 540578, \"In_Dom_Exemp\": 494408, \"Outmig_Exemp\": 615793, \"Out_Dom_Exemp\": 586221, \"Zero\": 0, \"Population\": 36704375, \"Net_Mig_Dom_Exemp\": -91813, \"Rel_Mig_Dom_Exemp\": -0.0032, \"Inmig_Exemp_pct_chg\": 0.03438211158467097, \"Outmig_Exemp_pct_chg\": 0.10300942448034256}, {\"Year\": 2009, \"Non_Mig\": 28448182, \"Inmig_Exemp\": 499411, \"In_Dom_Exemp\": 475287, \"Outmig_Exemp\": 558846, \"Out_Dom_Exemp\": 528720, \"Zero\": 0, \"Population\": 36966713, \"Net_Mig_Dom_Exemp\": -53433, \"Rel_Mig_Dom_Exemp\": -0.0019, \"Inmig_Exemp_pct_chg\": 0.07615367255049221, \"Outmig_Exemp_pct_chg\": 0.09247750461599924}, {\"Year\": 2010, \"Non_Mig\": 28690412, \"Inmig_Exemp\": 521730, \"In_Dom_Exemp\": 497837, \"Outmig_Exemp\": 566157, \"Out_Dom_Exemp\": 535709, \"Zero\": 0, \"Population\": 37223900, \"Net_Mig_Dom_Exemp\": -37872, \"Rel_Mig_Dom_Exemp\": -0.0013, \"Inmig_Exemp_pct_chg\": 0.04469064558049385, \"Outmig_Exemp_pct_chg\": 0.013082316058449006}, {\"Year\": 2011, \"Non_Mig\": 30080010, \"Inmig_Exemp\": 595147, \"In_Dom_Exemp\": 568923, \"Outmig_Exemp\": 620020, \"Out_Dom_Exemp\": 585539, \"Zero\": 0, \"Population\": 37594781, \"Net_Mig_Dom_Exemp\": -16616, \"Rel_Mig_Dom_Exemp\": -0.0006, \"Inmig_Exemp_pct_chg\": 0.14071837923830333, \"Outmig_Exemp_pct_chg\": 0.0951379211066894}, {\"Year\": 2012, \"Non_Mig\": 30139423, \"Inmig_Exemp\": 611235, \"In_Dom_Exemp\": 583785, \"Outmig_Exemp\": 671025, \"Out_Dom_Exemp\": 637477, \"Zero\": 0, \"Population\": 37971427, \"Net_Mig_Dom_Exemp\": -53692, \"Rel_Mig_Dom_Exemp\": -0.0018, \"Inmig_Exemp_pct_chg\": 0.027031976973756144, \"Outmig_Exemp_pct_chg\": 0.08226347537176215}, {\"Year\": 2013, \"Non_Mig\": 30251074, \"Inmig_Exemp\": 574638, \"In_Dom_Exemp\": 547767, \"Outmig_Exemp\": 649519, \"Out_Dom_Exemp\": 618181, \"Zero\": 0, \"Population\": 38321459, \"Net_Mig_Dom_Exemp\": -70414, \"Rel_Mig_Dom_Exemp\": -0.0023, \"Inmig_Exemp_pct_chg\": 0.05987386193526223, \"Outmig_Exemp_pct_chg\": 0.03204947654707346}, {\"Year\": 2014, \"Non_Mig\": 30666470, \"Inmig_Exemp\": 433536, \"In_Dom_Exemp\": 406389, \"Outmig_Exemp\": 489155, \"Out_Dom_Exemp\": 460399, \"Zero\": 0, \"Population\": 38622301, \"Net_Mig_Dom_Exemp\": -54010, \"Rel_Mig_Dom_Exemp\": -0.0018, \"Inmig_Exemp_pct_chg\": 0.2455493719524292, \"Outmig_Exemp_pct_chg\": 0.24689654960055052}, {\"Year\": 2015, \"Non_Mig\": 30665600, \"Inmig_Exemp\": 576351, \"In_Dom_Exemp\": 549303, \"Outmig_Exemp\": 694320, \"Out_Dom_Exemp\": 661996, \"Zero\": 0, \"Population\": 38952462, \"Net_Mig_Dom_Exemp\": -112693, \"Rel_Mig_Dom_Exemp\": -0.0037, \"Inmig_Exemp_pct_chg\": 0.3294190101860053, \"Outmig_Exemp_pct_chg\": 0.4194273798693666}, {\"Year\": 2016, \"Non_Mig\": 30323418, \"Inmig_Exemp\": 738692, \"In_Dom_Exemp\": 724426, \"Outmig_Exemp\": 970679, \"Out_Dom_Exemp\": 954708, \"Zero\": 0, \"Population\": 39214803, \"Net_Mig_Dom_Exemp\": -230282, \"Rel_Mig_Dom_Exemp\": -0.0076, \"Inmig_Exemp_pct_chg\": 0.2816703710065567, \"Outmig_Exemp_pct_chg\": 0.39802828666897105}, {\"Year\": 2017, \"Non_Mig\": 30682756, \"Inmig_Exemp\": 568011, \"In_Dom_Exemp\": 553447, \"Outmig_Exemp\": 763116, \"Out_Dom_Exemp\": 750691, \"Zero\": 0, \"Population\": 39504609, \"Net_Mig_Dom_Exemp\": -197244, \"Rel_Mig_Dom_Exemp\": -0.0064, \"Inmig_Exemp_pct_chg\": 0.2310584113541232, \"Outmig_Exemp_pct_chg\": 0.2138327912729131}], \"data-7766b6e61af589cf514fcdaa0e1c737e\": [{\"x\": 2002, \"y\": 1100000, \"text\": \" relationship from 1990 to 2007 but have since shifted to a direct one.\"}], \"data-d03bdf86b95b1953dd0fa3a8fccbb880\": [{\"x\": 1999, \"y\": 330000, \"text\": \"Inverse Relationship\"}, {\"x\": 2013, \"y\": 330000, \"text\": \"Direct Relationship\"}], \"data-e116a4b96ea99a9cab298a2a7999f277\": [{\"x\": 1999.0, \"x2\": 1999.0, \"y\": 400000, \"y2\": 370000}, {\"x\": 1990.0, \"x2\": 1990.0, \"y\": 400000, \"y2\": 430000}, {\"x\": 1990.0, \"x2\": 2007.0, \"y\": 400000, \"y2\": 400000}, {\"x\": 2007.0, \"x2\": 2007.0, \"y\": 430000, \"y2\": 400000}, {\"x\": 2013.0, \"x2\": 2013.0, \"y\": 400000, \"y2\": 370000}, {\"x\": 2007.1, \"x2\": 2007.1, \"y\": 430000, \"y2\": 400000}, {\"x\": 2007.1, \"x2\": 2017.0, \"y\": 400000, \"y2\": 400000}, {\"x\": 2017.0, \"x2\": 2017.0, \"y\": 400000, \"y2\": 430000}], \"data-f2655c0327252cd3dd2a84803f195e02\": [{\"x\": 1990, \"y\": 1000000, \"text\": \"1 million\"}], \"data-bb15910bf56711e82dc7d4c19068fa07\": [{\"x\": 1990, \"y\": 950000, \"text\": \"migrants\"}], \"data-85b3bf7e1f42037a3bcabc5507b3a7a1\": [{\"x\": 2004, \"y\": 1000000, \"text\": \"__________________________________________________________________________________________\"}], \"data-18de21fe4d2523cc78f954d0b0c89bea\": [{\"x\": 1990, \"y\": 200000, \"text\": \"200k\"}, {\"x\": 1990, \"y\": 400000, \"text\": \"400k\"}, {\"x\": 1990, \"y\": 600000, \"text\": \"600k\"}, {\"x\": 1990, \"y\": 800000, \"text\": \"800k\"}], \"data-30ed47d657be459af8a90b985ad638cf\": [{\"x\": 1990, \"y\": 1160000, \"text\": \"Inward\"}], \"data-574dfa1d50654ab7d18fac0e7813f099\": [{\"x\": 1991, \"y\": 1160000, \"text\": \"and\"}], \"data-1fada8e2b97163d7920916608be23cda\": [{\"x\": 1993, \"y\": 1160000, \"text\": \"outward\"}]}}, {\"mode\": \"vega-lite\"});\n",
       "</script>"
      ],
      "text/plain": [
       "alt.LayerChart(...)"
      ]
     },
     "execution_count": 373,
     "metadata": {},
     "output_type": "execute_result"
    }
   ],
   "source": [
    "inmig = alt.Chart(comb, title='California Domestic Migration Trends'\n",
    "                 ).mark_line(size=5, strokeCap='round', interpolate='basis', color='#8ac3ff'\n",
    "                            ).encode(x=alt.X('Year:O', axis=alt.Axis(values=[1990,2000,2010,2017], labelOpacity=.8, labelFontSize=20)),\n",
    "                                     y=alt.Y('In_Dom_Exemp', title='migration trends were characterized by an inverse',\n",
    "                                             axis=alt.Axis(values=list(range(200000,1000000,200000)), \n",
    "                                                           titleFontSize=22, titleOpacity=.8, titleX=145, titleY=28.5, labelPadding=35, labelOpacity=0, labelFontSize=20)))\n",
    "outmig = alt.Chart(comb).mark_line(size=5, strokeCap='round', interpolate='basis',color='#ffc417').encode(x='Year:O',y='Out_Dom_Exemp')\n",
    "area = alt.Chart(comb).mark_area(interpolate='basis', color='lightgray', opacity=.15).encode(x='Year:O', y='In_Dom_Exemp', y2='Out_Dom_Exemp')\n",
    "\n",
    "title_line2 = alt.Chart(pd.DataFrame({'x':[2002],'y':[1100000],'text':[' relationship from 1990 to 2007 but have since shifted to a direct one.']})).mark_text(dx=9, size=22, font='calibri', opacity=.9).encode(x='x:O',y='y',text='text')\n",
    "\n",
    "pattern_text = alt.Chart(pd.DataFrame({'x':[1999,2013], 'y':[330000]*2, \n",
    "                               'text':['Inverse Relationship', 'Direct Relationship']})).mark_text(font='calibri', size=24, opacity=.8).encode(x='x:O',y='y',text='text')\n",
    "line_df = pd.DataFrame({'x':[1999,1990,1990,2007,2013,2007.1,2007.1,2017], \n",
    "                        'x2':[1999,1990,2007,2007,2013,2007.1,2017,2017], \n",
    "                        'y':[400000,400000,400000,430000,400000,430000,400000,400000], \n",
    "                        'y2':[370000,430000,400000,400000,370000,400000,400000,430000]})\n",
    "\n",
    "lines = alt.Chart(line_df).mark_rule(opacity=.5).encode(x='x:O',x2='x2',y='y',y2='y2')\n",
    "y_line = line = alt.Chart(pd.DataFrame({'x':[2004],'y':[1000000],'text':['_'*90]})).mark_text(dx=13, dy=-4, opacity=.09, fontSize=11.5, fontWeight='bold').encode(x='x:O', y='y', text='text')\n",
    "y_label_mil = alt.Chart(pd.DataFrame({'x':[1990],'y':[1000000],'text':['1 million']})).mark_text(font='calibri', size=20, opacity=.8, dx=-15).encode(x='x:O',y='y',text='text')\n",
    "y_label_mig = alt.Chart(pd.DataFrame({'x':[1990],'y':[950000],'text':['migrants']})).mark_text(font='calibri', size=20, opacity=.8, dx=-14).encode(x='x:O',y='y',text='text')\n",
    "y_labels = alt.Chart(pd.DataFrame({'x':[1990]*4,'y':list(range(200000,1000000,200000)),'text':[str(i) +'k' for i in range(200,1000,200)]})).mark_text(font='calibri', size=20, opacity=.8, dx=-28).encode(x='x:O',y='y',text='text')\n",
    "#horizontal_dash = alt.Chart(pd.DataFrame({'x':[1990],'x2':[2007.1],'y':[565000]})).mark_rule(opacity=.5, strokeDash=[5,5]).encode(x='x:O',x2='x2',y='y')\n",
    "#white_box1 = alt.Chart(pd.DataFrame({'x':[1990],'x2':[1996],'y':[1200000],'y2':[1150000]})).mark_rect(color='black').encode(x='x:O',y='y',y2='y2')\n",
    "label_inward = alt.Chart(pd.DataFrame(pd.DataFrame({'x':[1990],'y':[1160000],'text':['Inward']}))).mark_text(color='#8ac3ff', size=22, font='calibri', dx=-20).encode(x='x:O',y='y',text='text')\n",
    "label_and = alt.Chart(pd.DataFrame(pd.DataFrame({'x':[1991],'y':[1160000],'text':['and']}))).mark_text(size=22, font='calibri', dx=12, opacity=.8).encode(x='x:O',y='y',text='text')\n",
    "label_outward = alt.Chart(pd.DataFrame(pd.DataFrame({'x':[1993],'y':[1160000],'text':['outward']}))).mark_text(color='#ffc417', size=22, font='calibri', dx=30).encode(x='x:O',y='y',text='text')\n",
    "\n",
    "in_out = (area + outmig + inmig + title_line2 + pattern_text + lines + y_label_mil + y_label_mig + y_line + y_labels + label_inward + label_and + label_outward).properties(height=500)\n",
    "in_out"
   ]
  },
  {
   "cell_type": "code",
   "execution_count": 374,
   "metadata": {},
   "outputs": [],
   "source": [
    "in_out.save('CA_in_out_mig_9017.svg')"
   ]
  },
  {
   "cell_type": "code",
   "execution_count": 357,
   "metadata": {},
   "outputs": [
    {
     "data": {
      "text/html": [
       "\n",
       "<div id=\"altair-viz-99\"></div>\n",
       "<script type=\"text/javascript\">\n",
       "  (function(spec, embedOpt){\n",
       "    const outputDiv = document.getElementById(\"altair-viz-99\");\n",
       "    const paths = {\n",
       "      \"vega\": \"https://cdn.jsdelivr.net/npm//vega@5?noext\",\n",
       "      \"vega-lib\": \"https://cdn.jsdelivr.net/npm//vega-lib?noext\",\n",
       "      \"vega-lite\": \"https://cdn.jsdelivr.net/npm//vega-lite@4.0.0?noext\",\n",
       "      \"vega-embed\": \"https://cdn.jsdelivr.net/npm//vega-embed@6?noext\",\n",
       "    };\n",
       "\n",
       "    function loadScript(lib) {\n",
       "      return new Promise(function(resolve, reject) {\n",
       "        var s = document.createElement('script');\n",
       "        s.src = paths[lib];\n",
       "        s.async = true;\n",
       "        s.onload = () => resolve(paths[lib]);\n",
       "        s.onerror = () => reject(`Error loading script: ${paths[lib]}`);\n",
       "        document.getElementsByTagName(\"head\")[0].appendChild(s);\n",
       "      });\n",
       "    }\n",
       "\n",
       "    function showError(err) {\n",
       "      outputDiv.innerHTML = `<div class=\"error\" style=\"color:red;\">${err}</div>`;\n",
       "      throw err;\n",
       "    }\n",
       "\n",
       "    function displayChart(vegaEmbed) {\n",
       "      vegaEmbed(outputDiv, spec, embedOpt)\n",
       "        .catch(err => showError(`Javascript Error: ${err.message}<br>This usually means there's a typo in your chart specification. See the javascript console for the full traceback.`));\n",
       "    }\n",
       "\n",
       "    if(typeof define === \"function\" && define.amd) {\n",
       "      requirejs.config({paths});\n",
       "      require([\"vega-embed\"], displayChart, err => showError(`Error loading script: ${err.message}`));\n",
       "    } else if (typeof vegaEmbed === \"function\") {\n",
       "      displayChart(vegaEmbed);\n",
       "    } else {\n",
       "      loadScript(\"vega\")\n",
       "        .then(() => loadScript(\"vega-lite\"))\n",
       "        .then(() => loadScript(\"vega-embed\"))\n",
       "        .catch(showError)\n",
       "        .then(() => displayChart(vegaEmbed));\n",
       "    }\n",
       "  })({\"width\": 600, \"height\": 500, \"background\": \"white\", \"config\": {\"title\": {\"fontWeight\": \"normal\", \"fontSize\": 30, \"anchor\": \"start\", \"font\": \"Calibri\", \"offset\": 5}, \"axisX\": {\"grid\": false, \"labelFont\": \"Calibri\", \"labelFontSize\": 16, \"labelAngle\": 0, \"labelPadding\": 10, \"ticks\": false, \"tickSize\": 5, \"title\": null, \"titleFont\": \"Calibri\", \"titleFontSize\": 16, \"titleFontWeight\": \"normal\", \"titleY\": 30, \"titleX\": 280}, \"axisY\": {\"grid\": true, \"gridOpacity\": 1, \"labelFont\": \"Calibri\", \"labelFontSize\": 16, \"labelLimit\": 100, \"labelAlign\": \"left\", \"labelPadding\": 20, \"ticks\": false, \"title\": null, \"titleFont\": \"Calibri\", \"titleFontWeight\": \"normal\", \"titleFontSize\": 17, \"titleAlign\": \"left\", \"titleAngle\": 0, \"titleY\": -20, \"titleX\": -20, \"domainWidth\": 0}, \"view\": {\"strokeOpacity\": 0}}, \"layer\": [{\"mark\": {\"type\": \"area\", \"color\": \"lightgray\", \"interpolate\": \"basis\", \"opacity\": 0.15}, \"encoding\": {\"x\": {\"type\": \"ordinal\", \"field\": \"Year\"}, \"y\": {\"type\": \"quantitative\", \"field\": \"In_Dom_Exemp\"}, \"y2\": {\"field\": \"Out_Dom_Exemp\"}}}, {\"mark\": {\"type\": \"line\", \"color\": \"#ffc417\", \"interpolate\": \"basis\", \"size\": 5, \"strokeCap\": \"round\"}, \"encoding\": {\"x\": {\"type\": \"ordinal\", \"field\": \"Year\"}, \"y\": {\"type\": \"quantitative\", \"field\": \"Out_Dom_Exemp\"}}}, {\"mark\": {\"type\": \"line\", \"color\": \"#8ac3ff\", \"interpolate\": \"basis\", \"size\": 5, \"strokeCap\": \"round\"}, \"encoding\": {\"x\": {\"type\": \"ordinal\", \"axis\": {\"labelFontSize\": 20, \"labelOpacity\": 0.8, \"values\": [1990, 2000, 2010, 2017]}, \"field\": \"Year\"}, \"y\": {\"type\": \"quantitative\", \"axis\": {\"labelFontSize\": 20, \"labelOpacity\": 0, \"labelPadding\": 35, \"titleFontSize\": 22, \"titleOpacity\": 0.8, \"titleX\": 148, \"titleY\": 20, \"values\": [200000, 400000, 600000, 800000]}, \"field\": \"In_Dom_Exemp\", \"title\": \"migration totals based on IRS tax filing data\"}}, \"title\": \"California Inward and Outward Migration\"}, {\"data\": {\"name\": \"data-f2655c0327252cd3dd2a84803f195e02\"}, \"mark\": {\"type\": \"text\", \"dx\": -15, \"font\": \"calibri\", \"opacity\": 0.8, \"size\": 20}, \"encoding\": {\"text\": {\"type\": \"nominal\", \"field\": \"text\"}, \"x\": {\"type\": \"ordinal\", \"field\": \"x\"}, \"y\": {\"type\": \"quantitative\", \"field\": \"y\"}}}, {\"data\": {\"name\": \"data-bb15910bf56711e82dc7d4c19068fa07\"}, \"mark\": {\"type\": \"text\", \"dx\": -14, \"font\": \"calibri\", \"opacity\": 0.8, \"size\": 20}, \"encoding\": {\"text\": {\"type\": \"nominal\", \"field\": \"text\"}, \"x\": {\"type\": \"ordinal\", \"field\": \"x\"}, \"y\": {\"type\": \"quantitative\", \"field\": \"y\"}}}, {\"data\": {\"name\": \"data-e948642a059e099bb167e0f9d69cf1b4\"}, \"mark\": {\"type\": \"text\", \"dx\": 10, \"dy\": -4, \"fontSize\": 11.5, \"fontWeight\": \"bold\", \"opacity\": 0.09}, \"encoding\": {\"text\": {\"type\": \"nominal\", \"field\": \"text\"}, \"x\": {\"type\": \"ordinal\", \"field\": \"x\"}, \"y\": {\"type\": \"quantitative\", \"field\": \"y\"}}}, {\"data\": {\"name\": \"data-18de21fe4d2523cc78f954d0b0c89bea\"}, \"mark\": {\"type\": \"text\", \"dx\": -28, \"font\": \"calibri\", \"opacity\": 0.8, \"size\": 20}, \"encoding\": {\"text\": {\"type\": \"nominal\", \"field\": \"text\"}, \"x\": {\"type\": \"ordinal\", \"field\": \"x\"}, \"y\": {\"type\": \"quantitative\", \"field\": \"y\"}}}, {\"data\": {\"name\": \"data-798877858114173f3e9f55b728ee5639\"}, \"mark\": {\"type\": \"text\", \"color\": \"#8ac3ff\", \"dx\": -20, \"font\": \"calibri\", \"size\": 22}, \"encoding\": {\"text\": {\"type\": \"nominal\", \"field\": \"text\"}, \"x\": {\"type\": \"ordinal\", \"field\": \"x\"}, \"y\": {\"type\": \"quantitative\", \"field\": \"y\"}}}, {\"data\": {\"name\": \"data-be5ecfd9db81ee58bb5b0af448d87180\"}, \"mark\": {\"type\": \"text\", \"dx\": 12, \"font\": \"calibri\", \"opacity\": 0.8, \"size\": 22}, \"encoding\": {\"text\": {\"type\": \"nominal\", \"field\": \"text\"}, \"x\": {\"type\": \"ordinal\", \"field\": \"x\"}, \"y\": {\"type\": \"quantitative\", \"field\": \"y\"}}}, {\"data\": {\"name\": \"data-b69a7570f90a556bf1d69fd65117ced7\"}, \"mark\": {\"type\": \"text\", \"color\": \"#ffc417\", \"dx\": 30, \"font\": \"calibri\", \"size\": 22}, \"encoding\": {\"text\": {\"type\": \"nominal\", \"field\": \"text\"}, \"x\": {\"type\": \"ordinal\", \"field\": \"x\"}, \"y\": {\"type\": \"quantitative\", \"field\": \"y\"}}}], \"data\": {\"name\": \"data-a4d8485472d8912f8f01dcf73fe3fab1\"}, \"$schema\": \"https://vega.github.io/schema/vega-lite/v4.0.0.json\", \"datasets\": {\"data-a4d8485472d8912f8f01dcf73fe3fab1\": [{\"Year\": 1990, \"Non_Mig\": 23010999, \"Inmig_Exemp\": 575795, \"In_Dom_Exemp\": 510523, \"Outmig_Exemp\": 733500, \"Out_Dom_Exemp\": 683293, \"Zero\": 0, \"Population\": 29558000, \"Net_Mig_Dom_Exemp\": -172770, \"Rel_Mig_Dom_Exemp\": -0.0075, \"Inmig_Exemp_pct_chg\": null, \"Outmig_Exemp_pct_chg\": null}, {\"Year\": 1991, \"Non_Mig\": 23340798, \"Inmig_Exemp\": 555276, \"In_Dom_Exemp\": 480749, \"Outmig_Exemp\": 745198, \"Out_Dom_Exemp\": 700419, \"Zero\": 0, \"Population\": 30143555, \"Net_Mig_Dom_Exemp\": -219670, \"Rel_Mig_Dom_Exemp\": -0.0094, \"Inmig_Exemp_pct_chg\": 0.035635946821351294, \"Outmig_Exemp_pct_chg\": 0.015948193592365323}, {\"Year\": 1992, \"Non_Mig\": 23236233, \"Inmig_Exemp\": 492967, \"In_Dom_Exemp\": 423060, \"Outmig_Exemp\": 872565, \"Out_Dom_Exemp\": 826534, \"Zero\": 0, \"Population\": 30722998, \"Net_Mig_Dom_Exemp\": -403474, \"Rel_Mig_Dom_Exemp\": -0.0174, \"Inmig_Exemp_pct_chg\": 0.11221266541323593, \"Outmig_Exemp_pct_chg\": 0.170916991188919}, {\"Year\": 1993, \"Non_Mig\": 22841596, \"Inmig_Exemp\": 469297, \"In_Dom_Exemp\": 415460, \"Outmig_Exemp\": 920270, \"Out_Dom_Exemp\": 877562, \"Zero\": 0, \"Population\": 31150786, \"Net_Mig_Dom_Exemp\": -462102, \"Rel_Mig_Dom_Exemp\": -0.0202, \"Inmig_Exemp_pct_chg\": 0.04801538439692721, \"Outmig_Exemp_pct_chg\": 0.05467214476858451}, {\"Year\": 1994, \"Non_Mig\": 22414007, \"Inmig_Exemp\": 494971, \"In_Dom_Exemp\": 441403, \"Outmig_Exemp\": 881558, \"Out_Dom_Exemp\": 841521, \"Zero\": 0, \"Population\": 31418940, \"Net_Mig_Dom_Exemp\": -400118, \"Rel_Mig_Dom_Exemp\": -0.0179, \"Inmig_Exemp_pct_chg\": 0.05470736015785316, \"Outmig_Exemp_pct_chg\": 0.042065915437860646}, {\"Year\": 1995, \"Non_Mig\": 22611353, \"Inmig_Exemp\": 502493, \"In_Dom_Exemp\": 454252, \"Outmig_Exemp\": 778525, \"Out_Dom_Exemp\": 740522, \"Zero\": 0, \"Population\": 31617770, \"Net_Mig_Dom_Exemp\": -286270, \"Rel_Mig_Dom_Exemp\": -0.0127, \"Inmig_Exemp_pct_chg\": 0.015196849916459643, \"Outmig_Exemp_pct_chg\": 0.11687603084538967}, {\"Year\": 1996, \"Non_Mig\": 22725592, \"Inmig_Exemp\": 554909, \"In_Dom_Exemp\": 503854, \"Outmig_Exemp\": 702779, \"Out_Dom_Exemp\": 665732, \"Zero\": 0, \"Population\": 31837399, \"Net_Mig_Dom_Exemp\": -161878, \"Rel_Mig_Dom_Exemp\": -0.0071, \"Inmig_Exemp_pct_chg\": 0.10431190086230058, \"Outmig_Exemp_pct_chg\": 0.0972942423172024}, {\"Year\": 1997, \"Non_Mig\": 23236858, \"Inmig_Exemp\": 575775, \"In_Dom_Exemp\": 526168, \"Outmig_Exemp\": 658276, \"Out_Dom_Exemp\": 623164, \"Zero\": 0, \"Population\": 32207869, \"Net_Mig_Dom_Exemp\": -96996, \"Rel_Mig_Dom_Exemp\": -0.0042, \"Inmig_Exemp_pct_chg\": 0.037602561861494355, \"Outmig_Exemp_pct_chg\": 0.06332431674822381}, {\"Year\": 1998, \"Non_Mig\": 24050991, \"Inmig_Exemp\": 563950, \"In_Dom_Exemp\": 513057, \"Outmig_Exemp\": 638682, \"Out_Dom_Exemp\": 603931, \"Zero\": 0, \"Population\": 32657877, \"Net_Mig_Dom_Exemp\": -90874, \"Rel_Mig_Dom_Exemp\": -0.0038, \"Inmig_Exemp_pct_chg\": 0.020537536364031106, \"Outmig_Exemp_pct_chg\": 0.02976563022197376}, {\"Year\": 1999, \"Non_Mig\": 24804140, \"Inmig_Exemp\": 569616, \"In_Dom_Exemp\": 519475, \"Outmig_Exemp\": 642844, \"Out_Dom_Exemp\": 608466, \"Zero\": 0, \"Population\": 33140771, \"Net_Mig_Dom_Exemp\": -88991, \"Rel_Mig_Dom_Exemp\": -0.0036, \"Inmig_Exemp_pct_chg\": 0.010046989981381316, \"Outmig_Exemp_pct_chg\": 0.006516545009879637}, {\"Year\": 2000, \"Non_Mig\": 25247901, \"Inmig_Exemp\": 597959, \"In_Dom_Exemp\": 545166, \"Outmig_Exemp\": 630167, \"Out_Dom_Exemp\": 596651, \"Zero\": 0, \"Population\": 33721583, \"Net_Mig_Dom_Exemp\": -51485, \"Rel_Mig_Dom_Exemp\": -0.002, \"Inmig_Exemp_pct_chg\": 0.04975808263812809, \"Outmig_Exemp_pct_chg\": 0.01972018094592154}, {\"Year\": 2001, \"Non_Mig\": 25671321, \"Inmig_Exemp\": 544126, \"In_Dom_Exemp\": 493798, \"Outmig_Exemp\": 659870, \"Out_Dom_Exemp\": 622808, \"Zero\": 0, \"Population\": 34256789, \"Net_Mig_Dom_Exemp\": -129010, \"Rel_Mig_Dom_Exemp\": -0.005, \"Inmig_Exemp_pct_chg\": 0.0900279116126691, \"Outmig_Exemp_pct_chg\": 0.04713512449874391}, {\"Year\": 2002, \"Non_Mig\": 26122706, \"Inmig_Exemp\": 532504, \"In_Dom_Exemp\": 483346, \"Outmig_Exemp\": 638459, \"Out_Dom_Exemp\": 600171, \"Zero\": 0, \"Population\": 34725516, \"Net_Mig_Dom_Exemp\": -116825, \"Rel_Mig_Dom_Exemp\": -0.0045, \"Inmig_Exemp_pct_chg\": 0.021359023461477666, \"Outmig_Exemp_pct_chg\": 0.032447300225802}, {\"Year\": 2003, \"Non_Mig\": 26305015, \"Inmig_Exemp\": 528463, \"In_Dom_Exemp\": 477282, \"Outmig_Exemp\": 678903, \"Out_Dom_Exemp\": 644064, \"Zero\": 0, \"Population\": 35163609, \"Net_Mig_Dom_Exemp\": -166782, \"Rel_Mig_Dom_Exemp\": -0.0063, \"Inmig_Exemp_pct_chg\": 0.0075886753902317805, \"Outmig_Exemp_pct_chg\": 0.06334627595507314}, {\"Year\": 2004, \"Non_Mig\": 26476088, \"Inmig_Exemp\": 523047, \"In_Dom_Exemp\": 472255, \"Outmig_Exemp\": 777522, \"Out_Dom_Exemp\": 742502, \"Zero\": 0, \"Population\": 35570847, \"Net_Mig_Dom_Exemp\": -270247, \"Rel_Mig_Dom_Exemp\": -0.0102, \"Inmig_Exemp_pct_chg\": 0.010248588832141525, \"Outmig_Exemp_pct_chg\": 0.14526228341898628}, {\"Year\": 2005, \"Non_Mig\": 26507063, \"Inmig_Exemp\": 536288, \"In_Dom_Exemp\": 486725, \"Outmig_Exemp\": 836039, \"Out_Dom_Exemp\": 804243, \"Zero\": 0, \"Population\": 35869173, \"Net_Mig_Dom_Exemp\": -317518, \"Rel_Mig_Dom_Exemp\": -0.012, \"Inmig_Exemp_pct_chg\": 0.02531512464463037, \"Outmig_Exemp_pct_chg\": 0.07526089293936367}, {\"Year\": 2006, \"Non_Mig\": 26759630, \"Inmig_Exemp\": 531858, \"In_Dom_Exemp\": 482501, \"Outmig_Exemp\": 790041, \"Out_Dom_Exemp\": 759202, \"Zero\": 0, \"Population\": 36116202, \"Net_Mig_Dom_Exemp\": -276701, \"Rel_Mig_Dom_Exemp\": -0.0103, \"Inmig_Exemp_pct_chg\": 0.008260486902559872, \"Outmig_Exemp_pct_chg\": 0.05501896442630072}, {\"Year\": 2007, \"Non_Mig\": 27732366, \"Inmig_Exemp\": 559826, \"In_Dom_Exemp\": 509583, \"Outmig_Exemp\": 686510, \"Out_Dom_Exemp\": 657174, \"Zero\": 0, \"Population\": 36399676, \"Net_Mig_Dom_Exemp\": -147591, \"Rel_Mig_Dom_Exemp\": -0.0053, \"Inmig_Exemp_pct_chg\": 0.05258546454128732, \"Outmig_Exemp_pct_chg\": 0.13104509765948857}, {\"Year\": 2008, \"Non_Mig\": 28410195, \"Inmig_Exemp\": 540578, \"In_Dom_Exemp\": 494408, \"Outmig_Exemp\": 615793, \"Out_Dom_Exemp\": 586221, \"Zero\": 0, \"Population\": 36704375, \"Net_Mig_Dom_Exemp\": -91813, \"Rel_Mig_Dom_Exemp\": -0.0032, \"Inmig_Exemp_pct_chg\": 0.03438211158467097, \"Outmig_Exemp_pct_chg\": 0.10300942448034256}, {\"Year\": 2009, \"Non_Mig\": 28448182, \"Inmig_Exemp\": 499411, \"In_Dom_Exemp\": 475287, \"Outmig_Exemp\": 558846, \"Out_Dom_Exemp\": 528720, \"Zero\": 0, \"Population\": 36966713, \"Net_Mig_Dom_Exemp\": -53433, \"Rel_Mig_Dom_Exemp\": -0.0019, \"Inmig_Exemp_pct_chg\": 0.07615367255049221, \"Outmig_Exemp_pct_chg\": 0.09247750461599924}, {\"Year\": 2010, \"Non_Mig\": 28690412, \"Inmig_Exemp\": 521730, \"In_Dom_Exemp\": 497837, \"Outmig_Exemp\": 566157, \"Out_Dom_Exemp\": 535709, \"Zero\": 0, \"Population\": 37223900, \"Net_Mig_Dom_Exemp\": -37872, \"Rel_Mig_Dom_Exemp\": -0.0013, \"Inmig_Exemp_pct_chg\": 0.04469064558049385, \"Outmig_Exemp_pct_chg\": 0.013082316058449006}, {\"Year\": 2011, \"Non_Mig\": 30080010, \"Inmig_Exemp\": 595147, \"In_Dom_Exemp\": 568923, \"Outmig_Exemp\": 620020, \"Out_Dom_Exemp\": 585539, \"Zero\": 0, \"Population\": 37594781, \"Net_Mig_Dom_Exemp\": -16616, \"Rel_Mig_Dom_Exemp\": -0.0006, \"Inmig_Exemp_pct_chg\": 0.14071837923830333, \"Outmig_Exemp_pct_chg\": 0.0951379211066894}, {\"Year\": 2012, \"Non_Mig\": 30139423, \"Inmig_Exemp\": 611235, \"In_Dom_Exemp\": 583785, \"Outmig_Exemp\": 671025, \"Out_Dom_Exemp\": 637477, \"Zero\": 0, \"Population\": 37971427, \"Net_Mig_Dom_Exemp\": -53692, \"Rel_Mig_Dom_Exemp\": -0.0018, \"Inmig_Exemp_pct_chg\": 0.027031976973756144, \"Outmig_Exemp_pct_chg\": 0.08226347537176215}, {\"Year\": 2013, \"Non_Mig\": 30251074, \"Inmig_Exemp\": 574638, \"In_Dom_Exemp\": 547767, \"Outmig_Exemp\": 649519, \"Out_Dom_Exemp\": 618181, \"Zero\": 0, \"Population\": 38321459, \"Net_Mig_Dom_Exemp\": -70414, \"Rel_Mig_Dom_Exemp\": -0.0023, \"Inmig_Exemp_pct_chg\": 0.05987386193526223, \"Outmig_Exemp_pct_chg\": 0.03204947654707346}, {\"Year\": 2014, \"Non_Mig\": 30666470, \"Inmig_Exemp\": 433536, \"In_Dom_Exemp\": 406389, \"Outmig_Exemp\": 489155, \"Out_Dom_Exemp\": 460399, \"Zero\": 0, \"Population\": 38622301, \"Net_Mig_Dom_Exemp\": -54010, \"Rel_Mig_Dom_Exemp\": -0.0018, \"Inmig_Exemp_pct_chg\": 0.2455493719524292, \"Outmig_Exemp_pct_chg\": 0.24689654960055052}, {\"Year\": 2015, \"Non_Mig\": 30665600, \"Inmig_Exemp\": 576351, \"In_Dom_Exemp\": 549303, \"Outmig_Exemp\": 694320, \"Out_Dom_Exemp\": 661996, \"Zero\": 0, \"Population\": 38952462, \"Net_Mig_Dom_Exemp\": -112693, \"Rel_Mig_Dom_Exemp\": -0.0037, \"Inmig_Exemp_pct_chg\": 0.3294190101860053, \"Outmig_Exemp_pct_chg\": 0.4194273798693666}, {\"Year\": 2016, \"Non_Mig\": 30323418, \"Inmig_Exemp\": 738692, \"In_Dom_Exemp\": 724426, \"Outmig_Exemp\": 970679, \"Out_Dom_Exemp\": 954708, \"Zero\": 0, \"Population\": 39214803, \"Net_Mig_Dom_Exemp\": -230282, \"Rel_Mig_Dom_Exemp\": -0.0076, \"Inmig_Exemp_pct_chg\": 0.2816703710065567, \"Outmig_Exemp_pct_chg\": 0.39802828666897105}, {\"Year\": 2017, \"Non_Mig\": 30682756, \"Inmig_Exemp\": 568011, \"In_Dom_Exemp\": 553447, \"Outmig_Exemp\": 763116, \"Out_Dom_Exemp\": 750691, \"Zero\": 0, \"Population\": 39504609, \"Net_Mig_Dom_Exemp\": -197244, \"Rel_Mig_Dom_Exemp\": -0.0064, \"Inmig_Exemp_pct_chg\": 0.2310584113541232, \"Outmig_Exemp_pct_chg\": 0.2138327912729131}], \"data-f2655c0327252cd3dd2a84803f195e02\": [{\"x\": 1990, \"y\": 1000000, \"text\": \"1 million\"}], \"data-bb15910bf56711e82dc7d4c19068fa07\": [{\"x\": 1990, \"y\": 950000, \"text\": \"migrants\"}], \"data-e948642a059e099bb167e0f9d69cf1b4\": [{\"x\": 2004, \"y\": 1000000, \"text\": \"_________________________________________________________________________________________\"}], \"data-18de21fe4d2523cc78f954d0b0c89bea\": [{\"x\": 1990, \"y\": 200000, \"text\": \"200k\"}, {\"x\": 1990, \"y\": 400000, \"text\": \"400k\"}, {\"x\": 1990, \"y\": 600000, \"text\": \"600k\"}, {\"x\": 1990, \"y\": 800000, \"text\": \"800k\"}], \"data-798877858114173f3e9f55b728ee5639\": [{\"x\": 1990, \"y\": 1080000, \"text\": \"Inward\"}], \"data-be5ecfd9db81ee58bb5b0af448d87180\": [{\"x\": 1991, \"y\": 1080000, \"text\": \"and\"}], \"data-b69a7570f90a556bf1d69fd65117ced7\": [{\"x\": 1993, \"y\": 1080000, \"text\": \"outward\"}]}}, {\"mode\": \"vega-lite\"});\n",
       "</script>"
      ],
      "text/plain": [
       "alt.LayerChart(...)"
      ]
     },
     "execution_count": 357,
     "metadata": {},
     "output_type": "execute_result"
    }
   ],
   "source": [
    "inmig = alt.Chart(comb, title='California Inward and Outward Migration'\n",
    "                 ).mark_line(size=5, strokeCap='round', interpolate='basis', color='#8ac3ff'\n",
    "                            ).encode(x=alt.X('Year:O', axis=alt.Axis(values=[1990,2000,2010,2017], labelOpacity=.8, labelFontSize=20)),\n",
    "                                     y=alt.Y('In_Dom_Exemp', title='migration totals based on IRS tax filing data',\n",
    "                                             axis=alt.Axis(values=list(range(200000,1000000,200000)), \n",
    "                                                           titleFontSize=22, titleOpacity=.8, titleX=148, titleY=20, labelPadding=35, labelOpacity=0, labelFontSize=20)))\n",
    "outmig = alt.Chart(comb).mark_line(size=5, strokeCap='round', interpolate='basis',color='#ffc417').encode(x='Year:O',y='Out_Dom_Exemp')\n",
    "area = alt.Chart(comb).mark_area(interpolate='basis', color='lightgray', opacity=.15).encode(x='Year:O', y='In_Dom_Exemp', y2='Out_Dom_Exemp')\n",
    "#title_line2 = alt.Chart(pd.DataFrame({'x':[2002],'y':[1100000],'text':[' relationship from 1990 to 2007 but have since shifted to a direct one.']})).mark_text(dx=0, size=22, font='calibri', opacity=.9).encode(x='x:O',y='y',text='text')\n",
    "\n",
    "y_line = line = alt.Chart(pd.DataFrame({'x':[2004],'y':[1000000],'text':['_'*89]})).mark_text(dx=10, dy=-4, opacity=.09, fontSize=11.5, fontWeight='bold').encode(x='x:O', y='y', text='text')\n",
    "y_label_mil = alt.Chart(pd.DataFrame({'x':[1990],'y':[1000000],'text':['1 million']})).mark_text(font='calibri', size=20, opacity=.8, dx=-15).encode(x='x:O',y='y',text='text')\n",
    "y_label_mig = alt.Chart(pd.DataFrame({'x':[1990],'y':[950000],'text':['migrants']})).mark_text(font='calibri', size=20, opacity=.8, dx=-14).encode(x='x:O',y='y',text='text')\n",
    "y_labels = alt.Chart(pd.DataFrame({'x':[1990]*4,'y':list(range(200000,1000000,200000)),'text':[str(i) +'k' for i in range(200,1000,200)]})).mark_text(font='calibri', size=20, opacity=.8, dx=-28).encode(x='x:O',y='y',text='text')\n",
    "label_inward = alt.Chart(pd.DataFrame(pd.DataFrame({'x':[1990],'y':[1080000],'text':['Inward']}))).mark_text(color='#8ac3ff', size=22, font='calibri', dx=-20).encode(x='x:O',y='y',text='text')\n",
    "label_and = alt.Chart(pd.DataFrame(pd.DataFrame({'x':[1991],'y':[1080000],'text':['and']}))).mark_text(size=22, font='calibri', dx=12, opacity=.8).encode(x='x:O',y='y',text='text')\n",
    "label_outward = alt.Chart(pd.DataFrame(pd.DataFrame({'x':[1993],'y':[1080000],'text':['outward']}))).mark_text(color='#ffc417', size=22, font='calibri', dx=30).encode(x='x:O',y='y',text='text')\n",
    "\n",
    "in_out = (area + outmig + inmig +  y_label_mil + y_label_mig + y_line + y_labels + label_inward + label_and + label_outward).properties(height=500)\n",
    "in_out"
   ]
  },
  {
   "cell_type": "markdown",
   "metadata": {},
   "source": [
    "- Migration to and from CA "
   ]
  },
  {
   "cell_type": "code",
   "execution_count": 332,
   "metadata": {},
   "outputs": [],
   "source": [
    "in_out.save('CA_in_out_mig_9017.png', scale_factor=3)"
   ]
  },
  {
   "cell_type": "code",
   "execution_count": 380,
   "metadata": {},
   "outputs": [
    {
     "data": {
      "text/html": [
       "\n",
       "<div id=\"altair-viz-265\"></div>\n",
       "<script type=\"text/javascript\">\n",
       "  (function(spec, embedOpt){\n",
       "    const outputDiv = document.getElementById(\"altair-viz-265\");\n",
       "    const paths = {\n",
       "      \"vega\": \"https://cdn.jsdelivr.net/npm//vega@5?noext\",\n",
       "      \"vega-lib\": \"https://cdn.jsdelivr.net/npm//vega-lib?noext\",\n",
       "      \"vega-lite\": \"https://cdn.jsdelivr.net/npm//vega-lite@4.0.0?noext\",\n",
       "      \"vega-embed\": \"https://cdn.jsdelivr.net/npm//vega-embed@6?noext\",\n",
       "    };\n",
       "\n",
       "    function loadScript(lib) {\n",
       "      return new Promise(function(resolve, reject) {\n",
       "        var s = document.createElement('script');\n",
       "        s.src = paths[lib];\n",
       "        s.async = true;\n",
       "        s.onload = () => resolve(paths[lib]);\n",
       "        s.onerror = () => reject(`Error loading script: ${paths[lib]}`);\n",
       "        document.getElementsByTagName(\"head\")[0].appendChild(s);\n",
       "      });\n",
       "    }\n",
       "\n",
       "    function showError(err) {\n",
       "      outputDiv.innerHTML = `<div class=\"error\" style=\"color:red;\">${err}</div>`;\n",
       "      throw err;\n",
       "    }\n",
       "\n",
       "    function displayChart(vegaEmbed) {\n",
       "      vegaEmbed(outputDiv, spec, embedOpt)\n",
       "        .catch(err => showError(`Javascript Error: ${err.message}<br>This usually means there's a typo in your chart specification. See the javascript console for the full traceback.`));\n",
       "    }\n",
       "\n",
       "    if(typeof define === \"function\" && define.amd) {\n",
       "      requirejs.config({paths});\n",
       "      require([\"vega-embed\"], displayChart, err => showError(`Error loading script: ${err.message}`));\n",
       "    } else if (typeof vegaEmbed === \"function\") {\n",
       "      displayChart(vegaEmbed);\n",
       "    } else {\n",
       "      loadScript(\"vega\")\n",
       "        .then(() => loadScript(\"vega-lite\"))\n",
       "        .then(() => loadScript(\"vega-embed\"))\n",
       "        .catch(showError)\n",
       "        .then(() => displayChart(vegaEmbed));\n",
       "    }\n",
       "  })({\"width\": 600, \"height\": 400, \"background\": \"white\", \"config\": {\"title\": {\"fontWeight\": \"normal\", \"fontSize\": 30, \"anchor\": \"start\", \"font\": \"Calibri\", \"offset\": 5}, \"axisX\": {\"grid\": false, \"labelFont\": \"Calibri\", \"labelFontSize\": 16, \"labelAngle\": 0, \"labelPadding\": 10, \"ticks\": false, \"tickSize\": 5, \"title\": null, \"titleFont\": \"Calibri\", \"titleFontSize\": 16, \"titleFontWeight\": \"normal\", \"titleY\": 30, \"titleX\": 280}, \"axisY\": {\"grid\": true, \"gridOpacity\": 1, \"labelFont\": \"Calibri\", \"labelFontSize\": 16, \"labelLimit\": 100, \"labelAlign\": \"left\", \"labelPadding\": 20, \"ticks\": false, \"title\": null, \"titleFont\": \"Calibri\", \"titleFontWeight\": \"normal\", \"titleFontSize\": 17, \"titleAlign\": \"left\", \"titleAngle\": 0, \"titleY\": -20, \"titleX\": -20, \"domainWidth\": 0}, \"view\": {\"strokeOpacity\": 0}}, \"layer\": [{\"mark\": {\"type\": \"area\", \"color\": \"#ffc417\", \"interpolate\": \"basis\", \"size\": 5, \"strokeCap\": \"round\"}, \"encoding\": {\"x\": {\"type\": \"ordinal\", \"field\": \"Year\"}, \"y\": {\"type\": \"quantitative\", \"field\": \"Outmig_Total\"}}}, {\"mark\": {\"type\": \"area\", \"interpolate\": \"basis\", \"size\": 5, \"strokeCap\": \"round\"}, \"encoding\": {\"x\": {\"type\": \"ordinal\", \"field\": \"Year\"}, \"y\": {\"type\": \"quantitative\", \"axis\": {\"format\": \"~s\", \"labelPadding\": 40, \"titleX\": -40}, \"field\": \"Inmig_Total\"}}, \"title\": \"CA Migration (In & Out)\"}], \"data\": {\"name\": \"data-ce891e6bbe1faa87bae7c343467d9096\"}, \"$schema\": \"https://vega.github.io/schema/vega-lite/v4.0.0.json\", \"datasets\": {\"data-ce891e6bbe1faa87bae7c343467d9096\": [{\"Year\": 1990, \"Returns\": 10211835, \"Exemptions\": 23010999, \"Inmig_Returns\": 245535, \"Inmig_Exempt\": 448258, \"Outmig_Returns\": 277327, \"Outmig_Exempt\": 571032, \"Residents\": 33222834, \"Net_Mig_Returns\": -31792, \"Rel_Mig_Returns\": -0.0031, \"Inmig_Total\": 693793, \"Outmig_Total\": 848359, \"Net_Mig_Total\": -154566, \"Rel_Mig_Total\": -0.0047, \"Zero\": 0}, {\"Year\": 1991, \"Returns\": 10337480, \"Exemptions\": 23340798, \"Inmig_Returns\": 236007, \"Inmig_Exempt\": 429962, \"Outmig_Returns\": 281887, \"Outmig_Exempt\": 577023, \"Residents\": 33678278, \"Net_Mig_Returns\": -45880, \"Rel_Mig_Returns\": -0.0044, \"Inmig_Total\": 665969, \"Outmig_Total\": 858910, \"Net_Mig_Total\": -192941, \"Rel_Mig_Total\": -0.0057, \"Zero\": 0}, {\"Year\": 1992, \"Returns\": 10211198, \"Exemptions\": 23236233, \"Inmig_Returns\": 205155, \"Inmig_Exempt\": 372838, \"Outmig_Returns\": 315822, \"Outmig_Exempt\": 659933, \"Residents\": 33447431, \"Net_Mig_Returns\": -110667, \"Rel_Mig_Returns\": -0.0108, \"Inmig_Total\": 577993, \"Outmig_Total\": 975755, \"Net_Mig_Total\": -397762, \"Rel_Mig_Total\": -0.0119, \"Zero\": 0}, {\"Year\": 1993, \"Returns\": 10012232, \"Exemptions\": 22841596, \"Inmig_Returns\": 189073, \"Inmig_Exempt\": 344116, \"Outmig_Returns\": 320472, \"Outmig_Exempt\": 674796, \"Residents\": 32853828, \"Net_Mig_Returns\": -131399, \"Rel_Mig_Returns\": -0.0131, \"Inmig_Total\": 533189, \"Outmig_Total\": 995268, \"Net_Mig_Total\": -462079, \"Rel_Mig_Total\": -0.0141, \"Zero\": 0}, {\"Year\": 1994, \"Returns\": 9915747, \"Exemptions\": 22414007, \"Inmig_Returns\": 198917, \"Inmig_Exempt\": 353108, \"Outmig_Returns\": 302694, \"Outmig_Exempt\": 628896, \"Residents\": 32329754, \"Net_Mig_Returns\": -103777, \"Rel_Mig_Returns\": -0.0105, \"Inmig_Total\": 552025, \"Outmig_Total\": 931590, \"Net_Mig_Total\": -379565, \"Rel_Mig_Total\": -0.0117, \"Zero\": 0}, {\"Year\": 1995, \"Returns\": 10025767, \"Exemptions\": 22611353, \"Inmig_Returns\": 203317, \"Inmig_Exempt\": 359356, \"Outmig_Returns\": 269836, \"Outmig_Exempt\": 556760, \"Residents\": 32637120, \"Net_Mig_Returns\": -66519, \"Rel_Mig_Returns\": -0.0066, \"Inmig_Total\": 562673, \"Outmig_Total\": 826596, \"Net_Mig_Total\": -263923, \"Rel_Mig_Total\": -0.0081, \"Zero\": 0}, {\"Year\": 1996, \"Returns\": 10179399, \"Exemptions\": 22725592, \"Inmig_Returns\": 228764, \"Inmig_Exempt\": 396095, \"Outmig_Returns\": 247534, \"Outmig_Exempt\": 501645, \"Residents\": 32904991, \"Net_Mig_Returns\": -18770, \"Rel_Mig_Returns\": -0.0018, \"Inmig_Total\": 624859, \"Outmig_Total\": 749179, \"Net_Mig_Total\": -124320, \"Rel_Mig_Total\": -0.0038, \"Zero\": 0}, {\"Year\": 1997, \"Returns\": 10427660, \"Exemptions\": 23236858, \"Inmig_Returns\": 239369, \"Inmig_Exempt\": 415402, \"Outmig_Returns\": 238682, \"Outmig_Exempt\": 474923, \"Residents\": 33664518, \"Net_Mig_Returns\": 687, \"Rel_Mig_Returns\": 0.0001, \"Inmig_Total\": 654771, \"Outmig_Total\": 713605, \"Net_Mig_Total\": -58834, \"Rel_Mig_Total\": -0.0017, \"Zero\": 0}, {\"Year\": 1998, \"Returns\": 10789034, \"Exemptions\": 24050991, \"Inmig_Returns\": 241352, \"Inmig_Exempt\": 415323, \"Outmig_Returns\": 240877, \"Outmig_Exempt\": 470359, \"Residents\": 34840025, \"Net_Mig_Returns\": 475, \"Rel_Mig_Returns\": 0.0, \"Inmig_Total\": 656675, \"Outmig_Total\": 711236, \"Net_Mig_Total\": -54561, \"Rel_Mig_Total\": -0.0016, \"Zero\": 0}, {\"Year\": 1999, \"Returns\": 11120947, \"Exemptions\": 24804140, \"Inmig_Returns\": 251035, \"Inmig_Exempt\": 426328, \"Outmig_Returns\": 246887, \"Outmig_Exempt\": 481135, \"Residents\": 35925087, \"Net_Mig_Returns\": 4148, \"Rel_Mig_Returns\": 0.0004, \"Inmig_Total\": 677363, \"Outmig_Total\": 728022, \"Net_Mig_Total\": -50659, \"Rel_Mig_Total\": -0.0014, \"Zero\": 0}, {\"Year\": 2000, \"Returns\": 11336742, \"Exemptions\": 25247901, \"Inmig_Returns\": 265793, \"Inmig_Exempt\": 447702, \"Outmig_Returns\": 245677, \"Outmig_Exempt\": 471816, \"Residents\": 36584643, \"Net_Mig_Returns\": 20116, \"Rel_Mig_Returns\": 0.0018, \"Inmig_Total\": 713495, \"Outmig_Total\": 717493, \"Net_Mig_Total\": -3998, \"Rel_Mig_Total\": -0.0001, \"Zero\": 0}, {\"Year\": 2001, \"Returns\": 11531921, \"Exemptions\": 25671321, \"Inmig_Returns\": 240139, \"Inmig_Exempt\": 407757, \"Outmig_Returns\": 260174, \"Outmig_Exempt\": 494493, \"Residents\": 37203242, \"Net_Mig_Returns\": -20035, \"Rel_Mig_Returns\": -0.0017, \"Inmig_Total\": 647896, \"Outmig_Total\": 754667, \"Net_Mig_Total\": -106771, \"Rel_Mig_Total\": -0.0029, \"Zero\": 0}, {\"Year\": 2002, \"Returns\": 11641931, \"Exemptions\": 26122706, \"Inmig_Returns\": 233121, \"Inmig_Exempt\": 400583, \"Outmig_Returns\": 252674, \"Outmig_Exempt\": 480289, \"Residents\": 37764637, \"Net_Mig_Returns\": -19553, \"Rel_Mig_Returns\": -0.0017, \"Inmig_Total\": 633704, \"Outmig_Total\": 732963, \"Net_Mig_Total\": -99259, \"Rel_Mig_Total\": -0.0026, \"Zero\": 0}, {\"Year\": 2003, \"Returns\": 11652738, \"Exemptions\": 26305015, \"Inmig_Returns\": 230865, \"Inmig_Exempt\": 395330, \"Outmig_Returns\": 261740, \"Outmig_Exempt\": 507870, \"Residents\": 37957753, \"Net_Mig_Returns\": -30875, \"Rel_Mig_Returns\": -0.0026, \"Inmig_Total\": 626195, \"Outmig_Total\": 769610, \"Net_Mig_Total\": -143415, \"Rel_Mig_Total\": -0.0038, \"Zero\": 0}, {\"Year\": 2004, \"Returns\": 11703701, \"Exemptions\": 26476088, \"Inmig_Returns\": 229348, \"Inmig_Exempt\": 389314, \"Outmig_Returns\": 289992, \"Outmig_Exempt\": 578725, \"Residents\": 38179789, \"Net_Mig_Returns\": -60644, \"Rel_Mig_Returns\": -0.0052, \"Inmig_Total\": 618662, \"Outmig_Total\": 868717, \"Net_Mig_Total\": -250055, \"Rel_Mig_Total\": -0.0065, \"Zero\": 0}, {\"Year\": 2005, \"Returns\": 11745599, \"Exemptions\": 26507063, \"Inmig_Returns\": 235690, \"Inmig_Exempt\": 396313, \"Outmig_Returns\": 302665, \"Outmig_Exempt\": 617827, \"Residents\": 38252662, \"Net_Mig_Returns\": -66975, \"Rel_Mig_Returns\": -0.0057, \"Inmig_Total\": 632003, \"Outmig_Total\": 920492, \"Net_Mig_Total\": -288489, \"Rel_Mig_Total\": -0.0075, \"Zero\": 0}, {\"Year\": 2006, \"Returns\": 11906514, \"Exemptions\": 26759630, \"Inmig_Returns\": 234018, \"Inmig_Exempt\": 394070, \"Outmig_Returns\": 289096, \"Outmig_Exempt\": 585366, \"Residents\": 38666144, \"Net_Mig_Returns\": -55078, \"Rel_Mig_Returns\": -0.0046, \"Inmig_Total\": 628088, \"Outmig_Total\": 874462, \"Net_Mig_Total\": -246374, \"Rel_Mig_Total\": -0.0064, \"Zero\": 0}, {\"Year\": 2007, \"Returns\": 12434953, \"Exemptions\": 27732366, \"Inmig_Returns\": 251841, \"Inmig_Exempt\": 426523, \"Outmig_Returns\": 271521, \"Outmig_Exempt\": 523042, \"Residents\": 40167319, \"Net_Mig_Returns\": -19680, \"Rel_Mig_Returns\": -0.0016, \"Inmig_Total\": 678364, \"Outmig_Total\": 794563, \"Net_Mig_Total\": -116199, \"Rel_Mig_Total\": -0.0029, \"Zero\": 0}, {\"Year\": 2008, \"Returns\": 12707337, \"Exemptions\": 28410195, \"Inmig_Returns\": 243360, \"Inmig_Exempt\": 418422, \"Outmig_Returns\": 252516, \"Outmig_Exempt\": 476641, \"Residents\": 41117532, \"Net_Mig_Returns\": -9156, \"Rel_Mig_Returns\": -0.0007, \"Inmig_Total\": 661782, \"Outmig_Total\": 729157, \"Net_Mig_Total\": -67375, \"Rel_Mig_Total\": -0.0016, \"Zero\": 0}, {\"Year\": 2009, \"Returns\": 12588517, \"Exemptions\": 28448182, \"Inmig_Returns\": 214495, \"Inmig_Exempt\": 384328, \"Outmig_Returns\": 231291, \"Outmig_Exempt\": 430067, \"Residents\": 41036699, \"Net_Mig_Returns\": -16796, \"Rel_Mig_Returns\": -0.0013, \"Inmig_Total\": 598823, \"Outmig_Total\": 661358, \"Net_Mig_Total\": -62535, \"Rel_Mig_Total\": -0.0015, \"Zero\": 0}, {\"Year\": 2010, \"Returns\": 12600855, \"Exemptions\": 28690412, \"Inmig_Returns\": 224532, \"Inmig_Exempt\": 402125, \"Outmig_Returns\": 236494, \"Outmig_Exempt\": 436367, \"Residents\": 41291267, \"Net_Mig_Returns\": -11962, \"Rel_Mig_Returns\": -0.0009, \"Inmig_Total\": 626657, \"Outmig_Total\": 672861, \"Net_Mig_Total\": -46204, \"Rel_Mig_Total\": -0.0011, \"Zero\": 0}, {\"Year\": 2011, \"Returns\": 13084530, \"Exemptions\": 30080010, \"Inmig_Returns\": 264729, \"Inmig_Exempt\": 476184, \"Outmig_Returns\": 266673, \"Outmig_Exempt\": 496085, \"Residents\": 43164540, \"Net_Mig_Returns\": -1944, \"Rel_Mig_Returns\": -0.0001, \"Inmig_Total\": 740913, \"Outmig_Total\": 762758, \"Net_Mig_Total\": -21845, \"Rel_Mig_Total\": -0.0005, \"Zero\": 0}, {\"Year\": 2012, \"Returns\": 13148643, \"Exemptions\": 30139423, \"Inmig_Returns\": 268149, \"Inmig_Exempt\": 485161, \"Outmig_Returns\": 280002, \"Outmig_Exempt\": 532619, \"Residents\": 43288066, \"Net_Mig_Returns\": -11853, \"Rel_Mig_Returns\": -0.0009, \"Inmig_Total\": 753310, \"Outmig_Total\": 812621, \"Net_Mig_Total\": -59311, \"Rel_Mig_Total\": -0.0014, \"Zero\": 0}, {\"Year\": 2013, \"Returns\": 13289353, \"Exemptions\": 30251074, \"Inmig_Returns\": 252717, \"Inmig_Exempt\": 453621, \"Outmig_Returns\": 268472, \"Outmig_Exempt\": 512732, \"Residents\": 43540427, \"Net_Mig_Returns\": -15755, \"Rel_Mig_Returns\": -0.0012, \"Inmig_Total\": 706338, \"Outmig_Total\": 781204, \"Net_Mig_Total\": -74866, \"Rel_Mig_Total\": -0.0017, \"Zero\": 0}, {\"Year\": 2014, \"Returns\": 13658090, \"Exemptions\": 30666470, \"Inmig_Returns\": 200999, \"Inmig_Exempt\": 344232, \"Outmig_Returns\": 212337, \"Outmig_Exempt\": 388394, \"Residents\": 44324560, \"Net_Mig_Returns\": -11338, \"Rel_Mig_Returns\": -0.0008, \"Inmig_Total\": 545231, \"Outmig_Total\": 600731, \"Net_Mig_Total\": -55500, \"Rel_Mig_Total\": -0.0013, \"Zero\": 0}, {\"Year\": 2015, \"Returns\": 13795079, \"Exemptions\": 30665600, \"Inmig_Returns\": 260471, \"Inmig_Exempt\": 453736, \"Outmig_Returns\": 288918, \"Outmig_Exempt\": 546608, \"Residents\": 44460679, \"Net_Mig_Returns\": -28447, \"Rel_Mig_Returns\": -0.0021, \"Inmig_Total\": 714207, \"Outmig_Total\": 835526, \"Net_Mig_Total\": -121319, \"Rel_Mig_Total\": -0.0027, \"Zero\": 0}, {\"Year\": 2016, \"Returns\": 13811052, \"Exemptions\": 30323418, \"Inmig_Returns\": 327447, \"Inmig_Exempt\": 571204, \"Outmig_Returns\": 392786, \"Outmig_Exempt\": 750592, \"Residents\": 44134470, \"Net_Mig_Returns\": -65339, \"Rel_Mig_Returns\": -0.0047, \"Inmig_Total\": 898651, \"Outmig_Total\": 1143378, \"Net_Mig_Total\": -244727, \"Rel_Mig_Total\": -0.0055, \"Zero\": 0}, {\"Year\": 2017, \"Returns\": 14159070, \"Exemptions\": 30682756, \"Inmig_Returns\": 261617, \"Inmig_Exempt\": 441167, \"Outmig_Returns\": 322169, \"Outmig_Exempt\": 592703, \"Residents\": 44841826, \"Net_Mig_Returns\": -60552, \"Rel_Mig_Returns\": -0.0043, \"Inmig_Total\": 702784, \"Outmig_Total\": 914872, \"Net_Mig_Total\": -212088, \"Rel_Mig_Total\": -0.0047, \"Zero\": 0}]}}, {\"mode\": \"vega-lite\"});\n",
       "</script>"
      ],
      "text/plain": [
       "alt.LayerChart(...)"
      ]
     },
     "execution_count": 380,
     "metadata": {},
     "output_type": "execute_result"
    }
   ],
   "source": [
    "inmig = alt.Chart(comb, title='CA Migration (In & Out)').mark_area(size=5, strokeCap='round', interpolate='basis').encode(x='Year:O',y=alt.Y('Inmig_Total', axis=alt.Axis(format='~s', labelPadding=40,titleX=-40)))\n",
    "outmig = alt.Chart(comb).mark_area(size=5, strokeCap='round', interpolate='basis',color='#ffc417').encode(x='Year:O',y='Outmig_Total')\n",
    "outmig + inmig"
   ]
  },
  {
   "cell_type": "code",
   "execution_count": null,
   "metadata": {},
   "outputs": [],
   "source": []
  },
  {
   "cell_type": "code",
   "execution_count": null,
   "metadata": {},
   "outputs": [],
   "source": []
  },
  {
   "cell_type": "code",
   "execution_count": 240,
   "metadata": {},
   "outputs": [
    {
     "data": {
      "text/html": [
       "\n",
       "<div id=\"altair-viz-198\"></div>\n",
       "<script type=\"text/javascript\">\n",
       "  (function(spec, embedOpt){\n",
       "    const outputDiv = document.getElementById(\"altair-viz-198\");\n",
       "    const paths = {\n",
       "      \"vega\": \"https://cdn.jsdelivr.net/npm//vega@5?noext\",\n",
       "      \"vega-lib\": \"https://cdn.jsdelivr.net/npm//vega-lib?noext\",\n",
       "      \"vega-lite\": \"https://cdn.jsdelivr.net/npm//vega-lite@4.0.0?noext\",\n",
       "      \"vega-embed\": \"https://cdn.jsdelivr.net/npm//vega-embed@6?noext\",\n",
       "    };\n",
       "\n",
       "    function loadScript(lib) {\n",
       "      return new Promise(function(resolve, reject) {\n",
       "        var s = document.createElement('script');\n",
       "        s.src = paths[lib];\n",
       "        s.async = true;\n",
       "        s.onload = () => resolve(paths[lib]);\n",
       "        s.onerror = () => reject(`Error loading script: ${paths[lib]}`);\n",
       "        document.getElementsByTagName(\"head\")[0].appendChild(s);\n",
       "      });\n",
       "    }\n",
       "\n",
       "    function showError(err) {\n",
       "      outputDiv.innerHTML = `<div class=\"error\" style=\"color:red;\">${err}</div>`;\n",
       "      throw err;\n",
       "    }\n",
       "\n",
       "    function displayChart(vegaEmbed) {\n",
       "      vegaEmbed(outputDiv, spec, embedOpt)\n",
       "        .catch(err => showError(`Javascript Error: ${err.message}<br>This usually means there's a typo in your chart specification. See the javascript console for the full traceback.`));\n",
       "    }\n",
       "\n",
       "    if(typeof define === \"function\" && define.amd) {\n",
       "      requirejs.config({paths});\n",
       "      require([\"vega-embed\"], displayChart, err => showError(`Error loading script: ${err.message}`));\n",
       "    } else if (typeof vegaEmbed === \"function\") {\n",
       "      displayChart(vegaEmbed);\n",
       "    } else {\n",
       "      loadScript(\"vega\")\n",
       "        .then(() => loadScript(\"vega-lite\"))\n",
       "        .then(() => loadScript(\"vega-embed\"))\n",
       "        .catch(showError)\n",
       "        .then(() => displayChart(vegaEmbed));\n",
       "    }\n",
       "  })({\"width\": 600, \"height\": 400, \"background\": \"white\", \"config\": {\"title\": {\"fontWeight\": \"normal\", \"fontSize\": 30, \"anchor\": \"start\", \"font\": \"Lato, Calibri, Arial\", \"offset\": 5}, \"axisX\": {\"grid\": false, \"labelFont\": \"Lato, Calibri, Arial\", \"labelFontSize\": 16, \"labelAngle\": 0, \"labelPadding\": 10, \"ticks\": false, \"tickSize\": 5, \"title\": null, \"titleFont\": \"Lato, Calibri, Arial\", \"titleFontSize\": 16, \"titleFontWeight\": \"normal\", \"titleY\": 30, \"titleX\": 280}, \"axisY\": {\"grid\": true, \"gridOpacity\": 1, \"labelFont\": \"Lato, Calibri, Arial\", \"labelFontSize\": 16, \"labelLimit\": 100, \"labelAlign\": \"left\", \"labelPadding\": 20, \"ticks\": false, \"title\": null, \"titleFont\": \"Lato, Calibri, Arial\", \"titleFontWeight\": \"normal\", \"titleFontSize\": 16, \"titleAlign\": \"left\", \"titleAngle\": 0, \"titleY\": -20, \"titleX\": -20, \"domainWidth\": 0}, \"view\": {\"strokeOpacity\": 0}}, \"layer\": [{\"data\": {\"name\": \"data-23f8bc0f31cc89ef9f49d7d1ab41e3e8\"}, \"mark\": \"bar\", \"encoding\": {\"color\": {\"condition\": {\"value\": \"#efcd55\", \"test\": \"(datum.Rel_Mig > 0)\"}, \"value\": \"#5688c4\"}, \"x\": {\"type\": \"ordinal\", \"axis\": {\"labelOpacity\": 0.8, \"values\": [1992, 1996, 2000, 2004, 2008, 2012, 2016]}, \"field\": \"Year\"}, \"y\": {\"type\": \"quantitative\", \"axis\": {\"format\": \"%\", \"labelOpacity\": 0.8, \"labelPadding\": 45}, \"field\": \"Rel_Mig\"}}, \"title\": \"California Net Migration\"}, {\"data\": {\"name\": \"data-89779e208961a5fe34df7295acd49308\"}, \"mark\": {\"type\": \"text\", \"font\": \"arial\", \"size\": 16}, \"encoding\": {\"text\": {\"type\": \"nominal\", \"field\": \"text\"}, \"x\": {\"type\": \"ordinal\", \"field\": \"x\"}, \"y\": {\"type\": \"quantitative\", \"field\": \"y\"}}}], \"$schema\": \"https://vega.github.io/schema/vega-lite/v4.0.0.json\", \"datasets\": {\"data-23f8bc0f31cc89ef9f49d7d1ab41e3e8\": [{\"Year\": 1990, \"Res\": 10211835, \"Inmig\": 245535, \"Outmig\": 277327, \"Net_Mig\": -31792, \"Rel_Mig\": -0.00311}, {\"Year\": 1991, \"Res\": 10337480, \"Inmig\": 236007, \"Outmig\": 281887, \"Net_Mig\": -45880, \"Rel_Mig\": -0.00444}, {\"Year\": 1992, \"Res\": 10211198, \"Inmig\": 205155, \"Outmig\": 315822, \"Net_Mig\": -110667, \"Rel_Mig\": -0.01084}, {\"Year\": 1993, \"Res\": 10012232, \"Inmig\": 189073, \"Outmig\": 320472, \"Net_Mig\": -131399, \"Rel_Mig\": -0.01312}, {\"Year\": 1994, \"Res\": 9915747, \"Inmig\": 198917, \"Outmig\": 302694, \"Net_Mig\": -103777, \"Rel_Mig\": -0.01047}, {\"Year\": 1995, \"Res\": 10025767, \"Inmig\": 203317, \"Outmig\": 269836, \"Net_Mig\": -66519, \"Rel_Mig\": -0.00663}, {\"Year\": 1996, \"Res\": 10179399, \"Inmig\": 228764, \"Outmig\": 247534, \"Net_Mig\": -18770, \"Rel_Mig\": -0.00184}, {\"Year\": 1997, \"Res\": 10427660, \"Inmig\": 239369, \"Outmig\": 238682, \"Net_Mig\": 687, \"Rel_Mig\": 7e-05}, {\"Year\": 1998, \"Res\": 10789034, \"Inmig\": 241352, \"Outmig\": 240877, \"Net_Mig\": 475, \"Rel_Mig\": 4e-05}, {\"Year\": 1999, \"Res\": 11120947, \"Inmig\": 251035, \"Outmig\": 246887, \"Net_Mig\": 4148, \"Rel_Mig\": 0.00037}, {\"Year\": 2000, \"Res\": 11336742, \"Inmig\": 265793, \"Outmig\": 245677, \"Net_Mig\": 20116, \"Rel_Mig\": 0.00177}, {\"Year\": 2001, \"Res\": 11531921, \"Inmig\": 240139, \"Outmig\": 260174, \"Net_Mig\": -20035, \"Rel_Mig\": -0.00174}, {\"Year\": 2002, \"Res\": 11641931, \"Inmig\": 233121, \"Outmig\": 252674, \"Net_Mig\": -19553, \"Rel_Mig\": -0.00168}, {\"Year\": 2003, \"Res\": 11652738, \"Inmig\": 230865, \"Outmig\": 261740, \"Net_Mig\": -30875, \"Rel_Mig\": -0.00265}, {\"Year\": 2004, \"Res\": 11703701, \"Inmig\": 229348, \"Outmig\": 289992, \"Net_Mig\": -60644, \"Rel_Mig\": -0.00518}, {\"Year\": 2005, \"Res\": 11745599, \"Inmig\": 235690, \"Outmig\": 302665, \"Net_Mig\": -66975, \"Rel_Mig\": -0.0057}, {\"Year\": 2006, \"Res\": 11906514, \"Inmig\": 234018, \"Outmig\": 289096, \"Net_Mig\": -55078, \"Rel_Mig\": -0.00463}, {\"Year\": 2007, \"Res\": 12434953, \"Inmig\": 251841, \"Outmig\": 271521, \"Net_Mig\": -19680, \"Rel_Mig\": -0.00158}, {\"Year\": 2008, \"Res\": 12707337, \"Inmig\": 243360, \"Outmig\": 252516, \"Net_Mig\": -9156, \"Rel_Mig\": -0.00072}, {\"Year\": 2009, \"Res\": 12588517, \"Inmig\": 214495, \"Outmig\": 231291, \"Net_Mig\": -16796, \"Rel_Mig\": -0.00133}, {\"Year\": 2010, \"Res\": 12600855, \"Inmig\": 224532, \"Outmig\": 236494, \"Net_Mig\": -11962, \"Rel_Mig\": -0.00095}, {\"Year\": 2011, \"Res\": 13084530, \"Inmig\": 264729, \"Outmig\": 266673, \"Net_Mig\": -1944, \"Rel_Mig\": -0.00015}, {\"Year\": 2012, \"Res\": 13148643, \"Inmig\": 268149, \"Outmig\": 280002, \"Net_Mig\": -11853, \"Rel_Mig\": -0.0009}, {\"Year\": 2013, \"Res\": 13289353, \"Inmig\": 252717, \"Outmig\": 268472, \"Net_Mig\": -15755, \"Rel_Mig\": -0.00119}, {\"Year\": 2014, \"Res\": 13658090, \"Inmig\": 200999, \"Outmig\": 212337, \"Net_Mig\": -11338, \"Rel_Mig\": -0.00083}, {\"Year\": 2015, \"Res\": 13795079, \"Inmig\": 260471, \"Outmig\": 288918, \"Net_Mig\": -28447, \"Rel_Mig\": -0.00206}, {\"Year\": 2016, \"Res\": 13811052, \"Inmig\": 327447, \"Outmig\": 392786, \"Net_Mig\": -65339, \"Rel_Mig\": -0.00473}, {\"Year\": 2017, \"Res\": 14159070, \"Inmig\": 261617, \"Outmig\": 322169, \"Net_Mig\": -60552, \"Rel_Mig\": -0.00428}], \"data-89779e208961a5fe34df7295acd49308\": [{\"x\": 1995, \"y\": -0.0128, \"text\": \"1993 peak\"}, {\"x\": 2005, \"y\": -0.0065, \"text\": \"2005 peak\"}, {\"x\": 2016, \"y\": -0.0054, \"text\": \"2016 peak?\"}]}}, {\"mode\": \"vega-lite\"});\n",
       "</script>"
      ],
      "text/plain": [
       "alt.LayerChart(...)"
      ]
     },
     "execution_count": 240,
     "metadata": {},
     "output_type": "execute_result"
    }
   ],
   "source": [
    "chart = alt.Chart(comb, title='California Net Migration').mark_bar().encode(x=alt.X('Year:O', axis=alt.Axis(labelOpacity=.8, values=list(range(1992,2018,4)))), \n",
    "                                  y=alt.Y('Rel_Mig', axis=alt.Axis(labelPadding=45, labelOpacity=.8, format='%')),\n",
    "                                  color=alt.condition(alt.datum.Rel_Mig > 0, alt.value('#efcd55'), alt.value('#5688c4')))\n",
    "\n",
    "text = alt.Chart(pd.DataFrame({'x':[1995,2005,2016],'y':[-.0128,-.0065,-.0054],'text':['1993 peak', '2005 peak', '2016 peak?']})).mark_text(size=16, font='arial').encode(x='x:O',y='y',text='text')\n",
    "chart + text"
   ]
  },
  {
   "cell_type": "code",
   "execution_count": 382,
   "metadata": {},
   "outputs": [
    {
     "data": {
      "text/html": [
       "\n",
       "<div id=\"altair-viz-267\"></div>\n",
       "<script type=\"text/javascript\">\n",
       "  (function(spec, embedOpt){\n",
       "    const outputDiv = document.getElementById(\"altair-viz-267\");\n",
       "    const paths = {\n",
       "      \"vega\": \"https://cdn.jsdelivr.net/npm//vega@5?noext\",\n",
       "      \"vega-lib\": \"https://cdn.jsdelivr.net/npm//vega-lib?noext\",\n",
       "      \"vega-lite\": \"https://cdn.jsdelivr.net/npm//vega-lite@4.0.0?noext\",\n",
       "      \"vega-embed\": \"https://cdn.jsdelivr.net/npm//vega-embed@6?noext\",\n",
       "    };\n",
       "\n",
       "    function loadScript(lib) {\n",
       "      return new Promise(function(resolve, reject) {\n",
       "        var s = document.createElement('script');\n",
       "        s.src = paths[lib];\n",
       "        s.async = true;\n",
       "        s.onload = () => resolve(paths[lib]);\n",
       "        s.onerror = () => reject(`Error loading script: ${paths[lib]}`);\n",
       "        document.getElementsByTagName(\"head\")[0].appendChild(s);\n",
       "      });\n",
       "    }\n",
       "\n",
       "    function showError(err) {\n",
       "      outputDiv.innerHTML = `<div class=\"error\" style=\"color:red;\">${err}</div>`;\n",
       "      throw err;\n",
       "    }\n",
       "\n",
       "    function displayChart(vegaEmbed) {\n",
       "      vegaEmbed(outputDiv, spec, embedOpt)\n",
       "        .catch(err => showError(`Javascript Error: ${err.message}<br>This usually means there's a typo in your chart specification. See the javascript console for the full traceback.`));\n",
       "    }\n",
       "\n",
       "    if(typeof define === \"function\" && define.amd) {\n",
       "      requirejs.config({paths});\n",
       "      require([\"vega-embed\"], displayChart, err => showError(`Error loading script: ${err.message}`));\n",
       "    } else if (typeof vegaEmbed === \"function\") {\n",
       "      displayChart(vegaEmbed);\n",
       "    } else {\n",
       "      loadScript(\"vega\")\n",
       "        .then(() => loadScript(\"vega-lite\"))\n",
       "        .then(() => loadScript(\"vega-embed\"))\n",
       "        .catch(showError)\n",
       "        .then(() => displayChart(vegaEmbed));\n",
       "    }\n",
       "  })({\"width\": 600, \"height\": 400, \"background\": \"white\", \"config\": {\"title\": {\"fontWeight\": \"normal\", \"fontSize\": 30, \"anchor\": \"start\", \"font\": \"Calibri\", \"offset\": 5}, \"axisX\": {\"grid\": false, \"labelFont\": \"Calibri\", \"labelFontSize\": 16, \"labelAngle\": 0, \"labelPadding\": 10, \"ticks\": false, \"tickSize\": 5, \"title\": null, \"titleFont\": \"Calibri\", \"titleFontSize\": 16, \"titleFontWeight\": \"normal\", \"titleY\": 30, \"titleX\": 280}, \"axisY\": {\"grid\": true, \"gridOpacity\": 1, \"labelFont\": \"Calibri\", \"labelFontSize\": 16, \"labelLimit\": 100, \"labelAlign\": \"left\", \"labelPadding\": 20, \"ticks\": false, \"title\": null, \"titleFont\": \"Calibri\", \"titleFontWeight\": \"normal\", \"titleFontSize\": 17, \"titleAlign\": \"left\", \"titleAngle\": 0, \"titleY\": -20, \"titleX\": -20, \"domainWidth\": 0}, \"view\": {\"strokeOpacity\": 0}}, \"layer\": [{\"data\": {\"name\": \"data-ce891e6bbe1faa87bae7c343467d9096\"}, \"mark\": \"bar\", \"encoding\": {\"color\": {\"condition\": {\"value\": \"#efcd55\", \"test\": \"(datum.Rel_Mig > 0)\"}, \"value\": \"#5688c4\"}, \"x\": {\"type\": \"ordinal\", \"axis\": {\"labelOpacity\": 0.8, \"values\": [1992, 1996, 2000, 2004, 2008, 2012, 2016]}, \"field\": \"Year\"}, \"y\": {\"type\": \"quantitative\", \"axis\": {\"format\": \"%\", \"labelOpacity\": 0.8, \"labelPadding\": 45}, \"field\": \"Net_Mig_Total\"}}, \"title\": \"California Net Migration\"}, {\"data\": {\"name\": \"data-89779e208961a5fe34df7295acd49308\"}, \"mark\": {\"type\": \"text\", \"font\": \"arial\", \"size\": 16}, \"encoding\": {\"text\": {\"type\": \"nominal\", \"field\": \"text\"}, \"x\": {\"type\": \"ordinal\", \"field\": \"x\"}, \"y\": {\"type\": \"quantitative\", \"field\": \"y\"}}}], \"$schema\": \"https://vega.github.io/schema/vega-lite/v4.0.0.json\", \"datasets\": {\"data-ce891e6bbe1faa87bae7c343467d9096\": [{\"Year\": 1990, \"Returns\": 10211835, \"Exemptions\": 23010999, \"Inmig_Returns\": 245535, \"Inmig_Exempt\": 448258, \"Outmig_Returns\": 277327, \"Outmig_Exempt\": 571032, \"Residents\": 33222834, \"Net_Mig_Returns\": -31792, \"Rel_Mig_Returns\": -0.0031, \"Inmig_Total\": 693793, \"Outmig_Total\": 848359, \"Net_Mig_Total\": -154566, \"Rel_Mig_Total\": -0.0047, \"Zero\": 0}, {\"Year\": 1991, \"Returns\": 10337480, \"Exemptions\": 23340798, \"Inmig_Returns\": 236007, \"Inmig_Exempt\": 429962, \"Outmig_Returns\": 281887, \"Outmig_Exempt\": 577023, \"Residents\": 33678278, \"Net_Mig_Returns\": -45880, \"Rel_Mig_Returns\": -0.0044, \"Inmig_Total\": 665969, \"Outmig_Total\": 858910, \"Net_Mig_Total\": -192941, \"Rel_Mig_Total\": -0.0057, \"Zero\": 0}, {\"Year\": 1992, \"Returns\": 10211198, \"Exemptions\": 23236233, \"Inmig_Returns\": 205155, \"Inmig_Exempt\": 372838, \"Outmig_Returns\": 315822, \"Outmig_Exempt\": 659933, \"Residents\": 33447431, \"Net_Mig_Returns\": -110667, \"Rel_Mig_Returns\": -0.0108, \"Inmig_Total\": 577993, \"Outmig_Total\": 975755, \"Net_Mig_Total\": -397762, \"Rel_Mig_Total\": -0.0119, \"Zero\": 0}, {\"Year\": 1993, \"Returns\": 10012232, \"Exemptions\": 22841596, \"Inmig_Returns\": 189073, \"Inmig_Exempt\": 344116, \"Outmig_Returns\": 320472, \"Outmig_Exempt\": 674796, \"Residents\": 32853828, \"Net_Mig_Returns\": -131399, \"Rel_Mig_Returns\": -0.0131, \"Inmig_Total\": 533189, \"Outmig_Total\": 995268, \"Net_Mig_Total\": -462079, \"Rel_Mig_Total\": -0.0141, \"Zero\": 0}, {\"Year\": 1994, \"Returns\": 9915747, \"Exemptions\": 22414007, \"Inmig_Returns\": 198917, \"Inmig_Exempt\": 353108, \"Outmig_Returns\": 302694, \"Outmig_Exempt\": 628896, \"Residents\": 32329754, \"Net_Mig_Returns\": -103777, \"Rel_Mig_Returns\": -0.0105, \"Inmig_Total\": 552025, \"Outmig_Total\": 931590, \"Net_Mig_Total\": -379565, \"Rel_Mig_Total\": -0.0117, \"Zero\": 0}, {\"Year\": 1995, \"Returns\": 10025767, \"Exemptions\": 22611353, \"Inmig_Returns\": 203317, \"Inmig_Exempt\": 359356, \"Outmig_Returns\": 269836, \"Outmig_Exempt\": 556760, \"Residents\": 32637120, \"Net_Mig_Returns\": -66519, \"Rel_Mig_Returns\": -0.0066, \"Inmig_Total\": 562673, \"Outmig_Total\": 826596, \"Net_Mig_Total\": -263923, \"Rel_Mig_Total\": -0.0081, \"Zero\": 0}, {\"Year\": 1996, \"Returns\": 10179399, \"Exemptions\": 22725592, \"Inmig_Returns\": 228764, \"Inmig_Exempt\": 396095, \"Outmig_Returns\": 247534, \"Outmig_Exempt\": 501645, \"Residents\": 32904991, \"Net_Mig_Returns\": -18770, \"Rel_Mig_Returns\": -0.0018, \"Inmig_Total\": 624859, \"Outmig_Total\": 749179, \"Net_Mig_Total\": -124320, \"Rel_Mig_Total\": -0.0038, \"Zero\": 0}, {\"Year\": 1997, \"Returns\": 10427660, \"Exemptions\": 23236858, \"Inmig_Returns\": 239369, \"Inmig_Exempt\": 415402, \"Outmig_Returns\": 238682, \"Outmig_Exempt\": 474923, \"Residents\": 33664518, \"Net_Mig_Returns\": 687, \"Rel_Mig_Returns\": 0.0001, \"Inmig_Total\": 654771, \"Outmig_Total\": 713605, \"Net_Mig_Total\": -58834, \"Rel_Mig_Total\": -0.0017, \"Zero\": 0}, {\"Year\": 1998, \"Returns\": 10789034, \"Exemptions\": 24050991, \"Inmig_Returns\": 241352, \"Inmig_Exempt\": 415323, \"Outmig_Returns\": 240877, \"Outmig_Exempt\": 470359, \"Residents\": 34840025, \"Net_Mig_Returns\": 475, \"Rel_Mig_Returns\": 0.0, \"Inmig_Total\": 656675, \"Outmig_Total\": 711236, \"Net_Mig_Total\": -54561, \"Rel_Mig_Total\": -0.0016, \"Zero\": 0}, {\"Year\": 1999, \"Returns\": 11120947, \"Exemptions\": 24804140, \"Inmig_Returns\": 251035, \"Inmig_Exempt\": 426328, \"Outmig_Returns\": 246887, \"Outmig_Exempt\": 481135, \"Residents\": 35925087, \"Net_Mig_Returns\": 4148, \"Rel_Mig_Returns\": 0.0004, \"Inmig_Total\": 677363, \"Outmig_Total\": 728022, \"Net_Mig_Total\": -50659, \"Rel_Mig_Total\": -0.0014, \"Zero\": 0}, {\"Year\": 2000, \"Returns\": 11336742, \"Exemptions\": 25247901, \"Inmig_Returns\": 265793, \"Inmig_Exempt\": 447702, \"Outmig_Returns\": 245677, \"Outmig_Exempt\": 471816, \"Residents\": 36584643, \"Net_Mig_Returns\": 20116, \"Rel_Mig_Returns\": 0.0018, \"Inmig_Total\": 713495, \"Outmig_Total\": 717493, \"Net_Mig_Total\": -3998, \"Rel_Mig_Total\": -0.0001, \"Zero\": 0}, {\"Year\": 2001, \"Returns\": 11531921, \"Exemptions\": 25671321, \"Inmig_Returns\": 240139, \"Inmig_Exempt\": 407757, \"Outmig_Returns\": 260174, \"Outmig_Exempt\": 494493, \"Residents\": 37203242, \"Net_Mig_Returns\": -20035, \"Rel_Mig_Returns\": -0.0017, \"Inmig_Total\": 647896, \"Outmig_Total\": 754667, \"Net_Mig_Total\": -106771, \"Rel_Mig_Total\": -0.0029, \"Zero\": 0}, {\"Year\": 2002, \"Returns\": 11641931, \"Exemptions\": 26122706, \"Inmig_Returns\": 233121, \"Inmig_Exempt\": 400583, \"Outmig_Returns\": 252674, \"Outmig_Exempt\": 480289, \"Residents\": 37764637, \"Net_Mig_Returns\": -19553, \"Rel_Mig_Returns\": -0.0017, \"Inmig_Total\": 633704, \"Outmig_Total\": 732963, \"Net_Mig_Total\": -99259, \"Rel_Mig_Total\": -0.0026, \"Zero\": 0}, {\"Year\": 2003, \"Returns\": 11652738, \"Exemptions\": 26305015, \"Inmig_Returns\": 230865, \"Inmig_Exempt\": 395330, \"Outmig_Returns\": 261740, \"Outmig_Exempt\": 507870, \"Residents\": 37957753, \"Net_Mig_Returns\": -30875, \"Rel_Mig_Returns\": -0.0026, \"Inmig_Total\": 626195, \"Outmig_Total\": 769610, \"Net_Mig_Total\": -143415, \"Rel_Mig_Total\": -0.0038, \"Zero\": 0}, {\"Year\": 2004, \"Returns\": 11703701, \"Exemptions\": 26476088, \"Inmig_Returns\": 229348, \"Inmig_Exempt\": 389314, \"Outmig_Returns\": 289992, \"Outmig_Exempt\": 578725, \"Residents\": 38179789, \"Net_Mig_Returns\": -60644, \"Rel_Mig_Returns\": -0.0052, \"Inmig_Total\": 618662, \"Outmig_Total\": 868717, \"Net_Mig_Total\": -250055, \"Rel_Mig_Total\": -0.0065, \"Zero\": 0}, {\"Year\": 2005, \"Returns\": 11745599, \"Exemptions\": 26507063, \"Inmig_Returns\": 235690, \"Inmig_Exempt\": 396313, \"Outmig_Returns\": 302665, \"Outmig_Exempt\": 617827, \"Residents\": 38252662, \"Net_Mig_Returns\": -66975, \"Rel_Mig_Returns\": -0.0057, \"Inmig_Total\": 632003, \"Outmig_Total\": 920492, \"Net_Mig_Total\": -288489, \"Rel_Mig_Total\": -0.0075, \"Zero\": 0}, {\"Year\": 2006, \"Returns\": 11906514, \"Exemptions\": 26759630, \"Inmig_Returns\": 234018, \"Inmig_Exempt\": 394070, \"Outmig_Returns\": 289096, \"Outmig_Exempt\": 585366, \"Residents\": 38666144, \"Net_Mig_Returns\": -55078, \"Rel_Mig_Returns\": -0.0046, \"Inmig_Total\": 628088, \"Outmig_Total\": 874462, \"Net_Mig_Total\": -246374, \"Rel_Mig_Total\": -0.0064, \"Zero\": 0}, {\"Year\": 2007, \"Returns\": 12434953, \"Exemptions\": 27732366, \"Inmig_Returns\": 251841, \"Inmig_Exempt\": 426523, \"Outmig_Returns\": 271521, \"Outmig_Exempt\": 523042, \"Residents\": 40167319, \"Net_Mig_Returns\": -19680, \"Rel_Mig_Returns\": -0.0016, \"Inmig_Total\": 678364, \"Outmig_Total\": 794563, \"Net_Mig_Total\": -116199, \"Rel_Mig_Total\": -0.0029, \"Zero\": 0}, {\"Year\": 2008, \"Returns\": 12707337, \"Exemptions\": 28410195, \"Inmig_Returns\": 243360, \"Inmig_Exempt\": 418422, \"Outmig_Returns\": 252516, \"Outmig_Exempt\": 476641, \"Residents\": 41117532, \"Net_Mig_Returns\": -9156, \"Rel_Mig_Returns\": -0.0007, \"Inmig_Total\": 661782, \"Outmig_Total\": 729157, \"Net_Mig_Total\": -67375, \"Rel_Mig_Total\": -0.0016, \"Zero\": 0}, {\"Year\": 2009, \"Returns\": 12588517, \"Exemptions\": 28448182, \"Inmig_Returns\": 214495, \"Inmig_Exempt\": 384328, \"Outmig_Returns\": 231291, \"Outmig_Exempt\": 430067, \"Residents\": 41036699, \"Net_Mig_Returns\": -16796, \"Rel_Mig_Returns\": -0.0013, \"Inmig_Total\": 598823, \"Outmig_Total\": 661358, \"Net_Mig_Total\": -62535, \"Rel_Mig_Total\": -0.0015, \"Zero\": 0}, {\"Year\": 2010, \"Returns\": 12600855, \"Exemptions\": 28690412, \"Inmig_Returns\": 224532, \"Inmig_Exempt\": 402125, \"Outmig_Returns\": 236494, \"Outmig_Exempt\": 436367, \"Residents\": 41291267, \"Net_Mig_Returns\": -11962, \"Rel_Mig_Returns\": -0.0009, \"Inmig_Total\": 626657, \"Outmig_Total\": 672861, \"Net_Mig_Total\": -46204, \"Rel_Mig_Total\": -0.0011, \"Zero\": 0}, {\"Year\": 2011, \"Returns\": 13084530, \"Exemptions\": 30080010, \"Inmig_Returns\": 264729, \"Inmig_Exempt\": 476184, \"Outmig_Returns\": 266673, \"Outmig_Exempt\": 496085, \"Residents\": 43164540, \"Net_Mig_Returns\": -1944, \"Rel_Mig_Returns\": -0.0001, \"Inmig_Total\": 740913, \"Outmig_Total\": 762758, \"Net_Mig_Total\": -21845, \"Rel_Mig_Total\": -0.0005, \"Zero\": 0}, {\"Year\": 2012, \"Returns\": 13148643, \"Exemptions\": 30139423, \"Inmig_Returns\": 268149, \"Inmig_Exempt\": 485161, \"Outmig_Returns\": 280002, \"Outmig_Exempt\": 532619, \"Residents\": 43288066, \"Net_Mig_Returns\": -11853, \"Rel_Mig_Returns\": -0.0009, \"Inmig_Total\": 753310, \"Outmig_Total\": 812621, \"Net_Mig_Total\": -59311, \"Rel_Mig_Total\": -0.0014, \"Zero\": 0}, {\"Year\": 2013, \"Returns\": 13289353, \"Exemptions\": 30251074, \"Inmig_Returns\": 252717, \"Inmig_Exempt\": 453621, \"Outmig_Returns\": 268472, \"Outmig_Exempt\": 512732, \"Residents\": 43540427, \"Net_Mig_Returns\": -15755, \"Rel_Mig_Returns\": -0.0012, \"Inmig_Total\": 706338, \"Outmig_Total\": 781204, \"Net_Mig_Total\": -74866, \"Rel_Mig_Total\": -0.0017, \"Zero\": 0}, {\"Year\": 2014, \"Returns\": 13658090, \"Exemptions\": 30666470, \"Inmig_Returns\": 200999, \"Inmig_Exempt\": 344232, \"Outmig_Returns\": 212337, \"Outmig_Exempt\": 388394, \"Residents\": 44324560, \"Net_Mig_Returns\": -11338, \"Rel_Mig_Returns\": -0.0008, \"Inmig_Total\": 545231, \"Outmig_Total\": 600731, \"Net_Mig_Total\": -55500, \"Rel_Mig_Total\": -0.0013, \"Zero\": 0}, {\"Year\": 2015, \"Returns\": 13795079, \"Exemptions\": 30665600, \"Inmig_Returns\": 260471, \"Inmig_Exempt\": 453736, \"Outmig_Returns\": 288918, \"Outmig_Exempt\": 546608, \"Residents\": 44460679, \"Net_Mig_Returns\": -28447, \"Rel_Mig_Returns\": -0.0021, \"Inmig_Total\": 714207, \"Outmig_Total\": 835526, \"Net_Mig_Total\": -121319, \"Rel_Mig_Total\": -0.0027, \"Zero\": 0}, {\"Year\": 2016, \"Returns\": 13811052, \"Exemptions\": 30323418, \"Inmig_Returns\": 327447, \"Inmig_Exempt\": 571204, \"Outmig_Returns\": 392786, \"Outmig_Exempt\": 750592, \"Residents\": 44134470, \"Net_Mig_Returns\": -65339, \"Rel_Mig_Returns\": -0.0047, \"Inmig_Total\": 898651, \"Outmig_Total\": 1143378, \"Net_Mig_Total\": -244727, \"Rel_Mig_Total\": -0.0055, \"Zero\": 0}, {\"Year\": 2017, \"Returns\": 14159070, \"Exemptions\": 30682756, \"Inmig_Returns\": 261617, \"Inmig_Exempt\": 441167, \"Outmig_Returns\": 322169, \"Outmig_Exempt\": 592703, \"Residents\": 44841826, \"Net_Mig_Returns\": -60552, \"Rel_Mig_Returns\": -0.0043, \"Inmig_Total\": 702784, \"Outmig_Total\": 914872, \"Net_Mig_Total\": -212088, \"Rel_Mig_Total\": -0.0047, \"Zero\": 0}], \"data-89779e208961a5fe34df7295acd49308\": [{\"x\": 1995, \"y\": -0.0128, \"text\": \"1993 peak\"}, {\"x\": 2005, \"y\": -0.0065, \"text\": \"2005 peak\"}, {\"x\": 2016, \"y\": -0.0054, \"text\": \"2016 peak?\"}]}}, {\"mode\": \"vega-lite\"});\n",
       "</script>"
      ],
      "text/plain": [
       "alt.LayerChart(...)"
      ]
     },
     "execution_count": 382,
     "metadata": {},
     "output_type": "execute_result"
    }
   ],
   "source": [
    "chart = alt.Chart(comb, title='California Net Migration').mark_bar().encode(x=alt.X('Year:O', axis=alt.Axis(labelOpacity=.8, values=list(range(1992,2018,4)))), \n",
    "                                  y=alt.Y('Net_Mig_Total', axis=alt.Axis(labelPadding=45, labelOpacity=.8, format='%')),\n",
    "                                  color=alt.condition(alt.datum.Rel_Mig > 0, alt.value('#efcd55'), alt.value('#5688c4')))\n",
    "\n",
    "text = alt.Chart(pd.DataFrame({'x':[1995,2005,2016],'y':[-.0128,-.0065,-.0054],'text':['1993 peak', '2005 peak', '2016 peak?']})).mark_text(size=16, font='arial').encode(x='x:O',y='y',text='text')\n",
    "chart + text"
   ]
  },
  {
   "cell_type": "code",
   "execution_count": 106,
   "metadata": {},
   "outputs": [
    {
     "data": {
      "text/html": [
       "\n",
       "<div id=\"altair-viz-74\"></div>\n",
       "<script type=\"text/javascript\">\n",
       "  (function(spec, embedOpt){\n",
       "    const outputDiv = document.getElementById(\"altair-viz-74\");\n",
       "    const paths = {\n",
       "      \"vega\": \"https://cdn.jsdelivr.net/npm//vega@5?noext\",\n",
       "      \"vega-lib\": \"https://cdn.jsdelivr.net/npm//vega-lib?noext\",\n",
       "      \"vega-lite\": \"https://cdn.jsdelivr.net/npm//vega-lite@4.0.0?noext\",\n",
       "      \"vega-embed\": \"https://cdn.jsdelivr.net/npm//vega-embed@6?noext\",\n",
       "    };\n",
       "\n",
       "    function loadScript(lib) {\n",
       "      return new Promise(function(resolve, reject) {\n",
       "        var s = document.createElement('script');\n",
       "        s.src = paths[lib];\n",
       "        s.async = true;\n",
       "        s.onload = () => resolve(paths[lib]);\n",
       "        s.onerror = () => reject(`Error loading script: ${paths[lib]}`);\n",
       "        document.getElementsByTagName(\"head\")[0].appendChild(s);\n",
       "      });\n",
       "    }\n",
       "\n",
       "    function showError(err) {\n",
       "      outputDiv.innerHTML = `<div class=\"error\" style=\"color:red;\">${err}</div>`;\n",
       "      throw err;\n",
       "    }\n",
       "\n",
       "    function displayChart(vegaEmbed) {\n",
       "      vegaEmbed(outputDiv, spec, embedOpt)\n",
       "        .catch(err => showError(`Javascript Error: ${err.message}<br>This usually means there's a typo in your chart specification. See the javascript console for the full traceback.`));\n",
       "    }\n",
       "\n",
       "    if(typeof define === \"function\" && define.amd) {\n",
       "      requirejs.config({paths});\n",
       "      require([\"vega-embed\"], displayChart, err => showError(`Error loading script: ${err.message}`));\n",
       "    } else if (typeof vegaEmbed === \"function\") {\n",
       "      displayChart(vegaEmbed);\n",
       "    } else {\n",
       "      loadScript(\"vega\")\n",
       "        .then(() => loadScript(\"vega-lite\"))\n",
       "        .then(() => loadScript(\"vega-embed\"))\n",
       "        .catch(showError)\n",
       "        .then(() => displayChart(vegaEmbed));\n",
       "    }\n",
       "  })({\"width\": 600, \"height\": 400, \"background\": \"white\", \"config\": {\"title\": {\"fontWeight\": \"normal\", \"fontSize\": 30, \"anchor\": \"start\", \"font\": \"Lato, Calibri, Arial\", \"offset\": 5}, \"axisX\": {\"grid\": false, \"labelFont\": \"Lato, Calibri, Arial\", \"labelFontSize\": 16, \"labelAngle\": 0, \"labelPadding\": 10, \"ticks\": false, \"tickSize\": 5, \"title\": null, \"titleFont\": \"Lato, Calibri, Arial\", \"titleFontSize\": 16, \"titleFontWeight\": \"normal\", \"titleY\": 30, \"titleX\": 280}, \"axisY\": {\"grid\": true, \"gridOpacity\": 1, \"labelFont\": \"Lato, Calibri, Arial\", \"labelFontSize\": 16, \"labelLimit\": 100, \"labelAlign\": \"left\", \"labelPadding\": 20, \"ticks\": false, \"title\": null, \"titleFont\": \"Lato, Calibri, Arial\", \"titleFontWeight\": \"normal\", \"titleFontSize\": 16, \"titleAlign\": \"left\", \"titleAngle\": 0, \"titleY\": -20, \"titleX\": -20, \"domainWidth\": 0}, \"view\": {\"strokeOpacity\": 0}}, \"data\": {\"name\": \"data-23f8bc0f31cc89ef9f49d7d1ab41e3e8\"}, \"mark\": {\"type\": \"bar\", \"size\": 20}, \"encoding\": {\"color\": {\"condition\": {\"value\": \"#7eadeb\", \"test\": \"(datum.Net_Mig > 0)\"}, \"value\": \"#e6cd85\"}, \"x\": {\"type\": \"ordinal\", \"axis\": {\"values\": [1992, 1996, 2000, 2004, 2008, 2012, 2016]}, \"field\": \"Year\"}, \"y\": {\"type\": \"quantitative\", \"axis\": {\"labelPadding\": 60}, \"field\": \"Net_Mig\"}}, \"$schema\": \"https://vega.github.io/schema/vega-lite/v4.0.0.json\", \"datasets\": {\"data-23f8bc0f31cc89ef9f49d7d1ab41e3e8\": [{\"Year\": 1990, \"Res\": 10211835, \"Inmig\": 245535, \"Outmig\": 277327, \"Net_Mig\": -31792, \"Rel_Mig\": -0.00311}, {\"Year\": 1991, \"Res\": 10337480, \"Inmig\": 236007, \"Outmig\": 281887, \"Net_Mig\": -45880, \"Rel_Mig\": -0.00444}, {\"Year\": 1992, \"Res\": 10211198, \"Inmig\": 205155, \"Outmig\": 315822, \"Net_Mig\": -110667, \"Rel_Mig\": -0.01084}, {\"Year\": 1993, \"Res\": 10012232, \"Inmig\": 189073, \"Outmig\": 320472, \"Net_Mig\": -131399, \"Rel_Mig\": -0.01312}, {\"Year\": 1994, \"Res\": 9915747, \"Inmig\": 198917, \"Outmig\": 302694, \"Net_Mig\": -103777, \"Rel_Mig\": -0.01047}, {\"Year\": 1995, \"Res\": 10025767, \"Inmig\": 203317, \"Outmig\": 269836, \"Net_Mig\": -66519, \"Rel_Mig\": -0.00663}, {\"Year\": 1996, \"Res\": 10179399, \"Inmig\": 228764, \"Outmig\": 247534, \"Net_Mig\": -18770, \"Rel_Mig\": -0.00184}, {\"Year\": 1997, \"Res\": 10427660, \"Inmig\": 239369, \"Outmig\": 238682, \"Net_Mig\": 687, \"Rel_Mig\": 7e-05}, {\"Year\": 1998, \"Res\": 10789034, \"Inmig\": 241352, \"Outmig\": 240877, \"Net_Mig\": 475, \"Rel_Mig\": 4e-05}, {\"Year\": 1999, \"Res\": 11120947, \"Inmig\": 251035, \"Outmig\": 246887, \"Net_Mig\": 4148, \"Rel_Mig\": 0.00037}, {\"Year\": 2000, \"Res\": 11336742, \"Inmig\": 265793, \"Outmig\": 245677, \"Net_Mig\": 20116, \"Rel_Mig\": 0.00177}, {\"Year\": 2001, \"Res\": 11531921, \"Inmig\": 240139, \"Outmig\": 260174, \"Net_Mig\": -20035, \"Rel_Mig\": -0.00174}, {\"Year\": 2002, \"Res\": 11641931, \"Inmig\": 233121, \"Outmig\": 252674, \"Net_Mig\": -19553, \"Rel_Mig\": -0.00168}, {\"Year\": 2003, \"Res\": 11652738, \"Inmig\": 230865, \"Outmig\": 261740, \"Net_Mig\": -30875, \"Rel_Mig\": -0.00265}, {\"Year\": 2004, \"Res\": 11703701, \"Inmig\": 229348, \"Outmig\": 289992, \"Net_Mig\": -60644, \"Rel_Mig\": -0.00518}, {\"Year\": 2005, \"Res\": 11745599, \"Inmig\": 235690, \"Outmig\": 302665, \"Net_Mig\": -66975, \"Rel_Mig\": -0.0057}, {\"Year\": 2006, \"Res\": 11906514, \"Inmig\": 234018, \"Outmig\": 289096, \"Net_Mig\": -55078, \"Rel_Mig\": -0.00463}, {\"Year\": 2007, \"Res\": 12434953, \"Inmig\": 251841, \"Outmig\": 271521, \"Net_Mig\": -19680, \"Rel_Mig\": -0.00158}, {\"Year\": 2008, \"Res\": 12707337, \"Inmig\": 243360, \"Outmig\": 252516, \"Net_Mig\": -9156, \"Rel_Mig\": -0.00072}, {\"Year\": 2009, \"Res\": 12588517, \"Inmig\": 214495, \"Outmig\": 231291, \"Net_Mig\": -16796, \"Rel_Mig\": -0.00133}, {\"Year\": 2010, \"Res\": 12600855, \"Inmig\": 224532, \"Outmig\": 236494, \"Net_Mig\": -11962, \"Rel_Mig\": -0.00095}, {\"Year\": 2011, \"Res\": 13084530, \"Inmig\": 264729, \"Outmig\": 266673, \"Net_Mig\": -1944, \"Rel_Mig\": -0.00015}, {\"Year\": 2012, \"Res\": 13148643, \"Inmig\": 268149, \"Outmig\": 280002, \"Net_Mig\": -11853, \"Rel_Mig\": -0.0009}, {\"Year\": 2013, \"Res\": 13289353, \"Inmig\": 252717, \"Outmig\": 268472, \"Net_Mig\": -15755, \"Rel_Mig\": -0.00119}, {\"Year\": 2014, \"Res\": 13658090, \"Inmig\": 200999, \"Outmig\": 212337, \"Net_Mig\": -11338, \"Rel_Mig\": -0.00083}, {\"Year\": 2015, \"Res\": 13795079, \"Inmig\": 260471, \"Outmig\": 288918, \"Net_Mig\": -28447, \"Rel_Mig\": -0.00206}, {\"Year\": 2016, \"Res\": 13811052, \"Inmig\": 327447, \"Outmig\": 392786, \"Net_Mig\": -65339, \"Rel_Mig\": -0.00473}, {\"Year\": 2017, \"Res\": 14159070, \"Inmig\": 261617, \"Outmig\": 322169, \"Net_Mig\": -60552, \"Rel_Mig\": -0.00428}]}}, {\"mode\": \"vega-lite\"});\n",
       "</script>"
      ],
      "text/plain": [
       "alt.Chart(...)"
      ]
     },
     "execution_count": 106,
     "metadata": {},
     "output_type": "execute_result"
    }
   ],
   "source": [
    "alt.Chart(comb).mark_bar(size=20).encode(x=alt.X('Year:O', axis=alt.Axis(values=list(range(1992,2018,4)))), \n",
    "                                  y=alt.Y('Net_Mig', axis=alt.Axis(labelPadding=60)),\n",
    "                                  color=alt.condition(alt.datum.Net_Mig > 0, alt.value('#7eadeb'), alt.value('#e6cd85')))"
   ]
  },
  {
   "cell_type": "code",
   "execution_count": null,
   "metadata": {},
   "outputs": [],
   "source": []
  }
 ],
 "metadata": {
  "kernelspec": {
   "display_name": "Python 3",
   "language": "python",
   "name": "python3"
  },
  "language_info": {
   "codemirror_mode": {
    "name": "ipython",
    "version": 3
   },
   "file_extension": ".py",
   "mimetype": "text/x-python",
   "name": "python",
   "nbconvert_exporter": "python",
   "pygments_lexer": "ipython3",
   "version": "3.7.3"
  }
 },
 "nbformat": 4,
 "nbformat_minor": 4
}
