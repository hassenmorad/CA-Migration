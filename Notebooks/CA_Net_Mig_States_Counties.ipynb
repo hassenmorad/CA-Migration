{
 "cells": [
  {
   "cell_type": "code",
   "execution_count": 1,
   "metadata": {},
   "outputs": [],
   "source": [
    "import pandas as pd\n",
    "import numpy as np\n",
    "import requests"
   ]
  },
  {
   "cell_type": "code",
   "execution_count": 9,
   "metadata": {},
   "outputs": [],
   "source": [
    "# 2013-2017 Migration Flow Data\n",
    "r = requests.get('https://api.census.gov/data/2017/acs/flows?get=COUNTY1_NAME,GEOID1,STATE2_NAME,COUNTY2_NAME,GEOID2,POP1YR,MOVEDIN,MOVEDOUT,MOVEDNET,NONMOVERS,SAMECOUNTY,FROMDIFFCTY,FROMDIFFSTATE,FROMABROAD,TODIFFCTY,TODIFFSTATE,TOPUERTORICO&for=county:*')"
   ]
  },
  {
   "cell_type": "code",
   "execution_count": 11,
   "metadata": {},
   "outputs": [],
   "source": [
    "df = pd.DataFrame(r.json()[1:])"
   ]
  },
  {
   "cell_type": "code",
   "execution_count": 12,
   "metadata": {},
   "outputs": [],
   "source": [
    "df.columns = ['County1Name', 'County1FIPS', 'State2Name', 'County2Name', 'County2FIPS', 'County1Population', 'MovedIn', 'MovedOut', 'Net_Dom', 'NonMovers', 'Within_Same_County', 'From_Diff_County_Same_State', 'From_Diff_State', 'From_Abroad', 'To_Diff_County_Same_State', 'To_Diff_State', 'To_PR', 'State', 'County']\n",
    "df = df.drop(['County'], axis=1)\n",
    "df['Year'] = list(np.full(len(df), 2017))\n",
    "df = df.replace(' ', np.nan).fillna(0)\n",
    "df.to_csv('temp.csv', index=False)  # To solve formatting issues (w/ large FIPS code- too long for Python to interpret as an int)"
   ]
  },
  {
   "cell_type": "code",
   "execution_count": 13,
   "metadata": {},
   "outputs": [],
   "source": [
    "adj_df = pd.read_csv('temp.csv')\n",
    "adj_df = adj_df[(adj_df.County2FIPS < 80000) & (adj_df.County2FIPS > 0)]  # Excluding weird counties (distorted data)\n",
    "#adj_df['State2'] = adj_df.County2FIPS // 1000  # State FIPS"
   ]
  },
  {
   "cell_type": "code",
   "execution_count": 14,
   "metadata": {},
   "outputs": [],
   "source": [
    "ca_net = adj_df[adj_df.State == 6]"
   ]
  },
  {
   "cell_type": "code",
   "execution_count": 15,
   "metadata": {},
   "outputs": [
    {
     "data": {
      "text/html": [
       "<div>\n",
       "<style scoped>\n",
       "    .dataframe tbody tr th:only-of-type {\n",
       "        vertical-align: middle;\n",
       "    }\n",
       "\n",
       "    .dataframe tbody tr th {\n",
       "        vertical-align: top;\n",
       "    }\n",
       "\n",
       "    .dataframe thead th {\n",
       "        text-align: right;\n",
       "    }\n",
       "</style>\n",
       "<table border=\"1\" class=\"dataframe\">\n",
       "  <thead>\n",
       "    <tr style=\"text-align: right;\">\n",
       "      <th></th>\n",
       "      <th>County1Name</th>\n",
       "      <th>County1FIPS</th>\n",
       "      <th>State2Name</th>\n",
       "      <th>County2Name</th>\n",
       "      <th>County2FIPS</th>\n",
       "      <th>County1Population</th>\n",
       "      <th>MovedIn</th>\n",
       "      <th>MovedOut</th>\n",
       "      <th>Net_Dom</th>\n",
       "      <th>NonMovers</th>\n",
       "      <th>Within_Same_County</th>\n",
       "      <th>From_Diff_County_Same_State</th>\n",
       "      <th>From_Diff_State</th>\n",
       "      <th>From_Abroad</th>\n",
       "      <th>To_Diff_County_Same_State</th>\n",
       "      <th>To_Diff_State</th>\n",
       "      <th>To_PR</th>\n",
       "      <th>State</th>\n",
       "      <th>Year</th>\n",
       "    </tr>\n",
       "  </thead>\n",
       "  <tbody>\n",
       "    <tr>\n",
       "      <th>27757</th>\n",
       "      <td>Alameda County</td>\n",
       "      <td>6001</td>\n",
       "      <td>Alabama</td>\n",
       "      <td>Baldwin County</td>\n",
       "      <td>1003</td>\n",
       "      <td>1611086</td>\n",
       "      <td>0</td>\n",
       "      <td>18</td>\n",
       "      <td>-18</td>\n",
       "      <td>1392752</td>\n",
       "      <td>112211</td>\n",
       "      <td>60756</td>\n",
       "      <td>23815</td>\n",
       "      <td>21552</td>\n",
       "      <td>67558</td>\n",
       "      <td>26848</td>\n",
       "      <td>0</td>\n",
       "      <td>6</td>\n",
       "      <td>2017</td>\n",
       "    </tr>\n",
       "  </tbody>\n",
       "</table>\n",
       "</div>"
      ],
      "text/plain": [
       "          County1Name  County1FIPS State2Name     County2Name  County2FIPS  \\\n",
       "27757  Alameda County         6001    Alabama  Baldwin County         1003   \n",
       "\n",
       "       County1Population  MovedIn  MovedOut  Net_Dom  NonMovers  \\\n",
       "27757            1611086        0        18      -18    1392752   \n",
       "\n",
       "       Within_Same_County  From_Diff_County_Same_State  From_Diff_State  \\\n",
       "27757              112211                        60756            23815   \n",
       "\n",
       "       From_Abroad  To_Diff_County_Same_State  To_Diff_State  To_PR  State  \\\n",
       "27757        21552                      67558          26848      0      6   \n",
       "\n",
       "       Year  \n",
       "27757  2017  "
      ]
     },
     "execution_count": 15,
     "metadata": {},
     "output_type": "execute_result"
    }
   ],
   "source": [
    "ca_net.head(1)"
   ]
  },
  {
   "cell_type": "markdown",
   "metadata": {},
   "source": [
    "### States:"
   ]
  },
  {
   "cell_type": "code",
   "execution_count": 40,
   "metadata": {},
   "outputs": [],
   "source": [
    "vals = []\n",
    "for fips in ca_net.State2Name.unique():\n",
    "    df = ca_net[ca_net.State2Name == fips]\n",
    "    vals.append(df.Net_Dom.sum())"
   ]
  },
  {
   "cell_type": "code",
   "execution_count": 60,
   "metadata": {},
   "outputs": [],
   "source": [
    "df = pd.DataFrame({'State':ca_net.State2Name.unique(), 'Net_Dom':vals})\n",
    "df = df[df.State != 'California'].sort_values('Net_Dom')"
   ]
  },
  {
   "cell_type": "code",
   "execution_count": 61,
   "metadata": {},
   "outputs": [
    {
     "data": {
      "text/plain": [
       "19"
      ]
     },
     "execution_count": 61,
     "metadata": {},
     "output_type": "execute_result"
    }
   ],
   "source": [
    "len(df[df.Net_Dom > 0])"
   ]
  },
  {
   "cell_type": "code",
   "execution_count": 64,
   "metadata": {},
   "outputs": [],
   "source": [
    "df['More'] = list(df.State.values[:32]) + ['California']*19\n",
    "df['Net_Dom_Str'] = df.Net_Dom.apply(lambda x:abs(x))"
   ]
  },
  {
   "cell_type": "code",
   "execution_count": 65,
   "metadata": {},
   "outputs": [],
   "source": [
    "df.to_csv('CA_net_mig_states_1317.csv', index=False)"
   ]
  },
  {
   "cell_type": "markdown",
   "metadata": {},
   "source": [
    "### Counties:"
   ]
  },
  {
   "cell_type": "code",
   "execution_count": 17,
   "metadata": {},
   "outputs": [],
   "source": [
    "vals = []\n",
    "counties = []\n",
    "for fips in ca_net.County2FIPS.unique():\n",
    "    df = ca_net[ca_net.County2FIPS == fips]\n",
    "    counties.append(df.County2Name.iloc[0] + ', ' + df.State2Name.iloc[0])\n",
    "    vals.append(df.Net_Dom.sum())"
   ]
  },
  {
   "cell_type": "code",
   "execution_count": 38,
   "metadata": {},
   "outputs": [],
   "source": [
    "df = pd.DataFrame({'FIPS':ca_net.County2FIPS.unique(), 'County':counties, 'Net_Dom':vals})\n",
    "df = df[df.FIPS//1000 != 6].sort_values('Net_Dom')  # Excluding CA counties\n",
    "#df['County'] = df.Address.apply(lambda x:x.split(',')[0])"
   ]
  },
  {
   "cell_type": "code",
   "execution_count": 39,
   "metadata": {},
   "outputs": [
    {
     "data": {
      "text/html": [
       "<div>\n",
       "<style scoped>\n",
       "    .dataframe tbody tr th:only-of-type {\n",
       "        vertical-align: middle;\n",
       "    }\n",
       "\n",
       "    .dataframe tbody tr th {\n",
       "        vertical-align: top;\n",
       "    }\n",
       "\n",
       "    .dataframe thead th {\n",
       "        text-align: right;\n",
       "    }\n",
       "</style>\n",
       "<table border=\"1\" class=\"dataframe\">\n",
       "  <thead>\n",
       "    <tr style=\"text-align: right;\">\n",
       "      <th></th>\n",
       "      <th>FIPS</th>\n",
       "      <th>County</th>\n",
       "      <th>Net_Dom</th>\n",
       "    </tr>\n",
       "  </thead>\n",
       "  <tbody>\n",
       "    <tr>\n",
       "      <th>326</th>\n",
       "      <td>32003</td>\n",
       "      <td>Clark County, Nevada</td>\n",
       "      <td>-15841</td>\n",
       "    </tr>\n",
       "    <tr>\n",
       "      <th>17</th>\n",
       "      <td>4013</td>\n",
       "      <td>Maricopa County, Arizona</td>\n",
       "      <td>-13026</td>\n",
       "    </tr>\n",
       "    <tr>\n",
       "      <th>449</th>\n",
       "      <td>41051</td>\n",
       "      <td>Multnomah County, Oregon</td>\n",
       "      <td>-3760</td>\n",
       "    </tr>\n",
       "    <tr>\n",
       "      <th>507</th>\n",
       "      <td>48113</td>\n",
       "      <td>Dallas County, Texas</td>\n",
       "      <td>-3618</td>\n",
       "    </tr>\n",
       "    <tr>\n",
       "      <th>161</th>\n",
       "      <td>16001</td>\n",
       "      <td>Ada County, Idaho</td>\n",
       "      <td>-3597</td>\n",
       "    </tr>\n",
       "    <tr>\n",
       "      <th>...</th>\n",
       "      <td>...</td>\n",
       "      <td>...</td>\n",
       "      <td>...</td>\n",
       "    </tr>\n",
       "    <tr>\n",
       "      <th>466</th>\n",
       "      <td>42101</td>\n",
       "      <td>Philadelphia County, Pennsylvania</td>\n",
       "      <td>1550</td>\n",
       "    </tr>\n",
       "    <tr>\n",
       "      <th>158</th>\n",
       "      <td>15003</td>\n",
       "      <td>Honolulu County, Hawaii</td>\n",
       "      <td>1920</td>\n",
       "    </tr>\n",
       "    <tr>\n",
       "      <th>375</th>\n",
       "      <td>36061</td>\n",
       "      <td>New York County, New York</td>\n",
       "      <td>1989</td>\n",
       "    </tr>\n",
       "    <tr>\n",
       "      <th>371</th>\n",
       "      <td>36047</td>\n",
       "      <td>Kings County, New York</td>\n",
       "      <td>3772</td>\n",
       "    </tr>\n",
       "    <tr>\n",
       "      <th>171</th>\n",
       "      <td>17031</td>\n",
       "      <td>Cook County, Illinois</td>\n",
       "      <td>5929</td>\n",
       "    </tr>\n",
       "  </tbody>\n",
       "</table>\n",
       "<p>2326 rows × 3 columns</p>\n",
       "</div>"
      ],
      "text/plain": [
       "      FIPS                             County  Net_Dom\n",
       "326  32003               Clark County, Nevada   -15841\n",
       "17    4013           Maricopa County, Arizona   -13026\n",
       "449  41051           Multnomah County, Oregon    -3760\n",
       "507  48113               Dallas County, Texas    -3618\n",
       "161  16001                  Ada County, Idaho    -3597\n",
       "..     ...                                ...      ...\n",
       "466  42101  Philadelphia County, Pennsylvania     1550\n",
       "158  15003            Honolulu County, Hawaii     1920\n",
       "375  36061          New York County, New York     1989\n",
       "371  36047             Kings County, New York     3772\n",
       "171  17031              Cook County, Illinois     5929\n",
       "\n",
       "[2326 rows x 3 columns]"
      ]
     },
     "execution_count": 39,
     "metadata": {},
     "output_type": "execute_result"
    }
   ],
   "source": [
    "df"
   ]
  },
  {
   "cell_type": "code",
   "execution_count": 40,
   "metadata": {},
   "outputs": [
    {
     "data": {
      "text/plain": [
       "1513"
      ]
     },
     "execution_count": 40,
     "metadata": {},
     "output_type": "execute_result"
    }
   ],
   "source": [
    "len(df[df.Net_Dom < 0])"
   ]
  },
  {
   "cell_type": "code",
   "execution_count": 44,
   "metadata": {},
   "outputs": [],
   "source": [
    "df['More'] = list(df.County.apply(lambda x:x.split(',')[0]).values[:1513]) + ['California']*813\n",
    "df['Net_Dom_Str'] = df.Net_Dom.apply(lambda x:'{:,}'.format(abs(x)))"
   ]
  },
  {
   "cell_type": "code",
   "execution_count": 45,
   "metadata": {},
   "outputs": [
    {
     "data": {
      "text/html": [
       "<div>\n",
       "<style scoped>\n",
       "    .dataframe tbody tr th:only-of-type {\n",
       "        vertical-align: middle;\n",
       "    }\n",
       "\n",
       "    .dataframe tbody tr th {\n",
       "        vertical-align: top;\n",
       "    }\n",
       "\n",
       "    .dataframe thead th {\n",
       "        text-align: right;\n",
       "    }\n",
       "</style>\n",
       "<table border=\"1\" class=\"dataframe\">\n",
       "  <thead>\n",
       "    <tr style=\"text-align: right;\">\n",
       "      <th></th>\n",
       "      <th>FIPS</th>\n",
       "      <th>County</th>\n",
       "      <th>Net_Dom</th>\n",
       "      <th>More</th>\n",
       "      <th>Net_Dom_Str</th>\n",
       "    </tr>\n",
       "  </thead>\n",
       "  <tbody>\n",
       "    <tr>\n",
       "      <th>326</th>\n",
       "      <td>32003</td>\n",
       "      <td>Clark County, Nevada</td>\n",
       "      <td>-15841</td>\n",
       "      <td>Clark County</td>\n",
       "      <td>15,841</td>\n",
       "    </tr>\n",
       "    <tr>\n",
       "      <th>17</th>\n",
       "      <td>4013</td>\n",
       "      <td>Maricopa County, Arizona</td>\n",
       "      <td>-13026</td>\n",
       "      <td>Maricopa County</td>\n",
       "      <td>13,026</td>\n",
       "    </tr>\n",
       "    <tr>\n",
       "      <th>449</th>\n",
       "      <td>41051</td>\n",
       "      <td>Multnomah County, Oregon</td>\n",
       "      <td>-3760</td>\n",
       "      <td>Multnomah County</td>\n",
       "      <td>3,760</td>\n",
       "    </tr>\n",
       "    <tr>\n",
       "      <th>507</th>\n",
       "      <td>48113</td>\n",
       "      <td>Dallas County, Texas</td>\n",
       "      <td>-3618</td>\n",
       "      <td>Dallas County</td>\n",
       "      <td>3,618</td>\n",
       "    </tr>\n",
       "    <tr>\n",
       "      <th>161</th>\n",
       "      <td>16001</td>\n",
       "      <td>Ada County, Idaho</td>\n",
       "      <td>-3597</td>\n",
       "      <td>Ada County</td>\n",
       "      <td>3,597</td>\n",
       "    </tr>\n",
       "    <tr>\n",
       "      <th>...</th>\n",
       "      <td>...</td>\n",
       "      <td>...</td>\n",
       "      <td>...</td>\n",
       "      <td>...</td>\n",
       "      <td>...</td>\n",
       "    </tr>\n",
       "    <tr>\n",
       "      <th>466</th>\n",
       "      <td>42101</td>\n",
       "      <td>Philadelphia County, Pennsylvania</td>\n",
       "      <td>1550</td>\n",
       "      <td>California</td>\n",
       "      <td>1,550</td>\n",
       "    </tr>\n",
       "    <tr>\n",
       "      <th>158</th>\n",
       "      <td>15003</td>\n",
       "      <td>Honolulu County, Hawaii</td>\n",
       "      <td>1920</td>\n",
       "      <td>California</td>\n",
       "      <td>1,920</td>\n",
       "    </tr>\n",
       "    <tr>\n",
       "      <th>375</th>\n",
       "      <td>36061</td>\n",
       "      <td>New York County, New York</td>\n",
       "      <td>1989</td>\n",
       "      <td>California</td>\n",
       "      <td>1,989</td>\n",
       "    </tr>\n",
       "    <tr>\n",
       "      <th>371</th>\n",
       "      <td>36047</td>\n",
       "      <td>Kings County, New York</td>\n",
       "      <td>3772</td>\n",
       "      <td>California</td>\n",
       "      <td>3,772</td>\n",
       "    </tr>\n",
       "    <tr>\n",
       "      <th>171</th>\n",
       "      <td>17031</td>\n",
       "      <td>Cook County, Illinois</td>\n",
       "      <td>5929</td>\n",
       "      <td>California</td>\n",
       "      <td>5,929</td>\n",
       "    </tr>\n",
       "  </tbody>\n",
       "</table>\n",
       "<p>2326 rows × 5 columns</p>\n",
       "</div>"
      ],
      "text/plain": [
       "      FIPS                             County  Net_Dom              More  \\\n",
       "326  32003               Clark County, Nevada   -15841      Clark County   \n",
       "17    4013           Maricopa County, Arizona   -13026   Maricopa County   \n",
       "449  41051           Multnomah County, Oregon    -3760  Multnomah County   \n",
       "507  48113               Dallas County, Texas    -3618     Dallas County   \n",
       "161  16001                  Ada County, Idaho    -3597        Ada County   \n",
       "..     ...                                ...      ...               ...   \n",
       "466  42101  Philadelphia County, Pennsylvania     1550        California   \n",
       "158  15003            Honolulu County, Hawaii     1920        California   \n",
       "375  36061          New York County, New York     1989        California   \n",
       "371  36047             Kings County, New York     3772        California   \n",
       "171  17031              Cook County, Illinois     5929        California   \n",
       "\n",
       "    Net_Dom_Str  \n",
       "326      15,841  \n",
       "17       13,026  \n",
       "449       3,760  \n",
       "507       3,618  \n",
       "161       3,597  \n",
       "..          ...  \n",
       "466       1,550  \n",
       "158       1,920  \n",
       "375       1,989  \n",
       "371       3,772  \n",
       "171       5,929  \n",
       "\n",
       "[2326 rows x 5 columns]"
      ]
     },
     "execution_count": 45,
     "metadata": {},
     "output_type": "execute_result"
    }
   ],
   "source": [
    "df"
   ]
  },
  {
   "cell_type": "code",
   "execution_count": 46,
   "metadata": {},
   "outputs": [],
   "source": [
    "df.to_csv('CA_net_mig_counties_1317.csv', index=False)"
   ]
  },
  {
   "cell_type": "markdown",
   "metadata": {},
   "source": [
    "---"
   ]
  }
 ],
 "metadata": {
  "kernelspec": {
   "display_name": "Python 3",
   "language": "python",
   "name": "python3"
  },
  "language_info": {
   "codemirror_mode": {
    "name": "ipython",
    "version": 3
   },
   "file_extension": ".py",
   "mimetype": "text/x-python",
   "name": "python",
   "nbconvert_exporter": "python",
   "pygments_lexer": "ipython3",
   "version": "3.7.3"
  }
 },
 "nbformat": 4,
 "nbformat_minor": 4
}
