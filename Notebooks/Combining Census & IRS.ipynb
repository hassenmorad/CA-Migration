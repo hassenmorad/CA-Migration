{
 "cells": [
  {
   "cell_type": "code",
   "execution_count": 1,
   "metadata": {},
   "outputs": [],
   "source": [
    "import pandas as pd"
   ]
  },
  {
   "cell_type": "code",
   "execution_count": 2,
   "metadata": {},
   "outputs": [],
   "source": [
    "%run chart_theme.py"
   ]
  },
  {
   "cell_type": "markdown",
   "metadata": {},
   "source": [
    "#### Comparing IRS & Census Migration Data:"
   ]
  },
  {
   "cell_type": "markdown",
   "metadata": {},
   "source": [
    "Below I explore the differences in state-level migration data from the IRS & Census to decide which one to use as my primary data source. While IRS data spans a longer period of time (1991-2018) than Census data from (2005-2018), it was apparent through my investigation that Census data was more reliable. For this reason I adjusted 1991-2004 IRS figures (outlined below) and combined them with Census figures (2005-2018) to produce a master data set.\n",
    "\n",
    "*It should be noted that this master data set only captures total state in-migration and out-migration data; I relied on Census 5-year estimates for county-to-county migration data."
   ]
  },
  {
   "cell_type": "code",
   "execution_count": 2,
   "metadata": {},
   "outputs": [],
   "source": [
    "irs = pd.read_csv('IRS_CA_mig_pop_clean_9118.csv')"
   ]
  },
  {
   "cell_type": "code",
   "execution_count": 3,
   "metadata": {},
   "outputs": [
    {
     "data": {
      "text/html": [
       "<div>\n",
       "<style scoped>\n",
       "    .dataframe tbody tr th:only-of-type {\n",
       "        vertical-align: middle;\n",
       "    }\n",
       "\n",
       "    .dataframe tbody tr th {\n",
       "        vertical-align: top;\n",
       "    }\n",
       "\n",
       "    .dataframe thead th {\n",
       "        text-align: right;\n",
       "    }\n",
       "</style>\n",
       "<table border=\"1\" class=\"dataframe\">\n",
       "  <thead>\n",
       "    <tr style=\"text-align: right;\">\n",
       "      <th></th>\n",
       "      <th>Year</th>\n",
       "      <th>Inmig</th>\n",
       "      <th>Outmig</th>\n",
       "      <th>Net_Mig</th>\n",
       "      <th>Tot_Mig</th>\n",
       "      <th>Population</th>\n",
       "    </tr>\n",
       "  </thead>\n",
       "  <tbody>\n",
       "    <tr>\n",
       "      <th>0</th>\n",
       "      <td>1991</td>\n",
       "      <td>397444</td>\n",
       "      <td>531946</td>\n",
       "      <td>-134502</td>\n",
       "      <td>929390</td>\n",
       "      <td>30143555</td>\n",
       "    </tr>\n",
       "    <tr>\n",
       "      <th>1</th>\n",
       "      <td>1992</td>\n",
       "      <td>372254</td>\n",
       "      <td>542349</td>\n",
       "      <td>-170095</td>\n",
       "      <td>914603</td>\n",
       "      <td>30722998</td>\n",
       "    </tr>\n",
       "    <tr>\n",
       "      <th>2</th>\n",
       "      <td>1993</td>\n",
       "      <td>319966</td>\n",
       "      <td>625119</td>\n",
       "      <td>-305153</td>\n",
       "      <td>945085</td>\n",
       "      <td>31150786</td>\n",
       "    </tr>\n",
       "  </tbody>\n",
       "</table>\n",
       "</div>"
      ],
      "text/plain": [
       "   Year   Inmig  Outmig  Net_Mig  Tot_Mig  Population\n",
       "0  1991  397444  531946  -134502   929390    30143555\n",
       "1  1992  372254  542349  -170095   914603    30722998\n",
       "2  1993  319966  625119  -305153   945085    31150786"
      ]
     },
     "execution_count": 3,
     "metadata": {},
     "output_type": "execute_result"
    }
   ],
   "source": [
    "irs.head(3)"
   ]
  },
  {
   "cell_type": "code",
   "execution_count": 5,
   "metadata": {},
   "outputs": [],
   "source": [
    "census = pd.read_csv('Census_1yr_CA_mig_0518.csv')"
   ]
  },
  {
   "cell_type": "code",
   "execution_count": 6,
   "metadata": {},
   "outputs": [
    {
     "data": {
      "text/html": [
       "<div>\n",
       "<style scoped>\n",
       "    .dataframe tbody tr th:only-of-type {\n",
       "        vertical-align: middle;\n",
       "    }\n",
       "\n",
       "    .dataframe tbody tr th {\n",
       "        vertical-align: top;\n",
       "    }\n",
       "\n",
       "    .dataframe thead th {\n",
       "        text-align: right;\n",
       "    }\n",
       "</style>\n",
       "<table border=\"1\" class=\"dataframe\">\n",
       "  <thead>\n",
       "    <tr style=\"text-align: right;\">\n",
       "      <th></th>\n",
       "      <th>Year</th>\n",
       "      <th>Inmig</th>\n",
       "      <th>Outmig</th>\n",
       "      <th>Net_Mig</th>\n",
       "      <th>Tot_Mig</th>\n",
       "    </tr>\n",
       "  </thead>\n",
       "  <tbody>\n",
       "    <tr>\n",
       "      <th>0</th>\n",
       "      <td>2005</td>\n",
       "      <td>449212</td>\n",
       "      <td>718417</td>\n",
       "      <td>-269205</td>\n",
       "      <td>1167629</td>\n",
       "    </tr>\n",
       "    <tr>\n",
       "      <th>1</th>\n",
       "      <td>2006</td>\n",
       "      <td>524408</td>\n",
       "      <td>746676</td>\n",
       "      <td>-222268</td>\n",
       "      <td>1271084</td>\n",
       "    </tr>\n",
       "    <tr>\n",
       "      <th>2</th>\n",
       "      <td>2007</td>\n",
       "      <td>491657</td>\n",
       "      <td>668021</td>\n",
       "      <td>-176364</td>\n",
       "      <td>1159678</td>\n",
       "    </tr>\n",
       "  </tbody>\n",
       "</table>\n",
       "</div>"
      ],
      "text/plain": [
       "   Year   Inmig  Outmig  Net_Mig  Tot_Mig\n",
       "0  2005  449212  718417  -269205  1167629\n",
       "1  2006  524408  746676  -222268  1271084\n",
       "2  2007  491657  668021  -176364  1159678"
      ]
     },
     "execution_count": 6,
     "metadata": {},
     "output_type": "execute_result"
    }
   ],
   "source": [
    "census.head(3)"
   ]
  },
  {
   "cell_type": "markdown",
   "metadata": {},
   "source": [
    "### Plotting Census & IRS migration data to investigate differences between them:"
   ]
  },
  {
   "cell_type": "markdown",
   "metadata": {},
   "source": [
    "IRS Migration Trends:"
   ]
  },
  {
   "cell_type": "code",
   "execution_count": 7,
   "metadata": {},
   "outputs": [
    {
     "data": {
      "text/html": [
       "\n",
       "<div id=\"altair-viz-1\"></div>\n",
       "<script type=\"text/javascript\">\n",
       "  (function(spec, embedOpt){\n",
       "    const outputDiv = document.getElementById(\"altair-viz-1\");\n",
       "    const paths = {\n",
       "      \"vega\": \"https://cdn.jsdelivr.net/npm//vega@5?noext\",\n",
       "      \"vega-lib\": \"https://cdn.jsdelivr.net/npm//vega-lib?noext\",\n",
       "      \"vega-lite\": \"https://cdn.jsdelivr.net/npm//vega-lite@4.0.0?noext\",\n",
       "      \"vega-embed\": \"https://cdn.jsdelivr.net/npm//vega-embed@6?noext\",\n",
       "    };\n",
       "\n",
       "    function loadScript(lib) {\n",
       "      return new Promise(function(resolve, reject) {\n",
       "        var s = document.createElement('script');\n",
       "        s.src = paths[lib];\n",
       "        s.async = true;\n",
       "        s.onload = () => resolve(paths[lib]);\n",
       "        s.onerror = () => reject(`Error loading script: ${paths[lib]}`);\n",
       "        document.getElementsByTagName(\"head\")[0].appendChild(s);\n",
       "      });\n",
       "    }\n",
       "\n",
       "    function showError(err) {\n",
       "      outputDiv.innerHTML = `<div class=\"error\" style=\"color:red;\">${err}</div>`;\n",
       "      throw err;\n",
       "    }\n",
       "\n",
       "    function displayChart(vegaEmbed) {\n",
       "      vegaEmbed(outputDiv, spec, embedOpt)\n",
       "        .catch(err => showError(`Javascript Error: ${err.message}<br>This usually means there's a typo in your chart specification. See the javascript console for the full traceback.`));\n",
       "    }\n",
       "\n",
       "    if(typeof define === \"function\" && define.amd) {\n",
       "      requirejs.config({paths});\n",
       "      require([\"vega-embed\"], displayChart, err => showError(`Error loading script: ${err.message}`));\n",
       "    } else if (typeof vegaEmbed === \"function\") {\n",
       "      displayChart(vegaEmbed);\n",
       "    } else {\n",
       "      loadScript(\"vega\")\n",
       "        .then(() => loadScript(\"vega-lite\"))\n",
       "        .then(() => loadScript(\"vega-embed\"))\n",
       "        .catch(showError)\n",
       "        .then(() => displayChart(vegaEmbed));\n",
       "    }\n",
       "  })({\"width\": 600, \"height\": 400, \"background\": \"white\", \"config\": {\"title\": {\"fontWeight\": \"normal\", \"fontSize\": 30, \"anchor\": \"start\", \"font\": \"Calibri\", \"offset\": 5}, \"axisX\": {\"grid\": false, \"labelFont\": \"Calibri\", \"labelFontSize\": 16, \"labelAngle\": 0, \"labelPadding\": 10, \"ticks\": false, \"tickSize\": 5, \"title\": null, \"titleFont\": \"Calibri\", \"titleFontSize\": 16, \"titleFontWeight\": \"normal\", \"titleY\": 30, \"titleX\": 280}, \"axisY\": {\"grid\": true, \"gridOpacity\": 1, \"labelFont\": \"Calibri\", \"labelFontSize\": 16, \"labelLimit\": 100, \"labelAlign\": \"left\", \"labelPadding\": 20, \"ticks\": false, \"title\": null, \"titleFont\": \"Calibri\", \"titleFontWeight\": \"normal\", \"titleFontSize\": 17, \"titleAlign\": \"left\", \"titleAngle\": 0, \"titleY\": -20, \"titleX\": -20, \"domainWidth\": 0}, \"view\": {\"strokeOpacity\": 0}}, \"layer\": [{\"mark\": {\"type\": \"line\", \"color\": \"lightblue\"}, \"encoding\": {\"x\": {\"type\": \"ordinal\", \"field\": \"Year\"}, \"y\": {\"type\": \"quantitative\", \"field\": \"Inmig\", \"title\": \"Post-2011 yr-to-yr figures look too volatile (maybe data is missing) |  (out=gray, in=light blue)\"}}, \"title\": \"IRS Migration Trends\"}, {\"mark\": {\"type\": \"line\", \"color\": \"lightgray\"}, \"encoding\": {\"x\": {\"type\": \"ordinal\", \"field\": \"Year\"}, \"y\": {\"type\": \"quantitative\", \"field\": \"Outmig\"}}}, {\"data\": {\"name\": \"data-ea7733ff27493fb94e46541bba32e621\"}, \"mark\": {\"type\": \"rect\", \"color\": \"lightgray\", \"opacity\": 0.2}, \"encoding\": {\"x\": {\"type\": \"ordinal\", \"field\": \"x\"}, \"x2\": {\"field\": \"x2\"}, \"y\": {\"type\": \"quantitative\", \"field\": \"y\"}, \"y2\": {\"field\": \"y2\"}}}], \"data\": {\"name\": \"data-16d76cfe5fcc88c6bf7bb191d342199b\"}, \"$schema\": \"https://vega.github.io/schema/vega-lite/v4.0.0.json\", \"datasets\": {\"data-16d76cfe5fcc88c6bf7bb191d342199b\": [{\"Year\": 1991, \"Inmig\": 397444, \"Outmig\": 531946, \"Net_Mig\": -134502, \"Tot_Mig\": 929390, \"Population\": 30143555}, {\"Year\": 1992, \"Inmig\": 372254, \"Outmig\": 542349, \"Net_Mig\": -170095, \"Tot_Mig\": 914603, \"Population\": 30722998}, {\"Year\": 1993, \"Inmig\": 319966, \"Outmig\": 625119, \"Net_Mig\": -305153, \"Tot_Mig\": 945085, \"Population\": 31150786}, {\"Year\": 1994, \"Inmig\": 304640, \"Outmig\": 643480, \"Net_Mig\": -338840, \"Tot_Mig\": 948120, \"Population\": 31418940}, {\"Year\": 1995, \"Inmig\": 314893, \"Outmig\": 600334, \"Net_Mig\": -285441, \"Tot_Mig\": 915227, \"Population\": 31617770}, {\"Year\": 1996, \"Inmig\": 324857, \"Outmig\": 529582, \"Net_Mig\": -204725, \"Tot_Mig\": 854439, \"Population\": 31837399}, {\"Year\": 1997, \"Inmig\": 359652, \"Outmig\": 475201, \"Net_Mig\": -115549, \"Tot_Mig\": 834853, \"Population\": 32207869}, {\"Year\": 1998, \"Inmig\": 379612, \"Outmig\": 449591, \"Net_Mig\": -69979, \"Tot_Mig\": 829203, \"Population\": 32657877}, {\"Year\": 1999, \"Inmig\": 377842, \"Outmig\": 444767, \"Net_Mig\": -66925, \"Tot_Mig\": 822609, \"Population\": 33140771}, {\"Year\": 2000, \"Inmig\": 388800, \"Outmig\": 455405, \"Net_Mig\": -66605, \"Tot_Mig\": 844205, \"Population\": 33721583}, {\"Year\": 2001, \"Inmig\": 408175, \"Outmig\": 446722, \"Net_Mig\": -38547, \"Tot_Mig\": 854897, \"Population\": 34256789}, {\"Year\": 2002, \"Inmig\": 370042, \"Outmig\": 466719, \"Net_Mig\": -96677, \"Tot_Mig\": 836761, \"Population\": 34725516}, {\"Year\": 2003, \"Inmig\": 363603, \"Outmig\": 451486, \"Net_Mig\": -87883, \"Tot_Mig\": 815089, \"Population\": 35163609}, {\"Year\": 2004, \"Inmig\": 357043, \"Outmig\": 481808, \"Net_Mig\": -124765, \"Tot_Mig\": 838851, \"Population\": 35570847}, {\"Year\": 2005, \"Inmig\": 351509, \"Outmig\": 552659, \"Net_Mig\": -201150, \"Tot_Mig\": 904168, \"Population\": 35869173}, {\"Year\": 2006, \"Inmig\": 359686, \"Outmig\": 594330, \"Net_Mig\": -234644, \"Tot_Mig\": 954016, \"Population\": 36116202}, {\"Year\": 2007, \"Inmig\": 357500, \"Outmig\": 562517, \"Net_Mig\": -205017, \"Tot_Mig\": 920017, \"Population\": 36399676}, {\"Year\": 2008, \"Inmig\": 388244, \"Outmig\": 500691, \"Net_Mig\": -112447, \"Tot_Mig\": 888935, \"Population\": 36704375}, {\"Year\": 2009, \"Inmig\": 382685, \"Outmig\": 453751, \"Net_Mig\": -71066, \"Tot_Mig\": 836436, \"Population\": 36966713}, {\"Year\": 2010, \"Inmig\": 365763, \"Outmig\": 406883, \"Net_Mig\": -41120, \"Tot_Mig\": 772646, \"Population\": 37223900}, {\"Year\": 2011, \"Inmig\": 383709, \"Outmig\": 412899, \"Net_Mig\": -29190, \"Tot_Mig\": 796608, \"Population\": 37594781}, {\"Year\": 2012, \"Inmig\": 455202, \"Outmig\": 468496, \"Net_Mig\": -13294, \"Tot_Mig\": 923698, \"Population\": 37971427}, {\"Year\": 2013, \"Inmig\": 463373, \"Outmig\": 505991, \"Net_Mig\": -42618, \"Tot_Mig\": 969364, \"Population\": 38321459}, {\"Year\": 2014, \"Inmig\": 432409, \"Outmig\": 487994, \"Net_Mig\": -55585, \"Tot_Mig\": 920403, \"Population\": 38622301}, {\"Year\": 2015, \"Inmig\": 322677, \"Outmig\": 365561, \"Net_Mig\": -42884, \"Tot_Mig\": 688238, \"Population\": 38952462}, {\"Year\": 2016, \"Inmig\": 432443, \"Outmig\": 521161, \"Net_Mig\": -88718, \"Tot_Mig\": 953604, \"Population\": 39214803}, {\"Year\": 2017, \"Inmig\": 560173, \"Outmig\": 738242, \"Net_Mig\": -178069, \"Tot_Mig\": 1298415, \"Population\": 39504609}, {\"Year\": 2018, \"Inmig\": 429856, \"Outmig\": 583053, \"Net_Mig\": -153197, \"Tot_Mig\": 1012909, \"Population\": 39740508}], \"data-ea7733ff27493fb94e46541bba32e621\": [{\"x\": 2011, \"x2\": 2018, \"y\": 0, \"y2\": 800000}]}}, {\"mode\": \"vega-lite\"});\n",
       "</script>"
      ],
      "text/plain": [
       "alt.LayerChart(...)"
      ]
     },
     "execution_count": 7,
     "metadata": {},
     "output_type": "execute_result"
    }
   ],
   "source": [
    "irsinmig = alt.Chart(irs, title='IRS Migration Trends').mark_line(color='lightblue').encode(x='Year:O',y=alt.Y('Inmig', title='Post-2011 yr-to-yr figures look too volatile (maybe data is missing) |  (out=gray, in=light blue)'))\n",
    "irsoutmig = alt.Chart(irs).mark_line(color='lightgray').encode(x='Year:O',y=alt.Y('Outmig'))\n",
    "split = alt.Chart(pd.DataFrame({'x':[2011],'x2':[2018],'y':[0],'y2':[800000]})).mark_rect(color='lightgray', opacity=.2).encode(x='x:O',x2='x2:O',y='y',y2='y2')\n",
    "irsinmig+irsoutmig+split"
   ]
  },
  {
   "cell_type": "markdown",
   "metadata": {},
   "source": [
    "Census (bold) & IRS (light) Migration Trends - In-migration (blue) & Out-migration (gray):"
   ]
  },
  {
   "cell_type": "code",
   "execution_count": 8,
   "metadata": {},
   "outputs": [
    {
     "data": {
      "text/html": [
       "\n",
       "<div id=\"altair-viz-2\"></div>\n",
       "<script type=\"text/javascript\">\n",
       "  (function(spec, embedOpt){\n",
       "    const outputDiv = document.getElementById(\"altair-viz-2\");\n",
       "    const paths = {\n",
       "      \"vega\": \"https://cdn.jsdelivr.net/npm//vega@5?noext\",\n",
       "      \"vega-lib\": \"https://cdn.jsdelivr.net/npm//vega-lib?noext\",\n",
       "      \"vega-lite\": \"https://cdn.jsdelivr.net/npm//vega-lite@4.0.0?noext\",\n",
       "      \"vega-embed\": \"https://cdn.jsdelivr.net/npm//vega-embed@6?noext\",\n",
       "    };\n",
       "\n",
       "    function loadScript(lib) {\n",
       "      return new Promise(function(resolve, reject) {\n",
       "        var s = document.createElement('script');\n",
       "        s.src = paths[lib];\n",
       "        s.async = true;\n",
       "        s.onload = () => resolve(paths[lib]);\n",
       "        s.onerror = () => reject(`Error loading script: ${paths[lib]}`);\n",
       "        document.getElementsByTagName(\"head\")[0].appendChild(s);\n",
       "      });\n",
       "    }\n",
       "\n",
       "    function showError(err) {\n",
       "      outputDiv.innerHTML = `<div class=\"error\" style=\"color:red;\">${err}</div>`;\n",
       "      throw err;\n",
       "    }\n",
       "\n",
       "    function displayChart(vegaEmbed) {\n",
       "      vegaEmbed(outputDiv, spec, embedOpt)\n",
       "        .catch(err => showError(`Javascript Error: ${err.message}<br>This usually means there's a typo in your chart specification. See the javascript console for the full traceback.`));\n",
       "    }\n",
       "\n",
       "    if(typeof define === \"function\" && define.amd) {\n",
       "      requirejs.config({paths});\n",
       "      require([\"vega-embed\"], displayChart, err => showError(`Error loading script: ${err.message}`));\n",
       "    } else if (typeof vegaEmbed === \"function\") {\n",
       "      displayChart(vegaEmbed);\n",
       "    } else {\n",
       "      loadScript(\"vega\")\n",
       "        .then(() => loadScript(\"vega-lite\"))\n",
       "        .then(() => loadScript(\"vega-embed\"))\n",
       "        .catch(showError)\n",
       "        .then(() => displayChart(vegaEmbed));\n",
       "    }\n",
       "  })({\"width\": 600, \"height\": 400, \"background\": \"white\", \"config\": {\"title\": {\"fontWeight\": \"normal\", \"fontSize\": 30, \"anchor\": \"start\", \"font\": \"Calibri\", \"offset\": 5}, \"axisX\": {\"grid\": false, \"labelFont\": \"Calibri\", \"labelFontSize\": 16, \"labelAngle\": 0, \"labelPadding\": 10, \"ticks\": false, \"tickSize\": 5, \"title\": null, \"titleFont\": \"Calibri\", \"titleFontSize\": 16, \"titleFontWeight\": \"normal\", \"titleY\": 30, \"titleX\": 280}, \"axisY\": {\"grid\": true, \"gridOpacity\": 1, \"labelFont\": \"Calibri\", \"labelFontSize\": 16, \"labelLimit\": 100, \"labelAlign\": \"left\", \"labelPadding\": 20, \"ticks\": false, \"title\": null, \"titleFont\": \"Calibri\", \"titleFontWeight\": \"normal\", \"titleFontSize\": 17, \"titleAlign\": \"left\", \"titleAngle\": 0, \"titleY\": -20, \"titleX\": -20, \"domainWidth\": 0}, \"view\": {\"strokeOpacity\": 0}}, \"layer\": [{\"mark\": {\"type\": \"line\", \"color\": \"darkblue\", \"size\": 5}, \"encoding\": {\"x\": {\"type\": \"ordinal\", \"field\": \"Year\"}, \"y\": {\"type\": \"quantitative\", \"field\": \"Inmig\"}}, \"title\": \"Census & IRS Migration Trends\"}, {\"mark\": {\"type\": \"line\", \"color\": \"darkgray\", \"size\": 5}, \"encoding\": {\"x\": {\"type\": \"ordinal\", \"field\": \"Year\"}, \"y\": {\"type\": \"quantitative\", \"field\": \"Outmig\"}}}, {\"data\": {\"name\": \"data-ee2b9fef5f187ccc9ba46796af709c29\"}, \"mark\": {\"type\": \"line\", \"color\": \"lightblue\"}, \"encoding\": {\"x\": {\"type\": \"ordinal\", \"field\": \"Year\"}, \"y\": {\"type\": \"quantitative\", \"field\": \"Inmig\"}}}, {\"data\": {\"name\": \"data-ee2b9fef5f187ccc9ba46796af709c29\"}, \"mark\": {\"type\": \"line\", \"color\": \"lightgray\"}, \"encoding\": {\"x\": {\"type\": \"ordinal\", \"field\": \"Year\"}, \"y\": {\"type\": \"quantitative\", \"field\": \"Outmig\"}}}, {\"data\": {\"name\": \"data-ea7733ff27493fb94e46541bba32e621\"}, \"mark\": {\"type\": \"rect\", \"color\": \"lightgray\", \"opacity\": 0.2}, \"encoding\": {\"x\": {\"type\": \"ordinal\", \"field\": \"x\"}, \"x2\": {\"field\": \"x2\"}, \"y\": {\"type\": \"quantitative\", \"field\": \"y\"}, \"y2\": {\"field\": \"y2\"}}}], \"data\": {\"name\": \"data-82b7ad72963c7268de5a011152975d82\"}, \"$schema\": \"https://vega.github.io/schema/vega-lite/v4.0.0.json\", \"datasets\": {\"data-82b7ad72963c7268de5a011152975d82\": [{\"State\": \"California\", \"Inmig\": 449212, \"Outmig\": 718417, \"Year\": 2005, \"Net_Mig\": -269205, \"Tot_Mig\": 1167629}, {\"State\": \"California\", \"Inmig\": 524408, \"Outmig\": 746676, \"Year\": 2006, \"Net_Mig\": -222268, \"Tot_Mig\": 1271084}, {\"State\": \"California\", \"Inmig\": 491657, \"Outmig\": 668021, \"Year\": 2007, \"Net_Mig\": -176364, \"Tot_Mig\": 1159678}, {\"State\": \"California\", \"Inmig\": 468875, \"Outmig\": 585660, \"Year\": 2008, \"Net_Mig\": -116785, \"Tot_Mig\": 1054535}, {\"State\": \"California\", \"Inmig\": 460161, \"Outmig\": 546589, \"Year\": 2009, \"Net_Mig\": -86428, \"Tot_Mig\": 1006750}, {\"State\": \"California\", \"Inmig\": 445972, \"Outmig\": 575165, \"Year\": 2010, \"Net_Mig\": -129193, \"Tot_Mig\": 1021137}, {\"State\": \"California\", \"Inmig\": 469772, \"Outmig\": 562550, \"Year\": 2011, \"Net_Mig\": -92778, \"Tot_Mig\": 1032322}, {\"State\": \"California\", \"Inmig\": 495964, \"Outmig\": 567505, \"Year\": 2012, \"Net_Mig\": -71541, \"Tot_Mig\": 1063469}, {\"State\": \"California\", \"Inmig\": 488656, \"Outmig\": 582392, \"Year\": 2013, \"Net_Mig\": -93736, \"Tot_Mig\": 1071048}, {\"State\": \"California\", \"Inmig\": 518285, \"Outmig\": 593860, \"Year\": 2014, \"Net_Mig\": -75575, \"Tot_Mig\": 1112145}, {\"State\": \"California\", \"Inmig\": 515587, \"Outmig\": 643886, \"Year\": 2015, \"Net_Mig\": -128299, \"Tot_Mig\": 1159473}, {\"State\": \"California\", \"Inmig\": 515860, \"Outmig\": 657890, \"Year\": 2016, \"Net_Mig\": -142030, \"Tot_Mig\": 1173750}, {\"State\": \"California\", \"Inmig\": 524995, \"Outmig\": 662593, \"Year\": 2017, \"Net_Mig\": -137598, \"Tot_Mig\": 1187588}, {\"State\": \"California\", \"Inmig\": 502273, \"Outmig\": 691665, \"Year\": 2018, \"Net_Mig\": -189392, \"Tot_Mig\": 1193938}], \"data-ee2b9fef5f187ccc9ba46796af709c29\": [{\"Year\": 2005, \"Inmig\": 351509, \"Outmig\": 552659, \"Net_Mig\": -201150, \"Tot_Mig\": 904168, \"Population\": 35869173}, {\"Year\": 2006, \"Inmig\": 359686, \"Outmig\": 594330, \"Net_Mig\": -234644, \"Tot_Mig\": 954016, \"Population\": 36116202}, {\"Year\": 2007, \"Inmig\": 357500, \"Outmig\": 562517, \"Net_Mig\": -205017, \"Tot_Mig\": 920017, \"Population\": 36399676}, {\"Year\": 2008, \"Inmig\": 388244, \"Outmig\": 500691, \"Net_Mig\": -112447, \"Tot_Mig\": 888935, \"Population\": 36704375}, {\"Year\": 2009, \"Inmig\": 382685, \"Outmig\": 453751, \"Net_Mig\": -71066, \"Tot_Mig\": 836436, \"Population\": 36966713}, {\"Year\": 2010, \"Inmig\": 365763, \"Outmig\": 406883, \"Net_Mig\": -41120, \"Tot_Mig\": 772646, \"Population\": 37223900}, {\"Year\": 2011, \"Inmig\": 383709, \"Outmig\": 412899, \"Net_Mig\": -29190, \"Tot_Mig\": 796608, \"Population\": 37594781}, {\"Year\": 2012, \"Inmig\": 455202, \"Outmig\": 468496, \"Net_Mig\": -13294, \"Tot_Mig\": 923698, \"Population\": 37971427}, {\"Year\": 2013, \"Inmig\": 463373, \"Outmig\": 505991, \"Net_Mig\": -42618, \"Tot_Mig\": 969364, \"Population\": 38321459}, {\"Year\": 2014, \"Inmig\": 432409, \"Outmig\": 487994, \"Net_Mig\": -55585, \"Tot_Mig\": 920403, \"Population\": 38622301}, {\"Year\": 2015, \"Inmig\": 322677, \"Outmig\": 365561, \"Net_Mig\": -42884, \"Tot_Mig\": 688238, \"Population\": 38952462}, {\"Year\": 2016, \"Inmig\": 432443, \"Outmig\": 521161, \"Net_Mig\": -88718, \"Tot_Mig\": 953604, \"Population\": 39214803}, {\"Year\": 2017, \"Inmig\": 560173, \"Outmig\": 738242, \"Net_Mig\": -178069, \"Tot_Mig\": 1298415, \"Population\": 39504609}, {\"Year\": 2018, \"Inmig\": 429856, \"Outmig\": 583053, \"Net_Mig\": -153197, \"Tot_Mig\": 1012909, \"Population\": 39740508}], \"data-ea7733ff27493fb94e46541bba32e621\": [{\"x\": 2011, \"x2\": 2018, \"y\": 0, \"y2\": 800000}]}}, {\"mode\": \"vega-lite\"});\n",
       "</script>"
      ],
      "text/plain": [
       "alt.LayerChart(...)"
      ]
     },
     "execution_count": 8,
     "metadata": {},
     "output_type": "execute_result"
    }
   ],
   "source": [
    "cai_in = alt.Chart(census, title='Census & IRS Migration Trends').mark_line(color='darkblue', size=5).encode(x='Year:O',y=alt.Y('Inmig'))\n",
    "cai_out = alt.Chart(census).mark_line(color='darkgray', size=5).encode(x='Year:O',y=alt.Y('Outmig'))\n",
    "irs_in = alt.Chart(irs[irs.Year > 2004]).mark_line(color='lightblue').encode(x='Year:O',y=alt.Y('Inmig'))\n",
    "irs_out = alt.Chart(irs[irs.Year > 2004]).mark_line(color='lightgray').encode(x='Year:O',y=alt.Y('Outmig'))\n",
    "split = alt.Chart(pd.DataFrame({'x':[2011],'x2':[2018],'y':[0],'y2':[800000]})).mark_rect(color='lightgray', opacity=.2).encode(x='x:O',x2='x2:O',y='y',y2='y2')\n",
    "cai_in + cai_out + irs_in + irs_out + split"
   ]
  },
  {
   "cell_type": "markdown",
   "metadata": {},
   "source": [
    "IRS Total Migration:"
   ]
  },
  {
   "cell_type": "code",
   "execution_count": 9,
   "metadata": {},
   "outputs": [
    {
     "data": {
      "text/html": [
       "\n",
       "<div id=\"altair-viz-3\"></div>\n",
       "<script type=\"text/javascript\">\n",
       "  (function(spec, embedOpt){\n",
       "    const outputDiv = document.getElementById(\"altair-viz-3\");\n",
       "    const paths = {\n",
       "      \"vega\": \"https://cdn.jsdelivr.net/npm//vega@5?noext\",\n",
       "      \"vega-lib\": \"https://cdn.jsdelivr.net/npm//vega-lib?noext\",\n",
       "      \"vega-lite\": \"https://cdn.jsdelivr.net/npm//vega-lite@4.0.0?noext\",\n",
       "      \"vega-embed\": \"https://cdn.jsdelivr.net/npm//vega-embed@6?noext\",\n",
       "    };\n",
       "\n",
       "    function loadScript(lib) {\n",
       "      return new Promise(function(resolve, reject) {\n",
       "        var s = document.createElement('script');\n",
       "        s.src = paths[lib];\n",
       "        s.async = true;\n",
       "        s.onload = () => resolve(paths[lib]);\n",
       "        s.onerror = () => reject(`Error loading script: ${paths[lib]}`);\n",
       "        document.getElementsByTagName(\"head\")[0].appendChild(s);\n",
       "      });\n",
       "    }\n",
       "\n",
       "    function showError(err) {\n",
       "      outputDiv.innerHTML = `<div class=\"error\" style=\"color:red;\">${err}</div>`;\n",
       "      throw err;\n",
       "    }\n",
       "\n",
       "    function displayChart(vegaEmbed) {\n",
       "      vegaEmbed(outputDiv, spec, embedOpt)\n",
       "        .catch(err => showError(`Javascript Error: ${err.message}<br>This usually means there's a typo in your chart specification. See the javascript console for the full traceback.`));\n",
       "    }\n",
       "\n",
       "    if(typeof define === \"function\" && define.amd) {\n",
       "      requirejs.config({paths});\n",
       "      require([\"vega-embed\"], displayChart, err => showError(`Error loading script: ${err.message}`));\n",
       "    } else if (typeof vegaEmbed === \"function\") {\n",
       "      displayChart(vegaEmbed);\n",
       "    } else {\n",
       "      loadScript(\"vega\")\n",
       "        .then(() => loadScript(\"vega-lite\"))\n",
       "        .then(() => loadScript(\"vega-embed\"))\n",
       "        .catch(showError)\n",
       "        .then(() => displayChart(vegaEmbed));\n",
       "    }\n",
       "  })({\"width\": 600, \"height\": 400, \"background\": \"white\", \"config\": {\"title\": {\"fontWeight\": \"normal\", \"fontSize\": 30, \"anchor\": \"start\", \"font\": \"Calibri\", \"offset\": 5}, \"axisX\": {\"grid\": false, \"labelFont\": \"Calibri\", \"labelFontSize\": 16, \"labelAngle\": 0, \"labelPadding\": 10, \"ticks\": false, \"tickSize\": 5, \"title\": null, \"titleFont\": \"Calibri\", \"titleFontSize\": 16, \"titleFontWeight\": \"normal\", \"titleY\": 30, \"titleX\": 280}, \"axisY\": {\"grid\": true, \"gridOpacity\": 1, \"labelFont\": \"Calibri\", \"labelFontSize\": 16, \"labelLimit\": 100, \"labelAlign\": \"left\", \"labelPadding\": 20, \"ticks\": false, \"title\": null, \"titleFont\": \"Calibri\", \"titleFontWeight\": \"normal\", \"titleFontSize\": 17, \"titleAlign\": \"left\", \"titleAngle\": 0, \"titleY\": -20, \"titleX\": -20, \"domainWidth\": 0}, \"view\": {\"strokeOpacity\": 0}}, \"layer\": [{\"data\": {\"name\": \"data-16d76cfe5fcc88c6bf7bb191d342199b\"}, \"mark\": {\"type\": \"line\", \"color\": \"#ffc417\"}, \"encoding\": {\"x\": {\"type\": \"ordinal\", \"field\": \"Year\"}, \"y\": {\"type\": \"quantitative\", \"field\": \"Tot_Mig\", \"title\": \"Totals were relatively stable (b/w 800k & 1m) until the last few years\"}}, \"title\": \"IRS Total Migration Figures\"}, {\"data\": {\"name\": \"data-9da94cf84c0b5d909331780ad85ef3f4\"}, \"mark\": {\"type\": \"rect\", \"color\": \"lightgray\", \"opacity\": 0.2}, \"encoding\": {\"x\": {\"type\": \"ordinal\", \"field\": \"x\"}, \"x2\": {\"field\": \"x2\"}, \"y\": {\"type\": \"quantitative\", \"field\": \"y\"}, \"y2\": {\"field\": \"y2\"}}}], \"$schema\": \"https://vega.github.io/schema/vega-lite/v4.0.0.json\", \"datasets\": {\"data-16d76cfe5fcc88c6bf7bb191d342199b\": [{\"Year\": 1991, \"Inmig\": 397444, \"Outmig\": 531946, \"Net_Mig\": -134502, \"Tot_Mig\": 929390, \"Population\": 30143555}, {\"Year\": 1992, \"Inmig\": 372254, \"Outmig\": 542349, \"Net_Mig\": -170095, \"Tot_Mig\": 914603, \"Population\": 30722998}, {\"Year\": 1993, \"Inmig\": 319966, \"Outmig\": 625119, \"Net_Mig\": -305153, \"Tot_Mig\": 945085, \"Population\": 31150786}, {\"Year\": 1994, \"Inmig\": 304640, \"Outmig\": 643480, \"Net_Mig\": -338840, \"Tot_Mig\": 948120, \"Population\": 31418940}, {\"Year\": 1995, \"Inmig\": 314893, \"Outmig\": 600334, \"Net_Mig\": -285441, \"Tot_Mig\": 915227, \"Population\": 31617770}, {\"Year\": 1996, \"Inmig\": 324857, \"Outmig\": 529582, \"Net_Mig\": -204725, \"Tot_Mig\": 854439, \"Population\": 31837399}, {\"Year\": 1997, \"Inmig\": 359652, \"Outmig\": 475201, \"Net_Mig\": -115549, \"Tot_Mig\": 834853, \"Population\": 32207869}, {\"Year\": 1998, \"Inmig\": 379612, \"Outmig\": 449591, \"Net_Mig\": -69979, \"Tot_Mig\": 829203, \"Population\": 32657877}, {\"Year\": 1999, \"Inmig\": 377842, \"Outmig\": 444767, \"Net_Mig\": -66925, \"Tot_Mig\": 822609, \"Population\": 33140771}, {\"Year\": 2000, \"Inmig\": 388800, \"Outmig\": 455405, \"Net_Mig\": -66605, \"Tot_Mig\": 844205, \"Population\": 33721583}, {\"Year\": 2001, \"Inmig\": 408175, \"Outmig\": 446722, \"Net_Mig\": -38547, \"Tot_Mig\": 854897, \"Population\": 34256789}, {\"Year\": 2002, \"Inmig\": 370042, \"Outmig\": 466719, \"Net_Mig\": -96677, \"Tot_Mig\": 836761, \"Population\": 34725516}, {\"Year\": 2003, \"Inmig\": 363603, \"Outmig\": 451486, \"Net_Mig\": -87883, \"Tot_Mig\": 815089, \"Population\": 35163609}, {\"Year\": 2004, \"Inmig\": 357043, \"Outmig\": 481808, \"Net_Mig\": -124765, \"Tot_Mig\": 838851, \"Population\": 35570847}, {\"Year\": 2005, \"Inmig\": 351509, \"Outmig\": 552659, \"Net_Mig\": -201150, \"Tot_Mig\": 904168, \"Population\": 35869173}, {\"Year\": 2006, \"Inmig\": 359686, \"Outmig\": 594330, \"Net_Mig\": -234644, \"Tot_Mig\": 954016, \"Population\": 36116202}, {\"Year\": 2007, \"Inmig\": 357500, \"Outmig\": 562517, \"Net_Mig\": -205017, \"Tot_Mig\": 920017, \"Population\": 36399676}, {\"Year\": 2008, \"Inmig\": 388244, \"Outmig\": 500691, \"Net_Mig\": -112447, \"Tot_Mig\": 888935, \"Population\": 36704375}, {\"Year\": 2009, \"Inmig\": 382685, \"Outmig\": 453751, \"Net_Mig\": -71066, \"Tot_Mig\": 836436, \"Population\": 36966713}, {\"Year\": 2010, \"Inmig\": 365763, \"Outmig\": 406883, \"Net_Mig\": -41120, \"Tot_Mig\": 772646, \"Population\": 37223900}, {\"Year\": 2011, \"Inmig\": 383709, \"Outmig\": 412899, \"Net_Mig\": -29190, \"Tot_Mig\": 796608, \"Population\": 37594781}, {\"Year\": 2012, \"Inmig\": 455202, \"Outmig\": 468496, \"Net_Mig\": -13294, \"Tot_Mig\": 923698, \"Population\": 37971427}, {\"Year\": 2013, \"Inmig\": 463373, \"Outmig\": 505991, \"Net_Mig\": -42618, \"Tot_Mig\": 969364, \"Population\": 38321459}, {\"Year\": 2014, \"Inmig\": 432409, \"Outmig\": 487994, \"Net_Mig\": -55585, \"Tot_Mig\": 920403, \"Population\": 38622301}, {\"Year\": 2015, \"Inmig\": 322677, \"Outmig\": 365561, \"Net_Mig\": -42884, \"Tot_Mig\": 688238, \"Population\": 38952462}, {\"Year\": 2016, \"Inmig\": 432443, \"Outmig\": 521161, \"Net_Mig\": -88718, \"Tot_Mig\": 953604, \"Population\": 39214803}, {\"Year\": 2017, \"Inmig\": 560173, \"Outmig\": 738242, \"Net_Mig\": -178069, \"Tot_Mig\": 1298415, \"Population\": 39504609}, {\"Year\": 2018, \"Inmig\": 429856, \"Outmig\": 583053, \"Net_Mig\": -153197, \"Tot_Mig\": 1012909, \"Population\": 39740508}], \"data-9da94cf84c0b5d909331780ad85ef3f4\": [{\"x\": 2011, \"x2\": 2018, \"y\": 0, \"y2\": 1300000}]}}, {\"mode\": \"vega-lite\"});\n",
       "</script>"
      ],
      "text/plain": [
       "alt.LayerChart(...)"
      ]
     },
     "execution_count": 9,
     "metadata": {},
     "output_type": "execute_result"
    }
   ],
   "source": [
    "irstot = alt.Chart(irs, title='IRS Total Migration Figures').mark_line(color='#ffc417').encode(x='Year:O',y=alt.Y('Tot_Mig', title='Totals were relatively stable (b/w 800k & 1m) until the last few years'))\n",
    "split = alt.Chart(pd.DataFrame({'x':[2011],'x2':[2018],'y':[0],'y2':[1300000]})).mark_rect(color='lightgray', opacity=.2).encode(x='x:O',x2='x2:O',y='y',y2='y2')\n",
    "irstot+split"
   ]
  },
  {
   "cell_type": "markdown",
   "metadata": {},
   "source": [
    "Census & IRS Total Migration:"
   ]
  },
  {
   "cell_type": "code",
   "execution_count": 10,
   "metadata": {},
   "outputs": [
    {
     "data": {
      "text/html": [
       "\n",
       "<div id=\"altair-viz-4\"></div>\n",
       "<script type=\"text/javascript\">\n",
       "  (function(spec, embedOpt){\n",
       "    const outputDiv = document.getElementById(\"altair-viz-4\");\n",
       "    const paths = {\n",
       "      \"vega\": \"https://cdn.jsdelivr.net/npm//vega@5?noext\",\n",
       "      \"vega-lib\": \"https://cdn.jsdelivr.net/npm//vega-lib?noext\",\n",
       "      \"vega-lite\": \"https://cdn.jsdelivr.net/npm//vega-lite@4.0.0?noext\",\n",
       "      \"vega-embed\": \"https://cdn.jsdelivr.net/npm//vega-embed@6?noext\",\n",
       "    };\n",
       "\n",
       "    function loadScript(lib) {\n",
       "      return new Promise(function(resolve, reject) {\n",
       "        var s = document.createElement('script');\n",
       "        s.src = paths[lib];\n",
       "        s.async = true;\n",
       "        s.onload = () => resolve(paths[lib]);\n",
       "        s.onerror = () => reject(`Error loading script: ${paths[lib]}`);\n",
       "        document.getElementsByTagName(\"head\")[0].appendChild(s);\n",
       "      });\n",
       "    }\n",
       "\n",
       "    function showError(err) {\n",
       "      outputDiv.innerHTML = `<div class=\"error\" style=\"color:red;\">${err}</div>`;\n",
       "      throw err;\n",
       "    }\n",
       "\n",
       "    function displayChart(vegaEmbed) {\n",
       "      vegaEmbed(outputDiv, spec, embedOpt)\n",
       "        .catch(err => showError(`Javascript Error: ${err.message}<br>This usually means there's a typo in your chart specification. See the javascript console for the full traceback.`));\n",
       "    }\n",
       "\n",
       "    if(typeof define === \"function\" && define.amd) {\n",
       "      requirejs.config({paths});\n",
       "      require([\"vega-embed\"], displayChart, err => showError(`Error loading script: ${err.message}`));\n",
       "    } else if (typeof vegaEmbed === \"function\") {\n",
       "      displayChart(vegaEmbed);\n",
       "    } else {\n",
       "      loadScript(\"vega\")\n",
       "        .then(() => loadScript(\"vega-lite\"))\n",
       "        .then(() => loadScript(\"vega-embed\"))\n",
       "        .catch(showError)\n",
       "        .then(() => displayChart(vegaEmbed));\n",
       "    }\n",
       "  })({\"width\": 600, \"height\": 400, \"background\": \"white\", \"config\": {\"title\": {\"fontWeight\": \"normal\", \"fontSize\": 30, \"anchor\": \"start\", \"font\": \"Calibri\", \"offset\": 5}, \"axisX\": {\"grid\": false, \"labelFont\": \"Calibri\", \"labelFontSize\": 16, \"labelAngle\": 0, \"labelPadding\": 10, \"ticks\": false, \"tickSize\": 5, \"title\": null, \"titleFont\": \"Calibri\", \"titleFontSize\": 16, \"titleFontWeight\": \"normal\", \"titleY\": 30, \"titleX\": 280}, \"axisY\": {\"grid\": true, \"gridOpacity\": 1, \"labelFont\": \"Calibri\", \"labelFontSize\": 16, \"labelLimit\": 100, \"labelAlign\": \"left\", \"labelPadding\": 20, \"ticks\": false, \"title\": null, \"titleFont\": \"Calibri\", \"titleFontWeight\": \"normal\", \"titleFontSize\": 17, \"titleAlign\": \"left\", \"titleAngle\": 0, \"titleY\": -20, \"titleX\": -20, \"domainWidth\": 0}, \"view\": {\"strokeOpacity\": 0}}, \"layer\": [{\"data\": {\"name\": \"data-ee2b9fef5f187ccc9ba46796af709c29\"}, \"mark\": {\"type\": \"line\", \"color\": \"#ffc417\"}, \"encoding\": {\"x\": {\"type\": \"ordinal\", \"field\": \"Year\"}, \"y\": {\"type\": \"quantitative\", \"field\": \"Tot_Mig\", \"title\": \"IRS totals (gold) after 2011 are much more volatile than Census totals\"}}, \"title\": \"Census & IRS Total Migration Figures\"}, {\"data\": {\"name\": \"data-82b7ad72963c7268de5a011152975d82\"}, \"mark\": \"line\", \"encoding\": {\"x\": {\"type\": \"ordinal\", \"field\": \"Year\"}, \"y\": {\"type\": \"quantitative\", \"field\": \"Tot_Mig\"}}}, {\"data\": {\"name\": \"data-9da94cf84c0b5d909331780ad85ef3f4\"}, \"mark\": {\"type\": \"rect\", \"color\": \"lightgray\", \"opacity\": 0.2}, \"encoding\": {\"x\": {\"type\": \"ordinal\", \"field\": \"x\"}, \"x2\": {\"field\": \"x2\"}, \"y\": {\"type\": \"quantitative\", \"field\": \"y\"}, \"y2\": {\"field\": \"y2\"}}}], \"$schema\": \"https://vega.github.io/schema/vega-lite/v4.0.0.json\", \"datasets\": {\"data-ee2b9fef5f187ccc9ba46796af709c29\": [{\"Year\": 2005, \"Inmig\": 351509, \"Outmig\": 552659, \"Net_Mig\": -201150, \"Tot_Mig\": 904168, \"Population\": 35869173}, {\"Year\": 2006, \"Inmig\": 359686, \"Outmig\": 594330, \"Net_Mig\": -234644, \"Tot_Mig\": 954016, \"Population\": 36116202}, {\"Year\": 2007, \"Inmig\": 357500, \"Outmig\": 562517, \"Net_Mig\": -205017, \"Tot_Mig\": 920017, \"Population\": 36399676}, {\"Year\": 2008, \"Inmig\": 388244, \"Outmig\": 500691, \"Net_Mig\": -112447, \"Tot_Mig\": 888935, \"Population\": 36704375}, {\"Year\": 2009, \"Inmig\": 382685, \"Outmig\": 453751, \"Net_Mig\": -71066, \"Tot_Mig\": 836436, \"Population\": 36966713}, {\"Year\": 2010, \"Inmig\": 365763, \"Outmig\": 406883, \"Net_Mig\": -41120, \"Tot_Mig\": 772646, \"Population\": 37223900}, {\"Year\": 2011, \"Inmig\": 383709, \"Outmig\": 412899, \"Net_Mig\": -29190, \"Tot_Mig\": 796608, \"Population\": 37594781}, {\"Year\": 2012, \"Inmig\": 455202, \"Outmig\": 468496, \"Net_Mig\": -13294, \"Tot_Mig\": 923698, \"Population\": 37971427}, {\"Year\": 2013, \"Inmig\": 463373, \"Outmig\": 505991, \"Net_Mig\": -42618, \"Tot_Mig\": 969364, \"Population\": 38321459}, {\"Year\": 2014, \"Inmig\": 432409, \"Outmig\": 487994, \"Net_Mig\": -55585, \"Tot_Mig\": 920403, \"Population\": 38622301}, {\"Year\": 2015, \"Inmig\": 322677, \"Outmig\": 365561, \"Net_Mig\": -42884, \"Tot_Mig\": 688238, \"Population\": 38952462}, {\"Year\": 2016, \"Inmig\": 432443, \"Outmig\": 521161, \"Net_Mig\": -88718, \"Tot_Mig\": 953604, \"Population\": 39214803}, {\"Year\": 2017, \"Inmig\": 560173, \"Outmig\": 738242, \"Net_Mig\": -178069, \"Tot_Mig\": 1298415, \"Population\": 39504609}, {\"Year\": 2018, \"Inmig\": 429856, \"Outmig\": 583053, \"Net_Mig\": -153197, \"Tot_Mig\": 1012909, \"Population\": 39740508}], \"data-82b7ad72963c7268de5a011152975d82\": [{\"State\": \"California\", \"Inmig\": 449212, \"Outmig\": 718417, \"Year\": 2005, \"Net_Mig\": -269205, \"Tot_Mig\": 1167629}, {\"State\": \"California\", \"Inmig\": 524408, \"Outmig\": 746676, \"Year\": 2006, \"Net_Mig\": -222268, \"Tot_Mig\": 1271084}, {\"State\": \"California\", \"Inmig\": 491657, \"Outmig\": 668021, \"Year\": 2007, \"Net_Mig\": -176364, \"Tot_Mig\": 1159678}, {\"State\": \"California\", \"Inmig\": 468875, \"Outmig\": 585660, \"Year\": 2008, \"Net_Mig\": -116785, \"Tot_Mig\": 1054535}, {\"State\": \"California\", \"Inmig\": 460161, \"Outmig\": 546589, \"Year\": 2009, \"Net_Mig\": -86428, \"Tot_Mig\": 1006750}, {\"State\": \"California\", \"Inmig\": 445972, \"Outmig\": 575165, \"Year\": 2010, \"Net_Mig\": -129193, \"Tot_Mig\": 1021137}, {\"State\": \"California\", \"Inmig\": 469772, \"Outmig\": 562550, \"Year\": 2011, \"Net_Mig\": -92778, \"Tot_Mig\": 1032322}, {\"State\": \"California\", \"Inmig\": 495964, \"Outmig\": 567505, \"Year\": 2012, \"Net_Mig\": -71541, \"Tot_Mig\": 1063469}, {\"State\": \"California\", \"Inmig\": 488656, \"Outmig\": 582392, \"Year\": 2013, \"Net_Mig\": -93736, \"Tot_Mig\": 1071048}, {\"State\": \"California\", \"Inmig\": 518285, \"Outmig\": 593860, \"Year\": 2014, \"Net_Mig\": -75575, \"Tot_Mig\": 1112145}, {\"State\": \"California\", \"Inmig\": 515587, \"Outmig\": 643886, \"Year\": 2015, \"Net_Mig\": -128299, \"Tot_Mig\": 1159473}, {\"State\": \"California\", \"Inmig\": 515860, \"Outmig\": 657890, \"Year\": 2016, \"Net_Mig\": -142030, \"Tot_Mig\": 1173750}, {\"State\": \"California\", \"Inmig\": 524995, \"Outmig\": 662593, \"Year\": 2017, \"Net_Mig\": -137598, \"Tot_Mig\": 1187588}, {\"State\": \"California\", \"Inmig\": 502273, \"Outmig\": 691665, \"Year\": 2018, \"Net_Mig\": -189392, \"Tot_Mig\": 1193938}], \"data-9da94cf84c0b5d909331780ad85ef3f4\": [{\"x\": 2011, \"x2\": 2018, \"y\": 0, \"y2\": 1300000}]}}, {\"mode\": \"vega-lite\"});\n",
       "</script>"
      ],
      "text/plain": [
       "alt.LayerChart(...)"
      ]
     },
     "execution_count": 10,
     "metadata": {},
     "output_type": "execute_result"
    }
   ],
   "source": [
    "irsmig = alt.Chart(irs[irs.Year > 2004], title='Census & IRS Total Migration Figures').mark_line(color='#ffc417').encode(x='Year:O',y=alt.Y('Tot_Mig', title='IRS totals (gold) after 2011 are much more volatile than Census totals'))\n",
    "cenmig = alt.Chart(census).mark_line().encode(x='Year:O', y='Tot_Mig')\n",
    "split = alt.Chart(pd.DataFrame({'x':[2011],'x2':[2018],'y':[0],'y2':[1300000]})).mark_rect(color='lightgray', opacity=.2).encode(x='x:O',x2='x2:O',y='y',y2='y2')\n",
    "irsmig+cenmig+split"
   ]
  },
  {
   "cell_type": "markdown",
   "metadata": {},
   "source": [
    "Census Annual % change for in-migration & out-migration figures:"
   ]
  },
  {
   "cell_type": "code",
   "execution_count": 4,
   "metadata": {},
   "outputs": [],
   "source": [
    "census['Inmig_pct_chg'] = census.Inmig.pct_change().abs()\n",
    "census['Outmig_pct_chg'] = census.Outmig.pct_change().abs()\n",
    "census = census.fillna(0)"
   ]
  },
  {
   "cell_type": "code",
   "execution_count": 12,
   "metadata": {},
   "outputs": [
    {
     "data": {
      "text/html": [
       "\n",
       "<div id=\"altair-viz-5\"></div>\n",
       "<script type=\"text/javascript\">\n",
       "  (function(spec, embedOpt){\n",
       "    const outputDiv = document.getElementById(\"altair-viz-5\");\n",
       "    const paths = {\n",
       "      \"vega\": \"https://cdn.jsdelivr.net/npm//vega@5?noext\",\n",
       "      \"vega-lib\": \"https://cdn.jsdelivr.net/npm//vega-lib?noext\",\n",
       "      \"vega-lite\": \"https://cdn.jsdelivr.net/npm//vega-lite@4.0.0?noext\",\n",
       "      \"vega-embed\": \"https://cdn.jsdelivr.net/npm//vega-embed@6?noext\",\n",
       "    };\n",
       "\n",
       "    function loadScript(lib) {\n",
       "      return new Promise(function(resolve, reject) {\n",
       "        var s = document.createElement('script');\n",
       "        s.src = paths[lib];\n",
       "        s.async = true;\n",
       "        s.onload = () => resolve(paths[lib]);\n",
       "        s.onerror = () => reject(`Error loading script: ${paths[lib]}`);\n",
       "        document.getElementsByTagName(\"head\")[0].appendChild(s);\n",
       "      });\n",
       "    }\n",
       "\n",
       "    function showError(err) {\n",
       "      outputDiv.innerHTML = `<div class=\"error\" style=\"color:red;\">${err}</div>`;\n",
       "      throw err;\n",
       "    }\n",
       "\n",
       "    function displayChart(vegaEmbed) {\n",
       "      vegaEmbed(outputDiv, spec, embedOpt)\n",
       "        .catch(err => showError(`Javascript Error: ${err.message}<br>This usually means there's a typo in your chart specification. See the javascript console for the full traceback.`));\n",
       "    }\n",
       "\n",
       "    if(typeof define === \"function\" && define.amd) {\n",
       "      requirejs.config({paths});\n",
       "      require([\"vega-embed\"], displayChart, err => showError(`Error loading script: ${err.message}`));\n",
       "    } else if (typeof vegaEmbed === \"function\") {\n",
       "      displayChart(vegaEmbed);\n",
       "    } else {\n",
       "      loadScript(\"vega\")\n",
       "        .then(() => loadScript(\"vega-lite\"))\n",
       "        .then(() => loadScript(\"vega-embed\"))\n",
       "        .catch(showError)\n",
       "        .then(() => displayChart(vegaEmbed));\n",
       "    }\n",
       "  })({\"width\": 600, \"height\": 400, \"background\": \"white\", \"config\": {\"title\": {\"fontWeight\": \"normal\", \"fontSize\": 30, \"anchor\": \"start\", \"font\": \"Calibri\", \"offset\": 5}, \"axisX\": {\"grid\": false, \"labelFont\": \"Calibri\", \"labelFontSize\": 16, \"labelAngle\": 0, \"labelPadding\": 10, \"ticks\": false, \"tickSize\": 5, \"title\": null, \"titleFont\": \"Calibri\", \"titleFontSize\": 16, \"titleFontWeight\": \"normal\", \"titleY\": 30, \"titleX\": 280}, \"axisY\": {\"grid\": true, \"gridOpacity\": 1, \"labelFont\": \"Calibri\", \"labelFontSize\": 16, \"labelLimit\": 100, \"labelAlign\": \"left\", \"labelPadding\": 20, \"ticks\": false, \"title\": null, \"titleFont\": \"Calibri\", \"titleFontWeight\": \"normal\", \"titleFontSize\": 17, \"titleAlign\": \"left\", \"titleAngle\": 0, \"titleY\": -20, \"titleX\": -20, \"domainWidth\": 0}, \"view\": {\"strokeOpacity\": 0}}, \"layer\": [{\"mark\": {\"type\": \"line\", \"color\": \"#8ac3ff\"}, \"encoding\": {\"x\": {\"type\": \"ordinal\", \"field\": \"Year\"}, \"y\": {\"type\": \"quantitative\", \"axis\": {\"format\": \"%\"}, \"field\": \"Inmig_pct_chg\", \"scale\": {\"domain\": [0, 0.45]}, \"title\": \"Census year-to-year % change\"}}}, {\"mark\": {\"type\": \"line\", \"color\": \"#ffc417\"}, \"encoding\": {\"x\": {\"type\": \"ordinal\", \"field\": \"Year\"}, \"y\": {\"type\": \"quantitative\", \"axis\": {\"format\": \"%\"}, \"field\": \"Outmig_pct_chg\", \"scale\": {\"domain\": [0, 0.45]}}}}, {\"data\": {\"name\": \"data-a57f04f769c38bdaa0a1bfb017ec0860\"}, \"mark\": {\"type\": \"rect\", \"color\": \"lightgray\", \"opacity\": 0.2}, \"encoding\": {\"x\": {\"type\": \"ordinal\", \"field\": \"x\"}, \"x2\": {\"field\": \"x2\"}, \"y\": {\"type\": \"quantitative\", \"field\": \"y\"}, \"y2\": {\"field\": \"y2\"}}}], \"data\": {\"name\": \"data-36bc5e1c45d03d195850625f66f59c55\"}, \"$schema\": \"https://vega.github.io/schema/vega-lite/v4.0.0.json\", \"datasets\": {\"data-36bc5e1c45d03d195850625f66f59c55\": [{\"State\": \"California\", \"Inmig\": 449212, \"Outmig\": 718417, \"Year\": 2005, \"Net_Mig\": -269205, \"Tot_Mig\": 1167629, \"Inmig_pct_chg\": 0.0, \"Outmig_pct_chg\": 0.0}, {\"State\": \"California\", \"Inmig\": 524408, \"Outmig\": 746676, \"Year\": 2006, \"Net_Mig\": -222268, \"Tot_Mig\": 1271084, \"Inmig_pct_chg\": 0.1673953500796952, \"Outmig_pct_chg\": 0.03933509368514376}, {\"State\": \"California\", \"Inmig\": 491657, \"Outmig\": 668021, \"Year\": 2007, \"Net_Mig\": -176364, \"Tot_Mig\": 1159678, \"Inmig_pct_chg\": 0.0624532806517063, \"Outmig_pct_chg\": 0.10534020110462905}, {\"State\": \"California\", \"Inmig\": 468875, \"Outmig\": 585660, \"Year\": 2008, \"Net_Mig\": -116785, \"Tot_Mig\": 1054535, \"Inmig_pct_chg\": 0.046337182222565776, \"Outmig_pct_chg\": 0.12329103426389287}, {\"State\": \"California\", \"Inmig\": 460161, \"Outmig\": 546589, \"Year\": 2009, \"Net_Mig\": -86428, \"Tot_Mig\": 1006750, \"Inmig_pct_chg\": 0.018584910690482515, \"Outmig_pct_chg\": 0.06671276850049512}, {\"State\": \"California\", \"Inmig\": 445972, \"Outmig\": 575165, \"Year\": 2010, \"Net_Mig\": -129193, \"Tot_Mig\": 1021137, \"Inmig_pct_chg\": 0.030834859972922568, \"Outmig_pct_chg\": 0.052280598402089984}, {\"State\": \"California\", \"Inmig\": 469772, \"Outmig\": 562550, \"Year\": 2011, \"Net_Mig\": -92778, \"Tot_Mig\": 1032322, \"Inmig_pct_chg\": 0.053366579067744224, \"Outmig_pct_chg\": 0.0219328366642616}, {\"State\": \"California\", \"Inmig\": 495964, \"Outmig\": 567505, \"Year\": 2012, \"Net_Mig\": -71541, \"Tot_Mig\": 1063469, \"Inmig_pct_chg\": 0.055754706538490906, \"Outmig_pct_chg\": 0.008808105946138012}, {\"State\": \"California\", \"Inmig\": 488656, \"Outmig\": 582392, \"Year\": 2013, \"Net_Mig\": -93736, \"Tot_Mig\": 1071048, \"Inmig_pct_chg\": 0.014734940439225408, \"Outmig_pct_chg\": 0.026232367996757766}, {\"State\": \"California\", \"Inmig\": 518285, \"Outmig\": 593860, \"Year\": 2014, \"Net_Mig\": -75575, \"Tot_Mig\": 1112145, \"Inmig_pct_chg\": 0.06063365639631968, \"Outmig_pct_chg\": 0.01969120454951301}, {\"State\": \"California\", \"Inmig\": 515587, \"Outmig\": 643886, \"Year\": 2015, \"Net_Mig\": -128299, \"Tot_Mig\": 1159473, \"Inmig_pct_chg\": 0.005205630106987491, \"Outmig_pct_chg\": 0.08423870946014222}, {\"State\": \"California\", \"Inmig\": 515860, \"Outmig\": 657890, \"Year\": 2016, \"Net_Mig\": -142030, \"Tot_Mig\": 1173750, \"Inmig_pct_chg\": 0.0005294935675259627, \"Outmig_pct_chg\": 0.021749191627089326}, {\"State\": \"California\", \"Inmig\": 524995, \"Outmig\": 662593, \"Year\": 2017, \"Net_Mig\": -137598, \"Tot_Mig\": 1187588, \"Inmig_pct_chg\": 0.017708292947699045, \"Outmig_pct_chg\": 0.007148611470002564}, {\"State\": \"California\", \"Inmig\": 502273, \"Outmig\": 691665, \"Year\": 2018, \"Net_Mig\": -189392, \"Tot_Mig\": 1193938, \"Inmig_pct_chg\": 0.04328041219440182, \"Outmig_pct_chg\": 0.04387610493923111}], \"data-a57f04f769c38bdaa0a1bfb017ec0860\": [{\"x\": 2011, \"x2\": 2018, \"y\": 0, \"y2\": 0.45}]}}, {\"mode\": \"vega-lite\"});\n",
       "</script>"
      ],
      "text/plain": [
       "alt.LayerChart(...)"
      ]
     },
     "execution_count": 12,
     "metadata": {},
     "output_type": "execute_result"
    }
   ],
   "source": [
    "cainmig = alt.Chart(census).mark_line(color='#8ac3ff').encode(x='Year:O',y=alt.Y('Inmig_pct_chg', title='Census year-to-year % change', axis=alt.Axis(format='%'), scale=alt.Scale(domain=[0,.45])))\n",
    "caoutmig = alt.Chart(census).mark_line(color='#ffc417').encode(x='Year:O',y=alt.Y('Outmig_pct_chg', axis=alt.Axis(format='%'), scale=alt.Scale(domain=[0,.45])))\n",
    "split = alt.Chart(pd.DataFrame({'x':[2011],'x2':[2018],'y':[0],'y2':[.45]})).mark_rect(color='lightgray', opacity=.2).encode(x='x:O',x2='x2:O',y='y',y2='y2')\n",
    "cainmig+caoutmig+split"
   ]
  },
  {
   "cell_type": "markdown",
   "metadata": {},
   "source": [
    "IRS Annual % change for in-migration & out-migration figures:"
   ]
  },
  {
   "cell_type": "code",
   "execution_count": 5,
   "metadata": {},
   "outputs": [],
   "source": [
    "irs['Inmig_pct_chg'] = irs.Inmig.pct_change().abs()\n",
    "irs['Outmig_pct_chg'] = irs.Outmig.pct_change().abs()\n",
    "irs = irs.fillna(0)"
   ]
  },
  {
   "cell_type": "code",
   "execution_count": 14,
   "metadata": {},
   "outputs": [
    {
     "data": {
      "text/html": [
       "\n",
       "<div id=\"altair-viz-6\"></div>\n",
       "<script type=\"text/javascript\">\n",
       "  (function(spec, embedOpt){\n",
       "    const outputDiv = document.getElementById(\"altair-viz-6\");\n",
       "    const paths = {\n",
       "      \"vega\": \"https://cdn.jsdelivr.net/npm//vega@5?noext\",\n",
       "      \"vega-lib\": \"https://cdn.jsdelivr.net/npm//vega-lib?noext\",\n",
       "      \"vega-lite\": \"https://cdn.jsdelivr.net/npm//vega-lite@4.0.0?noext\",\n",
       "      \"vega-embed\": \"https://cdn.jsdelivr.net/npm//vega-embed@6?noext\",\n",
       "    };\n",
       "\n",
       "    function loadScript(lib) {\n",
       "      return new Promise(function(resolve, reject) {\n",
       "        var s = document.createElement('script');\n",
       "        s.src = paths[lib];\n",
       "        s.async = true;\n",
       "        s.onload = () => resolve(paths[lib]);\n",
       "        s.onerror = () => reject(`Error loading script: ${paths[lib]}`);\n",
       "        document.getElementsByTagName(\"head\")[0].appendChild(s);\n",
       "      });\n",
       "    }\n",
       "\n",
       "    function showError(err) {\n",
       "      outputDiv.innerHTML = `<div class=\"error\" style=\"color:red;\">${err}</div>`;\n",
       "      throw err;\n",
       "    }\n",
       "\n",
       "    function displayChart(vegaEmbed) {\n",
       "      vegaEmbed(outputDiv, spec, embedOpt)\n",
       "        .catch(err => showError(`Javascript Error: ${err.message}<br>This usually means there's a typo in your chart specification. See the javascript console for the full traceback.`));\n",
       "    }\n",
       "\n",
       "    if(typeof define === \"function\" && define.amd) {\n",
       "      requirejs.config({paths});\n",
       "      require([\"vega-embed\"], displayChart, err => showError(`Error loading script: ${err.message}`));\n",
       "    } else if (typeof vegaEmbed === \"function\") {\n",
       "      displayChart(vegaEmbed);\n",
       "    } else {\n",
       "      loadScript(\"vega\")\n",
       "        .then(() => loadScript(\"vega-lite\"))\n",
       "        .then(() => loadScript(\"vega-embed\"))\n",
       "        .catch(showError)\n",
       "        .then(() => displayChart(vegaEmbed));\n",
       "    }\n",
       "  })({\"width\": 600, \"height\": 400, \"background\": \"white\", \"config\": {\"title\": {\"fontWeight\": \"normal\", \"fontSize\": 30, \"anchor\": \"start\", \"font\": \"Calibri\", \"offset\": 5}, \"axisX\": {\"grid\": false, \"labelFont\": \"Calibri\", \"labelFontSize\": 16, \"labelAngle\": 0, \"labelPadding\": 10, \"ticks\": false, \"tickSize\": 5, \"title\": null, \"titleFont\": \"Calibri\", \"titleFontSize\": 16, \"titleFontWeight\": \"normal\", \"titleY\": 30, \"titleX\": 280}, \"axisY\": {\"grid\": true, \"gridOpacity\": 1, \"labelFont\": \"Calibri\", \"labelFontSize\": 16, \"labelLimit\": 100, \"labelAlign\": \"left\", \"labelPadding\": 20, \"ticks\": false, \"title\": null, \"titleFont\": \"Calibri\", \"titleFontWeight\": \"normal\", \"titleFontSize\": 17, \"titleAlign\": \"left\", \"titleAngle\": 0, \"titleY\": -20, \"titleX\": -20, \"domainWidth\": 0}, \"view\": {\"strokeOpacity\": 0}}, \"layer\": [{\"mark\": {\"type\": \"line\", \"color\": \"#8ac3ff\"}, \"encoding\": {\"x\": {\"type\": \"ordinal\", \"field\": \"Year\"}, \"y\": {\"type\": \"quantitative\", \"axis\": {\"format\": \"%\"}, \"field\": \"Inmig_pct_chg\", \"title\": \"IRS year-to-year % change\"}}}, {\"mark\": {\"type\": \"line\", \"color\": \"#ffc417\"}, \"encoding\": {\"x\": {\"type\": \"ordinal\", \"field\": \"Year\"}, \"y\": {\"type\": \"quantitative\", \"axis\": {\"format\": \"%\"}, \"field\": \"Outmig_pct_chg\"}}}, {\"data\": {\"name\": \"data-a57f04f769c38bdaa0a1bfb017ec0860\"}, \"mark\": {\"type\": \"rect\", \"color\": \"lightgray\", \"opacity\": 0.2}, \"encoding\": {\"x\": {\"type\": \"ordinal\", \"field\": \"x\"}, \"x2\": {\"field\": \"x2\"}, \"y\": {\"type\": \"quantitative\", \"field\": \"y\"}, \"y2\": {\"field\": \"y2\"}}}], \"data\": {\"name\": \"data-ee85ca572bebb6cbb8dde6f368e6200b\"}, \"$schema\": \"https://vega.github.io/schema/vega-lite/v4.0.0.json\", \"datasets\": {\"data-ee85ca572bebb6cbb8dde6f368e6200b\": [{\"Year\": 1991, \"Inmig\": 397444, \"Outmig\": 531946, \"Net_Mig\": -134502, \"Tot_Mig\": 929390, \"Population\": 30143555, \"Inmig_pct_chg\": 0.0, \"Outmig_pct_chg\": 0.0}, {\"Year\": 1992, \"Inmig\": 372254, \"Outmig\": 542349, \"Net_Mig\": -170095, \"Tot_Mig\": 914603, \"Population\": 30722998, \"Inmig_pct_chg\": 0.06337999818842399, \"Outmig_pct_chg\": 0.019556496336094353}, {\"Year\": 1993, \"Inmig\": 319966, \"Outmig\": 625119, \"Net_Mig\": -305153, \"Tot_Mig\": 945085, \"Population\": 31150786, \"Inmig_pct_chg\": 0.14046323209421518, \"Outmig_pct_chg\": 0.15261390728110502}, {\"Year\": 1994, \"Inmig\": 304640, \"Outmig\": 643480, \"Net_Mig\": -338840, \"Tot_Mig\": 948120, \"Population\": 31418940, \"Inmig_pct_chg\": 0.04789883925167049, \"Outmig_pct_chg\": 0.029372007569758773}, {\"Year\": 1995, \"Inmig\": 314893, \"Outmig\": 600334, \"Net_Mig\": -285441, \"Tot_Mig\": 915227, \"Population\": 31617770, \"Inmig_pct_chg\": 0.03365611869747909, \"Outmig_pct_chg\": 0.06705103499720266}, {\"Year\": 1996, \"Inmig\": 324857, \"Outmig\": 529582, \"Net_Mig\": -204725, \"Tot_Mig\": 854439, \"Population\": 31837399, \"Inmig_pct_chg\": 0.03164249443461742, \"Outmig_pct_chg\": 0.11785439438712453}, {\"Year\": 1997, \"Inmig\": 359652, \"Outmig\": 475201, \"Net_Mig\": -115549, \"Tot_Mig\": 834853, \"Population\": 32207869, \"Inmig_pct_chg\": 0.1071086662746994, \"Outmig_pct_chg\": 0.1026866472047766}, {\"Year\": 1998, \"Inmig\": 379612, \"Outmig\": 449591, \"Net_Mig\": -69979, \"Tot_Mig\": 829203, \"Population\": 32657877, \"Inmig_pct_chg\": 0.05549809260062499, \"Outmig_pct_chg\": 0.05389298423193556}, {\"Year\": 1999, \"Inmig\": 377842, \"Outmig\": 444767, \"Net_Mig\": -66925, \"Tot_Mig\": 822609, \"Population\": 33140771, \"Inmig_pct_chg\": 0.004662655553565265, \"Outmig_pct_chg\": 0.010729752152511929}, {\"Year\": 2000, \"Inmig\": 388800, \"Outmig\": 455405, \"Net_Mig\": -66605, \"Tot_Mig\": 844205, \"Population\": 33721583, \"Inmig_pct_chg\": 0.029001540326379915, \"Outmig_pct_chg\": 0.023918141408872495}, {\"Year\": 2001, \"Inmig\": 408175, \"Outmig\": 446722, \"Net_Mig\": -38547, \"Tot_Mig\": 854897, \"Population\": 34256789, \"Inmig_pct_chg\": 0.04983281893004121, \"Outmig_pct_chg\": 0.019066545163096582}, {\"Year\": 2002, \"Inmig\": 370042, \"Outmig\": 466719, \"Net_Mig\": -96677, \"Tot_Mig\": 836761, \"Population\": 34725516, \"Inmig_pct_chg\": 0.09342316408403262, \"Outmig_pct_chg\": 0.0447638576116689}, {\"Year\": 2003, \"Inmig\": 363603, \"Outmig\": 451486, \"Net_Mig\": -87883, \"Tot_Mig\": 815089, \"Population\": 35163609, \"Inmig_pct_chg\": 0.01740072748498822, \"Outmig_pct_chg\": 0.032638482684441805}, {\"Year\": 2004, \"Inmig\": 357043, \"Outmig\": 481808, \"Net_Mig\": -124765, \"Tot_Mig\": 838851, \"Population\": 35570847, \"Inmig_pct_chg\": 0.018041655321875738, \"Outmig_pct_chg\": 0.06716044351319872}, {\"Year\": 2005, \"Inmig\": 351509, \"Outmig\": 552659, \"Net_Mig\": -201150, \"Tot_Mig\": 904168, \"Population\": 35869173, \"Inmig_pct_chg\": 0.015499533669613985, \"Outmig_pct_chg\": 0.14705235280443651}, {\"Year\": 2006, \"Inmig\": 359686, \"Outmig\": 594330, \"Net_Mig\": -234644, \"Tot_Mig\": 954016, \"Population\": 36116202, \"Inmig_pct_chg\": 0.02326256226725354, \"Outmig_pct_chg\": 0.07540092534456155}, {\"Year\": 2007, \"Inmig\": 357500, \"Outmig\": 562517, \"Net_Mig\": -205017, \"Tot_Mig\": 920017, \"Population\": 36399676, \"Inmig_pct_chg\": 0.006077523172989818, \"Outmig_pct_chg\": 0.053527501556374424}, {\"Year\": 2008, \"Inmig\": 388244, \"Outmig\": 500691, \"Net_Mig\": -112447, \"Tot_Mig\": 888935, \"Population\": 36704375, \"Inmig_pct_chg\": 0.08599720279720269, \"Outmig_pct_chg\": 0.10990956717752531}, {\"Year\": 2009, \"Inmig\": 382685, \"Outmig\": 453751, \"Net_Mig\": -71066, \"Tot_Mig\": 836436, \"Population\": 36966713, \"Inmig_pct_chg\": 0.014318315286263261, \"Outmig_pct_chg\": 0.09375043689620943}, {\"Year\": 2010, \"Inmig\": 365763, \"Outmig\": 406883, \"Net_Mig\": -41120, \"Tot_Mig\": 772646, \"Population\": 37223900, \"Inmig_pct_chg\": 0.04421913584279502, \"Outmig_pct_chg\": 0.10329013049007052}, {\"Year\": 2011, \"Inmig\": 383709, \"Outmig\": 412899, \"Net_Mig\": -29190, \"Tot_Mig\": 796608, \"Population\": 37594781, \"Inmig_pct_chg\": 0.04906455819752131, \"Outmig_pct_chg\": 0.014785577180663756}, {\"Year\": 2012, \"Inmig\": 455202, \"Outmig\": 468496, \"Net_Mig\": -13294, \"Tot_Mig\": 923698, \"Population\": 37971427, \"Inmig_pct_chg\": 0.18632088379475076, \"Outmig_pct_chg\": 0.134650362437303}, {\"Year\": 2013, \"Inmig\": 463373, \"Outmig\": 505991, \"Net_Mig\": -42618, \"Tot_Mig\": 969364, \"Population\": 38321459, \"Inmig_pct_chg\": 0.017950272626218622, \"Outmig_pct_chg\": 0.08003270038591581}, {\"Year\": 2014, \"Inmig\": 432409, \"Outmig\": 487994, \"Net_Mig\": -55585, \"Tot_Mig\": 920403, \"Population\": 38622301, \"Inmig_pct_chg\": 0.06682305615562412, \"Outmig_pct_chg\": 0.03556782630521094}, {\"Year\": 2015, \"Inmig\": 322677, \"Outmig\": 365561, \"Net_Mig\": -42884, \"Tot_Mig\": 688238, \"Population\": 38952462, \"Inmig_pct_chg\": 0.25376900110774747, \"Outmig_pct_chg\": 0.2508903797997516}, {\"Year\": 2016, \"Inmig\": 432443, \"Outmig\": 521161, \"Net_Mig\": -88718, \"Tot_Mig\": 953604, \"Population\": 39214803, \"Inmig_pct_chg\": 0.340172990327789, \"Outmig_pct_chg\": 0.4256471560150017}, {\"Year\": 2017, \"Inmig\": 560173, \"Outmig\": 738242, \"Net_Mig\": -178069, \"Tot_Mig\": 1298415, \"Population\": 39504609, \"Inmig_pct_chg\": 0.29536840693455546, \"Outmig_pct_chg\": 0.4165334704630623}, {\"Year\": 2018, \"Inmig\": 429856, \"Outmig\": 583053, \"Net_Mig\": -153197, \"Tot_Mig\": 1012909, \"Population\": 39740508, \"Inmig_pct_chg\": 0.23263706033671738, \"Outmig_pct_chg\": 0.21021426578276503}], \"data-a57f04f769c38bdaa0a1bfb017ec0860\": [{\"x\": 2011, \"x2\": 2018, \"y\": 0, \"y2\": 0.45}]}}, {\"mode\": \"vega-lite\"});\n",
       "</script>"
      ],
      "text/plain": [
       "alt.LayerChart(...)"
      ]
     },
     "execution_count": 14,
     "metadata": {},
     "output_type": "execute_result"
    }
   ],
   "source": [
    "irsinmig = alt.Chart(irs).mark_line(color='#8ac3ff').encode(x='Year:O',y=alt.Y('Inmig_pct_chg', title='IRS year-to-year % change', axis=alt.Axis(format='%')))\n",
    "irsoutmig = alt.Chart(irs).mark_line(color='#ffc417').encode(x='Year:O',y=alt.Y('Outmig_pct_chg', axis=alt.Axis(format='%')))\n",
    "split = alt.Chart(pd.DataFrame({'x':[2011],'x2':[2018],'y':[0],'y2':[.45]})).mark_rect(color='lightgray', opacity=.2).encode(x='x:O',x2='x2:O',y='y',y2='y2')\n",
    "irsinmig+irsoutmig+split"
   ]
  },
  {
   "cell_type": "markdown",
   "metadata": {},
   "source": [
    "---"
   ]
  },
  {
   "cell_type": "markdown",
   "metadata": {},
   "source": [
    "Difference b/w Cenus & IRS in-migration & out-migration figures:"
   ]
  },
  {
   "cell_type": "code",
   "execution_count": 16,
   "metadata": {},
   "outputs": [],
   "source": [
    "in_diff = []\n",
    "out_diff = []\n",
    "for year in range(2005,2019):\n",
    "    census_in = census.Inmig[census.Year == year].iloc[0]\n",
    "    irs_in = irs.Inmig[irs.Year == year].sum()\n",
    "    in_diff.append(census_in/irs_in)\n",
    "    \n",
    "    census_out = census.Outmig[census.Year == year].iloc[0]\n",
    "    irs_out = irs.Outmig[irs.Year == year].sum()\n",
    "    out_diff.append(census_out/irs_out)"
   ]
  },
  {
   "cell_type": "code",
   "execution_count": 17,
   "metadata": {},
   "outputs": [
    {
     "data": {
      "text/html": [
       "<div>\n",
       "<style scoped>\n",
       "    .dataframe tbody tr th:only-of-type {\n",
       "        vertical-align: middle;\n",
       "    }\n",
       "\n",
       "    .dataframe tbody tr th {\n",
       "        vertical-align: top;\n",
       "    }\n",
       "\n",
       "    .dataframe thead th {\n",
       "        text-align: right;\n",
       "    }\n",
       "</style>\n",
       "<table border=\"1\" class=\"dataframe\">\n",
       "  <thead>\n",
       "    <tr style=\"text-align: right;\">\n",
       "      <th></th>\n",
       "      <th>Year</th>\n",
       "      <th>Inmig</th>\n",
       "      <th>Outmig</th>\n",
       "    </tr>\n",
       "  </thead>\n",
       "  <tbody>\n",
       "    <tr>\n",
       "      <th>0</th>\n",
       "      <td>2005</td>\n",
       "      <td>1.277953</td>\n",
       "      <td>1.299928</td>\n",
       "    </tr>\n",
       "    <tr>\n",
       "      <th>1</th>\n",
       "      <td>2006</td>\n",
       "      <td>1.457961</td>\n",
       "      <td>1.256332</td>\n",
       "    </tr>\n",
       "    <tr>\n",
       "      <th>2</th>\n",
       "      <td>2007</td>\n",
       "      <td>1.375264</td>\n",
       "      <td>1.187557</td>\n",
       "    </tr>\n",
       "    <tr>\n",
       "      <th>3</th>\n",
       "      <td>2008</td>\n",
       "      <td>1.207681</td>\n",
       "      <td>1.169703</td>\n",
       "    </tr>\n",
       "    <tr>\n",
       "      <th>4</th>\n",
       "      <td>2009</td>\n",
       "      <td>1.202454</td>\n",
       "      <td>1.204601</td>\n",
       "    </tr>\n",
       "    <tr>\n",
       "      <th>5</th>\n",
       "      <td>2010</td>\n",
       "      <td>1.219292</td>\n",
       "      <td>1.413588</td>\n",
       "    </tr>\n",
       "    <tr>\n",
       "      <th>6</th>\n",
       "      <td>2011</td>\n",
       "      <td>1.224292</td>\n",
       "      <td>1.362440</td>\n",
       "    </tr>\n",
       "    <tr>\n",
       "      <th>7</th>\n",
       "      <td>2012</td>\n",
       "      <td>1.089547</td>\n",
       "      <td>1.211334</td>\n",
       "    </tr>\n",
       "    <tr>\n",
       "      <th>8</th>\n",
       "      <td>2013</td>\n",
       "      <td>1.054563</td>\n",
       "      <td>1.150993</td>\n",
       "    </tr>\n",
       "    <tr>\n",
       "      <th>9</th>\n",
       "      <td>2014</td>\n",
       "      <td>1.198599</td>\n",
       "      <td>1.216941</td>\n",
       "    </tr>\n",
       "    <tr>\n",
       "      <th>10</th>\n",
       "      <td>2015</td>\n",
       "      <td>1.597842</td>\n",
       "      <td>1.761364</td>\n",
       "    </tr>\n",
       "    <tr>\n",
       "      <th>11</th>\n",
       "      <td>2016</td>\n",
       "      <td>1.192897</td>\n",
       "      <td>1.262355</td>\n",
       "    </tr>\n",
       "    <tr>\n",
       "      <th>12</th>\n",
       "      <td>2017</td>\n",
       "      <td>0.937202</td>\n",
       "      <td>0.897528</td>\n",
       "    </tr>\n",
       "    <tr>\n",
       "      <th>13</th>\n",
       "      <td>2018</td>\n",
       "      <td>1.168468</td>\n",
       "      <td>1.186282</td>\n",
       "    </tr>\n",
       "  </tbody>\n",
       "</table>\n",
       "</div>"
      ],
      "text/plain": [
       "    Year     Inmig    Outmig\n",
       "0   2005  1.277953  1.299928\n",
       "1   2006  1.457961  1.256332\n",
       "2   2007  1.375264  1.187557\n",
       "3   2008  1.207681  1.169703\n",
       "4   2009  1.202454  1.204601\n",
       "5   2010  1.219292  1.413588\n",
       "6   2011  1.224292  1.362440\n",
       "7   2012  1.089547  1.211334\n",
       "8   2013  1.054563  1.150993\n",
       "9   2014  1.198599  1.216941\n",
       "10  2015  1.597842  1.761364\n",
       "11  2016  1.192897  1.262355\n",
       "12  2017  0.937202  0.897528\n",
       "13  2018  1.168468  1.186282"
      ]
     },
     "execution_count": 17,
     "metadata": {},
     "output_type": "execute_result"
    }
   ],
   "source": [
    "cen_irs_diff = pd.DataFrame({'Year':list(range(2005,2019)), 'Inmig':in_diff, 'Outmig':out_diff})\n",
    "cen_irs_diff"
   ]
  },
  {
   "cell_type": "markdown",
   "metadata": {},
   "source": [
    "---"
   ]
  },
  {
   "cell_type": "markdown",
   "metadata": {},
   "source": [
    "Diff b/w Cenus & IRS total migration figures:"
   ]
  },
  {
   "cell_type": "code",
   "execution_count": 47,
   "metadata": {},
   "outputs": [],
   "source": [
    "totmig = []\n",
    "for year in range(2005,2019):\n",
    "    census_mig = census.Tot_Mig[census.Year == year].iloc[0]\n",
    "    irs_mig = irs.Tot_Mig[irs.Year == year].iloc[0]\n",
    "    totmig.append(census_mig/irs_mig)"
   ]
  },
  {
   "cell_type": "code",
   "execution_count": 48,
   "metadata": {},
   "outputs": [
    {
     "data": {
      "text/html": [
       "<div>\n",
       "<style scoped>\n",
       "    .dataframe tbody tr th:only-of-type {\n",
       "        vertical-align: middle;\n",
       "    }\n",
       "\n",
       "    .dataframe tbody tr th {\n",
       "        vertical-align: top;\n",
       "    }\n",
       "\n",
       "    .dataframe thead th {\n",
       "        text-align: right;\n",
       "    }\n",
       "</style>\n",
       "<table border=\"1\" class=\"dataframe\">\n",
       "  <thead>\n",
       "    <tr style=\"text-align: right;\">\n",
       "      <th></th>\n",
       "      <th>Year</th>\n",
       "      <th>Mig_Diff</th>\n",
       "    </tr>\n",
       "  </thead>\n",
       "  <tbody>\n",
       "    <tr>\n",
       "      <th>0</th>\n",
       "      <td>2005</td>\n",
       "      <td>1.291385</td>\n",
       "    </tr>\n",
       "    <tr>\n",
       "      <th>1</th>\n",
       "      <td>2006</td>\n",
       "      <td>1.332351</td>\n",
       "    </tr>\n",
       "    <tr>\n",
       "      <th>2</th>\n",
       "      <td>2007</td>\n",
       "      <td>1.260496</td>\n",
       "    </tr>\n",
       "    <tr>\n",
       "      <th>3</th>\n",
       "      <td>2008</td>\n",
       "      <td>1.186290</td>\n",
       "    </tr>\n",
       "    <tr>\n",
       "      <th>4</th>\n",
       "      <td>2009</td>\n",
       "      <td>1.203619</td>\n",
       "    </tr>\n",
       "    <tr>\n",
       "      <th>5</th>\n",
       "      <td>2010</td>\n",
       "      <td>1.321610</td>\n",
       "    </tr>\n",
       "    <tr>\n",
       "      <th>6</th>\n",
       "      <td>2011</td>\n",
       "      <td>1.295897</td>\n",
       "    </tr>\n",
       "    <tr>\n",
       "      <th>7</th>\n",
       "      <td>2012</td>\n",
       "      <td>1.151317</td>\n",
       "    </tr>\n",
       "    <tr>\n",
       "      <th>8</th>\n",
       "      <td>2013</td>\n",
       "      <td>1.104898</td>\n",
       "    </tr>\n",
       "    <tr>\n",
       "      <th>9</th>\n",
       "      <td>2014</td>\n",
       "      <td>1.208324</td>\n",
       "    </tr>\n",
       "    <tr>\n",
       "      <th>10</th>\n",
       "      <td>2015</td>\n",
       "      <td>1.684698</td>\n",
       "    </tr>\n",
       "    <tr>\n",
       "      <th>11</th>\n",
       "      <td>2016</td>\n",
       "      <td>1.230857</td>\n",
       "    </tr>\n",
       "    <tr>\n",
       "      <th>12</th>\n",
       "      <td>2017</td>\n",
       "      <td>0.914644</td>\n",
       "    </tr>\n",
       "    <tr>\n",
       "      <th>13</th>\n",
       "      <td>2018</td>\n",
       "      <td>1.178722</td>\n",
       "    </tr>\n",
       "  </tbody>\n",
       "</table>\n",
       "</div>"
      ],
      "text/plain": [
       "    Year  Mig_Diff\n",
       "0   2005  1.291385\n",
       "1   2006  1.332351\n",
       "2   2007  1.260496\n",
       "3   2008  1.186290\n",
       "4   2009  1.203619\n",
       "5   2010  1.321610\n",
       "6   2011  1.295897\n",
       "7   2012  1.151317\n",
       "8   2013  1.104898\n",
       "9   2014  1.208324\n",
       "10  2015  1.684698\n",
       "11  2016  1.230857\n",
       "12  2017  0.914644\n",
       "13  2018  1.178722"
      ]
     },
     "execution_count": 48,
     "metadata": {},
     "output_type": "execute_result"
    }
   ],
   "source": [
    "cen_irs_tot_mig = pd.DataFrame({'Year':list(range(2005,2019)), 'Mig_Diff':totmig})\n",
    "cen_irs_tot_mig"
   ]
  },
  {
   "cell_type": "code",
   "execution_count": 49,
   "metadata": {},
   "outputs": [
    {
     "data": {
      "text/plain": [
       "1.2702355203633355"
      ]
     },
     "execution_count": 49,
     "metadata": {},
     "output_type": "execute_result"
    }
   ],
   "source": [
    "cen_irs_tot_mig.iloc[:7].Mig_Diff.mean()"
   ]
  },
  {
   "cell_type": "markdown",
   "metadata": {},
   "source": [
    "*Census total migration counts were about 27% higher from 2005-2011 (which is expected, since IRS data is limited to tax-filers and their dependents, unlike ACS Census data)"
   ]
  },
  {
   "cell_type": "markdown",
   "metadata": {},
   "source": [
    "**Use Census figures for 2005-2018 and adjust 90-04 IRS figures based on avg. difference b/w Census & IRS from 2005-2011 (when year-to-year total migration change was w/in 15% for Census & IRS)- IRS data was suspiciously volatile after 2010 (esp. from 2013 onwards)"
   ]
  },
  {
   "cell_type": "markdown",
   "metadata": {},
   "source": [
    "#### Decision: will increase 91-04 IRS figures by 27% and combine adjusted 91-04 IRS w/ 05-18 Census to represent 1991-2018 migration"
   ]
  },
  {
   "cell_type": "markdown",
   "metadata": {},
   "source": [
    "---"
   ]
  },
  {
   "cell_type": "markdown",
   "metadata": {},
   "source": [
    "### Combining Adjusted IRS (91-04) w/ Census (05-18):"
   ]
  },
  {
   "cell_type": "code",
   "execution_count": 7,
   "metadata": {},
   "outputs": [],
   "source": [
    "irs.Inmig = (irs.Inmig*1.27).astype(int)\n",
    "irs.Outmig = (irs.Outmig*1.27).astype(int)\n",
    "irs.Net_Mig = irs.Inmig - irs.Outmig"
   ]
  },
  {
   "cell_type": "markdown",
   "metadata": {},
   "source": [
    "1) CA Total Migration Summary"
   ]
  },
  {
   "cell_type": "code",
   "execution_count": 8,
   "metadata": {},
   "outputs": [],
   "source": [
    "cols = ['Year', 'Inmig', 'Outmig', 'Net_Mig']\n",
    "irsadj_census = pd.concat([irs[cols][irs.Year < 2005], census[cols]])\n",
    "irsadj_census['Population'] = irs['Population'].values"
   ]
  },
  {
   "cell_type": "code",
   "execution_count": 9,
   "metadata": {},
   "outputs": [
    {
     "data": {
      "text/html": [
       "<div>\n",
       "<style scoped>\n",
       "    .dataframe tbody tr th:only-of-type {\n",
       "        vertical-align: middle;\n",
       "    }\n",
       "\n",
       "    .dataframe tbody tr th {\n",
       "        vertical-align: top;\n",
       "    }\n",
       "\n",
       "    .dataframe thead th {\n",
       "        text-align: right;\n",
       "    }\n",
       "</style>\n",
       "<table border=\"1\" class=\"dataframe\">\n",
       "  <thead>\n",
       "    <tr style=\"text-align: right;\">\n",
       "      <th></th>\n",
       "      <th>Year</th>\n",
       "      <th>Inmig</th>\n",
       "      <th>Outmig</th>\n",
       "      <th>Net_Mig</th>\n",
       "      <th>Population</th>\n",
       "    </tr>\n",
       "  </thead>\n",
       "  <tbody>\n",
       "    <tr>\n",
       "      <th>0</th>\n",
       "      <td>1991</td>\n",
       "      <td>504753</td>\n",
       "      <td>675571</td>\n",
       "      <td>-170818</td>\n",
       "      <td>30143555</td>\n",
       "    </tr>\n",
       "    <tr>\n",
       "      <th>1</th>\n",
       "      <td>1992</td>\n",
       "      <td>472762</td>\n",
       "      <td>688783</td>\n",
       "      <td>-216021</td>\n",
       "      <td>30722998</td>\n",
       "    </tr>\n",
       "    <tr>\n",
       "      <th>2</th>\n",
       "      <td>1993</td>\n",
       "      <td>406356</td>\n",
       "      <td>793901</td>\n",
       "      <td>-387545</td>\n",
       "      <td>31150786</td>\n",
       "    </tr>\n",
       "  </tbody>\n",
       "</table>\n",
       "</div>"
      ],
      "text/plain": [
       "   Year   Inmig  Outmig  Net_Mig  Population\n",
       "0  1991  504753  675571  -170818    30143555\n",
       "1  1992  472762  688783  -216021    30722998\n",
       "2  1993  406356  793901  -387545    31150786"
      ]
     },
     "execution_count": 9,
     "metadata": {},
     "output_type": "execute_result"
    }
   ],
   "source": [
    "irsadj_census.head(3)"
   ]
  },
  {
   "cell_type": "code",
   "execution_count": 24,
   "metadata": {},
   "outputs": [],
   "source": [
    "irsadj_census.to_csv('IRS_Census_CA_mig_pop_9118.csv', index=False)"
   ]
  },
  {
   "cell_type": "markdown",
   "metadata": {},
   "source": [
    "2) CA Migration For Each State"
   ]
  },
  {
   "cell_type": "code",
   "execution_count": 10,
   "metadata": {},
   "outputs": [],
   "source": [
    "cen_states = pd.read_csv('Census_CA_states_mig_0518.csv')\n",
    "irs_states = pd.read_csv('IRS_CA_states_mig_9118.csv')"
   ]
  },
  {
   "cell_type": "code",
   "execution_count": 11,
   "metadata": {},
   "outputs": [],
   "source": [
    "irs_states.Inmig = (irs_states.Inmig*1.27).astype(int)\n",
    "irs_states.Outmig = (irs_states.Outmig*1.27).astype(int)\n",
    "irs_states.Net_Mig = irs_states.Inmig - irs_states.Outmig"
   ]
  },
  {
   "cell_type": "code",
   "execution_count": 12,
   "metadata": {},
   "outputs": [],
   "source": [
    "cols = irs_states.columns\n",
    "comb_states = pd.concat([irs_states[irs_states.Year < 2005], cen_states[cols]])"
   ]
  },
  {
   "cell_type": "code",
   "execution_count": 13,
   "metadata": {},
   "outputs": [
    {
     "data": {
      "text/html": [
       "<div>\n",
       "<style scoped>\n",
       "    .dataframe tbody tr th:only-of-type {\n",
       "        vertical-align: middle;\n",
       "    }\n",
       "\n",
       "    .dataframe tbody tr th {\n",
       "        vertical-align: top;\n",
       "    }\n",
       "\n",
       "    .dataframe thead th {\n",
       "        text-align: right;\n",
       "    }\n",
       "</style>\n",
       "<table border=\"1\" class=\"dataframe\">\n",
       "  <thead>\n",
       "    <tr style=\"text-align: right;\">\n",
       "      <th></th>\n",
       "      <th>Year</th>\n",
       "      <th>State</th>\n",
       "      <th>Inmig</th>\n",
       "      <th>Outmig</th>\n",
       "      <th>Net_Mig</th>\n",
       "    </tr>\n",
       "  </thead>\n",
       "  <tbody>\n",
       "    <tr>\n",
       "      <th>0</th>\n",
       "      <td>1991</td>\n",
       "      <td>New York</td>\n",
       "      <td>29389</td>\n",
       "      <td>18347</td>\n",
       "      <td>11042</td>\n",
       "    </tr>\n",
       "    <tr>\n",
       "      <th>1</th>\n",
       "      <td>1991</td>\n",
       "      <td>Massachusetts</td>\n",
       "      <td>15224</td>\n",
       "      <td>7640</td>\n",
       "      <td>7584</td>\n",
       "    </tr>\n",
       "    <tr>\n",
       "      <th>2</th>\n",
       "      <td>1991</td>\n",
       "      <td>New Jersey</td>\n",
       "      <td>12884</td>\n",
       "      <td>8961</td>\n",
       "      <td>3923</td>\n",
       "    </tr>\n",
       "  </tbody>\n",
       "</table>\n",
       "</div>"
      ],
      "text/plain": [
       "   Year          State  Inmig  Outmig  Net_Mig\n",
       "0  1991       New York  29389   18347    11042\n",
       "1  1991  Massachusetts  15224    7640     7584\n",
       "2  1991     New Jersey  12884    8961     3923"
      ]
     },
     "execution_count": 13,
     "metadata": {},
     "output_type": "execute_result"
    }
   ],
   "source": [
    "comb_states.head(3)"
   ]
  },
  {
   "cell_type": "code",
   "execution_count": 43,
   "metadata": {},
   "outputs": [],
   "source": [
    "comb_states.to_csv('IRS_Census_CA_states_mig_9118.csv', index=False)"
   ]
  },
  {
   "cell_type": "code",
   "execution_count": 30,
   "metadata": {},
   "outputs": [],
   "source": [
    "# Single year data for datawrapper (to create GIF)\n",
    "for year in range(1991,2019):\n",
    "    df = comb_states[comb_states.Year == year]\n",
    "    df.to_csv('states_mig_' + str(year) + '.csv')"
   ]
  },
  {
   "cell_type": "markdown",
   "metadata": {},
   "source": [
    "Creating CSV w/ Additional & Adjusted Columns For Map Display:"
   ]
  },
  {
   "cell_type": "code",
   "execution_count": 14,
   "metadata": {},
   "outputs": [
    {
     "data": {
      "text/plain": [
       "19"
      ]
     },
     "execution_count": 14,
     "metadata": {},
     "output_type": "execute_result"
    }
   ],
   "source": [
    "comb_states18 = comb_states[comb_states.Year == 2018]\n",
    "len(comb_states18[comb_states18.Net_Mig > 0])"
   ]
  },
  {
   "cell_type": "code",
   "execution_count": 15,
   "metadata": {},
   "outputs": [
    {
     "data": {
      "text/plain": [
       "51"
      ]
     },
     "execution_count": 15,
     "metadata": {},
     "output_type": "execute_result"
    }
   ],
   "source": [
    "len(comb_states18.State.unique())"
   ]
  },
  {
   "cell_type": "code",
   "execution_count": 21,
   "metadata": {},
   "outputs": [
    {
     "data": {
      "text/plain": [
       "array(['Kentucky', 'Vermont', 'Pennsylvania', 'Mississippi', 'Maine',\n",
       "       'Delaware', 'West Virginia', 'Puerto Rico', 'North Dakota',\n",
       "       'District of Columbia ', 'Minnesota', 'Alabama', 'New Jersey',\n",
       "       'Hawaii', 'Connecticut', 'Maryland', 'Massachusetts', 'Ohio',\n",
       "       'Illinois', 'New York'], dtype=object)"
      ]
     },
     "execution_count": 21,
     "metadata": {},
     "output_type": "execute_result"
    }
   ],
   "source": [
    "comb_states.State[comb_states.Year == 2018].iloc[31:].values"
   ]
  },
  {
   "cell_type": "code",
   "execution_count": 23,
   "metadata": {
    "collapsed": true,
    "jupyter": {
     "outputs_hidden": true
    }
   },
   "outputs": [
    {
     "name": "stderr",
     "output_type": "stream",
     "text": [
      "C:\\Users\\Mahmoud\\Miniconda3\\envs\\data_analysis\\lib\\site-packages\\ipykernel_launcher.py:2: SettingWithCopyWarning: \n",
      "A value is trying to be set on a copy of a slice from a DataFrame.\n",
      "Try using .loc[row_indexer,col_indexer] = value instead\n",
      "\n",
      "See the caveats in the documentation: http://pandas.pydata.org/pandas-docs/stable/user_guide/indexing.html#returning-a-view-versus-a-copy\n",
      "  \n",
      "C:\\Users\\Mahmoud\\Miniconda3\\envs\\data_analysis\\lib\\site-packages\\ipykernel_launcher.py:3: SettingWithCopyWarning: \n",
      "A value is trying to be set on a copy of a slice from a DataFrame.\n",
      "Try using .loc[row_indexer,col_indexer] = value instead\n",
      "\n",
      "See the caveats in the documentation: http://pandas.pydata.org/pandas-docs/stable/user_guide/indexing.html#returning-a-view-versus-a-copy\n",
      "  This is separate from the ipykernel package so we can avoid doing imports until\n",
      "C:\\Users\\Mahmoud\\Miniconda3\\envs\\data_analysis\\lib\\site-packages\\ipykernel_launcher.py:11: SettingWithCopyWarning: \n",
      "A value is trying to be set on a copy of a slice from a DataFrame.\n",
      "Try using .loc[row_indexer,col_indexer] = value instead\n",
      "\n",
      "See the caveats in the documentation: http://pandas.pydata.org/pandas-docs/stable/user_guide/indexing.html#returning-a-view-versus-a-copy\n",
      "  # This is added back by InteractiveShellApp.init_path()\n"
     ]
    }
   ],
   "source": [
    "comb_states18 = comb_states[comb_states.Year == 2018]\n",
    "comb_states18['More'] = list(comb_states18.State.values[:32]) + ['California']*19  # Identifying which states CA was net positive w/ regards to interstate migration (19 out of 51)\n",
    "comb_states18['Less'] = ['California']*32 + list(comb_states18.State.iloc[32:].values)\n",
    "# Rounding large figures (1000+) to nearest ten for cleaner map statistics\n",
    "rounded_df = comb_states18.copy()\n",
    "cols = ['Inmig', 'Outmig', 'Net_Mig']\n",
    "counter = 0\n",
    "for col in cols:\n",
    "    small = rounded_df[(rounded_df[cols[counter]] > -1000) & (rounded_df[cols[counter]] < 1000)]\n",
    "    large = rounded_df[(rounded_df[cols[counter]] < -1000) | (rounded_df[cols[counter]] > 1000)]\n",
    "    large[cols[counter]] = (round(rounded_df[cols[counter]] / 10) *10).astype(int)\n",
    "    rounded_df = pd.concat([small, large]).sort_values(cols[counter])\n",
    "    counter += 1\n",
    "    \n",
    "rounded_df['Net_Mig_Abs'] = rounded_df.Net_Mig.abs()"
   ]
  },
  {
   "cell_type": "code",
   "execution_count": 24,
   "metadata": {},
   "outputs": [
    {
     "data": {
      "text/html": [
       "<div>\n",
       "<style scoped>\n",
       "    .dataframe tbody tr th:only-of-type {\n",
       "        vertical-align: middle;\n",
       "    }\n",
       "\n",
       "    .dataframe tbody tr th {\n",
       "        vertical-align: top;\n",
       "    }\n",
       "\n",
       "    .dataframe thead th {\n",
       "        text-align: right;\n",
       "    }\n",
       "</style>\n",
       "<table border=\"1\" class=\"dataframe\">\n",
       "  <thead>\n",
       "    <tr style=\"text-align: right;\">\n",
       "      <th></th>\n",
       "      <th>Year</th>\n",
       "      <th>State</th>\n",
       "      <th>Inmig</th>\n",
       "      <th>Outmig</th>\n",
       "      <th>Net_Mig</th>\n",
       "      <th>More</th>\n",
       "      <th>Less</th>\n",
       "      <th>Net_Mig_Abs</th>\n",
       "    </tr>\n",
       "  </thead>\n",
       "  <tbody>\n",
       "    <tr>\n",
       "      <th>663</th>\n",
       "      <td>2018</td>\n",
       "      <td>Texas</td>\n",
       "      <td>37810</td>\n",
       "      <td>86160</td>\n",
       "      <td>-48350</td>\n",
       "      <td>Texas</td>\n",
       "      <td>California</td>\n",
       "      <td>48350</td>\n",
       "    </tr>\n",
       "    <tr>\n",
       "      <th>664</th>\n",
       "      <td>2018</td>\n",
       "      <td>Arizona</td>\n",
       "      <td>33670</td>\n",
       "      <td>68520</td>\n",
       "      <td>-34850</td>\n",
       "      <td>Arizona</td>\n",
       "      <td>California</td>\n",
       "      <td>34850</td>\n",
       "    </tr>\n",
       "    <tr>\n",
       "      <th>665</th>\n",
       "      <td>2018</td>\n",
       "      <td>Nevada</td>\n",
       "      <td>22430</td>\n",
       "      <td>50710</td>\n",
       "      <td>-28270</td>\n",
       "      <td>Nevada</td>\n",
       "      <td>California</td>\n",
       "      <td>28270</td>\n",
       "    </tr>\n",
       "  </tbody>\n",
       "</table>\n",
       "</div>"
      ],
      "text/plain": [
       "     Year    State  Inmig  Outmig  Net_Mig     More        Less  Net_Mig_Abs\n",
       "663  2018    Texas  37810   86160   -48350    Texas  California        48350\n",
       "664  2018  Arizona  33670   68520   -34850  Arizona  California        34850\n",
       "665  2018   Nevada  22430   50710   -28270   Nevada  California        28270"
      ]
     },
     "execution_count": 24,
     "metadata": {},
     "output_type": "execute_result"
    }
   ],
   "source": [
    "rounded_df.head(3)"
   ]
  },
  {
   "cell_type": "code",
   "execution_count": 26,
   "metadata": {},
   "outputs": [
    {
     "data": {
      "text/html": [
       "<div>\n",
       "<style scoped>\n",
       "    .dataframe tbody tr th:only-of-type {\n",
       "        vertical-align: middle;\n",
       "    }\n",
       "\n",
       "    .dataframe tbody tr th {\n",
       "        vertical-align: top;\n",
       "    }\n",
       "\n",
       "    .dataframe thead th {\n",
       "        text-align: right;\n",
       "    }\n",
       "</style>\n",
       "<table border=\"1\" class=\"dataframe\">\n",
       "  <thead>\n",
       "    <tr style=\"text-align: right;\">\n",
       "      <th></th>\n",
       "      <th>State</th>\n",
       "      <th>Outmig</th>\n",
       "    </tr>\n",
       "  </thead>\n",
       "  <tbody>\n",
       "    <tr>\n",
       "      <th>663</th>\n",
       "      <td>Texas</td>\n",
       "      <td>86160</td>\n",
       "    </tr>\n",
       "    <tr>\n",
       "      <th>664</th>\n",
       "      <td>Arizona</td>\n",
       "      <td>68520</td>\n",
       "    </tr>\n",
       "    <tr>\n",
       "      <th>667</th>\n",
       "      <td>Washington</td>\n",
       "      <td>55470</td>\n",
       "    </tr>\n",
       "    <tr>\n",
       "      <th>665</th>\n",
       "      <td>Nevada</td>\n",
       "      <td>50710</td>\n",
       "    </tr>\n",
       "    <tr>\n",
       "      <th>666</th>\n",
       "      <td>Oregon</td>\n",
       "      <td>43060</td>\n",
       "    </tr>\n",
       "    <tr>\n",
       "      <th>669</th>\n",
       "      <td>Colorado</td>\n",
       "      <td>28290</td>\n",
       "    </tr>\n",
       "    <tr>\n",
       "      <th>674</th>\n",
       "      <td>Florida</td>\n",
       "      <td>26890</td>\n",
       "    </tr>\n",
       "    <tr>\n",
       "      <th>713</th>\n",
       "      <td>New York</td>\n",
       "      <td>25260</td>\n",
       "    </tr>\n",
       "    <tr>\n",
       "      <th>676</th>\n",
       "      <td>Virginia</td>\n",
       "      <td>21210</td>\n",
       "    </tr>\n",
       "    <tr>\n",
       "      <th>668</th>\n",
       "      <td>Idaho</td>\n",
       "      <td>21020</td>\n",
       "    </tr>\n",
       "  </tbody>\n",
       "</table>\n",
       "</div>"
      ],
      "text/plain": [
       "          State  Outmig\n",
       "663       Texas   86160\n",
       "664     Arizona   68520\n",
       "667  Washington   55470\n",
       "665      Nevada   50710\n",
       "666      Oregon   43060\n",
       "669    Colorado   28290\n",
       "674     Florida   26890\n",
       "713    New York   25260\n",
       "676    Virginia   21210\n",
       "668       Idaho   21020"
      ]
     },
     "execution_count": 26,
     "metadata": {},
     "output_type": "execute_result"
    }
   ],
   "source": [
    "rounded_df[['State','Outmig']].sort_values('Outmig', ascending=False).head(10)"
   ]
  },
  {
   "cell_type": "code",
   "execution_count": 27,
   "metadata": {},
   "outputs": [],
   "source": [
    "rounded_df.to_csv('Census_CA_states_mig_18.csv', index=False)"
   ]
  },
  {
   "cell_type": "markdown",
   "metadata": {},
   "source": [
    "---"
   ]
  },
  {
   "cell_type": "markdown",
   "metadata": {},
   "source": [
    "Number of Top 10 CA Outmig Appearances:"
   ]
  },
  {
   "cell_type": "code",
   "execution_count": 41,
   "metadata": {},
   "outputs": [],
   "source": [
    "states = {}\n",
    "for year in range(1991,2019):\n",
    "    df = comb_states[comb_states.Year == year].sort_values('Outmig', ascending=False).head(10)\n",
    "    for state in df.State:\n",
    "        if state not in states:\n",
    "            states[state] = 1\n",
    "        else:\n",
    "            states[state] += 1"
   ]
  },
  {
   "cell_type": "code",
   "execution_count": 42,
   "metadata": {},
   "outputs": [
    {
     "data": {
      "text/plain": [
       "{'Texas': 28,\n",
       " 'Washington': 28,\n",
       " 'Arizona': 28,\n",
       " 'Oregon': 28,\n",
       " 'Nevada': 28,\n",
       " 'Florida': 28,\n",
       " 'Colorado': 28,\n",
       " 'Illinois': 19,\n",
       " 'Virginia': 21,\n",
       " 'New York': 24,\n",
       " 'Utah': 10,\n",
       " 'Georgia': 5,\n",
       " 'North Carolina': 3,\n",
       " 'Idaho': 2}"
      ]
     },
     "execution_count": 42,
     "metadata": {},
     "output_type": "execute_result"
    }
   ],
   "source": [
    "states"
   ]
  },
  {
   "cell_type": "markdown",
   "metadata": {},
   "source": [
    "---"
   ]
  },
  {
   "cell_type": "markdown",
   "metadata": {},
   "source": [
    "Number of Top 10 CA Net_Mig Appearances:"
   ]
  },
  {
   "cell_type": "code",
   "execution_count": 50,
   "metadata": {},
   "outputs": [],
   "source": [
    "states = {}\n",
    "for year in range(2010,2019):\n",
    "    df = comb_states[comb_states.Year == year].sort_values('Net_Mig', ascending=False).head(10)\n",
    "    for state in df.State:\n",
    "        if state not in states:\n",
    "            states[state] = 1\n",
    "        else:\n",
    "            states[state] += 1"
   ]
  },
  {
   "cell_type": "code",
   "execution_count": 51,
   "metadata": {},
   "outputs": [
    {
     "data": {
      "text/plain": [
       "{'Alaska': 6,\n",
       " 'Michigan': 4,\n",
       " 'Maryland': 4,\n",
       " 'Wisconsin': 2,\n",
       " 'New Jersey': 9,\n",
       " 'Maine': 2,\n",
       " 'West Virginia': 1,\n",
       " 'South Carolina': 1,\n",
       " 'Iowa': 2,\n",
       " 'Delaware': 2,\n",
       " 'Illinois': 8,\n",
       " 'Tennessee': 1,\n",
       " 'Ohio': 3,\n",
       " 'Puerto Rico': 4,\n",
       " 'New Hampshire': 1,\n",
       " 'New York': 7,\n",
       " 'Connecticut': 5,\n",
       " 'Pennsylvania': 5,\n",
       " 'Hawaii': 3,\n",
       " 'Massachusetts': 6,\n",
       " 'Minnesota': 3,\n",
       " 'District of Columbia ': 3,\n",
       " 'Alabama': 3,\n",
       " 'Florida': 2,\n",
       " 'Indiana': 1,\n",
       " 'New Mexico': 1,\n",
       " 'Virginia': 1}"
      ]
     },
     "execution_count": 51,
     "metadata": {},
     "output_type": "execute_result"
    }
   ],
   "source": [
    "states"
   ]
  },
  {
   "cell_type": "markdown",
   "metadata": {},
   "source": [
    "---"
   ]
  }
 ],
 "metadata": {
  "kernelspec": {
   "display_name": "Python 3",
   "language": "python",
   "name": "python3"
  },
  "language_info": {
   "codemirror_mode": {
    "name": "ipython",
    "version": 3
   },
   "file_extension": ".py",
   "mimetype": "text/x-python",
   "name": "python",
   "nbconvert_exporter": "python",
   "pygments_lexer": "ipython3",
   "version": "3.7.3"
  }
 },
 "nbformat": 4,
 "nbformat_minor": 4
}
