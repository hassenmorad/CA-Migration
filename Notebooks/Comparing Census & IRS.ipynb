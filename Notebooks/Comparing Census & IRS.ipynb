{
 "cells": [
  {
   "cell_type": "code",
   "execution_count": 1,
   "metadata": {},
   "outputs": [],
   "source": [
    "import pandas as pd"
   ]
  },
  {
   "cell_type": "code",
   "execution_count": 6,
   "metadata": {},
   "outputs": [],
   "source": [
    "%run chart_theme.py"
   ]
  },
  {
   "cell_type": "code",
   "execution_count": 243,
   "metadata": {},
   "outputs": [],
   "source": [
    "irs = pd.read_csv('IRS_CA_states_mig_9118.csv')"
   ]
  },
  {
   "cell_type": "code",
   "execution_count": 57,
   "metadata": {},
   "outputs": [],
   "source": [
    "census = pd.read_csv('Census_CA_states_in_out_mig_0518.csv')\n",
    "ca = pd.read_csv('Census_CA_in_out_mig_0518.csv')"
   ]
  },
  {
   "cell_type": "code",
   "execution_count": 191,
   "metadata": {},
   "outputs": [],
   "source": [
    "ca['Tot_Mig'] = ca.Inmig + ca.Outmig\n",
    "ca = ca.fillna(0)"
   ]
  },
  {
   "cell_type": "markdown",
   "metadata": {},
   "source": [
    "*Calculating IRS CA annual mig data (total in/out mig)"
   ]
  },
  {
   "cell_type": "code",
   "execution_count": 266,
   "metadata": {},
   "outputs": [],
   "source": [
    "inmig = []\n",
    "outmig = []\n",
    "for year in range(1991,2019):\n",
    "    df = irs[irs.Year == year]\n",
    "    inmig.append(df.Inmig.sum())\n",
    "    outmig.append(df.Outmig.sum())"
   ]
  },
  {
   "cell_type": "code",
   "execution_count": 267,
   "metadata": {},
   "outputs": [
    {
     "data": {
      "text/html": [
       "<div>\n",
       "<style scoped>\n",
       "    .dataframe tbody tr th:only-of-type {\n",
       "        vertical-align: middle;\n",
       "    }\n",
       "\n",
       "    .dataframe tbody tr th {\n",
       "        vertical-align: top;\n",
       "    }\n",
       "\n",
       "    .dataframe thead th {\n",
       "        text-align: right;\n",
       "    }\n",
       "</style>\n",
       "<table border=\"1\" class=\"dataframe\">\n",
       "  <thead>\n",
       "    <tr style=\"text-align: right;\">\n",
       "      <th></th>\n",
       "      <th>Year</th>\n",
       "      <th>Inmig</th>\n",
       "      <th>Outmig</th>\n",
       "      <th>Net_Mig</th>\n",
       "      <th>Tot_Mig</th>\n",
       "    </tr>\n",
       "  </thead>\n",
       "  <tbody>\n",
       "    <tr>\n",
       "      <th>0</th>\n",
       "      <td>1991</td>\n",
       "      <td>397444</td>\n",
       "      <td>531946</td>\n",
       "      <td>-134502</td>\n",
       "      <td>929390</td>\n",
       "    </tr>\n",
       "    <tr>\n",
       "      <th>1</th>\n",
       "      <td>1992</td>\n",
       "      <td>372254</td>\n",
       "      <td>542349</td>\n",
       "      <td>-170095</td>\n",
       "      <td>914603</td>\n",
       "    </tr>\n",
       "    <tr>\n",
       "      <th>2</th>\n",
       "      <td>1993</td>\n",
       "      <td>319966</td>\n",
       "      <td>625119</td>\n",
       "      <td>-305153</td>\n",
       "      <td>945085</td>\n",
       "    </tr>\n",
       "  </tbody>\n",
       "</table>\n",
       "</div>"
      ],
      "text/plain": [
       "   Year   Inmig  Outmig  Net_Mig  Tot_Mig\n",
       "0  1991  397444  531946  -134502   929390\n",
       "1  1992  372254  542349  -170095   914603\n",
       "2  1993  319966  625119  -305153   945085"
      ]
     },
     "execution_count": 267,
     "metadata": {},
     "output_type": "execute_result"
    }
   ],
   "source": [
    "irs_df = pd.DataFrame({'Year':list(range(1991,2019)), 'Inmig':inmig, 'Outmig':outmig})\n",
    "irs_df['Net_Mig'] = irs_df.Inmig - irs_df.Outmig\n",
    "irs_df['Tot_Mig'] = irs_df.Inmig + irs_df.Outmig\n",
    "irs_df.head(3)"
   ]
  },
  {
   "cell_type": "code",
   "execution_count": 263,
   "metadata": {},
   "outputs": [
    {
     "data": {
      "text/html": [
       "\n",
       "<div id=\"altair-viz-134\"></div>\n",
       "<script type=\"text/javascript\">\n",
       "  (function(spec, embedOpt){\n",
       "    const outputDiv = document.getElementById(\"altair-viz-134\");\n",
       "    const paths = {\n",
       "      \"vega\": \"https://cdn.jsdelivr.net/npm//vega@5?noext\",\n",
       "      \"vega-lib\": \"https://cdn.jsdelivr.net/npm//vega-lib?noext\",\n",
       "      \"vega-lite\": \"https://cdn.jsdelivr.net/npm//vega-lite@4.0.0?noext\",\n",
       "      \"vega-embed\": \"https://cdn.jsdelivr.net/npm//vega-embed@6?noext\",\n",
       "    };\n",
       "\n",
       "    function loadScript(lib) {\n",
       "      return new Promise(function(resolve, reject) {\n",
       "        var s = document.createElement('script');\n",
       "        s.src = paths[lib];\n",
       "        s.async = true;\n",
       "        s.onload = () => resolve(paths[lib]);\n",
       "        s.onerror = () => reject(`Error loading script: ${paths[lib]}`);\n",
       "        document.getElementsByTagName(\"head\")[0].appendChild(s);\n",
       "      });\n",
       "    }\n",
       "\n",
       "    function showError(err) {\n",
       "      outputDiv.innerHTML = `<div class=\"error\" style=\"color:red;\">${err}</div>`;\n",
       "      throw err;\n",
       "    }\n",
       "\n",
       "    function displayChart(vegaEmbed) {\n",
       "      vegaEmbed(outputDiv, spec, embedOpt)\n",
       "        .catch(err => showError(`Javascript Error: ${err.message}<br>This usually means there's a typo in your chart specification. See the javascript console for the full traceback.`));\n",
       "    }\n",
       "\n",
       "    if(typeof define === \"function\" && define.amd) {\n",
       "      requirejs.config({paths});\n",
       "      require([\"vega-embed\"], displayChart, err => showError(`Error loading script: ${err.message}`));\n",
       "    } else if (typeof vegaEmbed === \"function\") {\n",
       "      displayChart(vegaEmbed);\n",
       "    } else {\n",
       "      loadScript(\"vega\")\n",
       "        .then(() => loadScript(\"vega-lite\"))\n",
       "        .then(() => loadScript(\"vega-embed\"))\n",
       "        .catch(showError)\n",
       "        .then(() => displayChart(vegaEmbed));\n",
       "    }\n",
       "  })({\"width\": 600, \"height\": 400, \"background\": \"white\", \"config\": {\"title\": {\"fontWeight\": \"normal\", \"fontSize\": 30, \"anchor\": \"start\", \"font\": \"Calibri\", \"offset\": 5}, \"axisX\": {\"grid\": false, \"labelFont\": \"Calibri\", \"labelFontSize\": 16, \"labelAngle\": 0, \"labelPadding\": 10, \"ticks\": false, \"tickSize\": 5, \"title\": null, \"titleFont\": \"Calibri\", \"titleFontSize\": 16, \"titleFontWeight\": \"normal\", \"titleY\": 30, \"titleX\": 280}, \"axisY\": {\"grid\": true, \"gridOpacity\": 1, \"labelFont\": \"Calibri\", \"labelFontSize\": 16, \"labelLimit\": 100, \"labelAlign\": \"left\", \"labelPadding\": 20, \"ticks\": false, \"title\": null, \"titleFont\": \"Calibri\", \"titleFontWeight\": \"normal\", \"titleFontSize\": 17, \"titleAlign\": \"left\", \"titleAngle\": 0, \"titleY\": -20, \"titleX\": -20, \"domainWidth\": 0}, \"view\": {\"strokeOpacity\": 0}}, \"layer\": [{\"mark\": {\"type\": \"line\", \"color\": \"lightblue\"}, \"encoding\": {\"x\": {\"type\": \"ordinal\", \"field\": \"Year\"}, \"y\": {\"type\": \"quantitative\", \"field\": \"Inmig\", \"title\": \"Post-2011 yr-to-yr figures look too volatile (maybe data is missing) |  (out=gray, in=light blue)\"}}, \"title\": \"IRS Migration Trends\"}, {\"mark\": {\"type\": \"line\", \"color\": \"lightgray\"}, \"encoding\": {\"x\": {\"type\": \"ordinal\", \"field\": \"Year\"}, \"y\": {\"type\": \"quantitative\", \"field\": \"Outmig\"}}}, {\"data\": {\"name\": \"data-ea7733ff27493fb94e46541bba32e621\"}, \"mark\": {\"type\": \"rect\", \"color\": \"lightgray\", \"opacity\": 0.2}, \"encoding\": {\"x\": {\"type\": \"ordinal\", \"field\": \"x\"}, \"x2\": {\"field\": \"x2\"}, \"y\": {\"type\": \"quantitative\", \"field\": \"y\"}, \"y2\": {\"field\": \"y2\"}}}], \"data\": {\"name\": \"data-9530188dd9e0838188bd0964e3ad991c\"}, \"$schema\": \"https://vega.github.io/schema/vega-lite/v4.0.0.json\", \"datasets\": {\"data-9530188dd9e0838188bd0964e3ad991c\": [{\"Year\": 1991, \"Inmig\": 397444, \"Outmig\": 531946, \"Net_Mig\": -134502, \"Tot_Mig\": 929390}, {\"Year\": 1992, \"Inmig\": 372254, \"Outmig\": 542349, \"Net_Mig\": -170095, \"Tot_Mig\": 914603}, {\"Year\": 1993, \"Inmig\": 319966, \"Outmig\": 625119, \"Net_Mig\": -305153, \"Tot_Mig\": 945085}, {\"Year\": 1994, \"Inmig\": 304640, \"Outmig\": 643480, \"Net_Mig\": -338840, \"Tot_Mig\": 948120}, {\"Year\": 1995, \"Inmig\": 314893, \"Outmig\": 600334, \"Net_Mig\": -285441, \"Tot_Mig\": 915227}, {\"Year\": 1996, \"Inmig\": 324857, \"Outmig\": 529582, \"Net_Mig\": -204725, \"Tot_Mig\": 854439}, {\"Year\": 1997, \"Inmig\": 359652, \"Outmig\": 475201, \"Net_Mig\": -115549, \"Tot_Mig\": 834853}, {\"Year\": 1998, \"Inmig\": 379612, \"Outmig\": 449591, \"Net_Mig\": -69979, \"Tot_Mig\": 829203}, {\"Year\": 1999, \"Inmig\": 377842, \"Outmig\": 444767, \"Net_Mig\": -66925, \"Tot_Mig\": 822609}, {\"Year\": 2000, \"Inmig\": 388800, \"Outmig\": 455405, \"Net_Mig\": -66605, \"Tot_Mig\": 844205}, {\"Year\": 2001, \"Inmig\": 408175, \"Outmig\": 446722, \"Net_Mig\": -38547, \"Tot_Mig\": 854897}, {\"Year\": 2002, \"Inmig\": 370042, \"Outmig\": 466719, \"Net_Mig\": -96677, \"Tot_Mig\": 836761}, {\"Year\": 2003, \"Inmig\": 363603, \"Outmig\": 451486, \"Net_Mig\": -87883, \"Tot_Mig\": 815089}, {\"Year\": 2004, \"Inmig\": 357043, \"Outmig\": 481808, \"Net_Mig\": -124765, \"Tot_Mig\": 838851}, {\"Year\": 2005, \"Inmig\": 351509, \"Outmig\": 552659, \"Net_Mig\": -201150, \"Tot_Mig\": 904168}, {\"Year\": 2006, \"Inmig\": 359686, \"Outmig\": 594330, \"Net_Mig\": -234644, \"Tot_Mig\": 954016}, {\"Year\": 2007, \"Inmig\": 357500, \"Outmig\": 562517, \"Net_Mig\": -205017, \"Tot_Mig\": 920017}, {\"Year\": 2008, \"Inmig\": 388244, \"Outmig\": 500691, \"Net_Mig\": -112447, \"Tot_Mig\": 888935}, {\"Year\": 2009, \"Inmig\": 382685, \"Outmig\": 453751, \"Net_Mig\": -71066, \"Tot_Mig\": 836436}, {\"Year\": 2010, \"Inmig\": 365763, \"Outmig\": 406883, \"Net_Mig\": -41120, \"Tot_Mig\": 772646}, {\"Year\": 2011, \"Inmig\": 383709, \"Outmig\": 412899, \"Net_Mig\": -29190, \"Tot_Mig\": 796608}, {\"Year\": 2012, \"Inmig\": 455202, \"Outmig\": 468496, \"Net_Mig\": -13294, \"Tot_Mig\": 923698}, {\"Year\": 2013, \"Inmig\": 463373, \"Outmig\": 505991, \"Net_Mig\": -42618, \"Tot_Mig\": 969364}, {\"Year\": 2014, \"Inmig\": 432409, \"Outmig\": 487994, \"Net_Mig\": -55585, \"Tot_Mig\": 920403}, {\"Year\": 2015, \"Inmig\": 322677, \"Outmig\": 365561, \"Net_Mig\": -42884, \"Tot_Mig\": 688238}, {\"Year\": 2016, \"Inmig\": 432443, \"Outmig\": 521161, \"Net_Mig\": -88718, \"Tot_Mig\": 953604}, {\"Year\": 2017, \"Inmig\": 560173, \"Outmig\": 738242, \"Net_Mig\": -178069, \"Tot_Mig\": 1298415}, {\"Year\": 2018, \"Inmig\": 429856, \"Outmig\": 583053, \"Net_Mig\": -153197, \"Tot_Mig\": 1012909}], \"data-ea7733ff27493fb94e46541bba32e621\": [{\"x\": 2011, \"x2\": 2018, \"y\": 0, \"y2\": 800000}]}}, {\"mode\": \"vega-lite\"});\n",
       "</script>"
      ],
      "text/plain": [
       "alt.LayerChart(...)"
      ]
     },
     "execution_count": 263,
     "metadata": {},
     "output_type": "execute_result"
    }
   ],
   "source": [
    "irsinmig = alt.Chart(irs_df, title='IRS Migration Trends').mark_line(color='lightblue').encode(x='Year:O',y=alt.Y('Inmig', title='Post-2011 yr-to-yr figures look too volatile (maybe data is missing) |  (out=gray, in=light blue)'))\n",
    "irsoutmig = alt.Chart(irs_df).mark_line(color='lightgray').encode(x='Year:O',y=alt.Y('Outmig'))\n",
    "split = alt.Chart(pd.DataFrame({'x':[2011],'x2':[2018],'y':[0],'y2':[800000]})).mark_rect(color='lightgray', opacity=.2).encode(x='x:O',x2='x2:O',y='y',y2='y2')\n",
    "irsinmig+irsoutmig+split"
   ]
  },
  {
   "cell_type": "markdown",
   "metadata": {},
   "source": [
    "Census (bold) & IRS (light) Migration Figures - In (blue) & Out (gray):"
   ]
  },
  {
   "cell_type": "code",
   "execution_count": 262,
   "metadata": {},
   "outputs": [
    {
     "data": {
      "text/html": [
       "\n",
       "<div id=\"altair-viz-133\"></div>\n",
       "<script type=\"text/javascript\">\n",
       "  (function(spec, embedOpt){\n",
       "    const outputDiv = document.getElementById(\"altair-viz-133\");\n",
       "    const paths = {\n",
       "      \"vega\": \"https://cdn.jsdelivr.net/npm//vega@5?noext\",\n",
       "      \"vega-lib\": \"https://cdn.jsdelivr.net/npm//vega-lib?noext\",\n",
       "      \"vega-lite\": \"https://cdn.jsdelivr.net/npm//vega-lite@4.0.0?noext\",\n",
       "      \"vega-embed\": \"https://cdn.jsdelivr.net/npm//vega-embed@6?noext\",\n",
       "    };\n",
       "\n",
       "    function loadScript(lib) {\n",
       "      return new Promise(function(resolve, reject) {\n",
       "        var s = document.createElement('script');\n",
       "        s.src = paths[lib];\n",
       "        s.async = true;\n",
       "        s.onload = () => resolve(paths[lib]);\n",
       "        s.onerror = () => reject(`Error loading script: ${paths[lib]}`);\n",
       "        document.getElementsByTagName(\"head\")[0].appendChild(s);\n",
       "      });\n",
       "    }\n",
       "\n",
       "    function showError(err) {\n",
       "      outputDiv.innerHTML = `<div class=\"error\" style=\"color:red;\">${err}</div>`;\n",
       "      throw err;\n",
       "    }\n",
       "\n",
       "    function displayChart(vegaEmbed) {\n",
       "      vegaEmbed(outputDiv, spec, embedOpt)\n",
       "        .catch(err => showError(`Javascript Error: ${err.message}<br>This usually means there's a typo in your chart specification. See the javascript console for the full traceback.`));\n",
       "    }\n",
       "\n",
       "    if(typeof define === \"function\" && define.amd) {\n",
       "      requirejs.config({paths});\n",
       "      require([\"vega-embed\"], displayChart, err => showError(`Error loading script: ${err.message}`));\n",
       "    } else if (typeof vegaEmbed === \"function\") {\n",
       "      displayChart(vegaEmbed);\n",
       "    } else {\n",
       "      loadScript(\"vega\")\n",
       "        .then(() => loadScript(\"vega-lite\"))\n",
       "        .then(() => loadScript(\"vega-embed\"))\n",
       "        .catch(showError)\n",
       "        .then(() => displayChart(vegaEmbed));\n",
       "    }\n",
       "  })({\"width\": 600, \"height\": 400, \"background\": \"white\", \"config\": {\"title\": {\"fontWeight\": \"normal\", \"fontSize\": 30, \"anchor\": \"start\", \"font\": \"Calibri\", \"offset\": 5}, \"axisX\": {\"grid\": false, \"labelFont\": \"Calibri\", \"labelFontSize\": 16, \"labelAngle\": 0, \"labelPadding\": 10, \"ticks\": false, \"tickSize\": 5, \"title\": null, \"titleFont\": \"Calibri\", \"titleFontSize\": 16, \"titleFontWeight\": \"normal\", \"titleY\": 30, \"titleX\": 280}, \"axisY\": {\"grid\": true, \"gridOpacity\": 1, \"labelFont\": \"Calibri\", \"labelFontSize\": 16, \"labelLimit\": 100, \"labelAlign\": \"left\", \"labelPadding\": 20, \"ticks\": false, \"title\": null, \"titleFont\": \"Calibri\", \"titleFontWeight\": \"normal\", \"titleFontSize\": 17, \"titleAlign\": \"left\", \"titleAngle\": 0, \"titleY\": -20, \"titleX\": -20, \"domainWidth\": 0}, \"view\": {\"strokeOpacity\": 0}}, \"layer\": [{\"mark\": {\"type\": \"line\", \"color\": \"darkblue\", \"size\": 5}, \"encoding\": {\"x\": {\"type\": \"ordinal\", \"field\": \"Year\"}, \"y\": {\"type\": \"quantitative\", \"field\": \"Inmig\"}}, \"title\": \"Census & IRS Migration Trends\"}, {\"mark\": {\"type\": \"line\", \"color\": \"darkgray\", \"size\": 5}, \"encoding\": {\"x\": {\"type\": \"ordinal\", \"field\": \"Year\"}, \"y\": {\"type\": \"quantitative\", \"field\": \"Outmig\"}}}, {\"data\": {\"name\": \"data-4c83bf7a88fd9d2a4202c6411fbb733a\"}, \"mark\": {\"type\": \"line\", \"color\": \"lightblue\"}, \"encoding\": {\"x\": {\"type\": \"ordinal\", \"field\": \"Year\"}, \"y\": {\"type\": \"quantitative\", \"field\": \"Inmig\"}}}, {\"data\": {\"name\": \"data-4c83bf7a88fd9d2a4202c6411fbb733a\"}, \"mark\": {\"type\": \"line\", \"color\": \"lightgray\"}, \"encoding\": {\"x\": {\"type\": \"ordinal\", \"field\": \"Year\"}, \"y\": {\"type\": \"quantitative\", \"field\": \"Outmig\"}}}, {\"data\": {\"name\": \"data-ea7733ff27493fb94e46541bba32e621\"}, \"mark\": {\"type\": \"rect\", \"color\": \"lightgray\", \"opacity\": 0.2}, \"encoding\": {\"x\": {\"type\": \"ordinal\", \"field\": \"x\"}, \"x2\": {\"field\": \"x2\"}, \"y\": {\"type\": \"quantitative\", \"field\": \"y\"}, \"y2\": {\"field\": \"y2\"}}}], \"data\": {\"name\": \"data-36bc5e1c45d03d195850625f66f59c55\"}, \"$schema\": \"https://vega.github.io/schema/vega-lite/v4.0.0.json\", \"datasets\": {\"data-36bc5e1c45d03d195850625f66f59c55\": [{\"State\": \"California\", \"Inmig\": 449212, \"Outmig\": 718417, \"Year\": 2005, \"Net_Mig\": -269205, \"Inmig_pct_chg\": 0.0, \"Outmig_pct_chg\": 0.0, \"Tot_Mig\": 1167629}, {\"State\": \"California\", \"Inmig\": 524408, \"Outmig\": 746676, \"Year\": 2006, \"Net_Mig\": -222268, \"Inmig_pct_chg\": 0.1673953500796952, \"Outmig_pct_chg\": 0.03933509368514376, \"Tot_Mig\": 1271084}, {\"State\": \"California\", \"Inmig\": 491657, \"Outmig\": 668021, \"Year\": 2007, \"Net_Mig\": -176364, \"Inmig_pct_chg\": 0.0624532806517063, \"Outmig_pct_chg\": 0.10534020110462905, \"Tot_Mig\": 1159678}, {\"State\": \"California\", \"Inmig\": 468875, \"Outmig\": 585660, \"Year\": 2008, \"Net_Mig\": -116785, \"Inmig_pct_chg\": 0.046337182222565776, \"Outmig_pct_chg\": 0.12329103426389287, \"Tot_Mig\": 1054535}, {\"State\": \"California\", \"Inmig\": 460161, \"Outmig\": 546589, \"Year\": 2009, \"Net_Mig\": -86428, \"Inmig_pct_chg\": 0.018584910690482515, \"Outmig_pct_chg\": 0.06671276850049512, \"Tot_Mig\": 1006750}, {\"State\": \"California\", \"Inmig\": 445972, \"Outmig\": 575165, \"Year\": 2010, \"Net_Mig\": -129193, \"Inmig_pct_chg\": 0.030834859972922568, \"Outmig_pct_chg\": 0.052280598402089984, \"Tot_Mig\": 1021137}, {\"State\": \"California\", \"Inmig\": 469772, \"Outmig\": 562550, \"Year\": 2011, \"Net_Mig\": -92778, \"Inmig_pct_chg\": 0.053366579067744224, \"Outmig_pct_chg\": 0.0219328366642616, \"Tot_Mig\": 1032322}, {\"State\": \"California\", \"Inmig\": 495964, \"Outmig\": 567505, \"Year\": 2012, \"Net_Mig\": -71541, \"Inmig_pct_chg\": 0.055754706538490906, \"Outmig_pct_chg\": 0.008808105946138012, \"Tot_Mig\": 1063469}, {\"State\": \"California\", \"Inmig\": 488656, \"Outmig\": 582392, \"Year\": 2013, \"Net_Mig\": -93736, \"Inmig_pct_chg\": 0.014734940439225408, \"Outmig_pct_chg\": 0.026232367996757766, \"Tot_Mig\": 1071048}, {\"State\": \"California\", \"Inmig\": 518285, \"Outmig\": 593860, \"Year\": 2014, \"Net_Mig\": -75575, \"Inmig_pct_chg\": 0.06063365639631968, \"Outmig_pct_chg\": 0.01969120454951301, \"Tot_Mig\": 1112145}, {\"State\": \"California\", \"Inmig\": 515587, \"Outmig\": 643886, \"Year\": 2015, \"Net_Mig\": -128299, \"Inmig_pct_chg\": 0.005205630106987491, \"Outmig_pct_chg\": 0.08423870946014222, \"Tot_Mig\": 1159473}, {\"State\": \"California\", \"Inmig\": 515860, \"Outmig\": 657890, \"Year\": 2016, \"Net_Mig\": -142030, \"Inmig_pct_chg\": 0.0005294935675259627, \"Outmig_pct_chg\": 0.021749191627089326, \"Tot_Mig\": 1173750}, {\"State\": \"California\", \"Inmig\": 524995, \"Outmig\": 662593, \"Year\": 2017, \"Net_Mig\": -137598, \"Inmig_pct_chg\": 0.017708292947699045, \"Outmig_pct_chg\": 0.007148611470002564, \"Tot_Mig\": 1187588}, {\"State\": \"California\", \"Inmig\": 502273, \"Outmig\": 691665, \"Year\": 2018, \"Net_Mig\": -189392, \"Inmig_pct_chg\": 0.04328041219440182, \"Outmig_pct_chg\": 0.04387610493923111, \"Tot_Mig\": 1193938}], \"data-4c83bf7a88fd9d2a4202c6411fbb733a\": [{\"Year\": 2005, \"Inmig\": 351509, \"Outmig\": 552659, \"Net_Mig\": -201150, \"Tot_Mig\": 904168}, {\"Year\": 2006, \"Inmig\": 359686, \"Outmig\": 594330, \"Net_Mig\": -234644, \"Tot_Mig\": 954016}, {\"Year\": 2007, \"Inmig\": 357500, \"Outmig\": 562517, \"Net_Mig\": -205017, \"Tot_Mig\": 920017}, {\"Year\": 2008, \"Inmig\": 388244, \"Outmig\": 500691, \"Net_Mig\": -112447, \"Tot_Mig\": 888935}, {\"Year\": 2009, \"Inmig\": 382685, \"Outmig\": 453751, \"Net_Mig\": -71066, \"Tot_Mig\": 836436}, {\"Year\": 2010, \"Inmig\": 365763, \"Outmig\": 406883, \"Net_Mig\": -41120, \"Tot_Mig\": 772646}, {\"Year\": 2011, \"Inmig\": 383709, \"Outmig\": 412899, \"Net_Mig\": -29190, \"Tot_Mig\": 796608}, {\"Year\": 2012, \"Inmig\": 455202, \"Outmig\": 468496, \"Net_Mig\": -13294, \"Tot_Mig\": 923698}, {\"Year\": 2013, \"Inmig\": 463373, \"Outmig\": 505991, \"Net_Mig\": -42618, \"Tot_Mig\": 969364}, {\"Year\": 2014, \"Inmig\": 432409, \"Outmig\": 487994, \"Net_Mig\": -55585, \"Tot_Mig\": 920403}, {\"Year\": 2015, \"Inmig\": 322677, \"Outmig\": 365561, \"Net_Mig\": -42884, \"Tot_Mig\": 688238}, {\"Year\": 2016, \"Inmig\": 432443, \"Outmig\": 521161, \"Net_Mig\": -88718, \"Tot_Mig\": 953604}, {\"Year\": 2017, \"Inmig\": 560173, \"Outmig\": 738242, \"Net_Mig\": -178069, \"Tot_Mig\": 1298415}, {\"Year\": 2018, \"Inmig\": 429856, \"Outmig\": 583053, \"Net_Mig\": -153197, \"Tot_Mig\": 1012909}], \"data-ea7733ff27493fb94e46541bba32e621\": [{\"x\": 2011, \"x2\": 2018, \"y\": 0, \"y2\": 800000}]}}, {\"mode\": \"vega-lite\"});\n",
       "</script>"
      ],
      "text/plain": [
       "alt.LayerChart(...)"
      ]
     },
     "execution_count": 262,
     "metadata": {},
     "output_type": "execute_result"
    }
   ],
   "source": [
    "cai_in = alt.Chart(ca, title='Census & IRS Migration Trends').mark_line(color='darkblue', size=5).encode(x='Year:O',y=alt.Y('Inmig'))\n",
    "cai_out = alt.Chart(ca).mark_line(color='darkgray', size=5).encode(x='Year:O',y=alt.Y('Outmig'))\n",
    "irs_in = alt.Chart(irs_df[irs_df.Year > 2004]).mark_line(color='lightblue').encode(x='Year:O',y=alt.Y('Inmig'))\n",
    "irs_out = alt.Chart(irs_df[irs_df.Year > 2004]).mark_line(color='lightgray').encode(x='Year:O',y=alt.Y('Outmig'))\n",
    "split = alt.Chart(pd.DataFrame({'x':[2011],'x2':[2018],'y':[0],'y2':[800000]})).mark_rect(color='lightgray', opacity=.2).encode(x='x:O',x2='x2:O',y='y',y2='y2')\n",
    "cai_in + cai_out + irs_in + irs_out + split"
   ]
  },
  {
   "cell_type": "markdown",
   "metadata": {},
   "source": [
    "IRS Total Migration:"
   ]
  },
  {
   "cell_type": "code",
   "execution_count": 272,
   "metadata": {},
   "outputs": [
    {
     "data": {
      "text/html": [
       "\n",
       "<div id=\"altair-viz-140\"></div>\n",
       "<script type=\"text/javascript\">\n",
       "  (function(spec, embedOpt){\n",
       "    const outputDiv = document.getElementById(\"altair-viz-140\");\n",
       "    const paths = {\n",
       "      \"vega\": \"https://cdn.jsdelivr.net/npm//vega@5?noext\",\n",
       "      \"vega-lib\": \"https://cdn.jsdelivr.net/npm//vega-lib?noext\",\n",
       "      \"vega-lite\": \"https://cdn.jsdelivr.net/npm//vega-lite@4.0.0?noext\",\n",
       "      \"vega-embed\": \"https://cdn.jsdelivr.net/npm//vega-embed@6?noext\",\n",
       "    };\n",
       "\n",
       "    function loadScript(lib) {\n",
       "      return new Promise(function(resolve, reject) {\n",
       "        var s = document.createElement('script');\n",
       "        s.src = paths[lib];\n",
       "        s.async = true;\n",
       "        s.onload = () => resolve(paths[lib]);\n",
       "        s.onerror = () => reject(`Error loading script: ${paths[lib]}`);\n",
       "        document.getElementsByTagName(\"head\")[0].appendChild(s);\n",
       "      });\n",
       "    }\n",
       "\n",
       "    function showError(err) {\n",
       "      outputDiv.innerHTML = `<div class=\"error\" style=\"color:red;\">${err}</div>`;\n",
       "      throw err;\n",
       "    }\n",
       "\n",
       "    function displayChart(vegaEmbed) {\n",
       "      vegaEmbed(outputDiv, spec, embedOpt)\n",
       "        .catch(err => showError(`Javascript Error: ${err.message}<br>This usually means there's a typo in your chart specification. See the javascript console for the full traceback.`));\n",
       "    }\n",
       "\n",
       "    if(typeof define === \"function\" && define.amd) {\n",
       "      requirejs.config({paths});\n",
       "      require([\"vega-embed\"], displayChart, err => showError(`Error loading script: ${err.message}`));\n",
       "    } else if (typeof vegaEmbed === \"function\") {\n",
       "      displayChart(vegaEmbed);\n",
       "    } else {\n",
       "      loadScript(\"vega\")\n",
       "        .then(() => loadScript(\"vega-lite\"))\n",
       "        .then(() => loadScript(\"vega-embed\"))\n",
       "        .catch(showError)\n",
       "        .then(() => displayChart(vegaEmbed));\n",
       "    }\n",
       "  })({\"width\": 600, \"height\": 400, \"background\": \"white\", \"config\": {\"title\": {\"fontWeight\": \"normal\", \"fontSize\": 30, \"anchor\": \"start\", \"font\": \"Calibri\", \"offset\": 5}, \"axisX\": {\"grid\": false, \"labelFont\": \"Calibri\", \"labelFontSize\": 16, \"labelAngle\": 0, \"labelPadding\": 10, \"ticks\": false, \"tickSize\": 5, \"title\": null, \"titleFont\": \"Calibri\", \"titleFontSize\": 16, \"titleFontWeight\": \"normal\", \"titleY\": 30, \"titleX\": 280}, \"axisY\": {\"grid\": true, \"gridOpacity\": 1, \"labelFont\": \"Calibri\", \"labelFontSize\": 16, \"labelLimit\": 100, \"labelAlign\": \"left\", \"labelPadding\": 20, \"ticks\": false, \"title\": null, \"titleFont\": \"Calibri\", \"titleFontWeight\": \"normal\", \"titleFontSize\": 17, \"titleAlign\": \"left\", \"titleAngle\": 0, \"titleY\": -20, \"titleX\": -20, \"domainWidth\": 0}, \"view\": {\"strokeOpacity\": 0}}, \"layer\": [{\"data\": {\"name\": \"data-9530188dd9e0838188bd0964e3ad991c\"}, \"mark\": {\"type\": \"line\", \"color\": \"#ffc417\"}, \"encoding\": {\"x\": {\"type\": \"ordinal\", \"field\": \"Year\"}, \"y\": {\"type\": \"quantitative\", \"field\": \"Tot_Mig\", \"title\": \"Totals were relatively stable (b/w 800k & 1m) until the last few years\"}}, \"title\": \"IRS Total Migration Figures\"}, {\"data\": {\"name\": \"data-9da94cf84c0b5d909331780ad85ef3f4\"}, \"mark\": {\"type\": \"rect\", \"color\": \"lightgray\", \"opacity\": 0.2}, \"encoding\": {\"x\": {\"type\": \"ordinal\", \"field\": \"x\"}, \"x2\": {\"field\": \"x2\"}, \"y\": {\"type\": \"quantitative\", \"field\": \"y\"}, \"y2\": {\"field\": \"y2\"}}}], \"$schema\": \"https://vega.github.io/schema/vega-lite/v4.0.0.json\", \"datasets\": {\"data-9530188dd9e0838188bd0964e3ad991c\": [{\"Year\": 1991, \"Inmig\": 397444, \"Outmig\": 531946, \"Net_Mig\": -134502, \"Tot_Mig\": 929390}, {\"Year\": 1992, \"Inmig\": 372254, \"Outmig\": 542349, \"Net_Mig\": -170095, \"Tot_Mig\": 914603}, {\"Year\": 1993, \"Inmig\": 319966, \"Outmig\": 625119, \"Net_Mig\": -305153, \"Tot_Mig\": 945085}, {\"Year\": 1994, \"Inmig\": 304640, \"Outmig\": 643480, \"Net_Mig\": -338840, \"Tot_Mig\": 948120}, {\"Year\": 1995, \"Inmig\": 314893, \"Outmig\": 600334, \"Net_Mig\": -285441, \"Tot_Mig\": 915227}, {\"Year\": 1996, \"Inmig\": 324857, \"Outmig\": 529582, \"Net_Mig\": -204725, \"Tot_Mig\": 854439}, {\"Year\": 1997, \"Inmig\": 359652, \"Outmig\": 475201, \"Net_Mig\": -115549, \"Tot_Mig\": 834853}, {\"Year\": 1998, \"Inmig\": 379612, \"Outmig\": 449591, \"Net_Mig\": -69979, \"Tot_Mig\": 829203}, {\"Year\": 1999, \"Inmig\": 377842, \"Outmig\": 444767, \"Net_Mig\": -66925, \"Tot_Mig\": 822609}, {\"Year\": 2000, \"Inmig\": 388800, \"Outmig\": 455405, \"Net_Mig\": -66605, \"Tot_Mig\": 844205}, {\"Year\": 2001, \"Inmig\": 408175, \"Outmig\": 446722, \"Net_Mig\": -38547, \"Tot_Mig\": 854897}, {\"Year\": 2002, \"Inmig\": 370042, \"Outmig\": 466719, \"Net_Mig\": -96677, \"Tot_Mig\": 836761}, {\"Year\": 2003, \"Inmig\": 363603, \"Outmig\": 451486, \"Net_Mig\": -87883, \"Tot_Mig\": 815089}, {\"Year\": 2004, \"Inmig\": 357043, \"Outmig\": 481808, \"Net_Mig\": -124765, \"Tot_Mig\": 838851}, {\"Year\": 2005, \"Inmig\": 351509, \"Outmig\": 552659, \"Net_Mig\": -201150, \"Tot_Mig\": 904168}, {\"Year\": 2006, \"Inmig\": 359686, \"Outmig\": 594330, \"Net_Mig\": -234644, \"Tot_Mig\": 954016}, {\"Year\": 2007, \"Inmig\": 357500, \"Outmig\": 562517, \"Net_Mig\": -205017, \"Tot_Mig\": 920017}, {\"Year\": 2008, \"Inmig\": 388244, \"Outmig\": 500691, \"Net_Mig\": -112447, \"Tot_Mig\": 888935}, {\"Year\": 2009, \"Inmig\": 382685, \"Outmig\": 453751, \"Net_Mig\": -71066, \"Tot_Mig\": 836436}, {\"Year\": 2010, \"Inmig\": 365763, \"Outmig\": 406883, \"Net_Mig\": -41120, \"Tot_Mig\": 772646}, {\"Year\": 2011, \"Inmig\": 383709, \"Outmig\": 412899, \"Net_Mig\": -29190, \"Tot_Mig\": 796608}, {\"Year\": 2012, \"Inmig\": 455202, \"Outmig\": 468496, \"Net_Mig\": -13294, \"Tot_Mig\": 923698}, {\"Year\": 2013, \"Inmig\": 463373, \"Outmig\": 505991, \"Net_Mig\": -42618, \"Tot_Mig\": 969364}, {\"Year\": 2014, \"Inmig\": 432409, \"Outmig\": 487994, \"Net_Mig\": -55585, \"Tot_Mig\": 920403}, {\"Year\": 2015, \"Inmig\": 322677, \"Outmig\": 365561, \"Net_Mig\": -42884, \"Tot_Mig\": 688238}, {\"Year\": 2016, \"Inmig\": 432443, \"Outmig\": 521161, \"Net_Mig\": -88718, \"Tot_Mig\": 953604}, {\"Year\": 2017, \"Inmig\": 560173, \"Outmig\": 738242, \"Net_Mig\": -178069, \"Tot_Mig\": 1298415}, {\"Year\": 2018, \"Inmig\": 429856, \"Outmig\": 583053, \"Net_Mig\": -153197, \"Tot_Mig\": 1012909}], \"data-9da94cf84c0b5d909331780ad85ef3f4\": [{\"x\": 2011, \"x2\": 2018, \"y\": 0, \"y2\": 1300000}]}}, {\"mode\": \"vega-lite\"});\n",
       "</script>"
      ],
      "text/plain": [
       "alt.LayerChart(...)"
      ]
     },
     "execution_count": 272,
     "metadata": {},
     "output_type": "execute_result"
    }
   ],
   "source": [
    "irstot = alt.Chart(irs_df, title='IRS Total Migration Figures').mark_line(color='#ffc417').encode(x='Year:O',y=alt.Y('Tot_Mig', title='Totals were relatively stable (b/w 800k & 1m) until the last few years'))\n",
    "split = alt.Chart(pd.DataFrame({'x':[2011],'x2':[2018],'y':[0],'y2':[1300000]})).mark_rect(color='lightgray', opacity=.2).encode(x='x:O',x2='x2:O',y='y',y2='y2')\n",
    "irstot+split"
   ]
  },
  {
   "cell_type": "code",
   "execution_count": 253,
   "metadata": {},
   "outputs": [
    {
     "data": {
      "text/html": [
       "\n",
       "<div id=\"altair-viz-124\"></div>\n",
       "<script type=\"text/javascript\">\n",
       "  (function(spec, embedOpt){\n",
       "    const outputDiv = document.getElementById(\"altair-viz-124\");\n",
       "    const paths = {\n",
       "      \"vega\": \"https://cdn.jsdelivr.net/npm//vega@5?noext\",\n",
       "      \"vega-lib\": \"https://cdn.jsdelivr.net/npm//vega-lib?noext\",\n",
       "      \"vega-lite\": \"https://cdn.jsdelivr.net/npm//vega-lite@4.0.0?noext\",\n",
       "      \"vega-embed\": \"https://cdn.jsdelivr.net/npm//vega-embed@6?noext\",\n",
       "    };\n",
       "\n",
       "    function loadScript(lib) {\n",
       "      return new Promise(function(resolve, reject) {\n",
       "        var s = document.createElement('script');\n",
       "        s.src = paths[lib];\n",
       "        s.async = true;\n",
       "        s.onload = () => resolve(paths[lib]);\n",
       "        s.onerror = () => reject(`Error loading script: ${paths[lib]}`);\n",
       "        document.getElementsByTagName(\"head\")[0].appendChild(s);\n",
       "      });\n",
       "    }\n",
       "\n",
       "    function showError(err) {\n",
       "      outputDiv.innerHTML = `<div class=\"error\" style=\"color:red;\">${err}</div>`;\n",
       "      throw err;\n",
       "    }\n",
       "\n",
       "    function displayChart(vegaEmbed) {\n",
       "      vegaEmbed(outputDiv, spec, embedOpt)\n",
       "        .catch(err => showError(`Javascript Error: ${err.message}<br>This usually means there's a typo in your chart specification. See the javascript console for the full traceback.`));\n",
       "    }\n",
       "\n",
       "    if(typeof define === \"function\" && define.amd) {\n",
       "      requirejs.config({paths});\n",
       "      require([\"vega-embed\"], displayChart, err => showError(`Error loading script: ${err.message}`));\n",
       "    } else if (typeof vegaEmbed === \"function\") {\n",
       "      displayChart(vegaEmbed);\n",
       "    } else {\n",
       "      loadScript(\"vega\")\n",
       "        .then(() => loadScript(\"vega-lite\"))\n",
       "        .then(() => loadScript(\"vega-embed\"))\n",
       "        .catch(showError)\n",
       "        .then(() => displayChart(vegaEmbed));\n",
       "    }\n",
       "  })({\"width\": 600, \"height\": 400, \"background\": \"white\", \"config\": {\"title\": {\"fontWeight\": \"normal\", \"fontSize\": 30, \"anchor\": \"start\", \"font\": \"Calibri\", \"offset\": 5}, \"axisX\": {\"grid\": false, \"labelFont\": \"Calibri\", \"labelFontSize\": 16, \"labelAngle\": 0, \"labelPadding\": 10, \"ticks\": false, \"tickSize\": 5, \"title\": null, \"titleFont\": \"Calibri\", \"titleFontSize\": 16, \"titleFontWeight\": \"normal\", \"titleY\": 30, \"titleX\": 280}, \"axisY\": {\"grid\": true, \"gridOpacity\": 1, \"labelFont\": \"Calibri\", \"labelFontSize\": 16, \"labelLimit\": 100, \"labelAlign\": \"left\", \"labelPadding\": 20, \"ticks\": false, \"title\": null, \"titleFont\": \"Calibri\", \"titleFontWeight\": \"normal\", \"titleFontSize\": 17, \"titleAlign\": \"left\", \"titleAngle\": 0, \"titleY\": -20, \"titleX\": -20, \"domainWidth\": 0}, \"view\": {\"strokeOpacity\": 0}}, \"layer\": [{\"data\": {\"name\": \"data-4c83bf7a88fd9d2a4202c6411fbb733a\"}, \"mark\": {\"type\": \"line\", \"color\": \"#ffc417\"}, \"encoding\": {\"x\": {\"type\": \"ordinal\", \"field\": \"Year\"}, \"y\": {\"type\": \"quantitative\", \"field\": \"Tot_Mig\", \"title\": \"IRS totals (gold) after 2011 are much more volatile than Census totals\"}}, \"title\": \"Census & IRS Total Migration Figures\"}, {\"data\": {\"name\": \"data-36bc5e1c45d03d195850625f66f59c55\"}, \"mark\": \"line\", \"encoding\": {\"x\": {\"type\": \"ordinal\", \"field\": \"Year\"}, \"y\": {\"type\": \"quantitative\", \"field\": \"Tot_Mig\"}}}, {\"data\": {\"name\": \"data-9da94cf84c0b5d909331780ad85ef3f4\"}, \"mark\": {\"type\": \"rect\", \"color\": \"lightgray\", \"opacity\": 0.2}, \"encoding\": {\"x\": {\"type\": \"ordinal\", \"field\": \"x\"}, \"x2\": {\"field\": \"x2\"}, \"y\": {\"type\": \"quantitative\", \"field\": \"y\"}, \"y2\": {\"field\": \"y2\"}}}], \"$schema\": \"https://vega.github.io/schema/vega-lite/v4.0.0.json\", \"datasets\": {\"data-4c83bf7a88fd9d2a4202c6411fbb733a\": [{\"Year\": 2005, \"Inmig\": 351509, \"Outmig\": 552659, \"Net_Mig\": -201150, \"Tot_Mig\": 904168}, {\"Year\": 2006, \"Inmig\": 359686, \"Outmig\": 594330, \"Net_Mig\": -234644, \"Tot_Mig\": 954016}, {\"Year\": 2007, \"Inmig\": 357500, \"Outmig\": 562517, \"Net_Mig\": -205017, \"Tot_Mig\": 920017}, {\"Year\": 2008, \"Inmig\": 388244, \"Outmig\": 500691, \"Net_Mig\": -112447, \"Tot_Mig\": 888935}, {\"Year\": 2009, \"Inmig\": 382685, \"Outmig\": 453751, \"Net_Mig\": -71066, \"Tot_Mig\": 836436}, {\"Year\": 2010, \"Inmig\": 365763, \"Outmig\": 406883, \"Net_Mig\": -41120, \"Tot_Mig\": 772646}, {\"Year\": 2011, \"Inmig\": 383709, \"Outmig\": 412899, \"Net_Mig\": -29190, \"Tot_Mig\": 796608}, {\"Year\": 2012, \"Inmig\": 455202, \"Outmig\": 468496, \"Net_Mig\": -13294, \"Tot_Mig\": 923698}, {\"Year\": 2013, \"Inmig\": 463373, \"Outmig\": 505991, \"Net_Mig\": -42618, \"Tot_Mig\": 969364}, {\"Year\": 2014, \"Inmig\": 432409, \"Outmig\": 487994, \"Net_Mig\": -55585, \"Tot_Mig\": 920403}, {\"Year\": 2015, \"Inmig\": 322677, \"Outmig\": 365561, \"Net_Mig\": -42884, \"Tot_Mig\": 688238}, {\"Year\": 2016, \"Inmig\": 432443, \"Outmig\": 521161, \"Net_Mig\": -88718, \"Tot_Mig\": 953604}, {\"Year\": 2017, \"Inmig\": 560173, \"Outmig\": 738242, \"Net_Mig\": -178069, \"Tot_Mig\": 1298415}, {\"Year\": 2018, \"Inmig\": 429856, \"Outmig\": 583053, \"Net_Mig\": -153197, \"Tot_Mig\": 1012909}], \"data-36bc5e1c45d03d195850625f66f59c55\": [{\"State\": \"California\", \"Inmig\": 449212, \"Outmig\": 718417, \"Year\": 2005, \"Net_Mig\": -269205, \"Inmig_pct_chg\": 0.0, \"Outmig_pct_chg\": 0.0, \"Tot_Mig\": 1167629}, {\"State\": \"California\", \"Inmig\": 524408, \"Outmig\": 746676, \"Year\": 2006, \"Net_Mig\": -222268, \"Inmig_pct_chg\": 0.1673953500796952, \"Outmig_pct_chg\": 0.03933509368514376, \"Tot_Mig\": 1271084}, {\"State\": \"California\", \"Inmig\": 491657, \"Outmig\": 668021, \"Year\": 2007, \"Net_Mig\": -176364, \"Inmig_pct_chg\": 0.0624532806517063, \"Outmig_pct_chg\": 0.10534020110462905, \"Tot_Mig\": 1159678}, {\"State\": \"California\", \"Inmig\": 468875, \"Outmig\": 585660, \"Year\": 2008, \"Net_Mig\": -116785, \"Inmig_pct_chg\": 0.046337182222565776, \"Outmig_pct_chg\": 0.12329103426389287, \"Tot_Mig\": 1054535}, {\"State\": \"California\", \"Inmig\": 460161, \"Outmig\": 546589, \"Year\": 2009, \"Net_Mig\": -86428, \"Inmig_pct_chg\": 0.018584910690482515, \"Outmig_pct_chg\": 0.06671276850049512, \"Tot_Mig\": 1006750}, {\"State\": \"California\", \"Inmig\": 445972, \"Outmig\": 575165, \"Year\": 2010, \"Net_Mig\": -129193, \"Inmig_pct_chg\": 0.030834859972922568, \"Outmig_pct_chg\": 0.052280598402089984, \"Tot_Mig\": 1021137}, {\"State\": \"California\", \"Inmig\": 469772, \"Outmig\": 562550, \"Year\": 2011, \"Net_Mig\": -92778, \"Inmig_pct_chg\": 0.053366579067744224, \"Outmig_pct_chg\": 0.0219328366642616, \"Tot_Mig\": 1032322}, {\"State\": \"California\", \"Inmig\": 495964, \"Outmig\": 567505, \"Year\": 2012, \"Net_Mig\": -71541, \"Inmig_pct_chg\": 0.055754706538490906, \"Outmig_pct_chg\": 0.008808105946138012, \"Tot_Mig\": 1063469}, {\"State\": \"California\", \"Inmig\": 488656, \"Outmig\": 582392, \"Year\": 2013, \"Net_Mig\": -93736, \"Inmig_pct_chg\": 0.014734940439225408, \"Outmig_pct_chg\": 0.026232367996757766, \"Tot_Mig\": 1071048}, {\"State\": \"California\", \"Inmig\": 518285, \"Outmig\": 593860, \"Year\": 2014, \"Net_Mig\": -75575, \"Inmig_pct_chg\": 0.06063365639631968, \"Outmig_pct_chg\": 0.01969120454951301, \"Tot_Mig\": 1112145}, {\"State\": \"California\", \"Inmig\": 515587, \"Outmig\": 643886, \"Year\": 2015, \"Net_Mig\": -128299, \"Inmig_pct_chg\": 0.005205630106987491, \"Outmig_pct_chg\": 0.08423870946014222, \"Tot_Mig\": 1159473}, {\"State\": \"California\", \"Inmig\": 515860, \"Outmig\": 657890, \"Year\": 2016, \"Net_Mig\": -142030, \"Inmig_pct_chg\": 0.0005294935675259627, \"Outmig_pct_chg\": 0.021749191627089326, \"Tot_Mig\": 1173750}, {\"State\": \"California\", \"Inmig\": 524995, \"Outmig\": 662593, \"Year\": 2017, \"Net_Mig\": -137598, \"Inmig_pct_chg\": 0.017708292947699045, \"Outmig_pct_chg\": 0.007148611470002564, \"Tot_Mig\": 1187588}, {\"State\": \"California\", \"Inmig\": 502273, \"Outmig\": 691665, \"Year\": 2018, \"Net_Mig\": -189392, \"Inmig_pct_chg\": 0.04328041219440182, \"Outmig_pct_chg\": 0.04387610493923111, \"Tot_Mig\": 1193938}], \"data-9da94cf84c0b5d909331780ad85ef3f4\": [{\"x\": 2011, \"x2\": 2018, \"y\": 0, \"y2\": 1300000}]}}, {\"mode\": \"vega-lite\"});\n",
       "</script>"
      ],
      "text/plain": [
       "alt.LayerChart(...)"
      ]
     },
     "execution_count": 253,
     "metadata": {},
     "output_type": "execute_result"
    }
   ],
   "source": [
    "irsmig = alt.Chart(irs_df[irs_df.Year > 2004], title='Census & IRS Total Migration Figures').mark_line(color='#ffc417').encode(x='Year:O',y=alt.Y('Tot_Mig', title='IRS totals (gold) after 2011 are much more volatile than Census totals'))\n",
    "cenmig = alt.Chart(ca).mark_line().encode(x='Year:O', y='Tot_Mig')\n",
    "split = alt.Chart(pd.DataFrame({'x':[2011],'x2':[2018],'y':[0],'y2':[1300000]})).mark_rect(color='lightgray', opacity=.2).encode(x='x:O',x2='x2:O',y='y',y2='y2')\n",
    "irsmig+cenmig+split"
   ]
  },
  {
   "cell_type": "markdown",
   "metadata": {},
   "source": [
    "Census Annual % change:"
   ]
  },
  {
   "cell_type": "code",
   "execution_count": null,
   "metadata": {},
   "outputs": [],
   "source": [
    "ca['Inmig_pct_chg'] = ca.Inmig.pct_change().abs()\n",
    "ca['Outmig_pct_chg'] = ca.Outmig.pct_change().abs()"
   ]
  },
  {
   "cell_type": "code",
   "execution_count": 276,
   "metadata": {},
   "outputs": [
    {
     "data": {
      "text/html": [
       "\n",
       "<div id=\"altair-viz-142\"></div>\n",
       "<script type=\"text/javascript\">\n",
       "  (function(spec, embedOpt){\n",
       "    const outputDiv = document.getElementById(\"altair-viz-142\");\n",
       "    const paths = {\n",
       "      \"vega\": \"https://cdn.jsdelivr.net/npm//vega@5?noext\",\n",
       "      \"vega-lib\": \"https://cdn.jsdelivr.net/npm//vega-lib?noext\",\n",
       "      \"vega-lite\": \"https://cdn.jsdelivr.net/npm//vega-lite@4.0.0?noext\",\n",
       "      \"vega-embed\": \"https://cdn.jsdelivr.net/npm//vega-embed@6?noext\",\n",
       "    };\n",
       "\n",
       "    function loadScript(lib) {\n",
       "      return new Promise(function(resolve, reject) {\n",
       "        var s = document.createElement('script');\n",
       "        s.src = paths[lib];\n",
       "        s.async = true;\n",
       "        s.onload = () => resolve(paths[lib]);\n",
       "        s.onerror = () => reject(`Error loading script: ${paths[lib]}`);\n",
       "        document.getElementsByTagName(\"head\")[0].appendChild(s);\n",
       "      });\n",
       "    }\n",
       "\n",
       "    function showError(err) {\n",
       "      outputDiv.innerHTML = `<div class=\"error\" style=\"color:red;\">${err}</div>`;\n",
       "      throw err;\n",
       "    }\n",
       "\n",
       "    function displayChart(vegaEmbed) {\n",
       "      vegaEmbed(outputDiv, spec, embedOpt)\n",
       "        .catch(err => showError(`Javascript Error: ${err.message}<br>This usually means there's a typo in your chart specification. See the javascript console for the full traceback.`));\n",
       "    }\n",
       "\n",
       "    if(typeof define === \"function\" && define.amd) {\n",
       "      requirejs.config({paths});\n",
       "      require([\"vega-embed\"], displayChart, err => showError(`Error loading script: ${err.message}`));\n",
       "    } else if (typeof vegaEmbed === \"function\") {\n",
       "      displayChart(vegaEmbed);\n",
       "    } else {\n",
       "      loadScript(\"vega\")\n",
       "        .then(() => loadScript(\"vega-lite\"))\n",
       "        .then(() => loadScript(\"vega-embed\"))\n",
       "        .catch(showError)\n",
       "        .then(() => displayChart(vegaEmbed));\n",
       "    }\n",
       "  })({\"width\": 600, \"height\": 400, \"background\": \"white\", \"config\": {\"title\": {\"fontWeight\": \"normal\", \"fontSize\": 30, \"anchor\": \"start\", \"font\": \"Calibri\", \"offset\": 5}, \"axisX\": {\"grid\": false, \"labelFont\": \"Calibri\", \"labelFontSize\": 16, \"labelAngle\": 0, \"labelPadding\": 10, \"ticks\": false, \"tickSize\": 5, \"title\": null, \"titleFont\": \"Calibri\", \"titleFontSize\": 16, \"titleFontWeight\": \"normal\", \"titleY\": 30, \"titleX\": 280}, \"axisY\": {\"grid\": true, \"gridOpacity\": 1, \"labelFont\": \"Calibri\", \"labelFontSize\": 16, \"labelLimit\": 100, \"labelAlign\": \"left\", \"labelPadding\": 20, \"ticks\": false, \"title\": null, \"titleFont\": \"Calibri\", \"titleFontWeight\": \"normal\", \"titleFontSize\": 17, \"titleAlign\": \"left\", \"titleAngle\": 0, \"titleY\": -20, \"titleX\": -20, \"domainWidth\": 0}, \"view\": {\"strokeOpacity\": 0}}, \"layer\": [{\"mark\": {\"type\": \"line\", \"color\": \"#8ac3ff\"}, \"encoding\": {\"x\": {\"type\": \"ordinal\", \"field\": \"Year\"}, \"y\": {\"type\": \"quantitative\", \"axis\": {\"format\": \"%\"}, \"field\": \"Inmig_pct_chg\", \"scale\": {\"domain\": [0, 0.45]}, \"title\": \"Census year-to-year % change\"}}}, {\"mark\": {\"type\": \"line\", \"color\": \"#ffc417\"}, \"encoding\": {\"x\": {\"type\": \"ordinal\", \"field\": \"Year\"}, \"y\": {\"type\": \"quantitative\", \"axis\": {\"format\": \"%\"}, \"field\": \"Outmig_pct_chg\", \"scale\": {\"domain\": [0, 0.45]}}}}, {\"data\": {\"name\": \"data-a57f04f769c38bdaa0a1bfb017ec0860\"}, \"mark\": {\"type\": \"rect\", \"color\": \"lightgray\", \"opacity\": 0.2}, \"encoding\": {\"x\": {\"type\": \"ordinal\", \"field\": \"x\"}, \"x2\": {\"field\": \"x2\"}, \"y\": {\"type\": \"quantitative\", \"field\": \"y\"}, \"y2\": {\"field\": \"y2\"}}}], \"data\": {\"name\": \"data-36bc5e1c45d03d195850625f66f59c55\"}, \"$schema\": \"https://vega.github.io/schema/vega-lite/v4.0.0.json\", \"datasets\": {\"data-36bc5e1c45d03d195850625f66f59c55\": [{\"State\": \"California\", \"Inmig\": 449212, \"Outmig\": 718417, \"Year\": 2005, \"Net_Mig\": -269205, \"Inmig_pct_chg\": 0.0, \"Outmig_pct_chg\": 0.0, \"Tot_Mig\": 1167629}, {\"State\": \"California\", \"Inmig\": 524408, \"Outmig\": 746676, \"Year\": 2006, \"Net_Mig\": -222268, \"Inmig_pct_chg\": 0.1673953500796952, \"Outmig_pct_chg\": 0.03933509368514376, \"Tot_Mig\": 1271084}, {\"State\": \"California\", \"Inmig\": 491657, \"Outmig\": 668021, \"Year\": 2007, \"Net_Mig\": -176364, \"Inmig_pct_chg\": 0.0624532806517063, \"Outmig_pct_chg\": 0.10534020110462905, \"Tot_Mig\": 1159678}, {\"State\": \"California\", \"Inmig\": 468875, \"Outmig\": 585660, \"Year\": 2008, \"Net_Mig\": -116785, \"Inmig_pct_chg\": 0.046337182222565776, \"Outmig_pct_chg\": 0.12329103426389287, \"Tot_Mig\": 1054535}, {\"State\": \"California\", \"Inmig\": 460161, \"Outmig\": 546589, \"Year\": 2009, \"Net_Mig\": -86428, \"Inmig_pct_chg\": 0.018584910690482515, \"Outmig_pct_chg\": 0.06671276850049512, \"Tot_Mig\": 1006750}, {\"State\": \"California\", \"Inmig\": 445972, \"Outmig\": 575165, \"Year\": 2010, \"Net_Mig\": -129193, \"Inmig_pct_chg\": 0.030834859972922568, \"Outmig_pct_chg\": 0.052280598402089984, \"Tot_Mig\": 1021137}, {\"State\": \"California\", \"Inmig\": 469772, \"Outmig\": 562550, \"Year\": 2011, \"Net_Mig\": -92778, \"Inmig_pct_chg\": 0.053366579067744224, \"Outmig_pct_chg\": 0.0219328366642616, \"Tot_Mig\": 1032322}, {\"State\": \"California\", \"Inmig\": 495964, \"Outmig\": 567505, \"Year\": 2012, \"Net_Mig\": -71541, \"Inmig_pct_chg\": 0.055754706538490906, \"Outmig_pct_chg\": 0.008808105946138012, \"Tot_Mig\": 1063469}, {\"State\": \"California\", \"Inmig\": 488656, \"Outmig\": 582392, \"Year\": 2013, \"Net_Mig\": -93736, \"Inmig_pct_chg\": 0.014734940439225408, \"Outmig_pct_chg\": 0.026232367996757766, \"Tot_Mig\": 1071048}, {\"State\": \"California\", \"Inmig\": 518285, \"Outmig\": 593860, \"Year\": 2014, \"Net_Mig\": -75575, \"Inmig_pct_chg\": 0.06063365639631968, \"Outmig_pct_chg\": 0.01969120454951301, \"Tot_Mig\": 1112145}, {\"State\": \"California\", \"Inmig\": 515587, \"Outmig\": 643886, \"Year\": 2015, \"Net_Mig\": -128299, \"Inmig_pct_chg\": 0.005205630106987491, \"Outmig_pct_chg\": 0.08423870946014222, \"Tot_Mig\": 1159473}, {\"State\": \"California\", \"Inmig\": 515860, \"Outmig\": 657890, \"Year\": 2016, \"Net_Mig\": -142030, \"Inmig_pct_chg\": 0.0005294935675259627, \"Outmig_pct_chg\": 0.021749191627089326, \"Tot_Mig\": 1173750}, {\"State\": \"California\", \"Inmig\": 524995, \"Outmig\": 662593, \"Year\": 2017, \"Net_Mig\": -137598, \"Inmig_pct_chg\": 0.017708292947699045, \"Outmig_pct_chg\": 0.007148611470002564, \"Tot_Mig\": 1187588}, {\"State\": \"California\", \"Inmig\": 502273, \"Outmig\": 691665, \"Year\": 2018, \"Net_Mig\": -189392, \"Inmig_pct_chg\": 0.04328041219440182, \"Outmig_pct_chg\": 0.04387610493923111, \"Tot_Mig\": 1193938}], \"data-a57f04f769c38bdaa0a1bfb017ec0860\": [{\"x\": 2011, \"x2\": 2018, \"y\": 0, \"y2\": 0.45}]}}, {\"mode\": \"vega-lite\"});\n",
       "</script>"
      ],
      "text/plain": [
       "alt.LayerChart(...)"
      ]
     },
     "execution_count": 276,
     "metadata": {},
     "output_type": "execute_result"
    }
   ],
   "source": [
    "cainmig = alt.Chart(ca).mark_line(color='#8ac3ff').encode(x='Year:O',y=alt.Y('Inmig_pct_chg', title='Census year-to-year % change', axis=alt.Axis(format='%'), scale=alt.Scale(domain=[0,.45])))\n",
    "caoutmig = alt.Chart(ca).mark_line(color='#ffc417').encode(x='Year:O',y=alt.Y('Outmig_pct_chg', axis=alt.Axis(format='%'), scale=alt.Scale(domain=[0,.45])))\n",
    "split = alt.Chart(pd.DataFrame({'x':[2011],'x2':[2018],'y':[0],'y2':[.45]})).mark_rect(color='lightgray', opacity=.2).encode(x='x:O',x2='x2:O',y='y',y2='y2')\n",
    "cainmig+caoutmig+split"
   ]
  },
  {
   "cell_type": "markdown",
   "metadata": {},
   "source": [
    "IRS Annual % change:"
   ]
  },
  {
   "cell_type": "code",
   "execution_count": 274,
   "metadata": {},
   "outputs": [],
   "source": [
    "irs_df['Inmig_pct_chg'] = irs_df.Inmig.pct_change().abs()\n",
    "irs_df['Outmig_pct_chg'] = irs_df.Outmig.pct_change().abs()"
   ]
  },
  {
   "cell_type": "code",
   "execution_count": 275,
   "metadata": {},
   "outputs": [
    {
     "data": {
      "text/html": [
       "\n",
       "<div id=\"altair-viz-141\"></div>\n",
       "<script type=\"text/javascript\">\n",
       "  (function(spec, embedOpt){\n",
       "    const outputDiv = document.getElementById(\"altair-viz-141\");\n",
       "    const paths = {\n",
       "      \"vega\": \"https://cdn.jsdelivr.net/npm//vega@5?noext\",\n",
       "      \"vega-lib\": \"https://cdn.jsdelivr.net/npm//vega-lib?noext\",\n",
       "      \"vega-lite\": \"https://cdn.jsdelivr.net/npm//vega-lite@4.0.0?noext\",\n",
       "      \"vega-embed\": \"https://cdn.jsdelivr.net/npm//vega-embed@6?noext\",\n",
       "    };\n",
       "\n",
       "    function loadScript(lib) {\n",
       "      return new Promise(function(resolve, reject) {\n",
       "        var s = document.createElement('script');\n",
       "        s.src = paths[lib];\n",
       "        s.async = true;\n",
       "        s.onload = () => resolve(paths[lib]);\n",
       "        s.onerror = () => reject(`Error loading script: ${paths[lib]}`);\n",
       "        document.getElementsByTagName(\"head\")[0].appendChild(s);\n",
       "      });\n",
       "    }\n",
       "\n",
       "    function showError(err) {\n",
       "      outputDiv.innerHTML = `<div class=\"error\" style=\"color:red;\">${err}</div>`;\n",
       "      throw err;\n",
       "    }\n",
       "\n",
       "    function displayChart(vegaEmbed) {\n",
       "      vegaEmbed(outputDiv, spec, embedOpt)\n",
       "        .catch(err => showError(`Javascript Error: ${err.message}<br>This usually means there's a typo in your chart specification. See the javascript console for the full traceback.`));\n",
       "    }\n",
       "\n",
       "    if(typeof define === \"function\" && define.amd) {\n",
       "      requirejs.config({paths});\n",
       "      require([\"vega-embed\"], displayChart, err => showError(`Error loading script: ${err.message}`));\n",
       "    } else if (typeof vegaEmbed === \"function\") {\n",
       "      displayChart(vegaEmbed);\n",
       "    } else {\n",
       "      loadScript(\"vega\")\n",
       "        .then(() => loadScript(\"vega-lite\"))\n",
       "        .then(() => loadScript(\"vega-embed\"))\n",
       "        .catch(showError)\n",
       "        .then(() => displayChart(vegaEmbed));\n",
       "    }\n",
       "  })({\"width\": 600, \"height\": 400, \"background\": \"white\", \"config\": {\"title\": {\"fontWeight\": \"normal\", \"fontSize\": 30, \"anchor\": \"start\", \"font\": \"Calibri\", \"offset\": 5}, \"axisX\": {\"grid\": false, \"labelFont\": \"Calibri\", \"labelFontSize\": 16, \"labelAngle\": 0, \"labelPadding\": 10, \"ticks\": false, \"tickSize\": 5, \"title\": null, \"titleFont\": \"Calibri\", \"titleFontSize\": 16, \"titleFontWeight\": \"normal\", \"titleY\": 30, \"titleX\": 280}, \"axisY\": {\"grid\": true, \"gridOpacity\": 1, \"labelFont\": \"Calibri\", \"labelFontSize\": 16, \"labelLimit\": 100, \"labelAlign\": \"left\", \"labelPadding\": 20, \"ticks\": false, \"title\": null, \"titleFont\": \"Calibri\", \"titleFontWeight\": \"normal\", \"titleFontSize\": 17, \"titleAlign\": \"left\", \"titleAngle\": 0, \"titleY\": -20, \"titleX\": -20, \"domainWidth\": 0}, \"view\": {\"strokeOpacity\": 0}}, \"layer\": [{\"mark\": {\"type\": \"line\", \"color\": \"#8ac3ff\"}, \"encoding\": {\"x\": {\"type\": \"ordinal\", \"field\": \"Year\"}, \"y\": {\"type\": \"quantitative\", \"axis\": {\"format\": \"%\"}, \"field\": \"Inmig_pct_chg\", \"title\": \"IRS year-to-year % change\"}}}, {\"mark\": {\"type\": \"line\", \"color\": \"#ffc417\"}, \"encoding\": {\"x\": {\"type\": \"ordinal\", \"field\": \"Year\"}, \"y\": {\"type\": \"quantitative\", \"axis\": {\"format\": \"%\"}, \"field\": \"Outmig_pct_chg\"}}}, {\"data\": {\"name\": \"data-a57f04f769c38bdaa0a1bfb017ec0860\"}, \"mark\": {\"type\": \"rect\", \"color\": \"lightgray\", \"opacity\": 0.2}, \"encoding\": {\"x\": {\"type\": \"ordinal\", \"field\": \"x\"}, \"x2\": {\"field\": \"x2\"}, \"y\": {\"type\": \"quantitative\", \"field\": \"y\"}, \"y2\": {\"field\": \"y2\"}}}], \"data\": {\"name\": \"data-6dadeb0205d905b480233e21153a7f2e\"}, \"$schema\": \"https://vega.github.io/schema/vega-lite/v4.0.0.json\", \"datasets\": {\"data-6dadeb0205d905b480233e21153a7f2e\": [{\"Year\": 1991, \"Inmig\": 397444, \"Outmig\": 531946, \"Net_Mig\": -134502, \"Tot_Mig\": 929390, \"Inmig_pct_chg\": null, \"Outmig_pct_chg\": null}, {\"Year\": 1992, \"Inmig\": 372254, \"Outmig\": 542349, \"Net_Mig\": -170095, \"Tot_Mig\": 914603, \"Inmig_pct_chg\": 0.06337999818842399, \"Outmig_pct_chg\": 0.019556496336094353}, {\"Year\": 1993, \"Inmig\": 319966, \"Outmig\": 625119, \"Net_Mig\": -305153, \"Tot_Mig\": 945085, \"Inmig_pct_chg\": 0.14046323209421518, \"Outmig_pct_chg\": 0.15261390728110502}, {\"Year\": 1994, \"Inmig\": 304640, \"Outmig\": 643480, \"Net_Mig\": -338840, \"Tot_Mig\": 948120, \"Inmig_pct_chg\": 0.04789883925167049, \"Outmig_pct_chg\": 0.029372007569758773}, {\"Year\": 1995, \"Inmig\": 314893, \"Outmig\": 600334, \"Net_Mig\": -285441, \"Tot_Mig\": 915227, \"Inmig_pct_chg\": 0.03365611869747909, \"Outmig_pct_chg\": 0.06705103499720266}, {\"Year\": 1996, \"Inmig\": 324857, \"Outmig\": 529582, \"Net_Mig\": -204725, \"Tot_Mig\": 854439, \"Inmig_pct_chg\": 0.03164249443461742, \"Outmig_pct_chg\": 0.11785439438712453}, {\"Year\": 1997, \"Inmig\": 359652, \"Outmig\": 475201, \"Net_Mig\": -115549, \"Tot_Mig\": 834853, \"Inmig_pct_chg\": 0.1071086662746994, \"Outmig_pct_chg\": 0.1026866472047766}, {\"Year\": 1998, \"Inmig\": 379612, \"Outmig\": 449591, \"Net_Mig\": -69979, \"Tot_Mig\": 829203, \"Inmig_pct_chg\": 0.05549809260062499, \"Outmig_pct_chg\": 0.05389298423193556}, {\"Year\": 1999, \"Inmig\": 377842, \"Outmig\": 444767, \"Net_Mig\": -66925, \"Tot_Mig\": 822609, \"Inmig_pct_chg\": 0.004662655553565265, \"Outmig_pct_chg\": 0.010729752152511929}, {\"Year\": 2000, \"Inmig\": 388800, \"Outmig\": 455405, \"Net_Mig\": -66605, \"Tot_Mig\": 844205, \"Inmig_pct_chg\": 0.029001540326379915, \"Outmig_pct_chg\": 0.023918141408872495}, {\"Year\": 2001, \"Inmig\": 408175, \"Outmig\": 446722, \"Net_Mig\": -38547, \"Tot_Mig\": 854897, \"Inmig_pct_chg\": 0.04983281893004121, \"Outmig_pct_chg\": 0.019066545163096582}, {\"Year\": 2002, \"Inmig\": 370042, \"Outmig\": 466719, \"Net_Mig\": -96677, \"Tot_Mig\": 836761, \"Inmig_pct_chg\": 0.09342316408403262, \"Outmig_pct_chg\": 0.0447638576116689}, {\"Year\": 2003, \"Inmig\": 363603, \"Outmig\": 451486, \"Net_Mig\": -87883, \"Tot_Mig\": 815089, \"Inmig_pct_chg\": 0.01740072748498822, \"Outmig_pct_chg\": 0.032638482684441805}, {\"Year\": 2004, \"Inmig\": 357043, \"Outmig\": 481808, \"Net_Mig\": -124765, \"Tot_Mig\": 838851, \"Inmig_pct_chg\": 0.018041655321875738, \"Outmig_pct_chg\": 0.06716044351319872}, {\"Year\": 2005, \"Inmig\": 351509, \"Outmig\": 552659, \"Net_Mig\": -201150, \"Tot_Mig\": 904168, \"Inmig_pct_chg\": 0.015499533669613985, \"Outmig_pct_chg\": 0.14705235280443651}, {\"Year\": 2006, \"Inmig\": 359686, \"Outmig\": 594330, \"Net_Mig\": -234644, \"Tot_Mig\": 954016, \"Inmig_pct_chg\": 0.02326256226725354, \"Outmig_pct_chg\": 0.07540092534456155}, {\"Year\": 2007, \"Inmig\": 357500, \"Outmig\": 562517, \"Net_Mig\": -205017, \"Tot_Mig\": 920017, \"Inmig_pct_chg\": 0.006077523172989818, \"Outmig_pct_chg\": 0.053527501556374424}, {\"Year\": 2008, \"Inmig\": 388244, \"Outmig\": 500691, \"Net_Mig\": -112447, \"Tot_Mig\": 888935, \"Inmig_pct_chg\": 0.08599720279720269, \"Outmig_pct_chg\": 0.10990956717752531}, {\"Year\": 2009, \"Inmig\": 382685, \"Outmig\": 453751, \"Net_Mig\": -71066, \"Tot_Mig\": 836436, \"Inmig_pct_chg\": 0.014318315286263261, \"Outmig_pct_chg\": 0.09375043689620943}, {\"Year\": 2010, \"Inmig\": 365763, \"Outmig\": 406883, \"Net_Mig\": -41120, \"Tot_Mig\": 772646, \"Inmig_pct_chg\": 0.04421913584279502, \"Outmig_pct_chg\": 0.10329013049007052}, {\"Year\": 2011, \"Inmig\": 383709, \"Outmig\": 412899, \"Net_Mig\": -29190, \"Tot_Mig\": 796608, \"Inmig_pct_chg\": 0.04906455819752131, \"Outmig_pct_chg\": 0.014785577180663756}, {\"Year\": 2012, \"Inmig\": 455202, \"Outmig\": 468496, \"Net_Mig\": -13294, \"Tot_Mig\": 923698, \"Inmig_pct_chg\": 0.18632088379475076, \"Outmig_pct_chg\": 0.134650362437303}, {\"Year\": 2013, \"Inmig\": 463373, \"Outmig\": 505991, \"Net_Mig\": -42618, \"Tot_Mig\": 969364, \"Inmig_pct_chg\": 0.017950272626218622, \"Outmig_pct_chg\": 0.08003270038591581}, {\"Year\": 2014, \"Inmig\": 432409, \"Outmig\": 487994, \"Net_Mig\": -55585, \"Tot_Mig\": 920403, \"Inmig_pct_chg\": 0.06682305615562412, \"Outmig_pct_chg\": 0.03556782630521094}, {\"Year\": 2015, \"Inmig\": 322677, \"Outmig\": 365561, \"Net_Mig\": -42884, \"Tot_Mig\": 688238, \"Inmig_pct_chg\": 0.25376900110774747, \"Outmig_pct_chg\": 0.2508903797997516}, {\"Year\": 2016, \"Inmig\": 432443, \"Outmig\": 521161, \"Net_Mig\": -88718, \"Tot_Mig\": 953604, \"Inmig_pct_chg\": 0.340172990327789, \"Outmig_pct_chg\": 0.4256471560150017}, {\"Year\": 2017, \"Inmig\": 560173, \"Outmig\": 738242, \"Net_Mig\": -178069, \"Tot_Mig\": 1298415, \"Inmig_pct_chg\": 0.29536840693455546, \"Outmig_pct_chg\": 0.4165334704630623}, {\"Year\": 2018, \"Inmig\": 429856, \"Outmig\": 583053, \"Net_Mig\": -153197, \"Tot_Mig\": 1012909, \"Inmig_pct_chg\": 0.23263706033671738, \"Outmig_pct_chg\": 0.21021426578276503}], \"data-a57f04f769c38bdaa0a1bfb017ec0860\": [{\"x\": 2011, \"x2\": 2018, \"y\": 0, \"y2\": 0.45}]}}, {\"mode\": \"vega-lite\"});\n",
       "</script>"
      ],
      "text/plain": [
       "alt.LayerChart(...)"
      ]
     },
     "execution_count": 275,
     "metadata": {},
     "output_type": "execute_result"
    }
   ],
   "source": [
    "irsinmig = alt.Chart(irs_df).mark_line(color='#8ac3ff').encode(x='Year:O',y=alt.Y('Inmig_pct_chg', title='IRS year-to-year % change', axis=alt.Axis(format='%')))\n",
    "irsoutmig = alt.Chart(irs_df).mark_line(color='#ffc417').encode(x='Year:O',y=alt.Y('Outmig_pct_chg', axis=alt.Axis(format='%')))\n",
    "split = alt.Chart(pd.DataFrame({'x':[2011],'x2':[2018],'y':[0],'y2':[.45]})).mark_rect(color='lightgray', opacity=.2).encode(x='x:O',x2='x2:O',y='y',y2='y2')\n",
    "irsinmig+irsoutmig+split"
   ]
  },
  {
   "cell_type": "markdown",
   "metadata": {},
   "source": [
    "Diff b/w Cenus & IRS total migration figures:"
   ]
  },
  {
   "cell_type": "code",
   "execution_count": 197,
   "metadata": {},
   "outputs": [],
   "source": [
    "totmig = []\n",
    "for year in range(2005,2019):\n",
    "    census_mig = ca.Tot_Mig[ca.Year == year].iloc[0]\n",
    "    irs_mig = irs_df.Tot_Mig[irs_df.Year == year].iloc[0]\n",
    "    totmig.append(census_mig/irs_mig)"
   ]
  },
  {
   "cell_type": "code",
   "execution_count": 199,
   "metadata": {},
   "outputs": [
    {
     "data": {
      "text/html": [
       "<div>\n",
       "<style scoped>\n",
       "    .dataframe tbody tr th:only-of-type {\n",
       "        vertical-align: middle;\n",
       "    }\n",
       "\n",
       "    .dataframe tbody tr th {\n",
       "        vertical-align: top;\n",
       "    }\n",
       "\n",
       "    .dataframe thead th {\n",
       "        text-align: right;\n",
       "    }\n",
       "</style>\n",
       "<table border=\"1\" class=\"dataframe\">\n",
       "  <thead>\n",
       "    <tr style=\"text-align: right;\">\n",
       "      <th></th>\n",
       "      <th>Year</th>\n",
       "      <th>Mig_Diff</th>\n",
       "    </tr>\n",
       "  </thead>\n",
       "  <tbody>\n",
       "    <tr>\n",
       "      <th>0</th>\n",
       "      <td>2005</td>\n",
       "      <td>1.291385</td>\n",
       "    </tr>\n",
       "    <tr>\n",
       "      <th>1</th>\n",
       "      <td>2006</td>\n",
       "      <td>1.332351</td>\n",
       "    </tr>\n",
       "    <tr>\n",
       "      <th>2</th>\n",
       "      <td>2007</td>\n",
       "      <td>1.260496</td>\n",
       "    </tr>\n",
       "    <tr>\n",
       "      <th>3</th>\n",
       "      <td>2008</td>\n",
       "      <td>1.186290</td>\n",
       "    </tr>\n",
       "    <tr>\n",
       "      <th>4</th>\n",
       "      <td>2009</td>\n",
       "      <td>1.203619</td>\n",
       "    </tr>\n",
       "    <tr>\n",
       "      <th>5</th>\n",
       "      <td>2010</td>\n",
       "      <td>1.321610</td>\n",
       "    </tr>\n",
       "    <tr>\n",
       "      <th>6</th>\n",
       "      <td>2011</td>\n",
       "      <td>1.295897</td>\n",
       "    </tr>\n",
       "    <tr>\n",
       "      <th>7</th>\n",
       "      <td>2012</td>\n",
       "      <td>1.151317</td>\n",
       "    </tr>\n",
       "    <tr>\n",
       "      <th>8</th>\n",
       "      <td>2013</td>\n",
       "      <td>1.104898</td>\n",
       "    </tr>\n",
       "    <tr>\n",
       "      <th>9</th>\n",
       "      <td>2014</td>\n",
       "      <td>1.208324</td>\n",
       "    </tr>\n",
       "    <tr>\n",
       "      <th>10</th>\n",
       "      <td>2015</td>\n",
       "      <td>1.684698</td>\n",
       "    </tr>\n",
       "    <tr>\n",
       "      <th>11</th>\n",
       "      <td>2016</td>\n",
       "      <td>1.230857</td>\n",
       "    </tr>\n",
       "    <tr>\n",
       "      <th>12</th>\n",
       "      <td>2017</td>\n",
       "      <td>0.914644</td>\n",
       "    </tr>\n",
       "    <tr>\n",
       "      <th>13</th>\n",
       "      <td>2018</td>\n",
       "      <td>1.178722</td>\n",
       "    </tr>\n",
       "  </tbody>\n",
       "</table>\n",
       "</div>"
      ],
      "text/plain": [
       "    Year  Mig_Diff\n",
       "0   2005  1.291385\n",
       "1   2006  1.332351\n",
       "2   2007  1.260496\n",
       "3   2008  1.186290\n",
       "4   2009  1.203619\n",
       "5   2010  1.321610\n",
       "6   2011  1.295897\n",
       "7   2012  1.151317\n",
       "8   2013  1.104898\n",
       "9   2014  1.208324\n",
       "10  2015  1.684698\n",
       "11  2016  1.230857\n",
       "12  2017  0.914644\n",
       "13  2018  1.178722"
      ]
     },
     "execution_count": 199,
     "metadata": {},
     "output_type": "execute_result"
    }
   ],
   "source": [
    "cen_irs_tot_mig = pd.DataFrame({'Year':list(range(2005,2019)), 'Mig_Diff':totmig})\n",
    "cen_irs_tot_mig"
   ]
  },
  {
   "cell_type": "code",
   "execution_count": 200,
   "metadata": {},
   "outputs": [
    {
     "data": {
      "text/plain": [
       "1.2702355203633355"
      ]
     },
     "execution_count": 200,
     "metadata": {},
     "output_type": "execute_result"
    }
   ],
   "source": [
    "cen_irs_tot_mig.iloc[:7].Mig_Diff.mean()"
   ]
  },
  {
   "cell_type": "markdown",
   "metadata": {},
   "source": [
    "*Census total migration counts were about 27% higher from 2005-2011"
   ]
  },
  {
   "cell_type": "markdown",
   "metadata": {},
   "source": [
    "*Use Census figures for 2005-2018 and adjust 90-04 IRS figures based on avg. difference b/w Census & IRS from 2005-2011 (when year-to-year total migration change was w/in 15% for Census & IRS)- IRS data was suspiciously volatile after 2010 (esp. from 2013 onwards)"
   ]
  },
  {
   "cell_type": "markdown",
   "metadata": {},
   "source": [
    "#### Decision: will increase 91-04 IRS figures by 27% and combine both sources to represent 1991-2018 migration"
   ]
  },
  {
   "cell_type": "markdown",
   "metadata": {},
   "source": [
    "---"
   ]
  },
  {
   "cell_type": "markdown",
   "metadata": {},
   "source": [
    "### Combining Adjusted IRS (91-04) w/ Census (05-18):"
   ]
  },
  {
   "cell_type": "code",
   "execution_count": 277,
   "metadata": {},
   "outputs": [],
   "source": [
    "irs_df.Inmig = (irs_df.Inmig*1.27).astype(int)\n",
    "irs_df.Outmig = (irs_df.Outmig*1.27).astype(int)\n",
    "irs_df.Net_Mig = irs_df.Inmig - irs_df.Outmig"
   ]
  },
  {
   "cell_type": "code",
   "execution_count": 278,
   "metadata": {},
   "outputs": [],
   "source": [
    "cols = ['Year', 'Inmig', 'Outmig', 'Net_Mig']\n",
    "irsadj_census = pd.concat([irs_df[cols][irs_df.Year < 2005], ca[cols]])"
   ]
  },
  {
   "cell_type": "code",
   "execution_count": 280,
   "metadata": {},
   "outputs": [
    {
     "data": {
      "text/html": [
       "<div>\n",
       "<style scoped>\n",
       "    .dataframe tbody tr th:only-of-type {\n",
       "        vertical-align: middle;\n",
       "    }\n",
       "\n",
       "    .dataframe tbody tr th {\n",
       "        vertical-align: top;\n",
       "    }\n",
       "\n",
       "    .dataframe thead th {\n",
       "        text-align: right;\n",
       "    }\n",
       "</style>\n",
       "<table border=\"1\" class=\"dataframe\">\n",
       "  <thead>\n",
       "    <tr style=\"text-align: right;\">\n",
       "      <th></th>\n",
       "      <th>Year</th>\n",
       "      <th>Inmig</th>\n",
       "      <th>Outmig</th>\n",
       "      <th>Net_Mig</th>\n",
       "    </tr>\n",
       "  </thead>\n",
       "  <tbody>\n",
       "    <tr>\n",
       "      <th>0</th>\n",
       "      <td>1991</td>\n",
       "      <td>504753</td>\n",
       "      <td>675571</td>\n",
       "      <td>-170818</td>\n",
       "    </tr>\n",
       "    <tr>\n",
       "      <th>1</th>\n",
       "      <td>1992</td>\n",
       "      <td>472762</td>\n",
       "      <td>688783</td>\n",
       "      <td>-216021</td>\n",
       "    </tr>\n",
       "    <tr>\n",
       "      <th>2</th>\n",
       "      <td>1993</td>\n",
       "      <td>406356</td>\n",
       "      <td>793901</td>\n",
       "      <td>-387545</td>\n",
       "    </tr>\n",
       "  </tbody>\n",
       "</table>\n",
       "</div>"
      ],
      "text/plain": [
       "   Year   Inmig  Outmig  Net_Mig\n",
       "0  1991  504753  675571  -170818\n",
       "1  1992  472762  688783  -216021\n",
       "2  1993  406356  793901  -387545"
      ]
     },
     "execution_count": 280,
     "metadata": {},
     "output_type": "execute_result"
    }
   ],
   "source": [
    "irsadj_census.head(3)"
   ]
  },
  {
   "cell_type": "code",
   "execution_count": 281,
   "metadata": {},
   "outputs": [],
   "source": [
    "irsadj_census.to_csv('irs_comb_census_in_out_mig_9118.csv', index=False)"
   ]
  },
  {
   "cell_type": "markdown",
   "metadata": {},
   "source": [
    "---"
   ]
  },
  {
   "cell_type": "code",
   "execution_count": 241,
   "metadata": {},
   "outputs": [
    {
     "data": {
      "text/html": [
       "\n",
       "<div id=\"altair-viz-115\"></div>\n",
       "<script type=\"text/javascript\">\n",
       "  (function(spec, embedOpt){\n",
       "    const outputDiv = document.getElementById(\"altair-viz-115\");\n",
       "    const paths = {\n",
       "      \"vega\": \"https://cdn.jsdelivr.net/npm//vega@5?noext\",\n",
       "      \"vega-lib\": \"https://cdn.jsdelivr.net/npm//vega-lib?noext\",\n",
       "      \"vega-lite\": \"https://cdn.jsdelivr.net/npm//vega-lite@4.0.0?noext\",\n",
       "      \"vega-embed\": \"https://cdn.jsdelivr.net/npm//vega-embed@6?noext\",\n",
       "    };\n",
       "\n",
       "    function loadScript(lib) {\n",
       "      return new Promise(function(resolve, reject) {\n",
       "        var s = document.createElement('script');\n",
       "        s.src = paths[lib];\n",
       "        s.async = true;\n",
       "        s.onload = () => resolve(paths[lib]);\n",
       "        s.onerror = () => reject(`Error loading script: ${paths[lib]}`);\n",
       "        document.getElementsByTagName(\"head\")[0].appendChild(s);\n",
       "      });\n",
       "    }\n",
       "\n",
       "    function showError(err) {\n",
       "      outputDiv.innerHTML = `<div class=\"error\" style=\"color:red;\">${err}</div>`;\n",
       "      throw err;\n",
       "    }\n",
       "\n",
       "    function displayChart(vegaEmbed) {\n",
       "      vegaEmbed(outputDiv, spec, embedOpt)\n",
       "        .catch(err => showError(`Javascript Error: ${err.message}<br>This usually means there's a typo in your chart specification. See the javascript console for the full traceback.`));\n",
       "    }\n",
       "\n",
       "    if(typeof define === \"function\" && define.amd) {\n",
       "      requirejs.config({paths});\n",
       "      require([\"vega-embed\"], displayChart, err => showError(`Error loading script: ${err.message}`));\n",
       "    } else if (typeof vegaEmbed === \"function\") {\n",
       "      displayChart(vegaEmbed);\n",
       "    } else {\n",
       "      loadScript(\"vega\")\n",
       "        .then(() => loadScript(\"vega-lite\"))\n",
       "        .then(() => loadScript(\"vega-embed\"))\n",
       "        .catch(showError)\n",
       "        .then(() => displayChart(vegaEmbed));\n",
       "    }\n",
       "  })({\"width\": 600, \"height\": 400, \"background\": \"white\", \"config\": {\"title\": {\"fontWeight\": \"normal\", \"fontSize\": 30, \"anchor\": \"start\", \"font\": \"Calibri\", \"offset\": 5}, \"axisX\": {\"grid\": false, \"labelFont\": \"Calibri\", \"labelFontSize\": 16, \"labelAngle\": 0, \"labelPadding\": 10, \"ticks\": false, \"tickSize\": 5, \"title\": null, \"titleFont\": \"Calibri\", \"titleFontSize\": 16, \"titleFontWeight\": \"normal\", \"titleY\": 30, \"titleX\": 280}, \"axisY\": {\"grid\": true, \"gridOpacity\": 1, \"labelFont\": \"Calibri\", \"labelFontSize\": 16, \"labelLimit\": 100, \"labelAlign\": \"left\", \"labelPadding\": 20, \"ticks\": false, \"title\": null, \"titleFont\": \"Calibri\", \"titleFontWeight\": \"normal\", \"titleFontSize\": 17, \"titleAlign\": \"left\", \"titleAngle\": 0, \"titleY\": -20, \"titleX\": -20, \"domainWidth\": 0}, \"view\": {\"strokeOpacity\": 0}}, \"layer\": [{\"mark\": {\"type\": \"area\", \"color\": \"lightgray\", \"interpolate\": \"basis\", \"opacity\": 0.3, \"size\": 5, \"strokeCap\": \"round\"}, \"encoding\": {\"x\": {\"type\": \"ordinal\", \"field\": \"Year\"}, \"y\": {\"type\": \"quantitative\", \"field\": \"Net_Mig\"}}}, {\"mark\": {\"type\": \"line\", \"interpolate\": \"basis\", \"size\": 5, \"strokeCap\": \"round\"}, \"encoding\": {\"x\": {\"type\": \"ordinal\", \"axis\": {\"values\": [1992, 1996, 2000, 2004, 2008, 2012, 2016]}, \"field\": \"Year\"}, \"y\": {\"type\": \"quantitative\", \"axis\": {\"format\": \"~s\", \"labelPadding\": 30, \"values\": [0, -100000, -200000, -300000, -400000]}, \"field\": \"Net_Mig\"}}, \"title\": \"CA Net Mig\"}], \"data\": {\"name\": \"data-f14bbb6a128086a5e437309ef427ad15\"}, \"$schema\": \"https://vega.github.io/schema/vega-lite/v4.0.0.json\", \"datasets\": {\"data-f14bbb6a128086a5e437309ef427ad15\": [{\"Year\": 1991, \"Inmig\": 504753, \"Outmig\": 675571, \"Net_Mig\": -170818}, {\"Year\": 1992, \"Inmig\": 472762, \"Outmig\": 688783, \"Net_Mig\": -216021}, {\"Year\": 1993, \"Inmig\": 406356, \"Outmig\": 793901, \"Net_Mig\": -387545}, {\"Year\": 1994, \"Inmig\": 386892, \"Outmig\": 817219, \"Net_Mig\": -430327}, {\"Year\": 1995, \"Inmig\": 399914, \"Outmig\": 762424, \"Net_Mig\": -362510}, {\"Year\": 1996, \"Inmig\": 412568, \"Outmig\": 672569, \"Net_Mig\": -260001}, {\"Year\": 1997, \"Inmig\": 456758, \"Outmig\": 603505, \"Net_Mig\": -146747}, {\"Year\": 1998, \"Inmig\": 482107, \"Outmig\": 570980, \"Net_Mig\": -88873}, {\"Year\": 1999, \"Inmig\": 479859, \"Outmig\": 564854, \"Net_Mig\": -84995}, {\"Year\": 2000, \"Inmig\": 493776, \"Outmig\": 578364, \"Net_Mig\": -84588}, {\"Year\": 2001, \"Inmig\": 518382, \"Outmig\": 567336, \"Net_Mig\": -48954}, {\"Year\": 2002, \"Inmig\": 469953, \"Outmig\": 592733, \"Net_Mig\": -122780}, {\"Year\": 2003, \"Inmig\": 461775, \"Outmig\": 573387, \"Net_Mig\": -111612}, {\"Year\": 2004, \"Inmig\": 453444, \"Outmig\": 611896, \"Net_Mig\": -158452}, {\"Year\": 2005, \"Inmig\": 449212, \"Outmig\": 718417, \"Net_Mig\": -269205}, {\"Year\": 2006, \"Inmig\": 524408, \"Outmig\": 746676, \"Net_Mig\": -222268}, {\"Year\": 2007, \"Inmig\": 491657, \"Outmig\": 668021, \"Net_Mig\": -176364}, {\"Year\": 2008, \"Inmig\": 468875, \"Outmig\": 585660, \"Net_Mig\": -116785}, {\"Year\": 2009, \"Inmig\": 460161, \"Outmig\": 546589, \"Net_Mig\": -86428}, {\"Year\": 2010, \"Inmig\": 445972, \"Outmig\": 575165, \"Net_Mig\": -129193}, {\"Year\": 2011, \"Inmig\": 469772, \"Outmig\": 562550, \"Net_Mig\": -92778}, {\"Year\": 2012, \"Inmig\": 495964, \"Outmig\": 567505, \"Net_Mig\": -71541}, {\"Year\": 2013, \"Inmig\": 488656, \"Outmig\": 582392, \"Net_Mig\": -93736}, {\"Year\": 2014, \"Inmig\": 518285, \"Outmig\": 593860, \"Net_Mig\": -75575}, {\"Year\": 2015, \"Inmig\": 515587, \"Outmig\": 643886, \"Net_Mig\": -128299}, {\"Year\": 2016, \"Inmig\": 515860, \"Outmig\": 657890, \"Net_Mig\": -142030}, {\"Year\": 2017, \"Inmig\": 524995, \"Outmig\": 662593, \"Net_Mig\": -137598}, {\"Year\": 2018, \"Inmig\": 502273, \"Outmig\": 691665, \"Net_Mig\": -189392}]}}, {\"mode\": \"vega-lite\"});\n",
       "</script>"
      ],
      "text/plain": [
       "alt.LayerChart(...)"
      ]
     },
     "execution_count": 241,
     "metadata": {},
     "output_type": "execute_result"
    }
   ],
   "source": [
    "line = alt.Chart(irsadj_census, title='CA Net Mig').mark_line(size=5,interpolate='basis',strokeCap='round').encode(x=alt.X('Year:O', axis=alt.Axis(values=list(range(1992,2020,4)))),\n",
    "                                                                                    y=alt.Y('Net_Mig', \n",
    "                                                                                            axis=alt.Axis(format='~s', \n",
    "                                                                                                          values=list(range(0,-500000,-100000)),\n",
    "                                                                                                          labelPadding=30)))\n",
    "area = alt.Chart(irsadj_census).mark_area(size=5,interpolate='basis',strokeCap='round', color='lightgray', opacity=.3).encode(x='Year:O',y='Net_Mig')\n",
    "area + line"
   ]
  },
  {
   "cell_type": "code",
   "execution_count": 242,
   "metadata": {},
   "outputs": [
    {
     "data": {
      "text/html": [
       "\n",
       "<div id=\"altair-viz-116\"></div>\n",
       "<script type=\"text/javascript\">\n",
       "  (function(spec, embedOpt){\n",
       "    const outputDiv = document.getElementById(\"altair-viz-116\");\n",
       "    const paths = {\n",
       "      \"vega\": \"https://cdn.jsdelivr.net/npm//vega@5?noext\",\n",
       "      \"vega-lib\": \"https://cdn.jsdelivr.net/npm//vega-lib?noext\",\n",
       "      \"vega-lite\": \"https://cdn.jsdelivr.net/npm//vega-lite@4.0.0?noext\",\n",
       "      \"vega-embed\": \"https://cdn.jsdelivr.net/npm//vega-embed@6?noext\",\n",
       "    };\n",
       "\n",
       "    function loadScript(lib) {\n",
       "      return new Promise(function(resolve, reject) {\n",
       "        var s = document.createElement('script');\n",
       "        s.src = paths[lib];\n",
       "        s.async = true;\n",
       "        s.onload = () => resolve(paths[lib]);\n",
       "        s.onerror = () => reject(`Error loading script: ${paths[lib]}`);\n",
       "        document.getElementsByTagName(\"head\")[0].appendChild(s);\n",
       "      });\n",
       "    }\n",
       "\n",
       "    function showError(err) {\n",
       "      outputDiv.innerHTML = `<div class=\"error\" style=\"color:red;\">${err}</div>`;\n",
       "      throw err;\n",
       "    }\n",
       "\n",
       "    function displayChart(vegaEmbed) {\n",
       "      vegaEmbed(outputDiv, spec, embedOpt)\n",
       "        .catch(err => showError(`Javascript Error: ${err.message}<br>This usually means there's a typo in your chart specification. See the javascript console for the full traceback.`));\n",
       "    }\n",
       "\n",
       "    if(typeof define === \"function\" && define.amd) {\n",
       "      requirejs.config({paths});\n",
       "      require([\"vega-embed\"], displayChart, err => showError(`Error loading script: ${err.message}`));\n",
       "    } else if (typeof vegaEmbed === \"function\") {\n",
       "      displayChart(vegaEmbed);\n",
       "    } else {\n",
       "      loadScript(\"vega\")\n",
       "        .then(() => loadScript(\"vega-lite\"))\n",
       "        .then(() => loadScript(\"vega-embed\"))\n",
       "        .catch(showError)\n",
       "        .then(() => displayChart(vegaEmbed));\n",
       "    }\n",
       "  })({\"width\": 600, \"height\": 400, \"background\": \"white\", \"config\": {\"title\": {\"fontWeight\": \"normal\", \"fontSize\": 30, \"anchor\": \"start\", \"font\": \"Calibri\", \"offset\": 5}, \"axisX\": {\"grid\": false, \"labelFont\": \"Calibri\", \"labelFontSize\": 16, \"labelAngle\": 0, \"labelPadding\": 10, \"ticks\": false, \"tickSize\": 5, \"title\": null, \"titleFont\": \"Calibri\", \"titleFontSize\": 16, \"titleFontWeight\": \"normal\", \"titleY\": 30, \"titleX\": 280}, \"axisY\": {\"grid\": true, \"gridOpacity\": 1, \"labelFont\": \"Calibri\", \"labelFontSize\": 16, \"labelLimit\": 100, \"labelAlign\": \"left\", \"labelPadding\": 20, \"ticks\": false, \"title\": null, \"titleFont\": \"Calibri\", \"titleFontWeight\": \"normal\", \"titleFontSize\": 17, \"titleAlign\": \"left\", \"titleAngle\": 0, \"titleY\": -20, \"titleX\": -20, \"domainWidth\": 0}, \"view\": {\"strokeOpacity\": 0}}, \"layer\": [{\"mark\": {\"type\": \"line\", \"color\": \"#8ac3ff\", \"interpolate\": \"basis\", \"size\": 5, \"strokeCap\": \"round\"}, \"encoding\": {\"x\": {\"type\": \"ordinal\", \"field\": \"Year\"}, \"y\": {\"type\": \"quantitative\", \"axis\": {\"format\": \"~s\"}, \"field\": \"Inmig\", \"title\": \"CA Migration Trends\"}}}, {\"mark\": {\"type\": \"line\", \"color\": \"#ffc417\", \"interpolate\": \"basis\", \"size\": 5, \"strokeCap\": \"round\"}, \"encoding\": {\"x\": {\"type\": \"ordinal\", \"field\": \"Year\"}, \"y\": {\"type\": \"quantitative\", \"field\": \"Outmig\"}}}], \"data\": {\"name\": \"data-f14bbb6a128086a5e437309ef427ad15\"}, \"$schema\": \"https://vega.github.io/schema/vega-lite/v4.0.0.json\", \"datasets\": {\"data-f14bbb6a128086a5e437309ef427ad15\": [{\"Year\": 1991, \"Inmig\": 504753, \"Outmig\": 675571, \"Net_Mig\": -170818}, {\"Year\": 1992, \"Inmig\": 472762, \"Outmig\": 688783, \"Net_Mig\": -216021}, {\"Year\": 1993, \"Inmig\": 406356, \"Outmig\": 793901, \"Net_Mig\": -387545}, {\"Year\": 1994, \"Inmig\": 386892, \"Outmig\": 817219, \"Net_Mig\": -430327}, {\"Year\": 1995, \"Inmig\": 399914, \"Outmig\": 762424, \"Net_Mig\": -362510}, {\"Year\": 1996, \"Inmig\": 412568, \"Outmig\": 672569, \"Net_Mig\": -260001}, {\"Year\": 1997, \"Inmig\": 456758, \"Outmig\": 603505, \"Net_Mig\": -146747}, {\"Year\": 1998, \"Inmig\": 482107, \"Outmig\": 570980, \"Net_Mig\": -88873}, {\"Year\": 1999, \"Inmig\": 479859, \"Outmig\": 564854, \"Net_Mig\": -84995}, {\"Year\": 2000, \"Inmig\": 493776, \"Outmig\": 578364, \"Net_Mig\": -84588}, {\"Year\": 2001, \"Inmig\": 518382, \"Outmig\": 567336, \"Net_Mig\": -48954}, {\"Year\": 2002, \"Inmig\": 469953, \"Outmig\": 592733, \"Net_Mig\": -122780}, {\"Year\": 2003, \"Inmig\": 461775, \"Outmig\": 573387, \"Net_Mig\": -111612}, {\"Year\": 2004, \"Inmig\": 453444, \"Outmig\": 611896, \"Net_Mig\": -158452}, {\"Year\": 2005, \"Inmig\": 449212, \"Outmig\": 718417, \"Net_Mig\": -269205}, {\"Year\": 2006, \"Inmig\": 524408, \"Outmig\": 746676, \"Net_Mig\": -222268}, {\"Year\": 2007, \"Inmig\": 491657, \"Outmig\": 668021, \"Net_Mig\": -176364}, {\"Year\": 2008, \"Inmig\": 468875, \"Outmig\": 585660, \"Net_Mig\": -116785}, {\"Year\": 2009, \"Inmig\": 460161, \"Outmig\": 546589, \"Net_Mig\": -86428}, {\"Year\": 2010, \"Inmig\": 445972, \"Outmig\": 575165, \"Net_Mig\": -129193}, {\"Year\": 2011, \"Inmig\": 469772, \"Outmig\": 562550, \"Net_Mig\": -92778}, {\"Year\": 2012, \"Inmig\": 495964, \"Outmig\": 567505, \"Net_Mig\": -71541}, {\"Year\": 2013, \"Inmig\": 488656, \"Outmig\": 582392, \"Net_Mig\": -93736}, {\"Year\": 2014, \"Inmig\": 518285, \"Outmig\": 593860, \"Net_Mig\": -75575}, {\"Year\": 2015, \"Inmig\": 515587, \"Outmig\": 643886, \"Net_Mig\": -128299}, {\"Year\": 2016, \"Inmig\": 515860, \"Outmig\": 657890, \"Net_Mig\": -142030}, {\"Year\": 2017, \"Inmig\": 524995, \"Outmig\": 662593, \"Net_Mig\": -137598}, {\"Year\": 2018, \"Inmig\": 502273, \"Outmig\": 691665, \"Net_Mig\": -189392}]}}, {\"mode\": \"vega-lite\"});\n",
       "</script>"
      ],
      "text/plain": [
       "alt.LayerChart(...)"
      ]
     },
     "execution_count": 242,
     "metadata": {},
     "output_type": "execute_result"
    }
   ],
   "source": [
    "inmig_chart = alt.Chart(irsadj_census).mark_line(interpolate='basis', size=5, color='#8ac3ff', strokeCap='round').encode(x='Year:O',y=alt.Y('Inmig', title='CA Migration Trends', axis=alt.Axis(format='~s')))\n",
    "outmig_chart = alt.Chart(irsadj_census).mark_line(interpolate='basis', size=5, color='#ffc417', strokeCap='round').encode(x='Year:O',y='Outmig')\n",
    "\n",
    "inmig_chart + outmig_chart"
   ]
  },
  {
   "cell_type": "markdown",
   "metadata": {},
   "source": [
    "---"
   ]
  },
  {
   "cell_type": "markdown",
   "metadata": {},
   "source": [
    "---"
   ]
  },
  {
   "cell_type": "markdown",
   "metadata": {},
   "source": [
    "Diff b/w Cenus & IRS in & out mig figures:"
   ]
  },
  {
   "cell_type": "code",
   "execution_count": 172,
   "metadata": {},
   "outputs": [],
   "source": [
    "in_diff = []\n",
    "out_diff = []\n",
    "for year in range(2005,2019):\n",
    "    census_in = ca.Inmig[ca.Year == year].iloc[0]\n",
    "    irs_in = irs.Inmig[irs.Year == year].sum()\n",
    "    in_diff.append(census_in/irs_in)\n",
    "    \n",
    "    census_out = ca.Outmig[ca.Year == year].iloc[0]\n",
    "    irs_out = irs.Outmig[irs.Year == year].sum()\n",
    "    out_diff.append(census_out/irs_out)"
   ]
  },
  {
   "cell_type": "code",
   "execution_count": 174,
   "metadata": {},
   "outputs": [
    {
     "data": {
      "text/html": [
       "<div>\n",
       "<style scoped>\n",
       "    .dataframe tbody tr th:only-of-type {\n",
       "        vertical-align: middle;\n",
       "    }\n",
       "\n",
       "    .dataframe tbody tr th {\n",
       "        vertical-align: top;\n",
       "    }\n",
       "\n",
       "    .dataframe thead th {\n",
       "        text-align: right;\n",
       "    }\n",
       "</style>\n",
       "<table border=\"1\" class=\"dataframe\">\n",
       "  <thead>\n",
       "    <tr style=\"text-align: right;\">\n",
       "      <th></th>\n",
       "      <th>Year</th>\n",
       "      <th>Inmig</th>\n",
       "      <th>Outmig</th>\n",
       "    </tr>\n",
       "  </thead>\n",
       "  <tbody>\n",
       "    <tr>\n",
       "      <th>0</th>\n",
       "      <td>2005</td>\n",
       "      <td>1.277953</td>\n",
       "      <td>1.299928</td>\n",
       "    </tr>\n",
       "    <tr>\n",
       "      <th>1</th>\n",
       "      <td>2006</td>\n",
       "      <td>1.457961</td>\n",
       "      <td>1.256332</td>\n",
       "    </tr>\n",
       "    <tr>\n",
       "      <th>2</th>\n",
       "      <td>2007</td>\n",
       "      <td>1.375264</td>\n",
       "      <td>1.187557</td>\n",
       "    </tr>\n",
       "    <tr>\n",
       "      <th>3</th>\n",
       "      <td>2008</td>\n",
       "      <td>1.207681</td>\n",
       "      <td>1.169703</td>\n",
       "    </tr>\n",
       "    <tr>\n",
       "      <th>4</th>\n",
       "      <td>2009</td>\n",
       "      <td>1.202454</td>\n",
       "      <td>1.204601</td>\n",
       "    </tr>\n",
       "    <tr>\n",
       "      <th>5</th>\n",
       "      <td>2010</td>\n",
       "      <td>1.219292</td>\n",
       "      <td>1.413588</td>\n",
       "    </tr>\n",
       "    <tr>\n",
       "      <th>6</th>\n",
       "      <td>2011</td>\n",
       "      <td>1.224292</td>\n",
       "      <td>1.362440</td>\n",
       "    </tr>\n",
       "    <tr>\n",
       "      <th>7</th>\n",
       "      <td>2012</td>\n",
       "      <td>1.089547</td>\n",
       "      <td>1.211334</td>\n",
       "    </tr>\n",
       "    <tr>\n",
       "      <th>8</th>\n",
       "      <td>2013</td>\n",
       "      <td>1.054563</td>\n",
       "      <td>1.150993</td>\n",
       "    </tr>\n",
       "    <tr>\n",
       "      <th>9</th>\n",
       "      <td>2014</td>\n",
       "      <td>1.198599</td>\n",
       "      <td>1.216941</td>\n",
       "    </tr>\n",
       "    <tr>\n",
       "      <th>10</th>\n",
       "      <td>2015</td>\n",
       "      <td>1.597842</td>\n",
       "      <td>1.761364</td>\n",
       "    </tr>\n",
       "    <tr>\n",
       "      <th>11</th>\n",
       "      <td>2016</td>\n",
       "      <td>1.192897</td>\n",
       "      <td>1.262355</td>\n",
       "    </tr>\n",
       "    <tr>\n",
       "      <th>12</th>\n",
       "      <td>2017</td>\n",
       "      <td>0.937202</td>\n",
       "      <td>0.897528</td>\n",
       "    </tr>\n",
       "    <tr>\n",
       "      <th>13</th>\n",
       "      <td>2018</td>\n",
       "      <td>1.168468</td>\n",
       "      <td>1.186282</td>\n",
       "    </tr>\n",
       "  </tbody>\n",
       "</table>\n",
       "</div>"
      ],
      "text/plain": [
       "    Year     Inmig    Outmig\n",
       "0   2005  1.277953  1.299928\n",
       "1   2006  1.457961  1.256332\n",
       "2   2007  1.375264  1.187557\n",
       "3   2008  1.207681  1.169703\n",
       "4   2009  1.202454  1.204601\n",
       "5   2010  1.219292  1.413588\n",
       "6   2011  1.224292  1.362440\n",
       "7   2012  1.089547  1.211334\n",
       "8   2013  1.054563  1.150993\n",
       "9   2014  1.198599  1.216941\n",
       "10  2015  1.597842  1.761364\n",
       "11  2016  1.192897  1.262355\n",
       "12  2017  0.937202  0.897528\n",
       "13  2018  1.168468  1.186282"
      ]
     },
     "execution_count": 174,
     "metadata": {},
     "output_type": "execute_result"
    }
   ],
   "source": [
    "cen_irs_diff = pd.DataFrame({'Year':list(range(2005,2019)), 'Inmig':in_diff, 'Outmig':out_diff})\n",
    "cen_irs_diff"
   ]
  },
  {
   "cell_type": "markdown",
   "metadata": {},
   "source": [
    "---"
   ]
  }
 ],
 "metadata": {
  "kernelspec": {
   "display_name": "Python 3",
   "language": "python",
   "name": "python3"
  },
  "language_info": {
   "codemirror_mode": {
    "name": "ipython",
    "version": 3
   },
   "file_extension": ".py",
   "mimetype": "text/x-python",
   "name": "python",
   "nbconvert_exporter": "python",
   "pygments_lexer": "ipython3",
   "version": "3.7.3"
  }
 },
 "nbformat": 4,
 "nbformat_minor": 4
}
